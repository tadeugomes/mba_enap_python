{
  "cells": [
    {
      "cell_type": "markdown",
      "metadata": {
        "id": "view-in-github",
        "colab_type": "text"
      },
      "source": [
        "<a href=\"https://colab.research.google.com/github/alexlopespereira/mba_enap/blob/main/Exercicios/Autograder.ipynb\" target=\"_parent\"><img src=\"https://colab.research.google.com/assets/colab-badge.svg\" alt=\"Open In Colab\"/></a>"
      ]
    },
    {
      "cell_type": "markdown",
      "metadata": {
        "id": "dyrfGARY5Ho9"
      },
      "source": [
        "# Documentação do Autograder\n"
      ]
    },
    {
      "cell_type": "markdown",
      "source": [
        "### **Gabarito dos Exercícios**\n",
        "#### O gabarito dos exercícios encontra-se publicado aqui: https://github.com/alexlopespereira/ipynb-autograde/blob/master/data/questions.json"
      ],
      "metadata": {
        "id": "isqhNh0K2rW7"
      }
    },
    {
      "cell_type": "markdown",
      "source": [
        "### **Restrições do Autograder**\n",
        "#### Os seguintes pacotes e métodos serão importados pra você durante a validação. Qualquer import diferente disso não funciona (por questões de segurança)\n",
        "\n",
        "```\n",
        "import pandas as pd\n",
        "import numpy as np\n",
        "import requests\n",
        "import math\n",
        "import io\n",
        "from io import BytesIO\n",
        "import random\n",
        "import zipfile\n",
        "import datetime\n",
        "from datetime import date, timedelta\n",
        "import re\n",
        "from collections import defaultdict\n",
        "```\n",
        "\n"
      ],
      "metadata": {
        "id": "dixxJg1HB2NQ"
      }
    },
    {
      "cell_type": "markdown",
      "source": [
        "### **Instalação da Biblioteca**"
      ],
      "metadata": {
        "id": "z5O6MircLjry"
      }
    },
    {
      "cell_type": "code",
      "execution_count": null,
      "metadata": {
        "id": "RkNwKAd8kJz5"
      },
      "outputs": [],
      "source": [
        "!pip install --upgrade ipynb_autograde > /dev/null"
      ]
    },
    {
      "cell_type": "markdown",
      "source": [
        "### **Autenticação para contabilização de Nota**"
      ],
      "metadata": {
        "id": "65a1fu7SLo2E"
      }
    },
    {
      "cell_type": "code",
      "source": [
        "%env  COURSE=mba_enap\n",
        "from ipynb_autograde.main import init_log, validate\n",
        "init_log()\n",
        "email_result=!gcloud config get-value account\n",
        "if not email_result or 'unset' in email_result[0]:\n",
        "  !gcloud auth login"
      ],
      "metadata": {
        "id": "WxBHNGxie9BB"
      },
      "execution_count": null,
      "outputs": []
    },
    {
      "cell_type": "markdown",
      "source": [
        "### **Exemplo de validação de prompt**"
      ],
      "metadata": {
        "id": "TeiAxVsKLyip"
      }
    },
    {
      "cell_type": "code",
      "execution_count": null,
      "metadata": {
        "id": "-hCheU1DCQW-"
      },
      "outputs": [],
      "source": [
        "validate(prompt82, \"A8-E2\")"
      ]
    }
  ],
  "metadata": {
    "celltoolbar": "Create Assignment",
    "kernelspec": {
      "display_name": "Python 3",
      "language": "python",
      "name": "python3"
    },
    "language_info": {
      "codemirror_mode": {
        "name": "ipython",
        "version": 3
      },
      "file_extension": ".py",
      "mimetype": "text/x-python",
      "name": "python",
      "nbconvert_exporter": "python",
      "pygments_lexer": "ipython3",
      "version": "3.8.3"
    },
    "name": "_merged",
    "varInspector": {
      "cols": {
        "lenName": 16,
        "lenType": 16,
        "lenVar": 40
      },
      "kernels_config": {
        "python": {
          "delete_cmd_postfix": "",
          "delete_cmd_prefix": "del ",
          "library": "var_list.py",
          "varRefreshCmd": "print(var_dic_list())"
        },
        "r": {
          "delete_cmd_postfix": ") ",
          "delete_cmd_prefix": "rm(",
          "library": "var_list.r",
          "varRefreshCmd": "cat(var_dic_list()) "
        }
      },
      "types_to_exclude": [
        "module",
        "function",
        "builtin_function_or_method",
        "instance",
        "_Feature"
      ],
      "window_display": false
    },
    "colab": {
      "provenance": [],
      "include_colab_link": true
    }
  },
  "nbformat": 4,
  "nbformat_minor": 0
}