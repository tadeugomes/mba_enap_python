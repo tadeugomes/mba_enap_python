{
  "cells": [
    {
      "cell_type": "markdown",
      "metadata": {
        "id": "view-in-github",
        "colab_type": "text"
      },
      "source": [
        "<a href=\"https://colab.research.google.com/github/tadeugomes/mba_enap_python/blob/main/Exercicios/Aula3_Exercicio.ipynb\" target=\"_parent\"><img src=\"https://colab.research.google.com/assets/colab-badge.svg\" alt=\"Open In Colab\"/></a>"
      ]
    },
    {
      "cell_type": "markdown",
      "metadata": {
        "id": "s5my3x6EkJzz"
      },
      "source": [
        "# Aula 3 - Exercícios - Estruturas de Dados Nativas do Python"
      ]
    },
    {
      "cell_type": "markdown",
      "source": [
        "### Documentação do Autograder [Link](https://github.com/alexlopespereira/mba_enap/blob/main/Exercicios/Autograder.ipynb)\n",
        "\n",
        "\n",
        "*   Link para o gabarito das questões\n",
        "*   Imports padrão\n",
        "*   Instalação\n",
        "*   Autenticaçao para nota\n",
        "*   Validação\n",
        "\n",
        "\n"
      ],
      "metadata": {
        "id": "isqhNh0K2rW7"
      }
    },
    {
      "cell_type": "markdown",
      "source": [
        "\n",
        "\n",
        "---\n",
        "\n",
        "\n",
        "### Instalação do Autograde e Login com Google"
      ],
      "metadata": {
        "id": "j6tXCxIfEA8F"
      }
    },
    {
      "cell_type": "code",
      "execution_count": 1,
      "metadata": {
        "id": "RkNwKAd8kJz5"
      },
      "outputs": [],
      "source": [
        "!pip install --upgrade ipynb_autograde 1> /dev/null"
      ]
    },
    {
      "cell_type": "code",
      "source": [
        "%env  COURSE=mba_enap\n",
        "from ipynb_autograde.main import init_log, validate\n",
        "init_log()\n",
        "email_result=!gcloud config get-value account\n",
        "if not email_result or 'unset' in email_result[0]:\n",
        "  !gcloud auth login"
      ],
      "metadata": {
        "id": "WxBHNGxie9BB",
        "outputId": "30f21756-ac01-4c42-c9e4-2d1463b8b3d8",
        "colab": {
          "base_uri": "https://localhost:8080/"
        }
      },
      "execution_count": 2,
      "outputs": [
        {
          "output_type": "stream",
          "name": "stdout",
          "text": [
            "env: COURSE=mba_enap\n",
            "Go to the following link in your browser, and complete the sign-in prompts:\n",
            "\n",
            "    https://accounts.google.com/o/oauth2/auth?response_type=code&client_id=32555940559.apps.googleusercontent.com&redirect_uri=https%3A%2F%2Fsdk.cloud.google.com%2Fauthcode.html&scope=openid+https%3A%2F%2Fwww.googleapis.com%2Fauth%2Fuserinfo.email+https%3A%2F%2Fwww.googleapis.com%2Fauth%2Fcloud-platform+https%3A%2F%2Fwww.googleapis.com%2Fauth%2Fappengine.admin+https%3A%2F%2Fwww.googleapis.com%2Fauth%2Fsqlservice.login+https%3A%2F%2Fwww.googleapis.com%2Fauth%2Fcompute+https%3A%2F%2Fwww.googleapis.com%2Fauth%2Faccounts.reauth&state=RdHqG1OlMuuV55AvdnonIjZFCBiYJV&prompt=consent&token_usage=remote&access_type=offline&code_challenge=Fys1NsGq1U0vCJcInJGAkta1BxY8bvVW18c2rw_jKkk&code_challenge_method=S256\n",
            "\n",
            "Once finished, enter the verification code provided in your browser: 4/0AanRRru2p2ZkQbjKFkWn-Bi1ng_kkFjwF6_OsH6JbcJUf1qHBtfhe5p9uP8E3lQB0PApOA\n",
            "\n",
            "You are now logged in as [tagote@gmail.com].\n",
            "Your current project is [None].  You can change this setting by running:\n",
            "  $ gcloud config set project PROJECT_ID\n"
          ]
        }
      ]
    },
    {
      "cell_type": "markdown",
      "metadata": {
        "id": "UKkJOceRkJz8"
      },
      "source": [
        "### 3.1 Escreva um prompt que, quando apresentado ao ChatGPT, vai gerar uma função Python que vai transformar a **entrada** na **saída** abaixo.\n",
        "#### Entrada ```n = 5```\n",
        "#### Saída: ```{'1': 1, '2': 4, '3': 9, '4': 16, '5': 25}```\n",
        "\n"
      ]
    },
    {
      "cell_type": "code",
      "source": [
        "prompt31=\"\"\"Crie uma função Python que recebe um número inteiro\n",
        "n\n",
        "n como entrada e retorna um dicionário onde as chaves são strings representando números de 1 a\n",
        "n\n",
        "n, e os valores são os quadrados desses números. Por exemplo, para\n",
        "n\n",
        "=\n",
        "5\n",
        "n=5, a saída deve ser {'1': 1, '2': 4, '3': 9, '4': 16, '5': 25}\"\"\""
      ],
      "metadata": {
        "id": "IKJNls0kw5bF"
      },
      "execution_count": 3,
      "outputs": []
    },
    {
      "cell_type": "code",
      "execution_count": 4,
      "metadata": {
        "id": "ZHrPCFbqkJz_",
        "outputId": "76e1e479-0656-4025-b0f2-fef305abfb6c",
        "colab": {
          "base_uri": "https://localhost:8080/"
        }
      },
      "outputs": [
        {
          "output_type": "stream",
          "name": "stdout",
          "text": [
            "Codigo gerado: \n",
            "def square_dictionary(n):\n",
            "    return {str(i): i**2 for i in range(1, n + 1)}\n",
            "\n",
            "✅ Passed the Test Case!\n",
            "  Expected: {'1': 1, '2': 4, '3': 9, '4': 16, '5': 25}\n",
            "  Delivered: {'1': 1, '2': 4, '3': 9, '4': 16, '5': 25}\n"
          ]
        }
      ],
      "source": [
        "validate(prompt31, \"A3-E1\")"
      ]
    },
    {
      "cell_type": "markdown",
      "metadata": {
        "id": "j1cGVLHNkJ0A"
      },
      "source": [
        "### 3.2 Escreva um prompt que, quando apresentado ao ChatGPT, vai gerar uma função Python que vai transformar a **entrada** na **saída** abaixo.\n",
        "\n",
        "#### Entrada 1:  ```{'1': 1, '2': 1, '3': 9, '4': 1, '5': 25}```\n",
        "#### Saída 1: ```{'1': 1, '3': 9, '5': 25}```\n",
        "\n",
        "#### Entrada 2:  ```{'A': 'V1', 'C': 'V1', 'K': 'Z4', 'U': 'T10', 'M': 'C5', 'V': 'Z4'}```\n",
        "#### Saída 2: ```{'A': 'V1', 'K': 'Z4', 'U': 'T10', 'M': 'C5'}```"
      ]
    },
    {
      "cell_type": "code",
      "source": [
        "prompt32=\"\"\"Escreva uma função Python que remova os itens um dicionário onde o valor esteja repetido, assegure-se de que um exemplar dos itens repetidos permaneça no dicionário.\"\"\""
      ],
      "metadata": {
        "id": "YrsPyMwN-ECK"
      },
      "execution_count": 5,
      "outputs": []
    },
    {
      "cell_type": "code",
      "source": [
        "validate(prompt32, \"A3-E2\")"
      ],
      "metadata": {
        "id": "PRwau62oGe1G",
        "outputId": "40bfe34d-2049-4945-da60-89988544738a",
        "colab": {
          "base_uri": "https://localhost:8080/"
        }
      },
      "execution_count": 6,
      "outputs": [
        {
          "output_type": "stream",
          "name": "stdout",
          "text": [
            "Codigo gerado: \n",
            "def remover_repetidos(dicionario):\n",
            "    valores_unicos = set()\n",
            "    chaves_a_remover = []\n",
            "    \n",
            "    for chave, valor in dicionario.items():\n",
            "        if valor in valores_unicos:\n",
            "            chaves_a_remover.append(chave)\n",
            "        else:\n",
            "            valores_unicos.add(valor)\n",
            "    \n",
            "    for chave in chaves_a_remover:\n",
            "        del dicionario[chave]\n",
            "    \n",
            "    return dicionario\n",
            "\n",
            "✅ Passed Test Cases:\n",
            "  - Test ID: 2: {'A': 'V1', 'K': 'Z4', 'M': 'C5', 'U': 'T10'}\n",
            "  - Test ID: 1: {'1': 1, '3': 9, '5': 25}\n"
          ]
        }
      ]
    },
    {
      "cell_type": "markdown",
      "metadata": {
        "id": "WFHotwB9kJ0G"
      },
      "source": [
        "### 3.3 Escreva um prompt que, quando apresentado ao ChatGPT, vai gerar uma função Python que vai transformar a **entrada** na **saída** abaixo.\n",
        "#### Entrada ```[{'item': 'carro', 'quantidade': 400}, {'item': 'moto', 'quantidade': 300}, {'item': 'carro', 'quantidade': 750}]```\n",
        "#### Saída ```{'carro': 1150, 'moto': 300}```"
      ]
    },
    {
      "cell_type": "code",
      "source": [
        "prompt33=\"\"\"AQUI\"\"\""
      ],
      "metadata": {
        "id": "2b83SDKjGSoC"
      },
      "execution_count": null,
      "outputs": []
    },
    {
      "cell_type": "code",
      "execution_count": null,
      "metadata": {
        "id": "zaor04IfkJ0I"
      },
      "outputs": [],
      "source": [
        "validate(prompt33, \"A3-E3\")"
      ]
    },
    {
      "cell_type": "markdown",
      "metadata": {
        "id": "bnzgrNXhkJ0J"
      },
      "source": [
        "### 3.4 Escreva um prompt que, quando apresentado ao ChatGPT, vai gerar uma função Python que vai transformar a **entrada** na **saída** abaixo.\n",
        "#### Entrada:  ```[ [\"carro\", 10], [\"moto\", 20], [\"trem\", 5], [\"carro\", 30], [\"caminhao\", 20] ]```\n",
        "#### Saída: ```{\"carro\": [10, 30], \"moto\": [20], \"trem\": [5], \"caminhao\": [20] }```"
      ]
    },
    {
      "cell_type": "code",
      "source": [
        "prompt34=\"\"\"Crie uma função Python chamada agrupar_itens que recebe uma lista de listas como entrada, onde cada sublista contém uma string (nome do item) e um número inteiro (valor associado). A função deve retornar um dicionário onde as chaves são as strings únicas dos itens, e os valores são listas de todos os números associados a cada item, na ordem em que aparecem na entrada. Por exemplo:\n",
        "\n",
        "Para a entrada:\n",
        "\n",
        "[[\"carro\", 10], [\"moto\", 20], [\"trem\", 5], [\"carro\", 30], [\"caminho\", 20]]\n",
        "A saída deve ser:\n",
        "\n",
        "{\"carro\": [10, 30], \"moto\": [20], \"trem\": [5], \"caminho\": [20]}\n",
        "Certifique-se de que a função agrupe corretamente os valores de acordo com os nomes dos itens e mantenha a ordem de inserção das chaves.\"\"\""
      ],
      "metadata": {
        "id": "4PMzp6EbLng_"
      },
      "execution_count": 27,
      "outputs": []
    },
    {
      "cell_type": "code",
      "source": [
        "validate(prompt34, \"A3-E4\")"
      ],
      "metadata": {
        "id": "337hhRSkVxHP",
        "outputId": "8b3f8eb7-60e5-40a5-8dbd-66b623628d2d",
        "colab": {
          "base_uri": "https://localhost:8080/"
        }
      },
      "execution_count": 28,
      "outputs": [
        {
          "output_type": "stream",
          "name": "stdout",
          "text": [
            "Codigo gerado: \n",
            "def agrupar_itens(lista):\n",
            "    resultado = {}\n",
            "    for item, valor in lista:\n",
            "        if item not in resultado:\n",
            "            resultado[item] = []\n",
            "        resultado[item].append(valor)\n",
            "    return resultado\n",
            "\n",
            "✅ Passed the Test Case!\n",
            "  Expected: {'caminhao': [20], 'carro': [10, 30], 'moto': [20], 'trem': [5]}\n",
            "  Delivered: {'caminhao': [20], 'carro': [10, 30], 'moto': [20], 'trem': [5]}\n"
          ]
        }
      ]
    },
    {
      "cell_type": "markdown",
      "metadata": {
        "id": "W38cfG6gCZ4V"
      },
      "source": [
        "### 3.5 Escreva um prompt que, quando apresentado ao ChatGPT, vai gerar uma função Python que vai transformar a **entrada** na **saída** abaixo.\n",
        "#### Exemplo:  ```{\"carro\": [10, 30], \"moto\": [20], \"trem\": [5], \"caminhao\": [20] }```\n",
        "#### Resultado esperado:\n",
        "```\n",
        "carro,10,30\n",
        "moto,20\n",
        "trem,5\n",
        "caminhao,20\n",
        "```"
      ]
    },
    {
      "cell_type": "code",
      "source": [
        "prompt35=\"\"\"Crie uma função Python chamada formatar_saida que recebe um dicionário como entrada, onde as chaves são strings e os valores são listas de números. A função deve retornar uma string formatada onde cada linha contém a chave do dicionário seguida pelos valores da lista correspondente, separados por vírgulas. Por exemplo:\n",
        "\n",
        "Para a entrada:\n",
        "\n",
        "python\n",
        "Copy\n",
        "{\"carro\": [10, 30], \"moto\": [20], \"trem\": [5], \"caminhao\": [20]}\n",
        "A saída deve ser:\n",
        "\n",
        "Copy\n",
        "carro,10,30\n",
        "moto,20\n",
        "trem,5\n",
        "caminhao,20\n",
        "Certifique-se de que a função formate corretamente a saída conforme o exemplo fornecido.\"\"\""
      ],
      "metadata": {
        "id": "zG494tHeV3YL"
      },
      "execution_count": 17,
      "outputs": []
    },
    {
      "cell_type": "code",
      "execution_count": 18,
      "metadata": {
        "id": "fVO1DDY2CZ4W",
        "outputId": "d86d7d10-0c38-4a87-9220-45f095234ad1",
        "colab": {
          "base_uri": "https://localhost:8080/"
        }
      },
      "outputs": [
        {
          "output_type": "stream",
          "name": "stdout",
          "text": [
            "Codigo gerado: \n",
            "def formatar_saida(dicionario):\n",
            "    resultado = []\n",
            "    for chave, valores in dicionario.items():\n",
            "        linha = f\"{chave},\" + \",\".join(map(str, valores))\n",
            "        resultado.append(linha)\n",
            "    return \"\\n\".join(resultado)\n",
            "\n",
            "✅ Passed the Test Case!\n",
            "  Expected: carro,10,30\n",
            "moto,20\n",
            "trem,5\n",
            "caminhao,20\n",
            "  Delivered: carro,10,30\n",
            "moto,20\n",
            "trem,5\n",
            "caminhao,20\n"
          ]
        }
      ],
      "source": [
        "validate(prompt35, \"A3-E5\")"
      ]
    },
    {
      "cell_type": "markdown",
      "metadata": {
        "id": "UzmU2tykCZ4X"
      },
      "source": [
        "### 3.6 Escreva um prompt que, quando apresentado ao ChatGPT, vai gerar uma função Python que vai transformar a **entrada** na **saída** abaixo.\n",
        "#### Detalhamento: Se a quantidade do item em estoque for menor do que a quantidade da lista de compra, o estoque restante deve ser vendido.\n",
        "\n",
        "#### Entrada:  \n",
        "####                   ```lista_compras = {\"arroz\":1, \"feijao\":2, \"macarrao\":3}```\n",
        "####                   ```estoque = {\"arroz\": 60, \"feijao\": 30, \"macarrao\": 1, \"farinha\": 15}```\n",
        "####                   ```precos = {\"arroz\": 4, \"feijao\": 2, \"macarrao\": 1.5, \"farinha\": 3}```\n",
        "#### Saída: ```total = 9.5```"
      ]
    },
    {
      "cell_type": "code",
      "execution_count": 19,
      "metadata": {
        "id": "njCekVCCCZ4Y"
      },
      "outputs": [],
      "source": [
        "prompt36=\"\"\"Crie uma função Python chamada calcular_total_compra que recebe três dicionários como entrada: lista_compras, estoque e precos. A função deve calcular o valor total da compra, considerando que se a quantidade de um item em estoque for menor do que a quantidade solicitada na lista de compras, apenas a quantidade disponível em estoque será vendida. A função deve retornar o valor total da compra. Por exemplo:\n",
        "\n",
        "Para as entradas:\n",
        "\n",
        "python\n",
        "Copy\n",
        "lista_compras = {\"arroz\": 1, \"feijao\": 2, \"macarrao\": 3}\n",
        "estoque = {\"arroz\": 60, \"feijao\": 30, \"macarrao\": 1, \"farinha\": 15}\n",
        "precos = {\"arroz\": 4, \"feijao\": 2, \"macarrao\": 1.5, \"farinha\": 3}\n",
        "A saída deve ser:\n",
        "\n",
        "python\n",
        "Copy\n",
        "total = 9.5\n",
        "Certifique-se de que a função lida corretamente com a lógica de estoque e retorna o valor total da compra.\"\"\""
      ]
    },
    {
      "cell_type": "code",
      "execution_count": 20,
      "metadata": {
        "deletable": false,
        "id": "QOMpFRERCZ4X",
        "nbgrader": {
          "cell_type": "code",
          "checksum": "cd6b9aeed80ae1ccd70d5d84fdcd5add",
          "grade": false,
          "grade_id": "cell-fb745f3563064d90",
          "locked": false,
          "schema_version": 3,
          "solution": true,
          "task": false
        },
        "outputId": "6b195590-eec8-4910-dcb3-dab12df0ab4c",
        "colab": {
          "base_uri": "https://localhost:8080/"
        }
      },
      "outputs": [
        {
          "output_type": "stream",
          "name": "stdout",
          "text": [
            "Codigo gerado: \n",
            "def calcular_total_compra(lista_compras, estoque, precos):\n",
            "    total = 0.0\n",
            "    \n",
            "    for item, quantidade in lista_compras.items():\n",
            "        if item in estoque:\n",
            "            quantidade_disponivel = estoque[item]\n",
            "            quantidade_vendida = min(quantidade, quantidade_disponivel)\n",
            "            total += quantidade_vendida * precos[item]\n",
            "    \n",
            "    return total\n",
            "\n",
            "✅ Passed the Test Case!\n",
            "  Expected: 9.5\n",
            "  Delivered: 9.5\n"
          ]
        }
      ],
      "source": [
        "validate(prompt36, \"A3-E6\")"
      ]
    },
    {
      "cell_type": "markdown",
      "metadata": {
        "id": "2e6i-WlCCZ4Y"
      },
      "source": [
        "### 3.7 Escreva um prompt que, quando apresentado ao ChatGPT, vai gerar uma função Python que vai transformar a **entrada** na **saída** abaixo.\n",
        "#### Detalhamento: ordene a lista de resultado em ordem alfabética\n",
        "#### Entrada:\n",
        "```\n",
        "lista1 = [\"awerr\", \"aa\", \"awyt\", \"g\", \"sssaere\"]\n",
        "lista2 = [\"awerr\", \"aa\", \"sssaere\", \"aabb\", \"qwerttt\", \"12345\"]\n",
        "```\n",
        "#### Saída:\n",
        "```\n",
        "[\"12345\", \"aabb\", \"awyt\", \"g\", \"qwerttt\"]\n",
        "```\n"
      ]
    },
    {
      "cell_type": "code",
      "execution_count": 25,
      "metadata": {
        "id": "q0UZb9TLCZ4Z"
      },
      "outputs": [],
      "source": [
        "prompt37=\"\"\"Crie uma função Python que receba duas listas de strings como entrada e retorne a diferença simétrica entre elas em ordem alfabética. A função deve:\n",
        "\n",
        "Combinar as duas listas usando a diferença simétrica (elementos que não estejam em ambas).\n",
        "Ordenar o resultado final em ordem alfabética.\n",
        "Retornar esse resultado como uma nova lista.\n",
        "Use como exemplo as seguintes listas:\n",
        "\n",
        "python\n",
        "Copiar\n",
        "lista1 = [\"awerr\", \"aa\", \"awyt\", \"g\", \"sssaere\"]\n",
        "lista2 = [\"awerr\", \"aa\", \"sssaere\", \"aabb\", \"qwerttt\", \"12345\"]\n",
        "onde a saída esperada é:\n",
        "\n",
        "python\n",
        "Copiar\n",
        "[\"12345\", \"aabb\", \"awyt\", \"g\", \"qwerttt\"]\"\"\""
      ]
    },
    {
      "cell_type": "code",
      "execution_count": 26,
      "metadata": {
        "id": "wrzv217OCZ4Z",
        "outputId": "a2f16d6f-6156-47ac-a9ae-a133eac39e25",
        "colab": {
          "base_uri": "https://localhost:8080/"
        }
      },
      "outputs": [
        {
          "output_type": "stream",
          "name": "stdout",
          "text": [
            "Codigo gerado: \n",
            "def diferenca_simetrica(lista1, lista2):\n",
            "    # Converte as listas em conjuntos para realizar a diferença simétrica\n",
            "    conjunto1 = set(lista1)\n",
            "    conjunto2 = set(lista2)\n",
            "    \n",
            "    # Calcula a diferença simétrica\n",
            "    diff_simetrica = conjunto1.symmetric_difference(conjunto2)\n",
            "    \n",
            "    # Ordena o resultado em ordem alfabética e converte de volta para lista\n",
            "    resultado = sorted(list(diff_simetrica))\n",
            "    \n",
            "    return resultado\n",
            "\n",
            "✅ Passed the Test Case!\n",
            "  Expected: ['12345', 'aabb', 'awyt', 'g', 'qwerttt']\n",
            "  Delivered: ['12345', 'aabb', 'awyt', 'g', 'qwerttt']\n"
          ]
        }
      ],
      "source": [
        "validate(prompt37, \"A3-E7\")"
      ]
    },
    {
      "cell_type": "markdown",
      "metadata": {
        "id": "4qBw1k-qCZ4Z"
      },
      "source": [
        "### 3.8 Escreva um prompt que, quando apresentado ao ChatGPT, vai gerar uma função Python que vai transformar a **entrada** na **saída** abaixo.\n",
        "#### Entrada:\n",
        "```\n",
        "[1, 4, 6, 10, 5]\n",
        "```\n",
        "#### Saída:\n",
        "```\n",
        "[[1, 5], [4, 10], [6, 6], [10, 4], [5, 1]]\n",
        "```\n"
      ]
    },
    {
      "cell_type": "code",
      "execution_count": 29,
      "metadata": {
        "id": "G1QitkeeCZ4a"
      },
      "outputs": [],
      "source": [
        "prompt38=\"\"\"Crie uma função Python chamada gerar_pares_espelhados que recebe uma lista de números inteiros como entrada e retorna uma lista de listas. Cada sublista deve conter dois elementos: o elemento da posição atual e o elemento correspondente na posição espelhada (do final da lista). Por exemplo:\n",
        "\n",
        "Para a entrada [1, 4, 6, 10, 5], a saída deve ser:\n",
        "\n",
        "[[1, 5], [4, 10], [6, 6], [10, 4], [5, 1]]\n",
        "A função deve percorrer cada elemento da lista e criar um par com o elemento na posição oposta. Se a lista tiver um número ímpar de elementos, o elemento do meio deve ser pareado com ele mesmo.\"\n",
        "\n",
        "Resposta Esperada:\n",
        "\n",
        "def gerar_pares_espelhados(lista):\n",
        "    n = len(lista)\n",
        "    return [[lista[i], lista[n - 1 - i]] for i in range(n)]\n",
        "\n",
        "# Exemplo de uso:\n",
        "entrada = [1, 4, 6, 10, 5]\n",
        "saida = gerar_pares_espelhados(entrada)\n",
        "print(saida)  # Saída: [[1, 5], [4, 10], [6, 6], [10, 4], [5, 1]]\"\"\""
      ]
    },
    {
      "cell_type": "code",
      "execution_count": 30,
      "metadata": {
        "deletable": false,
        "id": "3qGQ0S_KCZ4a",
        "nbgrader": {
          "cell_type": "code",
          "checksum": "539a62bd485c25444452a4edda9e5635",
          "grade": false,
          "grade_id": "cell-c651c0d66cc0aeb3",
          "locked": false,
          "schema_version": 3,
          "solution": true,
          "task": false
        },
        "outputId": "cee7f2e8-630d-4833-a126-8873029b53ad",
        "colab": {
          "base_uri": "https://localhost:8080/"
        }
      },
      "outputs": [
        {
          "output_type": "stream",
          "name": "stdout",
          "text": [
            "Codigo gerado: \n",
            "def gerar_pares_espelhados(lista):\n",
            "    n = len(lista)\n",
            "    return [[lista[i], lista[n - 1 - i]] for i in range(n)]\n",
            "\n",
            "✅ Passed the Test Case!\n",
            "  Expected: [[1, 5], [4, 10], [6, 6], [10, 4], [5, 1]]\n",
            "  Delivered: [[1, 5], [4, 10], [6, 6], [10, 4], [5, 1]]\n"
          ]
        }
      ],
      "source": [
        "validate(prompt38, \"A3-E8\")"
      ]
    },
    {
      "cell_type": "markdown",
      "metadata": {
        "id": "ZTOsxGBvCZ4a"
      },
      "source": [
        "### 3.9 Escreva um prompt que, quando apresentado ao ChatGPT, vai gerar uma função Python que vai transformar a **entrada** na **saída** abaixo.\n",
        "#### Entrada:\n",
        "```\n",
        "[\"azul\", \"amarelo\", \"vermelho\"]\n",
        "```\n",
        "#### Saída:\n",
        "```\n",
        "[{\"azul\": 0}, {\"amarelo\": 1}, {\"vermelho\": 2}]\n",
        "```\n"
      ]
    },
    {
      "cell_type": "code",
      "execution_count": 31,
      "metadata": {
        "id": "Q8cfqmFCCZ4b"
      },
      "outputs": [],
      "source": [
        "prompt39=\"\"\"Crie uma função Python que receba uma lista de strings como entrada e retorne outra lista, em que cada elemento seja um dicionário contendo cada string mapeada ao seu índice na lista original. O formato de saída deve ser conforme o exemplo abaixo:\n",
        "# Exemplo\n",
        "entrada = [\"azul\", \"amarelo\", \"vermelho\"]\n",
        "saida = [{\"azul\": 0}, {\"amarelo\": 1}, {\"vermelho\": 2}]\"\"\"\n"
      ]
    },
    {
      "cell_type": "code",
      "execution_count": 32,
      "metadata": {
        "deletable": false,
        "id": "OvCuM74BCZ4a",
        "nbgrader": {
          "cell_type": "code",
          "checksum": "e29eddddd9b3d279cea06a0c3b2c81a6",
          "grade": false,
          "grade_id": "cell-07db5d73a369b436",
          "locked": false,
          "schema_version": 3,
          "solution": true,
          "task": false
        },
        "outputId": "ea9b442c-c3ee-4c35-f986-e5de5073a8c2",
        "colab": {
          "base_uri": "https://localhost:8080/"
        }
      },
      "outputs": [
        {
          "output_type": "stream",
          "name": "stdout",
          "text": [
            "Codigo gerado: \n",
            "def map_strings_to_indices(strings):\n",
            "    return [{string: index} for index, string in enumerate(strings)]\n",
            "\n",
            "✅ Passed the Test Case!\n",
            "  Expected: [{'azul': 0}, {'amarelo': 1}, {'vermelho': 2}]\n",
            "  Delivered: [{'azul': 0}, {'amarelo': 1}, {'vermelho': 2}]\n"
          ]
        }
      ],
      "source": [
        "validate(prompt39, \"A3-E9\")"
      ]
    },
    {
      "cell_type": "markdown",
      "metadata": {
        "id": "sEUN_sTkCZ4b"
      },
      "source": [
        "### 3.10 Escreva um prompt que, quando apresentado ao ChatGPT, vai gerar uma função Python que vai transformar a **entrada** na **saída** abaixo.\n",
        "#### Entradas:\n",
        "\n",
        "```\n",
        "{\"Joao\": 10, \"Jose\": 5, \"Roberta\": 9, \"Maria\": 6}\n",
        "```\n",
        "```\n",
        "maximo = 7\n",
        "```\n",
        "\n",
        "#### Saída:\n",
        "```[5, 6]```\n",
        "\n",
        "\n"
      ]
    },
    {
      "cell_type": "code",
      "execution_count": 35,
      "metadata": {
        "id": "hAEwZPu5CZ4b"
      },
      "outputs": [],
      "source": [
        "prompt=\"\"\"Crie uma função Python que receba dois parâmetros: (1) um dicionário com chaves em texto e valores inteiros, por exemplo {\"Joao\": 10, \"Jose\": 5, \"Roberta\": 9, \"Maria\": 6}, e (2) um inteiro chamado maximo, por exemplo 7. A função deve filtrar os valores do dicionário que sejam estritamente menores que maximo e retorná-los em uma lista, por exemplo [5, 6]. Forneça o código completo da função e um exemplo de chamada ilustrando seu funcionamento.\"\"\"\n"
      ]
    },
    {
      "cell_type": "code",
      "execution_count": 36,
      "metadata": {
        "deletable": false,
        "id": "iUNGSpryCZ4b",
        "nbgrader": {
          "cell_type": "code",
          "checksum": "e2c83fc66918c735b6392c7ec3514eeb",
          "grade": false,
          "grade_id": "cell-4afc26f32762755c",
          "locked": false,
          "schema_version": 3,
          "solution": true,
          "task": false
        },
        "outputId": "a1dea632-c079-4017-ca30-a499f0db7b2a",
        "colab": {
          "base_uri": "https://localhost:8080/"
        }
      },
      "outputs": [
        {
          "output_type": "stream",
          "name": "stdout",
          "text": [
            "Codigo gerado: \n",
            "def filtrar_valores(dicionario, maximo):\n",
            "    return [valor for valor in dicionario.values() if valor < maximo]\n",
            "\n",
            "# Exemplo de chamada\n",
            "resultado = filtrar_valores({\"Joao\": 10, \"Jose\": 5, \"Roberta\": 9, \"Maria\": 6}, 7)\n",
            "print(resultado)  # Saída: [5, 6]\n",
            "\n",
            "✅ Passed the Test Case!\n",
            "  Expected: [5, 6]\n",
            "  Delivered: [5, 6]\n"
          ]
        }
      ],
      "source": [
        "validate(prompt, \"A3-E10\")"
      ]
    },
    {
      "cell_type": "markdown",
      "metadata": {
        "id": "VaN19_8eCZ4c"
      },
      "source": [
        "### Os exercícios a seguir se baseiam num pequeno extrato de um dataset real dos serviços públicos brasileiros. Os serviços a seguir são da Fio Cruz.\n",
        "\n",
        "#### Curiosidade 1: Se tiver curiosidade consultar a fonte diretamente, execute o seguinte comando num console para ver o resultado em formato JSON: ```curl https://www.servicos.gov.br/api/v1/servicos/orgao/315```\n",
        "#### Curiosidade 2: Se quiser visualizar esses resultados no navegador no formato XML, acesse esta URL no navegador https://www.servicos.gov.br/api/v1/servicos/orgao/315\n",
        "#### Curiosidade 3: Se quiser visualizar esses resultados no navegador no formato JSON, acesse a URL https://jsonformatter.org/json-viewer, e use a função Load Data para carregar os dados da URL https://www.servicos.gov.br/api/v1/servicos/orgao/315.\n",
        "#### Curiosidade 4: 315 é o código Siorg da Fiocruz\n",
        "#### Curiosidade 5: A documentação desta API encontra-se publicada em https://www.servicos.gov.br/api/v1/docs\n",
        "\n",
        "![image.png](data:image/png;base64,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)"
      ]
    },
    {
      "cell_type": "code",
      "execution_count": 55,
      "metadata": {
        "id": "zqr4xNKLCZ4c",
        "colab": {
          "base_uri": "https://localhost:8080/"
        },
        "outputId": "2ffc680c-a434-4e06-d375-270196a1daee"
      },
      "outputs": [
        {
          "output_type": "stream",
          "name": "stdout",
          "text": [
            "{'id': 'https://servicos.gov.br/api/v1/servicos/13387', 'nome': 'Solicitar doação de material de divulgação em triatomíneos (barbeiros - vetores da doença de Chagas) - Fiocruz/RJ', 'sigla': '', 'descricao': 'Esse serviço consiste na doação de material de divulgação científica (cartões ilustrados, livros ou insetos mortos para coleções didáticas (barbeiros) para uso didático ou divulgação científica.', 'contato': '**Endereço:** Fiocruz -\\xa0Pavilhão Rocha Lima -\\xa0Avenida Brasil, 4365, 5 andar, salas 501 a 509 -\\xa0Manguinhos -\\xa0Rio de Janeiro/RJ -CEP:\\xa021040-360\\n\\n **Telefone:** (21) 25621621\\n\\n **E-mail:\\xa0l**nirtt@ioc.fiocruz.br\\n\\n **Site:**\\xa0https://www.ioc.fiocruz.br/referencia/chagas\\n\\n **Horário de atendimento:**\\xa0de segunda a sexta-feira, de 8 às 17h (o serviço não funciona aos sábados, domingos e feriados)', 'gratuito': 'true', 'porcentagemDigital': 100, 'servicoDigital': True, 'linkServicoDigital': 'https://solicitacao.servicos.gov.br/processos/iniciar', 'nomesPopulares': {'item': [{'item': '', 'id': 76869}]}, 'solicitantes': {'solicitante': [{'id': 67426, 'tipo': '* **Cidadãos**', 'requisitos': ''}, {'id': 67427, 'tipo': '* **Órgãos e Entidades Públicas**', 'requisitos': 'Qualquer cidadão brasileiro ou estrangeiro poderá solicitar a doação de material para uso didático ou divulgação científica.\\n\\n \\xa0\\n\\n **Os seguintes casos receberão prioridade na prestação do serviço:**\\n\\n Demandas encaminhadas pelo Ministério da Saúde'}]}, 'tempoTotalEstimado': {'ate': None, 'entre': None, 'emMedia': {'max': '30', 'unidade': 'dias-corridos'}, 'atendimentoImediato': None, 'naoEstimadoAinda': None, 'descricao': None, 'min': None, 'max': 30}, 'validadeDocumento': {'tipo': 'Sem validade', 'quantidade': '0', 'unidade': '', 'descricao': ''}, 'orgao': {'id': 'http://estruturaorganizacional.dados.gov.br/id/unidade-organizacional/315', 'dbId': 34312, 'nomeOrgao': 'Fundação Oswaldo Cruz (FIOCRUZ)', 'porcentagemDigital': None, 'tempoMedioEspera': None, 'porcentagemAvaliacoesPositivas': None, 'qtdTotal': None, 'qtdTotalSolicitacoes': None, 'qtdDenuncias': None, 'qtdReclamacao': None}, 'segmentosDaSociedade': {'item': [{'item': 'Cidadãos', 'idSegmento': 1, 'idServicoSegmento': 106455}, {'item': 'Órgãos e entidades públicas', 'idSegmento': 2, 'idServicoSegmento': 106456}]}, 'areasDeInteresse': {'item': ['Capacitações']}, 'palavrasChave': {'item': [{'item': 'material didático', 'id': 261751}, {'item': 'vetores', 'id': 261752}, {'item': 'barbeiros', 'id': 261753}, {'item': 'Doença de Chagas', 'id': 261754}, {'item': 'Trypanosoma cruzi', 'id': 261755}, {'item': 'Triatomíneos', 'id': 261756}]}, 'legislacoes': {'item': [{'item': '', 'id': 87818}]}, 'avaliacoes': {'positivas': 1, 'negativas': 0}, 'categoria': {'id': 309, 'nomeCategoria': 'Capacitações', 'descricaoCategoria': '', 'classeCssCategoria': '', 'indicadorCategoriaRestrita': False, 'statusCategoria': 'P', 'categoriaSuperior': {'id': 78, 'nomeCategoria': 'Pesquisa, Formação e Capacitação', 'descricaoCategoria': '', 'classeCssCategoria': '', 'indicadorCategoriaRestrita': False, 'statusCategoria': 'P', 'categoriaSuperior': {'id': 15, 'nomeCategoria': 'Saúde e Vigilância Sanitária', 'descricaoCategoria': 'Serviços relacionados ao apoio no atendimento e prevenção a problemas de saúde, entre outros.', 'classeCssCategoria': 'fas fa-heartbeat', 'indicadorCategoriaRestrita': False, 'statusCategoria': 'P', 'categoriaSuperior': {'id': None, 'nomeCategoria': None, 'descricaoCategoria': None, 'classeCssCategoria': None, 'indicadorCategoriaRestrita': None, 'statusCategoria': None, 'categoriaSuperior': None}}}}, 'condicoesAcessibilidade': 'O usuário do serviço público, conforme estabelecido pela lei nº13.460/17, tem direito a atendimento presencial, quando necessário, em instalações salubres, seguras, sinalizadas, acessíveis e adequadas ao serviço e ao atendimento.', 'tratamentoPrioritario': 'Tem direito a atendimento prioritário as pessoas com deficiência, os idosos com idade igual ou superior a 60 anos, as gestantes, as lactantes, as pessoas com crianças de colo e os obesos, conforme estabelecido pela lei 10.048, de 8 de novembro de 2000.', 'tratamentoDispensadoAtendimento': 'O usuário deverá receber, conforme os princípios expressos na lei nº 13.460/17, um atendimento pautado nas seguintes diretrizes:\\n\\n  * Urbanidade;\\n * Respeito;\\n * Acessibilidade;\\n * Cortesia;\\n * Presunção da boa-fé do usuário;\\n * Igualdade;\\n * Eficiência;\\n * Segurança; e\\n * Ética', 'etapas': [{'id': 150408, 'titulo': 'Solicitar doação de material de divulgação em triatomíneos', 'descricao': 'Inicie a solicitação através do preenchimento do formulário eletrônico. Guarde o protocolo gerado para futuras consultas e aguarde a análise da sua solicitação.\\n\\n Poderá ser recebida uma notificação automática, por e-mail, caso seja necessário ajustar algum dado fornecido no formulário.\\n\\n Após aprovação da solicitação do serviço, o solicitante receberá uma notificação automática para dar o “aceite final” na prestação do serviço.', 'documentos': {'documentos': None, 'casos': []}, 'custos': {'custos': None, 'casos': []}, 'canaisDePrestacao': {'canaisDePrestacao': [{'id': 196207, 'tipo': 'web', 'descricao': 'Acesse o site', 'procedimentoSistemaIndisponivel': None, 'tempoEstimadoPeriodo': None, 'tempoEstimadoEspera': None, 'tempoEstimadoPeriodoService': None}], 'casos': []}, 'tempoTotalEstimado': {'ate': None, 'entre': None, 'emMedia': None, 'atendimentoImediato': None, 'naoEstimadoAinda': {}, 'descricao': None, 'min': None, 'max': None}, 'digitalizavel': True}, {'id': 150409, 'titulo': 'Receber a doação de material de divulgação em triatomíneos', 'descricao': 'O solicitante receberá o material no endereço informado na solicitação.', 'documentos': {'documentos': None, 'casos': []}, 'custos': {'custos': None, 'casos': []}, 'canaisDePrestacao': {'canaisDePrestacao': [{'id': 196208, 'tipo': 'postal', 'descricao': 'O envio da doação será feito por meio dos Correios. O prazo para recebimento depende do tempo de entrega dos Correios, que varia em função da modalidade de envio, distância etc.', 'procedimentoSistemaIndisponivel': None, 'tempoEstimadoPeriodo': None, 'tempoEstimadoEspera': None, 'tempoEstimadoPeriodoService': None}], 'casos': []}, 'tempoTotalEstimado': {'ate': None, 'entre': None, 'emMedia': None, 'atendimentoImediato': None, 'naoEstimadoAinda': {}, 'descricao': None, 'min': None, 'max': None}, 'digitalizavel': False}], 'tempoMediaEspera': '30', 'percentualAvaliacoesPositivas': '100', 'url': 'https://www.gov.br/pt-br/servicos/solicitar-doacao-de-material-de-divulgacao-em-triatomineos-barbeiros-vetores-da-doenca-de-chagas-fiocruz-rj'}\n"
          ]
        }
      ],
      "source": [
        "# Execute esta célula para criar a variavel servicos que vai conter a lista de serviços\n",
        "# Mais adiante nesse curso aprofundaremos esse assunto de requisições HTTP e APIs com python e curl\n",
        "# Importar a biblioteca que faz requisições HTTP\n",
        "import requests\n",
        "# Fazer uma requisição HTTP\n",
        "r = requests.get(\"https://www.servicos.gov.br/api/v1/servicos/orgao/315\")\n",
        "# Transformar a resposta em JSON e pegar a lista de serviços cuja chave é \"resposta\"\n",
        "servicos = r.json()[\"resposta\"]\n",
        "# Imprimir o primeiro serviço da lista\n",
        "print(servicos[0])"
      ]
    },
    {
      "cell_type": "markdown",
      "metadata": {
        "id": "MUhYUfV1CZ4c"
      },
      "source": [
        "### 3.11 Percorra a lista ```servicos``` selecionando os atributos de interesse ```nome, sigla, servicoDigital, nomeOrgao```. Construa o atributo ```id_servico``` a partir do atributo ```id``` coletando o número (id do serviço) que aparece depois da ultima barra da URL do serviço. Construa um dicionário de dicionários. No dicionário externo as chaves são o ```id_servico```, e seu respectivo valor deve ser um dicionário com os atributos de interesse. Para efeito de validação (nota), retorne apenas os serviços identificados por '13387', '9026', e '13388'.\n",
        "\n",
        "#### Dica 1: Consulte o conteúdo da requisição que retorna o dicionário de serviços (veja as curiosidades apresentadas acima). E a partir da inspeção do conteúdo escolha o nome das chaves do dicionário cujo valor deseja acessar. Essas chaves coincidem com o nome dos atributos do enunciado.\n",
        "#### Dica 2: O nome do órgão não está no primeiro nível do dicionário. Para acessar o nome, acesse um dicionário por meio da chave ```\"orgao\"``` e dentro dele haverá uma chave ```\"nomeOrgao\"```. Ou seja ```dicionario[\"orgao\"][\"nomeOrgao\"]```. Confira isso por meio de uma inspeção visual.\n",
        "\n",
        "### Entrada:\n",
        "```\"https://www.servicos.gov.br/api/v1/servicos/orgao/315\"```\n",
        "\n",
        "### Saída:\n",
        "```\n",
        "{'13387': {'nome': 'Solicitar doação de material de divulgação em triatomíneos (barbeiros - vetores da doença de Chagas) - Fiocruz/RJ',\n",
        "  'sigla': '',\n",
        "  'servicoDigital': \"Sim\",\n",
        "  'nomeOrgao': 'Fundação Oswaldo Cruz (FIOCRUZ)'},\n",
        " '9026': {'nome': 'Solicitar cópia de vídeos do Acervo da VídeoSaúde Distribuidora - Fiocruz',\n",
        "  'sigla': '',\n",
        "  'servicoDigital': \"Não\",\n",
        "  'nomeOrgao': 'Fundação Oswaldo Cruz (FIOCRUZ)'},\n",
        " '13388': {'nome': 'Solicitar identificação de moluscos terrestres - Fiocruz/RJ',\n",
        "  'sigla': '',\n",
        "  'servicoDigital': \"Não\",\n",
        "  'nomeOrgao': 'Fundação Oswaldo Cruz (FIOCRUZ)'}\n",
        "}\n",
        "  ```"
      ]
    },
    {
      "cell_type": "code",
      "execution_count": 21,
      "metadata": {
        "id": "7PnqH3YTCZ4d"
      },
      "outputs": [],
      "source": [
        "prompt311=\"\"\"\n",
        "import requests\n",
        "\n",
        "def construir_dict_servicos(url):\n",
        "    r = requests.get(url)\n",
        "    servicos = r.json()[\"resposta\"]\n",
        "\n",
        "    dict_servicos = {}\n",
        "    for servico in servicos:\n",
        "        id_servico = servico[\"id\"].split(\"/\")[-1]\n",
        "\n",
        "        # Converter boolean em \"Sim\"/\"Não\"\n",
        "        servico_digital_str = \"Sim\" if servico[\"servicoDigital\"] else \"Não\"\n",
        "\n",
        "        dict_servicos[id_servico] = {\n",
        "            \"nome\": servico[\"nome\"],\n",
        "            \"sigla\": servico[\"sigla\"],\n",
        "            \"servicoDigital\": servico_digital_str,\n",
        "            \"nomeOrgao\": servico[\"orgao\"][\"nomeOrgao\"]\n",
        "        }\n",
        "\n",
        "    ids_desejados = [\"13387\", \"9026\", \"13388\"]\n",
        "    return {k: v for k, v in dict_servicos.items() if k in ids_desejados}\n",
        "\n",
        "\"\"\""
      ]
    },
    {
      "cell_type": "code",
      "execution_count": 22,
      "metadata": {
        "deletable": false,
        "id": "MUOGOmj5CZ4c",
        "nbgrader": {
          "cell_type": "code",
          "checksum": "ef91c07e5b00406980e2d85ea227b49e",
          "grade": false,
          "grade_id": "cell-787017167e839bb1",
          "locked": false,
          "schema_version": 3,
          "solution": true,
          "task": false
        },
        "outputId": "cfb5d955-9156-4a0c-e078-191ba8999373",
        "colab": {
          "base_uri": "https://localhost:8080/"
        }
      },
      "outputs": [
        {
          "output_type": "stream",
          "name": "stdout",
          "text": [
            "Codigo gerado: \n",
            "def construir_dict_servicos(url):\n",
            "    r = requests.get(url)\n",
            "    servicos = r.json()[\"resposta\"]\n",
            "\n",
            "    dict_servicos = {}\n",
            "    for servico in servicos:\n",
            "        id_servico = servico[\"id\"].split(\"/\")[-1]\n",
            "        \n",
            "        servico_digital_str = \"Sim\" if servico[\"servicoDigital\"] else \"Não\"\n",
            "        \n",
            "        dict_servicos[id_servico] = {\n",
            "            \"nome\": servico[\"nome\"],\n",
            "            \"sigla\": servico[\"sigla\"],\n",
            "            \"servicoDigital\": servico_digital_str,\n",
            "            \"nomeOrgao\": servico[\"orgao\"][\"nomeOrgao\"]\n",
            "        }\n",
            "\n",
            "    ids_desejados = [\"13387\", \"9026\", \"13388\"]\n",
            "    return {k: v for k, v in dict_servicos.items() if k in ids_desejados}\n",
            "\n",
            "✅ Passed the Test Case!\n",
            "  Expected: {'13387': {'nome': 'Solicitar doação de material de divulgação em triatomíneos (barbeiros - vetores da doença de Chagas) - Fiocruz/RJ', 'nomeOrgao': 'Fundação Oswaldo Cruz (FIOCRUZ)', 'servicoDigital': 'Sim', 'sigla': ''}, '13388': {'nome': 'Solicitar identificação de moluscos terrestres - Fiocruz/RJ', 'nomeOrgao': 'Fundação Oswaldo Cruz (FIOCRUZ)', 'servicoDigital': 'Não', 'sigla': ''}, '9026': {'nome': 'Solicitar cópia de vídeos do Acervo da VídeoSaúde Distribuidora - Fiocruz', 'nomeOrgao': 'Fundação Oswaldo Cruz (FIOCRUZ)', 'servicoDigital': 'Não', 'sigla': ''}}\n",
            "  Delivered: {'13387': {'nome': 'Solicitar doação de material de divulgação em triatomíneos (barbeiros - vetores da doença de Chagas) - Fiocruz/RJ', 'nomeOrgao': 'Fundação Oswaldo Cruz (FIOCRUZ)', 'servicoDigital': 'Sim', 'sigla': ''}, '13388': {'nome': 'Solicitar identificação de moluscos terrestres - Fiocruz/RJ', 'nomeOrgao': 'Fundação Oswaldo Cruz (FIOCRUZ)', 'servicoDigital': 'Não', 'sigla': ''}, '9026': {'nome': 'Solicitar cópia de vídeos do Acervo da VídeoSaúde Distribuidora - Fiocruz', 'nomeOrgao': 'Fundação Oswaldo Cruz (FIOCRUZ)', 'servicoDigital': 'Não', 'sigla': ''}}\n"
          ]
        }
      ],
      "source": [
        "validate(prompt311, \"A3-E11\")"
      ]
    },
    {
      "cell_type": "markdown",
      "metadata": {
        "id": "V5GKmHzKCZ4d"
      },
      "source": [
        "### 3.12 Calcule a porcentagem de serviços digitais deste órgão.\n",
        "\n",
        "### Entrada:\n",
        "```https://www.servicos.gov.br/api/v1/servicos/orgao/315```\n",
        "\n",
        "### Saída:\n",
        "```\"45.59%\"```"
      ]
    },
    {
      "cell_type": "code",
      "execution_count": 23,
      "metadata": {
        "id": "TtdjdlqJCZ4d"
      },
      "outputs": [],
      "source": [
        "prompt312=\"\"\"import requests\n",
        "\n",
        "def calcular_porcentagem_servicos_digitais(url):\n",
        "    resposta = requests.get(url).json()[\"resposta\"]\n",
        "    total_servicos = len(resposta)\n",
        "    servicos_digitais = sum(1 for servico in resposta if servico[\"servicoDigital\"] is True)\n",
        "    porcentagem = (servicos_digitais / total_servicos) * 100\n",
        "    return f\"{porcentagem:.2f}%\"\n",
        "\n",
        "# Exemplo de uso:\n",
        "url = \"https://www.servicos.gov.br/api/v1/servicos/orgao/315\"\n",
        "resultado = calcular_porcentagem_servicos_digitais(url)\n",
        "print(resultado)  # Deve retornar \"45.59%\"\n",
        "\"\"\"\n"
      ]
    },
    {
      "cell_type": "code",
      "source": [
        "validate(prompt312, \"A3-E12\")"
      ],
      "metadata": {
        "id": "QjQKMhyLEq4-",
        "outputId": "d225816b-c90b-4d4b-8941-1d9e63ec2f0b",
        "colab": {
          "base_uri": "https://localhost:8080/"
        }
      },
      "execution_count": 24,
      "outputs": [
        {
          "output_type": "stream",
          "name": "stdout",
          "text": [
            "Codigo gerado: \n",
            "def calcular_porcentagem_servicos_digitais(url):\n",
            "    resposta = requests.get(url).json()[\"resposta\"]\n",
            "    total_servicos = len(resposta)\n",
            "    servicos_digitais = sum(1 for servico in resposta if servico[\"servicoDigital\"] is True)\n",
            "    porcentagem = (servicos_digitais / total_servicos) * 100\n",
            "    return f\"{porcentagem:.2f}%\"\n",
            "\n",
            "✅ Passed the Test Case!\n",
            "  Expected: 45.37%\n",
            "  Delivered: 45.37%\n"
          ]
        }
      ]
    },
    {
      "cell_type": "code",
      "source": [],
      "metadata": {
        "id": "oMMVMBPe3rLK"
      },
      "execution_count": null,
      "outputs": []
    },
    {
      "cell_type": "markdown",
      "metadata": {
        "id": "m4pzQLX9QMqZ"
      },
      "source": [
        "### 3.13 Crie um prompt para resolver o problema abaixo:\n",
        "#### Entrada 1: [1, 3, 4] e N=2\n",
        "#### Saída 1: [1, 3]\n",
        "#### Entrada 2: [0, 12, 45, 34, 99] e N=40\n",
        "#### Saída 2: [45]\n",
        "#### Entrada 2: [-10, 19099, 102, 3404, 245] e N=102\n",
        "#### Saída 2: [102]\n"
      ]
    },
    {
      "cell_type": "code",
      "execution_count": 25,
      "metadata": {
        "nbgrader": {
          "grade": false,
          "grade_id": "cell-e0a4e5deea9187c4",
          "locked": false,
          "schema_version": 3,
          "solution": true,
          "task": false
        },
        "id": "eBX3dJA3QMqb"
      },
      "outputs": [],
      "source": [
        "prompt313=\"\"\"def numeros_mais_proximos(lista, N):\n",
        "    # Calcula a menor distância absoluta de cada elemento em relação a N\n",
        "    menor_diferenca = min(abs(x - N) for x in lista)\n",
        "    # Retorna todos os elementos cuja distância absoluta para N seja igual à menor_diferenca\n",
        "    return [x for x in lista if abs(x - N) == menor_diferenca]\n",
        "\n",
        "# Exemplos de uso:\n",
        "lista1, N1 = [1, 3, 4], 2\n",
        "saida1 = numeros_mais_proximos(lista1, N1)\n",
        "print(saida1)  # [1, 3]\n",
        "\n",
        "lista2, N2 = [0, 12, 45, 34, 99], 40\n",
        "saida2 = numeros_mais_proximos(lista2, N2)\n",
        "print(saida2)  # [45]\n",
        "\n",
        "lista3, N3 = [-10, 19099, 102, 3404, 245], 102\n",
        "saida3 = numeros_mais_proximos(lista3, N3)\n",
        "print(saida3)  # [102]\n",
        "\"\"\""
      ]
    },
    {
      "cell_type": "code",
      "execution_count": 26,
      "metadata": {
        "id": "Sf5g0C_GQMqe",
        "outputId": "0dc15e43-8cdd-4519-8319-1b74cda62154",
        "colab": {
          "base_uri": "https://localhost:8080/"
        }
      },
      "outputs": [
        {
          "output_type": "stream",
          "name": "stdout",
          "text": [
            "Codigo gerado: \n",
            "def numeros_mais_proximos(lista, N):\n",
            "    menor_diferenca = min(abs(x - N) for x in lista)\n",
            "    return [x for x in lista if abs(x - N) == menor_diferenca]\n",
            "\n",
            "✅ Passed Test Cases:\n",
            "  - Test ID: 1: [102]\n",
            "  - Test ID: 2: [45]\n",
            "  - Test ID: 3: [1, 3]\n"
          ]
        }
      ],
      "source": [
        "validate(prompt313, \"A3-E13\")"
      ]
    },
    {
      "cell_type": "markdown",
      "metadata": {
        "id": "qhol2j7eQMqf"
      },
      "source": [
        "### 3.14 Crie um prompt para resolver o problema abaixo:\n",
        "#### Entrada:  [1, 2, 3, 4, 5]\n",
        "#### Saída: {\"1\": 5, \"2\": 4, \"3\": 3, \"4\": 2, \"5\": 1}"
      ]
    },
    {
      "cell_type": "code",
      "execution_count": 27,
      "metadata": {
        "id": "im88By4aQMqg"
      },
      "outputs": [],
      "source": [
        "prompt314=\"\"\"def criar_dict_inverso(numeros):\n",
        "    # Inverte a lista\n",
        "    numeros_invertidos = list(reversed(numeros))\n",
        "    # Associa cada elemento original ao elemento invertido, usando a string do original como chave\n",
        "    return {str(numeros[i]): numeros_invertidos[i] for i in range(len(numeros))}\n",
        "\n",
        "# Exemplo de uso:\n",
        "entrada = [1, 2, 3, 4, 5]\n",
        "saida = criar_dict_inverso(entrada)\n",
        "print(saida)  # {\"1\": 5, \"2\": 4, \"3\": 3, \"4\": 2, \"5\": 1}\n",
        "\"\"\""
      ]
    },
    {
      "cell_type": "code",
      "execution_count": 28,
      "metadata": {
        "id": "4Bbu7kB6QMqh",
        "outputId": "6c1281ee-c91e-4663-e38a-4ca293555309",
        "colab": {
          "base_uri": "https://localhost:8080/"
        }
      },
      "outputs": [
        {
          "output_type": "stream",
          "name": "stdout",
          "text": [
            "Codigo gerado: \n",
            "def criar_dict_inverso(numeros):\n",
            "    numeros_invertidos = list(reversed(numeros))\n",
            "    return {str(numeros[i]): numeros_invertidos[i] for i in range(len(numeros))}\n",
            "\n",
            "✅ Passed the Test Case!\n",
            "  Expected: {'1': 5, '2': 4, '3': 3, '4': 2, '5': 1}\n",
            "  Delivered: {'1': 5, '2': 4, '3': 3, '4': 2, '5': 1}\n"
          ]
        }
      ],
      "source": [
        "validate(prompt314, \"A3-E14\")"
      ]
    },
    {
      "cell_type": "code",
      "source": [],
      "metadata": {
        "id": "uxD_tRq6VGaF"
      },
      "execution_count": null,
      "outputs": []
    },
    {
      "cell_type": "markdown",
      "source": [
        "### Exercício de Reflexão (Facultativo)\n",
        "#### Você aprendeu alguma coisa que pode ser reaproveitado em outros problemas?\n",
        "#### Como você pode melhorar seu processo de elaboração de requisitos / prompts?\n",
        "#### Você notou ambiguidade na sua especificação inicial?"
      ],
      "metadata": {
        "id": "9cTqrAw0IXaY"
      }
    },
    {
      "cell_type": "code",
      "source": [
        "resposta=\"\"\"Ao longo desse processo, aprendi que a construção de prompts claros e bem estruturados demanda um entendimento aprofundado do problema e uma atenção especial à forma de explicar o que se deseja que o código ou a reflexão produza. Em primeiro lugar, ao elaborar os requisitos para uma tarefa, é fundamental identificar com precisão as entradas, saídas e possíveis cenários de uso, pois isso garante que o enunciado cubra tanto o objetivo principal quanto os eventuais casos extremos. Esse cuidado reflete alguns princípios presentes em práticas de Engenharia de Requisitos, que enfatizam a necessidade de comunicação detalhada entre os envolvidos no desenvolvimento do software (ver IEEE 830-1998 - *IEEE Recommended Practice for Software Requirements Specifications*).\n",
        "\n",
        "Um aspecto que se mostrou importante é a capacidade de iterar e revisar as instruções. Quando formulo um prompt, preciso testar diferentes abordagens para verificar se a resposta gerada corresponde ao que eu realmente queria obter. Essa estratégia de refinar, experimentar e analisar resultados costuma aparecer em metodologias ágeis, onde a entrega de pequenas partes do produto permite coletar feedback de maneira rápida (Wiegers, *Software Requirements*, 2003). Por exemplo, tive a oportunidade de perceber que, ao omitir detalhes sobre o tipo de dado esperado (“Sim” ou “Não” em vez de valores booleanos, por exemplo), a resposta final ficava inconsistente com os requisitos do problema. Assim, pude reformular as instruções, definindo explicitamente o formato de saída.\n",
        "\n",
        "Outra lição foi a de relacionar a formulação de prompts com práticas de programação mais amplas, como a escrita de testes automatizados. Em determinadas situações, a “ambiguidade” no enunciado só ficou evidente quando comparei as saídas esperadas com as entregues, percebendo a diferença no tipo de dado (booleano versus string). Isso remete ao princípio de que especificações ambíguas levam a interpretações variadas, um tema extensamente discutido em estudos de Engenharia de Requisitos (Van Lamsweerde, *Requirements Engineering: From System Goals to UML Models to Software Specifications*, 2009).\n",
        "\n",
        "Por fim, minha experiência pessoal ressaltou a importância de exemplos concretos durante a descrição do problema. Em vez de me basear apenas em explicações genéricas, passei a incluir entradas e saídas exemplares que demonstram exatamente o comportamento esperado. Isso reduziu a necessidade de retrabalho e facilitou o entendimento das tarefas, tanto para mim quanto para quem faz a verificação. Observando tudo isso, vejo que o meu processo de elaboração de prompts foi enriquecido pela compreensão de conceitos essenciais de requisitos e pela conscientização de que o refinamento contínuo, aliado a exemplos claros, é uma das chaves para minimizar ambiguidades no desenvolvimento de soluções.\"\"\""
      ],
      "metadata": {
        "id": "Y9yjEmHV2nKi"
      },
      "execution_count": 31,
      "outputs": []
    },
    {
      "cell_type": "code",
      "source": [
        "validate(resposta, \"A3-R1\")"
      ],
      "metadata": {
        "id": "yLXjtjQaK6V1",
        "outputId": "707b1e09-d6ca-4d71-c770-bb98d368f6d4",
        "colab": {
          "base_uri": "https://localhost:8080/"
        }
      },
      "execution_count": 32,
      "outputs": [
        {
          "output_type": "stream",
          "name": "stdout",
          "text": [
            "Chatgpt graded your answer as: True\n",
            "Chatgpt feedback was: A reflexão apresenta uma compreensão profunda sobre a elaboração de prompts, destacando a importância de definir claramente entradas e saídas, a relação entre requisitos e programação, e a necessidade de iteração. O aluno menciona conceitos teóricos da Engenharia de Requisitos, que ainda não haviam sido explorados nas reflexões anteriores, conferindo originalidade ao seu relato. Além disso, a conexão entre teoria e prática, juntamente com a inclusão de exemplos concretos, demonstra um amadurecimento no entendimento do tema. Assim, a reflexão é bem estruturada, original e atende aos padrões de qualidade.\n"
          ]
        }
      ]
    }
  ],
  "metadata": {
    "colab": {
      "provenance": [],
      "include_colab_link": true
    },
    "kernelspec": {
      "display_name": "Python 3",
      "language": "python",
      "name": "python3"
    },
    "language_info": {
      "codemirror_mode": {
        "name": "ipython",
        "version": 3
      },
      "file_extension": ".py",
      "mimetype": "text/x-python",
      "name": "python",
      "nbconvert_exporter": "python",
      "pygments_lexer": "ipython3",
      "version": "3.8.3"
    },
    "name": "_merged",
    "varInspector": {
      "cols": {
        "lenName": 16,
        "lenType": 16,
        "lenVar": 40
      },
      "kernels_config": {
        "python": {
          "delete_cmd_postfix": "",
          "delete_cmd_prefix": "del ",
          "library": "var_list.py",
          "varRefreshCmd": "print(var_dic_list())"
        },
        "r": {
          "delete_cmd_postfix": ") ",
          "delete_cmd_prefix": "rm(",
          "library": "var_list.r",
          "varRefreshCmd": "cat(var_dic_list()) "
        }
      },
      "types_to_exclude": [
        "module",
        "function",
        "builtin_function_or_method",
        "instance",
        "_Feature"
      ],
      "window_display": false
    }
  },
  "nbformat": 4,
  "nbformat_minor": 0
}