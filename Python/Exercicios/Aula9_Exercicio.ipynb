{
  "cells": [
    {
      "cell_type": "markdown",
      "metadata": {
        "id": "view-in-github",
        "colab_type": "text"
      },
      "source": [
        "<a href=\"https://colab.research.google.com/github/tadeugomes/mba_enap_python/blob/main/Exercicios/Aula9_Exercicio.ipynb\" target=\"_parent\"><img src=\"https://colab.research.google.com/assets/colab-badge.svg\" alt=\"Open In Colab\"/></a>"
      ]
    },
    {
      "cell_type": "markdown",
      "metadata": {
        "id": "k92_GJC2OwAo"
      },
      "source": [
        "# Aula 9 - Exercício - Agregação com Pandas"
      ]
    },
    {
      "cell_type": "markdown",
      "metadata": {
        "id": "_nJJVge3PVNe"
      },
      "source": [
        "### Documentação do Autograder [Link](https://github.com/alexlopespereira/mba_enap/blob/main/Exercicios/Autograder.ipynb)\n",
        "\n",
        "\n",
        "*   Link para o gabarito das questões\n",
        "*   Imports padrão\n",
        "*   Instalação\n",
        "*   Autenticaçao para nota\n",
        "*   Validação\n",
        "\n",
        "\n"
      ]
    },
    {
      "cell_type": "code",
      "execution_count": 1,
      "metadata": {
        "id": "RkNwKAd8kJz5"
      },
      "outputs": [],
      "source": [
        "!pip install --upgrade ipynb_autograde > /dev/null"
      ]
    },
    {
      "cell_type": "code",
      "execution_count": 2,
      "metadata": {
        "id": "WxBHNGxie9BB",
        "outputId": "0bf6d846-28ac-41af-c545-f63757ce8bca",
        "colab": {
          "base_uri": "https://localhost:8080/"
        }
      },
      "outputs": [
        {
          "output_type": "stream",
          "name": "stdout",
          "text": [
            "env: COURSE=mba_enap\n",
            "Go to the following link in your browser, and complete the sign-in prompts:\n",
            "\n",
            "    https://accounts.google.com/o/oauth2/auth?response_type=code&client_id=32555940559.apps.googleusercontent.com&redirect_uri=https%3A%2F%2Fsdk.cloud.google.com%2Fauthcode.html&scope=openid+https%3A%2F%2Fwww.googleapis.com%2Fauth%2Fuserinfo.email+https%3A%2F%2Fwww.googleapis.com%2Fauth%2Fcloud-platform+https%3A%2F%2Fwww.googleapis.com%2Fauth%2Fappengine.admin+https%3A%2F%2Fwww.googleapis.com%2Fauth%2Fsqlservice.login+https%3A%2F%2Fwww.googleapis.com%2Fauth%2Fcompute+https%3A%2F%2Fwww.googleapis.com%2Fauth%2Faccounts.reauth&state=JmvtPJe9M5ewekzZRkId1c7QlqGmaO&prompt=consent&token_usage=remote&access_type=offline&code_challenge=X34AR5R8FJnmfLXGC5thzeGcBbcZBac3YLOsrNTP5u4&code_challenge_method=S256\n",
            "\n",
            "Once finished, enter the verification code provided in your browser: 4/0ASVgi3IKij-0XLkFqnPrzMOtqcnQji6K5cZ7FnrtDdcejEZCAcFZTW7y0jLs4TY6Rhc0zw\n",
            "\n",
            "You are now logged in as [tagote@gmail.com].\n",
            "Your current project is [None].  You can change this setting by running:\n",
            "  $ gcloud config set project PROJECT_ID\n"
          ]
        }
      ],
      "source": [
        "%env  COURSE=mba_enap\n",
        "from ipynb_autograde.main import init_log, validate\n",
        "init_log()\n",
        "email_result=!gcloud config get-value account\n",
        "if not email_result or 'unset' in email_result[0]:\n",
        "  !gcloud auth login"
      ]
    },
    {
      "cell_type": "code",
      "execution_count": 3,
      "metadata": {
        "id": "R3jJ85H8OwAr"
      },
      "outputs": [],
      "source": [
        "# Faca o import das bibliotecas\n",
        "import pandas as pd\n",
        "import numpy as np"
      ]
    },
    {
      "cell_type": "markdown",
      "metadata": {
        "id": "ny_zhXxFOwAt"
      },
      "source": [
        "### 9.1 Escreva um prompt de uma função python para carregar os dados de população de 2017 e realizar as operações ilustradas na tabela a seguir. Retorne apenas os top 3 resultados ordenados pela soma.\n",
        "#### **Dica:** Coluna pop2017, e ```reset_index()```\n",
        "\n",
        "#### Entrada: ```'https://github.com/alexlopespereira/mba_enap/raw/refs/heads/main/data/originais/populacao/estimativa_dou_2017.xlsx'```\n",
        "\n",
        "\n",
        "### Resultado esperado: um dataframe igual a esse\n",
        "\n",
        "|    | uf   |      sum |     mean |   median |    std |\n",
        "|---:|:-----|---------:|---------:|---------:|-------:|\n",
        "|  0 | SP   | 45094866 |  69914.5 |    13810 | 489370 |\n",
        "|  1 | MG   | 21119536 |  24759.1 |     8287 | 100604 |\n",
        "|  2 | RJ   | 16718956 | 181728   |    35918 | 693337 |\n"
      ]
    },
    {
      "cell_type": "code",
      "execution_count": null,
      "metadata": {
        "id": "YASOjqDIXkMU"
      },
      "outputs": [],
      "source": [
        "d9_1_1 = 'https://github.com/alexlopespereira/mba_enap/raw/refs/heads/main/data/originais/populacao/estimativa_dou_2017.xlsx'"
      ]
    },
    {
      "cell_type": "code",
      "source": [
        "##### Faça Seus testes ###\n"
      ],
      "metadata": {
        "id": "2_5dKysMkF4r"
      },
      "execution_count": null,
      "outputs": []
    },
    {
      "cell_type": "code",
      "execution_count": 6,
      "metadata": {
        "id": "pP-pq8q_SqFI"
      },
      "outputs": [],
      "source": [
        "prompt91 = \"\"\"import pandas as pd\n",
        "\n",
        "def carregar_e_analisar_populacao(url):\n",
        "\n",
        "    # Carregar os dados, convertendo 'cod_ibge' para string\n",
        "    df = pd.read_excel(url, dtype={'cod_ibge': str})\n",
        "\n",
        "    # Agrupar por UF e calcular estatísticas\n",
        "    resultado = df.groupby('uf')['pop2017'].agg(['sum', 'mean', 'median', 'std']).reset_index()\n",
        "\n",
        "    # Ordenar pelo total (soma) em ordem decrescente e pegar os top 3\n",
        "    resultado = resultado.sort_values('sum', ascending=False).head(3)\n",
        "\n",
        "    # Arredondar os valores para melhor apresentação\n",
        "    resultado['sum'] = resultado['sum'].astype(int)\n",
        "    resultado['mean'] = resultado['mean'].round(1)\n",
        "    resultado['median'] = resultado['median'].round(1)\n",
        "    resultado['std'] = resultado['std'].round(1)\n",
        "\n",
        "    return resultado\n",
        "\n",
        "\"\"\""
      ]
    },
    {
      "cell_type": "code",
      "execution_count": 7,
      "metadata": {
        "id": "euAQ0fkXStP0",
        "outputId": "0ac4532d-9443-4618-ab22-f237a84fef0b",
        "colab": {
          "base_uri": "https://localhost:8080/"
        }
      },
      "outputs": [
        {
          "output_type": "stream",
          "name": "stdout",
          "text": [
            "Codigo gerado: \n",
            "def carregar_e_analisar_populacao(url):\n",
            "    df = pd.read_excel(url, dtype={'cod_ibge': str})\n",
            "    resultado = df.groupby('uf')['pop2017'].agg(['sum', 'mean', 'median', 'std']).reset_index()\n",
            "    resultado = resultado.sort_values('sum', ascending=False).head(3)\n",
            "    resultado['sum'] = resultado['sum'].astype(int)\n",
            "    resultado['mean'] = resultado['mean'].round(1)\n",
            "    resultado['median'] = resultado['median'].round(1)\n",
            "    resultado['std'] = resultado['std'].round(1)\n",
            "    return resultado\n",
            "\n",
            "✅ Passed the Test Case!\n",
            "  Expected: {'data': {'aggregation_checks': {'sum': {'mean': 276401.4, 'median': 58015.0, 'std': 1283310.7, 'sum': 82933358.0}, 'total_rows': {'max': 3, 'min': 3}}, 'columns': ['uf', 'sum', 'mean', 'median', 'std'], 'dtypes': {'mean': 'float64', 'median': 'float64', 'std': 'float64', 'sum': 'int64', 'uf': 'object'}, 'sample_rows': [{'expected_values': {'sum': 45094866}, 'filter': {'uf': 'SP'}}, {'expected_values': {'sum': 16718956}, 'filter': {'uf': 'RJ'}}]}, 'type': 'dataframe', 'validation_rules': {'round_decimals': 1, 'row_match_threshold': 0.9, 'tolerance': 3}}\n",
            "  Delivered: {'aggregation_summary': {'sums': {'mean': 276401.4, 'median': 58015.0, 'std': 1283310.7, 'sum': 82933358.0}, 'total_rows': {'max': 3, 'min': 3}}, 'column_analysis': {'expected_columns': ['uf', 'sum', 'mean', 'median', 'std'], 'missing_columns': [], 'possible_matches': {}, 'provided_columns': ['uf', 'sum', 'mean', 'median', 'std'], 'unexpected_columns': []}, 'verified_samples': [{'expected_values': {'sum': 45094866}, 'filter': {'uf': 'SP'}}, {'expected_values': {'sum': 16718956}, 'filter': {'uf': 'RJ'}}]}\n"
          ]
        }
      ],
      "source": [
        "validate(prompt91, \"A9-E1\")"
      ]
    },
    {
      "cell_type": "markdown",
      "metadata": {
        "id": "T8bUoRlHS5a3"
      },
      "source": [
        "### 9.2 Escreva um prompt de uma função python para carregar os dados do dataset do Titanic e realizar as operações ilustradas na tabela a seguir.\n",
        "#### **Dica:** Soma e mediana, e ```reset_index()```\n",
        "\n",
        "#### Entrada: ```'https://github.com/alexlopespereira/mba_enap/raw/main/data/originais/titanic/titanic.xls'```\n",
        "\n",
        "\n",
        "### Resultado esperado: um dataframe igual a esse\n",
        "\n",
        "\n",
        "|    |   pclass | sex    |   survived |   fare |\n",
        "|---:|---------:|:-------|-----------:|-------:|\n",
        "|  0 |        1 | female |        139 |   80.9 |\n",
        "|  1 |        1 | male   |         61 |   49.5 |\n",
        "|  2 |        2 | female |         94 |   23   |\n",
        "|  3 |        2 | male   |         25 |   13   |\n",
        "|  4 |        3 | female |        106 |   10.5 |\n",
        "|  5 |        3 | male   |         75 |    7.9 |\n"
      ]
    },
    {
      "cell_type": "code",
      "execution_count": null,
      "metadata": {
        "id": "4qfUCCbhXkMe"
      },
      "outputs": [],
      "source": [
        "d9_2_1 = 'https://github.com/alexlopespereira/mba_enap/raw/main/data/originais/titanic/titanic.xls'"
      ]
    },
    {
      "cell_type": "code",
      "source": [
        "##### Faça Seus testes ###\n"
      ],
      "metadata": {
        "id": "26lGt8NOkSJn"
      },
      "execution_count": null,
      "outputs": []
    },
    {
      "cell_type": "code",
      "execution_count": 8,
      "metadata": {
        "id": "EKq0uHezeU1X"
      },
      "outputs": [],
      "source": [
        "prompt92 = \"\"\"import pandas as pd\n",
        "\n",
        "def analisar_dados_titanic(url):\n",
        "\n",
        "    # Carregar os dados\n",
        "    df = pd.read_excel(url)\n",
        "\n",
        "    # Agrupar por pclass e sex, calcular a soma de survived e a mediana de fare\n",
        "    resultado = df.groupby(['pclass', 'sex']).agg({\n",
        "        'survived': 'sum',\n",
        "        'fare': 'median'\n",
        "    }).reset_index()\n",
        "\n",
        "    # Ordenar o resultado por pclass e sex\n",
        "    resultado = resultado.sort_values(['pclass', 'sex'])\n",
        "\n",
        "    # Arredondar os valores de fare para uma casa decimal\n",
        "    resultado['fare'] = resultado['fare'].round(1)\n",
        "\n",
        "    return resultado\n",
        "\"\"\""
      ]
    },
    {
      "cell_type": "code",
      "execution_count": 9,
      "metadata": {
        "id": "K2voYQypeEaD",
        "outputId": "185de987-8953-4543-bb04-9620277ed906",
        "colab": {
          "base_uri": "https://localhost:8080/"
        }
      },
      "outputs": [
        {
          "output_type": "stream",
          "name": "stdout",
          "text": [
            "Codigo gerado: \n",
            "def analisar_dados_titanic(url):\n",
            "    df = pd.read_excel(url)\n",
            "    resultado = df.groupby(['pclass', 'sex']).agg({\n",
            "        'survived': 'sum',\n",
            "        'fare': 'median'\n",
            "    }).reset_index()\n",
            "    resultado = resultado.sort_values(['pclass', 'sex'])\n",
            "    resultado['fare'] = resultado['fare'].round(1)\n",
            "    return resultado\n",
            "\n",
            "✅ Passed the Test Case!\n",
            "  Expected: {'data': {'aggregation_checks': {'sum': {'fare': 184.8, 'pclass': 12.0, 'survived': 500.0}, 'total_rows': {'max': 6, 'min': 6}}, 'columns': ['pclass', 'sex', 'survived', 'fare'], 'dtypes': {'fare': 'float64', 'pclass': 'int64', 'sex': 'object', 'survived': 'int64'}, 'sample_rows': [{'expected_values': {'survived': 139}, 'filter': {'pclass': 1, 'sex': 'female'}}, {'expected_values': {'survived': 75}, 'filter': {'pclass': 3, 'sex': 'male'}}]}, 'type': 'dataframe', 'validation_rules': {'round_decimals': 1, 'row_match_threshold': 0.9, 'tolerance': 3}}\n",
            "  Delivered: {'aggregation_summary': {'sums': {'fare': 184.8, 'pclass': 12.0, 'survived': 500.0}, 'total_rows': {'max': 6, 'min': 6}}, 'column_analysis': {'expected_columns': ['pclass', 'sex', 'survived', 'fare'], 'missing_columns': [], 'possible_matches': {}, 'provided_columns': ['pclass', 'sex', 'survived', 'fare'], 'unexpected_columns': []}, 'verified_samples': [{'expected_values': {'survived': 139}, 'filter': {'pclass': 1, 'sex': 'female'}}, {'expected_values': {'survived': 75}, 'filter': {'pclass': 3, 'sex': 'male'}}]}\n"
          ]
        }
      ],
      "source": [
        "validate(prompt92, \"A9-E2\")"
      ]
    },
    {
      "cell_type": "markdown",
      "metadata": {
        "id": "o65FxFrYOwBF"
      },
      "source": [
        "### 9.3 Escreva uma função para realizar o agrupamento do dataset de mortalidade por UF, codigo ibge e nome do município aplicando a soma sobre as colunas Valor_total, Internações e Dias_permanência. Em seguida calcule, para todos os municípios nesta agregação, o custo médio diário das internações com a fórmula abaixo. Retorne um dataframe com os top 5 municipios segundo o custo médio de internação.\n",
        "#### **Dica:** a uf são os 2 primeiros dígitos do codigo ibge. ```reset_index()```. custo_medio_diario_intern = Valor total /  Dias_permanência\n",
        "#### Entrada: ```'https://github.com/alexlopespereira/mba_enap/raw/refs/heads/main/data/originais/morbidade/consolidado/morbidade.csv'```\n",
        "\n",
        "\n",
        "#### Resultado esperado: um dataframe igual a esse\n",
        "\n",
        "\n",
        "|      |   uf |   cod_ibge6 | Município             |      Valor_total |   Internações |   Dias_permanência |   custo_medio_diario_intern |\n",
        "|-----:|-----:|------------:|:----------------------|-----------------:|--------------:|-------------------:|----------------------------:|\n",
        "| 3967 |   41 |      410400 | Campina Grande do Sul |      3.32947e+07 |          7037 |              29277 |                      1137.2 |\n",
        "| 3864 |   35 |      355365 | Taquaral              | 382405           |           152 |                465 |                       822.4 |\n",
        "| 3685 |   35 |      353715 | Pedrinhas Paulista    | 769964           |           188 |               1004 |                       766.9 |\n",
        "| 3205 |   33 |      330205 | Italva                |      2.39501e+06 |           585 |               3160 |                       757.9 |\n",
        "| 3193 |   33 |      330115 | Cardoso Moreira       |      2.80194e+06 |           740 |               3840 |                       729.7 |"
      ]
    },
    {
      "cell_type": "code",
      "execution_count": null,
      "metadata": {
        "id": "zTC6RbuhXkMm"
      },
      "outputs": [],
      "source": [
        "d9_3_1 = 'https://github.com/alexlopespereira/mba_enap/raw/refs/heads/main/data/originais/morbidade/consolidado/morbidade.csv'"
      ]
    },
    {
      "cell_type": "code",
      "source": [
        "##### Faça Seus testes ###\n"
      ],
      "metadata": {
        "id": "6h0DK42gkVBm"
      },
      "execution_count": null,
      "outputs": []
    },
    {
      "cell_type": "code",
      "execution_count": 15,
      "metadata": {
        "id": "MeYiPepMecVb"
      },
      "outputs": [],
      "source": [
        "prompt93 = \"\"\"import pandas as pd\n",
        "\n",
        "def analisar_mortalidade(url):\n",
        "\n",
        "    # Carregar dados com tratamento adequado\n",
        "    df = pd.read_csv(\n",
        "        url,\n",
        "        sep=';',\n",
        "        decimal=',',\n",
        "        na_values=['N/A', 'NA', 'NaN', ''],\n",
        "        dtype={'cod_ibge6': str}\n",
        "    )\n",
        "\n",
        "    # Extrair UF corretamente\n",
        "    df['uf'] = df['cod_ibge6'].str[:2]\n",
        "\n",
        "    # Converter colunas numéricas explicitamente\n",
        "    numeric_cols = ['Valor_total', 'Internações', 'Dias_permanência']\n",
        "    df[numeric_cols] = df[numeric_cols].apply(pd.to_numeric, errors='coerce')\n",
        "\n",
        "    # Agregação com tratamento de valores nulos\n",
        "    grouped = df.groupby(['uf', 'cod_ibge6', 'Município'], dropna=False).agg({\n",
        "        'Valor_total': 'sum',\n",
        "        'Internações': 'sum',\n",
        "        'Dias_permanência': 'sum'\n",
        "    }).reset_index()\n",
        "\n",
        "    # Cálculo seguro do custo médio com tratamento de divisão por zero\n",
        "    grouped['custo_medio_diario_intern'] = (\n",
        "        grouped['Valor_total'] / grouped['Dias_permanência'].replace(0, pd.NA)\n",
        "    ).round(1)\n",
        "\n",
        "    # Converter colunas para tipos adequados\n",
        "    int_cols = ['Valor_total', 'Internações', 'Dias_permanência']\n",
        "    grouped[int_cols] = grouped[int_cols].astype('int64')\n",
        "\n",
        "    # Ordenação e seleção final\n",
        "    return (\n",
        "        grouped.sort_values('custo_medio_diario_intern', ascending=False)\n",
        "              .head(5)\n",
        "              .reset_index(drop=True)\n",
        "    )\n",
        "\n",
        "\n",
        "\"\"\""
      ]
    },
    {
      "cell_type": "code",
      "execution_count": 16,
      "metadata": {
        "id": "dRJiOiGZeGFd",
        "outputId": "10b6b74e-0233-4cfb-9dca-8afe130e3b41",
        "colab": {
          "base_uri": "https://localhost:8080/"
        }
      },
      "outputs": [
        {
          "output_type": "stream",
          "name": "stdout",
          "text": [
            "Codigo gerado: \n",
            "def analisar_mortalidade(url):\n",
            "    df = pd.read_csv(\n",
            "        url,\n",
            "        sep=';',\n",
            "        decimal=',',\n",
            "        na_values=['N/A', 'NA', 'NaN', ''],\n",
            "        dtype={'cod_ibge6': str}\n",
            "    )\n",
            "    \n",
            "    df['uf'] = df['cod_ibge6'].str[:2]\n",
            "    \n",
            "    numeric_cols = ['Valor_total', 'Internações', 'Dias_permanência']\n",
            "    df[numeric_cols] = df[numeric_cols].apply(pd.to_numeric, errors='coerce')\n",
            "    \n",
            "    grouped = df.groupby(['uf', 'cod_ibge6', 'Município'], dropna=False).agg({\n",
            "        'Valor_total': 'sum',\n",
            "        'Internações': 'sum',\n",
            "        'Dias_permanência': 'sum'\n",
            "    }).reset_index()\n",
            "    \n",
            "    grouped['custo_medio_diario_intern'] = (\n",
            "        grouped['Valor_total'] / grouped['Dias_permanência'].replace(0, pd.NA)\n",
            "    ).round(1)\n",
            "    \n",
            "    int_cols = ['Valor_total', 'Internações', 'Dias_permanência']\n",
            "    grouped[int_cols] = grouped[int_cols].astype('int64')\n",
            "    \n",
            "    return (\n",
            "        grouped.sort_values('custo_medio_diario_intern', ascending=False)\n",
            "              .head(5)\n",
            "              .reset_index(drop=True)\n",
            "    )\n",
            "\n",
            "✅ Passed the Test Case!\n",
            "  Expected: {'data': {'aggregation_checks': {'sum': {'Dias_permanência': 37746, 'Internações': 8702, 'Valor_total': 39644021, 'custo_medio_diario_intern': 4214}, 'total_rows': {'max': 5, 'min': 5}}, 'columns': ['uf', 'cod_ibge6', 'Município', 'Valor_total', 'Internações', 'Dias_permanência', 'custo_medio_diario_intern'], 'dtypes': {'Município': 'object', 'cod_ibge6': 'object', 'custo_medio_diario_intern': 'float64', 'uf': 'object'}, 'sample_rows': [{'expected_values': {'custo_medio_diario_intern': 1137.2}, 'filter': {'cod_ibge6': '410400'}}, {'expected_values': {'custo_medio_diario_intern': 729.7}, 'filter': {'cod_ibge6': '330115'}}]}, 'type': 'dataframe', 'validation_rules': {'round_decimals': 1, 'row_match_threshold': 1.5, 'tolerance': 3}}\n",
            "  Delivered: {'aggregation_summary': {'sums': {'Dias_permanência': 37746, 'Internações': 8702, 'Valor_total': 39644021, 'custo_medio_diario_intern': 4214}, 'total_rows': {'max': 5, 'min': 5}}, 'column_analysis': {'expected_columns': ['uf', 'cod_ibge6', 'Município', 'Valor_total', 'Internações', 'Dias_permanência', 'custo_medio_diario_intern'], 'missing_columns': [], 'possible_matches': {}, 'provided_columns': ['uf', 'cod_ibge6', 'Município', 'Valor_total', 'Internações', 'Dias_permanência', 'custo_medio_diario_intern'], 'unexpected_columns': []}, 'verified_samples': [{'expected_values': {'custo_medio_diario_intern': 1137.2}, 'filter': {'cod_ibge6': '410400'}}, {'expected_values': {'custo_medio_diario_intern': 729.7}, 'filter': {'cod_ibge6': '330115'}}]}\n"
          ]
        }
      ],
      "source": [
        "validate(prompt93, \"A9-E3\")"
      ]
    },
    {
      "cell_type": "markdown",
      "metadata": {
        "id": "gwC_H_9dOwBI"
      },
      "source": [
        "### 9.4 Crie um prompt de uma função python para retornar a soma do Valor_total dos 5 municípios (do exercício anterior) do dataset de Mortalidade (ao longo do período representado no dataset disponibilizado).\n",
        "\n",
        "#### Entradas: ```'https://github.com/alexlopespereira/mba_enap/raw/refs/heads/main/data/originais/morbidade/consolidado/morbidade.csv'``` e ```[\"410400\", \"330115\", \"330205\", \"353715\", \"355365\"]```\n",
        "\n",
        "#### Resultado esperado: um dataframe igual a esse\n",
        "|    | Município             |      Valor_total |\n",
        "|---:|:----------------------|-----------------:|\n",
        "|  0 | Campina Grande do Sul |      33294700.7 |\n",
        "|  1 | Cardoso Moreira       |      2801938.8 |\n",
        "|  2 | Italva                |      2395014.9 |\n",
        "|  3 | Pedrinhas Paulista    | 769964.0           |\n",
        "|  4 | Taquaral              | 382405.0           |\n",
        "\n"
      ]
    },
    {
      "cell_type": "code",
      "execution_count": null,
      "metadata": {
        "id": "GcLNkx4XXkMp"
      },
      "outputs": [],
      "source": [
        "d9_4_1 = 'https://github.com/alexlopespereira/mba_enap/raw/refs/heads/main/data/originais/morbidade/consolidado/morbidade.csv'\n",
        "d9_4_2 = [\"410400\", \"330115\", \"330205\", \"353715\", \"355365\"]"
      ]
    },
    {
      "cell_type": "code",
      "source": [
        "##### Faça Seus testes ###\n"
      ],
      "metadata": {
        "id": "EP7LdUizkV_5"
      },
      "execution_count": null,
      "outputs": []
    },
    {
      "cell_type": "code",
      "execution_count": 19,
      "metadata": {
        "id": "xi6OzCcqepnc"
      },
      "outputs": [],
      "source": [
        "prompt94 = \"\"\"import pandas as pd\n",
        "\n",
        "def calcular_total_municipios(url: str, codigos: list) -> pd.DataFrame:\n",
        "\n",
        "    # Carregar dados com tratamento completo\n",
        "    df = pd.read_csv(\n",
        "        url,\n",
        "        sep=';',\n",
        "        decimal=',',\n",
        "        dtype={'cod_ibge6': str},\n",
        "        converters={'Valor_total': lambda x: float(x.replace('.', '').replace(',', '.'))},\n",
        "        na_values=['N/A', 'NA', 'NaN', '']\n",
        "    )\n",
        "\n",
        "    # Criar coluna uf conforme especificação\n",
        "    df['uf'] = df['cod_ibge6'].str[:2]\n",
        "\n",
        "    # Filtrar e processar dados\n",
        "    resultado = (\n",
        "        df[df['cod_ibge6'].isin(codigos)]\n",
        "        .groupby(['uf', 'cod_ibge6', 'Município'], as_index=False)\n",
        "        .agg(Valor_total=('Valor_total', 'sum'))\n",
        "    )\n",
        "\n",
        "    # Formatar valores e estrutura final\n",
        "    resultado = (\n",
        "        resultado\n",
        "        .assign(Valor_total=lambda x: x['Valor_total'].round(0).astype(int))\n",
        "        .sort_values('Valor_total', ascending=False)\n",
        "        .loc[:, ['Município', 'Valor_total']]\n",
        "        .reset_index(drop=True)\n",
        "    )\n",
        "\n",
        "    return resultado\n",
        "\n",
        "\"\"\""
      ]
    },
    {
      "cell_type": "code",
      "execution_count": 20,
      "metadata": {
        "id": "zX0QjdxdeITJ",
        "outputId": "8f7cfec9-e17b-44ed-9c9a-28ee84b1dbaf",
        "colab": {
          "base_uri": "https://localhost:8080/"
        }
      },
      "outputs": [
        {
          "output_type": "stream",
          "name": "stdout",
          "text": [
            "Codigo gerado: \n",
            "def calcular_total_municipios(url: str, codigos: list) -> pd.DataFrame:\n",
            "\n",
            "    df = pd.read_csv(\n",
            "        url,\n",
            "        sep=';',\n",
            "        decimal=',',\n",
            "        dtype={'cod_ibge6': str},\n",
            "        converters={'Valor_total': lambda x: float(x.replace('.', '').replace(',', '.'))},\n",
            "        na_values=['N/A', 'NA', 'NaN', '']\n",
            "    )\n",
            "    \n",
            "    df['uf'] = df['cod_ibge6'].str[:2]\n",
            "\n",
            "    resultado = (\n",
            "        df[df['cod_ibge6'].isin(codigos)]\n",
            "        .groupby(['uf', 'cod_ibge6', 'Município'], as_index=False)\n",
            "        .agg(Valor_total=('Valor_total', 'sum'))\n",
            "    )\n",
            "\n",
            "    resultado = (\n",
            "        resultado\n",
            "        .assign(Valor_total=lambda x: x['Valor_total'].round(0).astype(int))\n",
            "        .sort_values('Valor_total', ascending=False)\n",
            "        .loc[:, ['Município', 'Valor_total']]\n",
            "        .reset_index(drop=True)\n",
            "    )\n",
            "\n",
            "    return resultado\n",
            "\n",
            "✅ Passed the Test Case!\n",
            "  Expected: {'data': {'aggregation_checks': {'sum': {'Valor_total': 39644024}, 'total_rows': {'max': 5, 'min': 5}}, 'columns': ['Município', 'Valor_total'], 'dtypes': {'Município': 'object'}, 'sample_rows': [{'expected_values': {'Valor_total': 33294701}, 'filter': {'Município': 'Campina Grande do Sul'}}, {'expected_values': {'Valor_total': 382405}, 'filter': {'Município': 'Taquaral'}}]}, 'type': 'dataframe', 'validation_rules': {'round_decimals': 1, 'row_match_threshold': 1.5, 'tolerance': 3}}\n",
            "  Delivered: {'aggregation_summary': {'sums': {'Valor_total': 39644024}, 'total_rows': {'max': 5, 'min': 5}}, 'column_analysis': {'expected_columns': ['Município', 'Valor_total'], 'missing_columns': [], 'possible_matches': {}, 'provided_columns': ['Município', 'Valor_total'], 'unexpected_columns': []}, 'verified_samples': [{'expected_values': {'Valor_total': 33294701}, 'filter': {'Município': 'Campina Grande do Sul'}}, {'expected_values': {'Valor_total': 382405}, 'filter': {'Município': 'Taquaral'}}]}\n"
          ]
        }
      ],
      "source": [
        "validate(prompt94, \"A9-E4\")"
      ]
    },
    {
      "cell_type": "markdown",
      "metadata": {
        "id": "9cTqrAw0IXaY"
      },
      "source": [
        "### Exercício de Reflexão (Facultativo)\n",
        "#### Você aprendeu alguma coisa que pode ser reaproveitado em outros problemas?\n",
        "#### Como você pode melhorar seu processo de elaboração de requisitos / prompts?\n",
        "#### Você notou ambiguidade na sua especificação inicial?"
      ]
    },
    {
      "cell_type": "code",
      "execution_count": 21,
      "metadata": {
        "id": "Y9yjEmHV2nKi"
      },
      "outputs": [],
      "source": [
        "resposta=\"\"\"**Lições Aprendidas e Aplicabilidade**\n",
        "O desenvolvimento dessa solução trouxe insights valiosos para problemas de análise de dados no contexto brasileiro. A criação de um **padrão para tratamento de dados governamentais** mostrou-se fundamental, especialmente ao lidar com formatos numéricos locais (como vírgula decimal). A técnica de conversão monetária desenvolvida pode ser reutilizada em qualquer projeto que envolva dados socioeconômicos do Brasil, economizando tempo e reduzindo erros em futuras análises.\n",
        "\n",
        "**Melhoria no Processo de Elaboração de Requisitos**\n",
        "A experiência destacou a importância de um **checklist detalhado** para especificações técnicas. Criar um protocolo que inclua validação de nomes de colunas, regras explícitas de arredondamento e tratamento de valores ausentes ajuda a prevenir 80% dos erros comuns. Adotar a prática de sempre solicitar **exemplos completos de entrada/saída** tornou-se crucial para identificar ambiguidades antes da implementação.\n",
        "\n",
        "**Ambiguidades Identificadas**\n",
        "O exercício revelou três áreas críticas que demandam esclarecimento sistemático:\n",
        "1. **Contexto temporal**: Dados anuais vs consolidados\n",
        "2. **Unidades de medida**: Escalas monetárias (milhares vs unidades)\n",
        "3. **Critérios de substituição**: Tratamento de zeros vs dados faltantes\n",
        "\n",
        "**Conclusão Estratégica**\n",
        "A combinação de **documentação precisa**, **tipagem rigorosa de dados** e **arquitetura modular** mostrou-se essencial para construir soluções confiáveis. Esses princípios permitem a criação de ferramentas analíticas adaptáveis a diferentes contextos da administração pública, desde políticas de saúde até gestão orçamentária, garantindo consistência e reprodutibilidade nas análises de impacto social.\"\"\""
      ]
    },
    {
      "cell_type": "code",
      "execution_count": 22,
      "metadata": {
        "id": "yLXjtjQaK6V1",
        "outputId": "314db467-46e6-47c3-8c4e-8c48132ecffb",
        "colab": {
          "base_uri": "https://localhost:8080/"
        }
      },
      "outputs": [
        {
          "output_type": "stream",
          "name": "stdout",
          "text": [
            "Chatgpt graded your answer as: True\n",
            "Chatgpt feedback was: The reflection demonstrates a good depth of understanding and addresses specific concepts related to data processing and requirements elaboration, showing a clear connection between learned principles and their applicability. The mention of a checklist and detailed documentation illustrates personal insights into improving outcomes. Moreover, the focus on Brazilian data treatment and specific challenges adds originality, distinct from previous reflections, while maintaining a coherent structure.\n"
          ]
        }
      ],
      "source": [
        "validate(resposta, \"A9-R1\")"
      ]
    },
    {
      "cell_type": "code",
      "execution_count": null,
      "metadata": {
        "id": "GQ9hcuF9MfJR"
      },
      "outputs": [],
      "source": []
    }
  ],
  "metadata": {
    "celltoolbar": "Create Assignment",
    "colab": {
      "provenance": [],
      "include_colab_link": true
    },
    "kernelspec": {
      "display_name": "Python 3",
      "language": "python",
      "name": "python3"
    },
    "language_info": {
      "codemirror_mode": {
        "name": "ipython",
        "version": 3
      },
      "file_extension": ".py",
      "mimetype": "text/x-python",
      "name": "python",
      "nbconvert_exporter": "python",
      "pygments_lexer": "ipython3",
      "version": "3.8.3"
    },
    "name": "_merged",
    "varInspector": {
      "cols": {
        "lenName": 16,
        "lenType": 16,
        "lenVar": 40
      },
      "kernels_config": {
        "python": {
          "delete_cmd_postfix": "",
          "delete_cmd_prefix": "del ",
          "library": "var_list.py",
          "varRefreshCmd": "print(var_dic_list())"
        },
        "r": {
          "delete_cmd_postfix": ") ",
          "delete_cmd_prefix": "rm(",
          "library": "var_list.r",
          "varRefreshCmd": "cat(var_dic_list()) "
        }
      },
      "types_to_exclude": [
        "module",
        "function",
        "builtin_function_or_method",
        "instance",
        "_Feature"
      ],
      "window_display": false
    }
  },
  "nbformat": 4,
  "nbformat_minor": 0
}