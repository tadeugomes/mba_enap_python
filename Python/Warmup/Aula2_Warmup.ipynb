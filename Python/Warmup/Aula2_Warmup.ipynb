{
  "nbformat": 4,
  "nbformat_minor": 0,
  "metadata": {
    "kernelspec": {
      "display_name": "Python 3",
      "language": "python",
      "name": "python3"
    },
    "language_info": {
      "codemirror_mode": {
        "name": "ipython",
        "version": 3
      },
      "file_extension": ".py",
      "mimetype": "text/x-python",
      "name": "python",
      "nbconvert_exporter": "python",
      "pygments_lexer": "ipython3",
      "version": "3.8.3"
    },
    "colab": {
      "provenance": [],
      "include_colab_link": true
    }
  },
  "cells": [
    {
      "cell_type": "markdown",
      "metadata": {
        "id": "view-in-github",
        "colab_type": "text"
      },
      "source": [
        "<a href=\"https://colab.research.google.com/github/alexlopespereira/mba_enap/blob/main/Exercicios/Aula2_Warmup.ipynb\" target=\"_parent\"><img src=\"https://colab.research.google.com/assets/colab-badge.svg\" alt=\"Open In Colab\"/></a>"
      ]
    },
    {
      "cell_type": "markdown",
      "metadata": {
        "id": "q7VgzPPOy-4O"
      },
      "source": [
        "# Aula 2 - Warmup de sintaxe da linguagem Python"
      ]
    },
    {
      "cell_type": "markdown",
      "metadata": {
        "id": "FiyR9IcDy-4n"
      },
      "source": [
        "### Treinando sentenças com if e else"
      ]
    },
    {
      "cell_type": "markdown",
      "metadata": {
        "id": "rk_BPq-ry-4s"
      },
      "source": [
        "#### W2.0 Traduza o seguinte pseudo-código para a linguagem python"
      ]
    },
    {
      "cell_type": "code",
      "metadata": {
        "id": "Bp9UzRpKy-4v"
      },
      "source": [
        "# se 17*17 > 400 entao\n",
        "#    imprima o texto \"Condição verdadeira\"\n",
        "# se não\n",
        "#    imprima o texto \"Condição falsa\""
      ],
      "execution_count": null,
      "outputs": []
    },
    {
      "cell_type": "code",
      "metadata": {
        "id": "9rW-aF_py-4z",
        "outputId": "6ecfb5ad-6bd4-446f-d23b-b2a5c94d441d",
        "colab": {
          "base_uri": "https://localhost:8080/"
        }
      },
      "source": [
        "# Faça aqui\n",
        "print(3)"
      ],
      "execution_count": null,
      "outputs": [
        {
          "output_type": "stream",
          "text": [
            "3\n"
          ],
          "name": "stdout"
        }
      ]
    },
    {
      "cell_type": "markdown",
      "metadata": {
        "id": "dCkJeYw3y-41"
      },
      "source": [
        "### Importando modulos python"
      ]
    },
    {
      "cell_type": "markdown",
      "metadata": {
        "id": "BbSWEo4By-45"
      },
      "source": [
        "#### O arquivo matematica.py está no diretório ./modulos/operacoes.\n",
        "#### O caracter . (precedendo a barra no caminho ./modulos) refere-se ao diretorio atual\n",
        "#### Visualize o conteúdo deste arquivo executando a proxima célula. O caractere ! faz o jupyter executar um comando no console. O comando cat mostra o conteúdo de um arquivo.\n",
        "\n"
      ]
    },
    {
      "cell_type": "code",
      "metadata": {
        "scrolled": true,
        "id": "SK0cG81my-46"
      },
      "source": [
        "!cat ./modulos/operacoes/matematica.py"
      ],
      "execution_count": null,
      "outputs": []
    },
    {
      "cell_type": "markdown",
      "metadata": {
        "id": "gO6W9Vc0y-47"
      },
      "source": [
        "#### W2.1 Importe a função soma que está no modulo matematica.py e imprima o resultado da soma de 10 e 20. O calculo deve ser realizado utilizando a funcao soma que está no arquivo matematica.py\n",
        "\n"
      ]
    },
    {
      "cell_type": "code",
      "metadata": {
        "id": "Da1oIXady-48"
      },
      "source": [
        "# Faça aqui\n"
      ],
      "execution_count": null,
      "outputs": []
    },
    {
      "cell_type": "markdown",
      "metadata": {
        "id": "LI5SEiQqy-49"
      },
      "source": [
        "### Treinando conversão de Tipos\n",
        "#### W2.2 Converta as seguintes variáveis para inteiro e realize as operações solicitadas a seguir."
      ]
    },
    {
      "cell_type": "code",
      "metadata": {
        "id": "9vEx9pXjy-4-"
      },
      "source": [
        "a = \"5\"\n",
        "b = \"6\"\n"
      ],
      "execution_count": null,
      "outputs": []
    },
    {
      "cell_type": "code",
      "metadata": {
        "id": "cLRdRl79y-4-"
      },
      "source": [
        "# Multiplique os dois numeros que você converteu para inteiros na célula acima\n"
      ],
      "execution_count": null,
      "outputs": []
    },
    {
      "cell_type": "code",
      "metadata": {
        "id": "9vE79S67y-4_"
      },
      "source": [
        "# Converta a soma da célula acima para float\n"
      ],
      "execution_count": null,
      "outputs": []
    },
    {
      "cell_type": "markdown",
      "metadata": {
        "id": "Gf3swW4ey-4_"
      },
      "source": [
        "### Treinando Laços (loops) do tipo while"
      ]
    },
    {
      "cell_type": "code",
      "metadata": {
        "id": "gPE9_wGUy-4_"
      },
      "source": [
        "# Considere a lista a a seguir:\n",
        "lista_str = [\"234sewerawe\", \"abasdreera\", \"rtydeaera\", \"agwdeaer\", \"nsedert\",\n",
        "         \"ab23ea\", \"qycde\", \"ajyd\", \"akm\", \"wb\", \"r\"]"
      ],
      "execution_count": null,
      "outputs": []
    },
    {
      "cell_type": "markdown",
      "metadata": {
        "id": "eCw99pSMy-5B"
      },
      "source": [
        "#### W2.3 Usando um laço do tipo while, percorra a lista_str acima deixando as strings em maiúsculo desde o primeiro até o 4o elemento desta lista (ou seja, elemento de índice 3).\n"
      ]
    },
    {
      "cell_type": "code",
      "metadata": {
        "id": "5svxwNuIy-5B"
      },
      "source": [
        "# Faça aqui\n"
      ],
      "execution_count": null,
      "outputs": []
    },
    {
      "cell_type": "markdown",
      "metadata": {
        "id": "FGF6YM-qy-5D"
      },
      "source": [
        "#### W2.4 Usando um laço do tipo while, percorra a lista_str acima excluindo os elementos da lista que terminam com vogal\n",
        "#### Dica: teste se um caracter é uma vogal assim: charac in [\"a\", \"b\", \"c\", \"d\", \"e\"]\n",
        "\n"
      ]
    },
    {
      "cell_type": "code",
      "metadata": {
        "id": "0ZK5pQHWy-5D"
      },
      "source": [
        "# Faça aqui\n"
      ],
      "execution_count": null,
      "outputs": []
    },
    {
      "cell_type": "markdown",
      "metadata": {
        "id": "bYrmD_Ixy-5D"
      },
      "source": [
        "#### W2.5 Usando um laço do tipo while, percorra a lista_str acima excluindo os elementos da lista que não terminam com vogal\n",
        "#### Dica: teste se um caracter é uma vogal assim: charac in [\"a\", \"b\", \"c\", \"d\", \"e\"]\n",
        "\n"
      ]
    },
    {
      "cell_type": "code",
      "metadata": {
        "id": "n2S9XAJGy-5E"
      },
      "source": [
        "# Faça aqui\n"
      ],
      "execution_count": null,
      "outputs": []
    },
    {
      "cell_type": "markdown",
      "metadata": {
        "id": "HP69kk2Ly-5E"
      },
      "source": [
        "### Treinando Laços (loops) do tipo for"
      ]
    },
    {
      "cell_type": "code",
      "metadata": {
        "id": "L4JB4c_uy-5F"
      },
      "source": [
        "# Considere a lista a a seguir:\n",
        "lista_str = [\"234sewerawe\", \"abasdreera\", \"rtydeaera\", \"agwdeaer\", \"nsedert\",\n",
        "         \"ab23ea\", \"qycde\", \"ajyd\", \"akm\", \"wb\", \"r\"]"
      ],
      "execution_count": null,
      "outputs": []
    },
    {
      "cell_type": "markdown",
      "metadata": {
        "id": "d_AExFvWy-5F"
      },
      "source": [
        "#### W2.6 Repita o exercício W1.3 mas dessa vez usando um laço do tipo for\n",
        "\n"
      ]
    },
    {
      "cell_type": "code",
      "metadata": {
        "id": "kXk3jeSny-5F"
      },
      "source": [
        "# Faça aqui\n"
      ],
      "execution_count": null,
      "outputs": []
    },
    {
      "cell_type": "markdown",
      "metadata": {
        "id": "l-L5Jdhvy-5G"
      },
      "source": [
        "#### W2.7 Repita o exercício W1.4 mas dessa vez usando um laço do tipo for\n",
        "\n"
      ]
    },
    {
      "cell_type": "code",
      "metadata": {
        "id": "gWgePX4ty-5H"
      },
      "source": [
        "# Faça aqui\n"
      ],
      "execution_count": null,
      "outputs": []
    },
    {
      "cell_type": "markdown",
      "metadata": {
        "id": "JDWdbHP1y-5H"
      },
      "source": [
        "#### W2.8 Repita o exercício W1.5 mas dessa vez usando um laço do tipo for\n",
        "\n"
      ]
    },
    {
      "cell_type": "code",
      "metadata": {
        "id": "BFHdELmLy-5H"
      },
      "source": [
        "# Faça aqui\n"
      ],
      "execution_count": null,
      "outputs": []
    },
    {
      "cell_type": "markdown",
      "metadata": {
        "id": "rlzPPeGEy-5J"
      },
      "source": [
        "### Formando uma string"
      ]
    },
    {
      "cell_type": "markdown",
      "metadata": {
        "id": "Nbj0Rm9ey-5K"
      },
      "source": [
        "#### W2.9 Crie uma string genérica (parametrizável) que seja capaz de gerar a string apresentada abaixo"
      ]
    },
    {
      "cell_type": "code",
      "metadata": {
        "id": "2AhgGPwdy-5S"
      },
      "source": [
        "# Crie uma string parametrizável que atenda este exemplo: # \"a=6, b=9, a+b=15, a*b=54\"\n",
        "\n",
        "# Aplique a parametrização para os valores:\n",
        "# a=100 e b=80\n",
        "\n",
        "\n",
        "# a=700 e b=860\n"
      ],
      "execution_count": null,
      "outputs": []
    },
    {
      "cell_type": "markdown",
      "metadata": {
        "id": "DVQdlIoUy-5U"
      },
      "source": [
        "# Estrutura de Dados em Python"
      ]
    },
    {
      "cell_type": "markdown",
      "metadata": {
        "id": "nPdrbtoay-5i"
      },
      "source": [
        "### Treinando conceitos sobre listas em python"
      ]
    },
    {
      "cell_type": "markdown",
      "metadata": {
        "id": "U7XbR5IJy-5i"
      },
      "source": [
        "#### W2.10 Crie as listas solicitadas a seguir"
      ]
    },
    {
      "cell_type": "code",
      "metadata": {
        "id": "6zOjKbUAy-5j"
      },
      "source": [
        "# 1) Crie uma lista de números inteiros\n",
        "\n",
        "# 2) Crie uma lista de booleanos\n",
        "\n",
        "# 3) Crie uma lista de strings\n",
        "\n",
        "\n",
        "\n"
      ],
      "execution_count": null,
      "outputs": []
    },
    {
      "cell_type": "markdown",
      "metadata": {
        "id": "2mHBb_wvy-5j"
      },
      "source": [
        "### Slicing (fatiar)\n",
        "#### W2.11 Selecione os elementos da lista5 especificados a seguir"
      ]
    },
    {
      "cell_type": "code",
      "metadata": {
        "id": "YvKyMZsTy-5j"
      },
      "source": [
        "# Considere a seguinte lista\n",
        "lista5 = [\"awerr\", \"aa\", \"sssaere\", False, True, None, 9., 0., 9., 104, 20, 1]\n",
        "# 1) Retorne o primeiro elemento da lista\n",
        "\n",
        "# 2) Retorne o último elemento da lista\n",
        "\n",
        "# 3) Retorne os 3 ultimos elementos da lista\n",
        "\n",
        "# 4) Retorne elementos espaçados a cada 3 elementos, a partir do índice 0\n",
        "\n",
        "# 5) Retorne a lista na ordem inversa\n",
        "\n"
      ],
      "execution_count": null,
      "outputs": []
    },
    {
      "cell_type": "markdown",
      "metadata": {
        "id": "l8jARCW2y-5j"
      },
      "source": [
        "#### W2.12 Faça um código python para encontrar os elementos de uma lista de strings cujo tamanho seja maior que 3 caracteres e os dois últimos sejam iguais."
      ]
    },
    {
      "cell_type": "code",
      "metadata": {
        "id": "iN4LtUFTy-5j"
      },
      "source": [
        "lista = [\"awerr\", \"aa\", \"awyt\", \"g\", \"sssaeee\"]\n",
        "# Faça aqui\n",
        "\n"
      ],
      "execution_count": null,
      "outputs": []
    },
    {
      "cell_type": "markdown",
      "metadata": {
        "id": "rW-SjV62y-5k"
      },
      "source": [
        "#### W2.13 Usando um loop do tipo for encontre a interseção entre duas listas"
      ]
    },
    {
      "cell_type": "code",
      "metadata": {
        "id": "lsXzHDGSy-5k"
      },
      "source": [
        "lista1 = [\"awerr\", \"aa\", \"awyt\", \"g\", \"sssaere\"]\n",
        "lista2 = [\"awerr\", \"aa\", \"sssaere\", \"aabb\", \"qwerttt\", \"12345\"]\n",
        "\n",
        "# Faça aqui\n",
        "\n"
      ],
      "execution_count": null,
      "outputs": []
    },
    {
      "cell_type": "markdown",
      "metadata": {
        "id": "fCqVODyyy-5k"
      },
      "source": [
        "#### W2.14 Usando um loop do tipo for encontre os elementos que estão na lista1 mas não estão na lista 2."
      ]
    },
    {
      "cell_type": "code",
      "metadata": {
        "id": "enhGjnNMy-5k"
      },
      "source": [
        "lista1 = [\"awerr\", \"aa\", \"awyt\", \"g\", \"sssaere\"]\n",
        "lista2 = [\"awerr\", \"aa\", \"sssaere\", \"aabb\", \"qwerttt\", \"12345\"]\n",
        "# Faça aqui\n",
        "\n"
      ],
      "execution_count": null,
      "outputs": []
    },
    {
      "cell_type": "markdown",
      "metadata": {
        "id": "xgylioAly-5l"
      },
      "source": [
        "#### W2.15 Usando um loop do tipo for encontre os elementos que não estão na intersecção das duas listas."
      ]
    },
    {
      "cell_type": "code",
      "metadata": {
        "id": "DBSCS6JQy-5l"
      },
      "source": [
        "lista1 = [\"awerr\", \"aa\", \"awyt\", \"g\", \"sssaere\"]\n",
        "lista2 = [\"awerr\", \"aa\", \"sssaere\", \"aabb\", \"qwerttt\", \"12345\"]\n",
        "# Faça aqui\n",
        "\n"
      ],
      "execution_count": null,
      "outputs": []
    },
    {
      "cell_type": "markdown",
      "metadata": {
        "id": "Z9uexNf5y-5l"
      },
      "source": [
        "#### W2.16 Crie código python para inverter a ordem de duas palavras que aparecem em frases do tipo: \"pera e banana\""
      ]
    },
    {
      "cell_type": "code",
      "metadata": {
        "id": "_5vTxn2ry-5m"
      },
      "source": [
        "# Exemplo: para a entrada \"pera e banana\", o resultado esperado é \"banana e pera\"\n",
        "frase = \"pera e banana\"\n",
        "\n",
        "\n"
      ],
      "execution_count": null,
      "outputs": []
    },
    {
      "cell_type": "markdown",
      "metadata": {
        "id": "-K4VrgHMy-5m"
      },
      "source": [
        "#### W2.17 Encontre a mediana de uma lista de numeros inteiros.\n",
        "#### Para calcular a mediana, ordene a lista e retorne o elemento do centro. Se a quantidade de elementos for par, retorne a média dos dois elementos do centro."
      ]
    },
    {
      "cell_type": "code",
      "metadata": {
        "id": "haJOlIMmy-5o"
      },
      "source": [
        "lista3 = [9, 0, 9, 8, 20, 4, 7, 6, 8, 22, 0, 50, 104, 20, 1]\n",
        "lista4 = [9, 0, 9, 8, 20, 4, 7, 6, 8, 22, 0, 50, 104, 20]\n",
        "# Calcule a mediana das listas lista3 e lista4\n"
      ],
      "execution_count": null,
      "outputs": []
    },
    {
      "cell_type": "markdown",
      "metadata": {
        "id": "RerOwTt1y-5r"
      },
      "source": [
        "### Treinando conceitos de dicionário (dict) em python"
      ]
    },
    {
      "cell_type": "markdown",
      "metadata": {
        "id": "XvHklg5ty-5s"
      },
      "source": [
        "#### W2.18 Criar um dicionário que represente o conteúdo da tabela abaixo"
      ]
    },
    {
      "cell_type": "markdown",
      "metadata": {
        "id": "p1sVWSRay-5t"
      },
      "source": [
        "| Nome       | Endereço     | Telefone     |\n",
        "| :------------- | :----------: | -----------: |\n",
        "|  Jose da Silva | Rua 2, n. 39   | 119865563    |"
      ]
    },
    {
      "cell_type": "code",
      "metadata": {
        "id": "qiuPXyVHy-5t"
      },
      "source": [
        "# Faça aqui\n"
      ],
      "execution_count": null,
      "outputs": []
    },
    {
      "cell_type": "markdown",
      "metadata": {
        "id": "JnrVY-hTy-5u"
      },
      "source": [
        "#### W2.19 Jose da Silva mudou seu número de telefone para 1187662330. Altere este valor no dicionário que você acabou de criar"
      ]
    },
    {
      "cell_type": "code",
      "metadata": {
        "id": "AhUVFeKGy-5u"
      },
      "source": [
        "# Faça aqui\n"
      ],
      "execution_count": null,
      "outputs": []
    },
    {
      "cell_type": "markdown",
      "metadata": {
        "id": "KLJJWM-5y-5u"
      },
      "source": [
        "#### W2.20 Crie um atributo CPF no dicionário da célula acima e adicione o CPF do Jose da Silva: 495.152.344-90"
      ]
    },
    {
      "cell_type": "code",
      "metadata": {
        "id": "zFRsZ6Ihy-5v"
      },
      "source": [
        "# Faça aqui\n"
      ],
      "execution_count": null,
      "outputs": []
    },
    {
      "cell_type": "markdown",
      "metadata": {
        "id": "YuVXIkSpy-5v"
      },
      "source": [
        "#### W2.21 Remova o atributo Endereço desse dicionário"
      ]
    },
    {
      "cell_type": "code",
      "metadata": {
        "id": "whlhXaq9y-5w"
      },
      "source": [
        "# Faça aqui\n"
      ],
      "execution_count": null,
      "outputs": []
    },
    {
      "cell_type": "markdown",
      "metadata": {
        "id": "whjim2wiy-5w"
      },
      "source": [
        "#### W2.22 Criar uma lista de dicionários que represente o conteúdo da tabela abaixo"
      ]
    },
    {
      "cell_type": "markdown",
      "metadata": {
        "id": "DvvKNinZy-5x"
      },
      "source": [
        "| Nome       | Endereço     | Telefone     | CPF |\n",
        "| :------------- | :----------: | -----------: | -----------: |\n",
        "|  Jose da Silva | Rua 2, n. 39   | 119865563    | 495.152.344-90\n",
        "|  Roberto da Araujo | Av 2, n. 2010   | 389912353    | 755.223.432-10\n",
        "|  Maria Almeida | Rua Jau, n. 309   | 139845162    | 131.223.415-12\n",
        "|  Joaquim Pereira | Av Sete de Setembro, n. 5240   | 329912633    | 456.214.616-67"
      ]
    },
    {
      "cell_type": "code",
      "metadata": {
        "id": "Rlzdf8C7y-5x"
      },
      "source": [
        "# Faça aqui\n"
      ],
      "execution_count": null,
      "outputs": []
    },
    {
      "cell_type": "markdown",
      "metadata": {
        "id": "ZqHDy7t-y-5y"
      },
      "source": [
        "#### W2.23 Considerando a lista de dicionarios do exercicio anterior, remova o dicionário do Jose da Silva desta lista."
      ]
    },
    {
      "cell_type": "code",
      "metadata": {
        "id": "xdNr4MEky-5y"
      },
      "source": [
        "# Faça aqui\n"
      ],
      "execution_count": null,
      "outputs": []
    },
    {
      "cell_type": "markdown",
      "metadata": {
        "id": "3hiWnjvSy-5z"
      },
      "source": [
        "#### W2.24 Considerando a lista de dicionarios do exercicio anterior, usando um loop, remova todos os telefones desta lista de dicionários\n"
      ]
    },
    {
      "cell_type": "code",
      "metadata": {
        "id": "kVMlv1Kmy-50"
      },
      "source": [
        "# Faça aqui\n"
      ],
      "execution_count": null,
      "outputs": []
    },
    {
      "cell_type": "markdown",
      "metadata": {
        "id": "zFc5dL6Hy-50"
      },
      "source": [
        "## Treinando funções"
      ]
    },
    {
      "cell_type": "markdown",
      "metadata": {
        "id": "pF4d3_FFy-50"
      },
      "source": [
        "#### W2.25 Escreva uma função para calcular o máximo de dois numeros"
      ]
    },
    {
      "cell_type": "code",
      "metadata": {
        "id": "z1AEjMzFy-51"
      },
      "source": [
        "def maximo(a, b):\n",
        "    #faca aqui\n",
        "    #retorne o valor maximo entre a e b\n",
        "\n",
        "\n",
        "print(maximo(5, -3))\n",
        "print(maximo(-5, -3))\n"
      ],
      "execution_count": null,
      "outputs": []
    },
    {
      "cell_type": "markdown",
      "metadata": {
        "id": "aDkC_XnGy-51"
      },
      "source": [
        "#### W2.26 Escreva uma função para calcular a velocidade de um objeto dado a distancia percorrida e o tempo. Considere as unidades de distância e tempo sendo respectivamente Km e hora."
      ]
    },
    {
      "cell_type": "code",
      "metadata": {
        "id": "_R1xSaUcy-51"
      },
      "source": [
        "def velocidade(distancia, tempo):\n",
        "    #faca aqui\n",
        "    #retorne a velocidade do objeto\n",
        "\n",
        "\n",
        "print(velocidade(55, 0.5))\n"
      ],
      "execution_count": null,
      "outputs": []
    },
    {
      "cell_type": "markdown",
      "metadata": {
        "id": "gfBI7EAFy-51"
      },
      "source": [
        "#### W2.27 Escreva uma função para determinar se um objeto extrapolou um determinado limite de velocidade. O limite de velocidade deve ser parametrizável (um argumento da função). A função deve retornar True se o limite for excedido, e retornar False caso contrário."
      ]
    },
    {
      "cell_type": "code",
      "metadata": {
        "id": "Axj41vBJy-51"
      },
      "source": [
        "#faca aqui\n",
        "\n",
        "\n"
      ],
      "execution_count": null,
      "outputs": []
    },
    {
      "cell_type": "markdown",
      "metadata": {
        "id": "ioeA2y6By-52"
      },
      "source": [
        "### Erros de Sintaxe"
      ]
    },
    {
      "cell_type": "markdown",
      "metadata": {
        "id": "HBmbT84vy-53"
      },
      "source": [
        "#### W2.28 Corrija os erros de sintaxe das células abaixo"
      ]
    },
    {
      "cell_type": "code",
      "metadata": {
        "id": "vKxFVbnJy-54"
      },
      "source": [
        "if 3 > 1\n",
        "    print(\"True\")\n",
        "else\n",
        "    print(\"False\")"
      ],
      "execution_count": null,
      "outputs": []
    },
    {
      "cell_type": "code",
      "metadata": {
        "id": "c2zeuw-Ay-54"
      },
      "source": [
        "a = (3+b)*2)\n",
        "b = 4"
      ],
      "execution_count": null,
      "outputs": []
    },
    {
      "cell_type": "code",
      "metadata": {
        "id": "ZIuLRK6Zy-54"
      },
      "source": [
        "print('where is jonh's car')"
      ],
      "execution_count": null,
      "outputs": []
    },
    {
      "cell_type": "code",
      "metadata": {
        "id": "Z5nBYfb-y-54"
      },
      "source": [
        "if True:\n",
        "print(\"Isso sempre é impresso.\")"
      ],
      "execution_count": null,
      "outputs": []
    },
    {
      "cell_type": "markdown",
      "metadata": {
        "id": "Wsipt0y2y-55"
      },
      "source": [
        "### Erros Runtime"
      ]
    },
    {
      "cell_type": "markdown",
      "metadata": {
        "id": "ZgzoXOMey-55"
      },
      "source": [
        "#### W2.29 Corrija os erros do tipo Runtime abaixo"
      ]
    },
    {
      "cell_type": "code",
      "metadata": {
        "id": "Z0NoQWJ4y-56"
      },
      "source": [
        "# Efetuar a divisão a seguir\n",
        "10/\"5\""
      ],
      "execution_count": null,
      "outputs": []
    },
    {
      "cell_type": "code",
      "metadata": {
        "id": "_3ORF4v6y-58"
      },
      "source": [
        "c = [1, 2, 3]\n",
        "# Imprimir o ultimo elemento da lista c\n",
        "print(c[3])"
      ],
      "execution_count": null,
      "outputs": []
    },
    {
      "cell_type": "code",
      "metadata": {
        "id": "LQr6k__uy-58"
      },
      "source": [
        "l = [{\"nome\": \"Joao\", \"telefone\": 9917363}, {\"nome\": \"Ana\", \"telefone\": 9023633},\n",
        "    {\"nome\": \"Roberto\", \"telefone\": 9937321}, {\"none\": \"Maria\", \"telefome\": 92736213}]\n",
        "# imprimir o valor do telefone e do nome do ultimo elmento da lista de dicionários\n",
        "print(l[-1]['telefone'], l[-1]['nome'])"
      ],
      "execution_count": null,
      "outputs": []
    },
    {
      "cell_type": "markdown",
      "metadata": {
        "id": "duObYJT8y-59"
      },
      "source": [
        "### Erros de Lógica"
      ]
    },
    {
      "cell_type": "markdown",
      "metadata": {
        "id": "FW5XpQSQy-59"
      },
      "source": [
        "#### W2.30 Corrija os erros de lógica das células abaixo"
      ]
    },
    {
      "cell_type": "code",
      "metadata": {
        "id": "ax4gWqCly-5-"
      },
      "source": [
        "a = \"10\"\n",
        "if a == 10:\n",
        "    print(f\"{a} é igual a 10\")\n",
        "else:\n",
        "    print(f\"{a} é diferente de 10\")\n",
        ""
      ],
      "execution_count": null,
      "outputs": []
    },
    {
      "cell_type": "code",
      "metadata": {
        "id": "69Bjbksfy-5-"
      },
      "source": [
        "l = [\"awerr\", \"aab\", \"sssaere\", \"aabb\", \"qwerttt\", \"12345\"]\n",
        "# Código para imprimir os elementos da lista l cujo tamanho seja maior que 3\n",
        "for x in l[1:]:\n",
        "    if len(x) > 3:\n",
        "        print(x)"
      ],
      "execution_count": null,
      "outputs": []
    }
  ]
}