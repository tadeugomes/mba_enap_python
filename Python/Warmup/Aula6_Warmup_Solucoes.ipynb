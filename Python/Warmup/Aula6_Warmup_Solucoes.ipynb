{
  "cells": [
    {
      "cell_type": "markdown",
      "metadata": {
        "id": "view-in-github",
        "colab_type": "text"
      },
      "source": [
        "<a href=\"https://colab.research.google.com/github/alexlopespereira/mba_enap/blob/main/Warmup/Aula6_Warmup_Solucoes.ipynb\" target=\"_parent\"><img src=\"https://colab.research.google.com/assets/colab-badge.svg\" alt=\"Open In Colab\"/></a>"
      ]
    },
    {
      "cell_type": "markdown",
      "metadata": {
        "id": "fyXiHv5rk5BY"
      },
      "source": [
        "## Aula 6 - Pandas e Fontes de dados"
      ]
    },
    {
      "cell_type": "markdown",
      "metadata": {
        "id": "Xuazv4Ksk5Be"
      },
      "source": [
        "### Treinando a função apply\n",
        "#### W6.1 Execute as instruções solicitadas a seguir."
      ]
    },
    {
      "cell_type": "code",
      "execution_count": null,
      "metadata": {
        "id": "scpodeQsk5Bg"
      },
      "outputs": [],
      "source": [
        "import pandas as pd\n",
        "import numpy as np"
      ]
    },
    {
      "cell_type": "code",
      "execution_count": null,
      "metadata": {
        "id": "TxVXiOdNk5Bi"
      },
      "outputs": [],
      "source": [
        "# Considere o dataframe abaixo\n",
        "frame = pd.DataFrame(np.random.randn(4, 3), columns=list('bde'),\n",
        "                        index=['DF', 'GO', 'SP', 'RJ'])\n",
        "frame"
      ]
    },
    {
      "cell_type": "code",
      "execution_count": null,
      "metadata": {
        "nbgrader": {
          "grade": false,
          "grade_id": "cell-065358f77d358f53",
          "locked": false,
          "schema_version": 3,
          "solution": true,
          "task": false
        },
        "id": "6u-dXY8Fk5Bj"
      },
      "outputs": [],
      "source": [
        "# Crie uma função lambda para calcular a diferença\n",
        "# entre a média e a mediana de uma Serie, e aplique-a ao dataframe frame, fazendo o cálculo ao longo do eixo das linhas\n",
        "# Faça aqui\n",
        "### BEGIN SOLUTION\n",
        "frame.apply(lambda x: x.mean() - x.median(), axis=0)\n",
        "### END SOLUTION\n"
      ]
    },
    {
      "cell_type": "code",
      "execution_count": null,
      "metadata": {
        "nbgrader": {
          "grade": false,
          "grade_id": "cell-c03270850c36d0e3",
          "locked": false,
          "schema_version": 3,
          "solution": true,
          "task": false
        },
        "id": "dReKDe39k5Bj"
      },
      "outputs": [],
      "source": [
        "# aplique a mesma função lambda ao dataframe frame, fazendo o cálculo ao longo do eixo das colunas\n",
        "# Faça aqui\n",
        "### BEGIN SOLUTION\n",
        "frame.apply(lambda x: x.mean() - x.median(), axis=1)\n",
        "### END SOLUTION\n"
      ]
    },
    {
      "cell_type": "markdown",
      "metadata": {
        "id": "yQBjEHdck5Bk"
      },
      "source": [
        "### Treinando a função applymap\n",
        "#### W6.2 Execute as instruções solicitadas a seguir."
      ]
    },
    {
      "cell_type": "code",
      "execution_count": null,
      "metadata": {
        "nbgrader": {
          "grade": false,
          "grade_id": "cell-6f32180cffa9380f",
          "locked": false,
          "schema_version": 3,
          "solution": true,
          "task": false
        },
        "id": "wpCgDfbJk5Bk"
      },
      "outputs": [],
      "source": [
        "# Crie uma função lambda para formatar um número float com tres casas decimais,\n",
        "# e aplique-a ao dataframe frame\n",
        "# Faça aqui\n",
        "### BEGIN SOLUTION\n",
        "frame.applymap(lambda x: \"%.2f\" % x)\n",
        "### END SOLUTION"
      ]
    },
    {
      "cell_type": "markdown",
      "metadata": {
        "id": "VUgmOdkBk5Bl"
      },
      "source": [
        "#### W6.3 Execute as instruções solicitadas a seguir."
      ]
    },
    {
      "cell_type": "code",
      "execution_count": null,
      "metadata": {
        "id": "4QhRqeVfk5Bl"
      },
      "outputs": [],
      "source": [
        "# Considere o dataframe abaixo\n",
        "df = pd.DataFrame([[1.4, np.nan], [7.1, -4.5],\n",
        "                    [np.nan, np.nan], [0.75, -1.3]],\n",
        "                    index=['a', 'b', 'c', 'd'],\n",
        "                    columns=['one', 'two'])\n",
        "df"
      ]
    },
    {
      "cell_type": "code",
      "execution_count": null,
      "metadata": {
        "nbgrader": {
          "grade": false,
          "grade_id": "cell-842ee34c73bf43c3",
          "locked": false,
          "schema_version": 3,
          "solution": true,
          "task": false
        },
        "id": "immLZIxMk5Bs"
      },
      "outputs": [],
      "source": [
        "# Calcule a soma ao longo do eixo das linhas, considerando que\n",
        "# a soma de um número com um NA retorna um NA.\n",
        "# Faça aqui\n",
        "### BEGIN SOLUTION\n",
        "df.sum(axis=0, skipna=False)\n",
        "### END SOLUTION"
      ]
    },
    {
      "cell_type": "code",
      "execution_count": null,
      "metadata": {
        "nbgrader": {
          "grade": false,
          "grade_id": "cell-8595dae6bdbc0481",
          "locked": false,
          "schema_version": 3,
          "solution": true,
          "task": false
        },
        "id": "TzPMd_wok5Bt"
      },
      "outputs": [],
      "source": [
        "# Calcule a soma ao longo do eixo das colunas, considerando que\n",
        "# a soma de um número com um NA retorna um NA.\n",
        "# Faça aqui\n",
        "### BEGIN SOLUTION\n",
        "df.sum(axis=1, skipna=False)\n",
        "### END SOLUTION"
      ]
    },
    {
      "cell_type": "code",
      "execution_count": null,
      "metadata": {
        "nbgrader": {
          "grade": false,
          "grade_id": "cell-56bcc128b1df3324",
          "locked": false,
          "schema_version": 3,
          "solution": true,
          "task": false
        },
        "id": "58B2jNtxk5Bt"
      },
      "outputs": [],
      "source": [
        "# Calcule a média ao longo do eixo das linhas desconsiderando valores NA, ou seja,\n",
        "# calcule a média mesmo que haja um valor NA na respectiva linha.\n",
        "# Faça aqui\n",
        "### BEGIN SOLUTION\n",
        "df.sum(axis=0, skipna=True)\n",
        "### END SOLUTION"
      ]
    },
    {
      "cell_type": "code",
      "execution_count": null,
      "metadata": {
        "nbgrader": {
          "grade": false,
          "grade_id": "cell-53e0b6b899b6ed90",
          "locked": false,
          "schema_version": 3,
          "solution": true,
          "task": false
        },
        "id": "ei0Bngo1k5Bu"
      },
      "outputs": [],
      "source": [
        "# Calcule a média ao longo do eixo das linhas retornando NA para colunas que tenham algum NA\n",
        "# Faça aqui\n",
        "### BEGIN SOLUTION\n",
        "df.sum(axis=1, skipna=True)\n",
        "### END SOLUTION"
      ]
    },
    {
      "cell_type": "code",
      "execution_count": null,
      "metadata": {
        "nbgrader": {
          "grade": false,
          "grade_id": "cell-7cd09255d5e218f9",
          "locked": false,
          "schema_version": 3,
          "solution": true,
          "task": false
        },
        "id": "wunCMVp8k5Bu"
      },
      "outputs": [],
      "source": [
        "# Aplique um método para calcular várias estatísticas do dataframe df\n",
        "# Faça aqui\n",
        "### BEGIN SOLUTION\n",
        "df.describe()\n",
        "### END SOLUTION"
      ]
    },
    {
      "cell_type": "markdown",
      "metadata": {
        "id": "vtMuc1pjk5Bu"
      },
      "source": [
        "### Manipulação de Fontes de Dados"
      ]
    },
    {
      "cell_type": "markdown",
      "metadata": {
        "id": "TRZYa3Flk5Bv"
      },
      "source": [
        "#### W6.4 Carregue o arquivo do PIB disponibilizado nas bases de dados deste curso. Você pode escolher abrir do arquivo local ou diretamente da URL do github.\n",
        "#### Ajuste corretamente os argumentos ```skiprows``` e ```skipfooter``` para deixar na sua tabela somente os dados de interesse. As linhas de cabeçalho desnecessárias e o rodapé não devem fazer parte da sua tabela de dados. Tente os valores 1, 2 e 3 para os argumentos ```skiprows``` e ```skipfooter``` e escolha o valor que melhor se adequa."
      ]
    },
    {
      "cell_type": "code",
      "execution_count": null,
      "metadata": {
        "nbgrader": {
          "grade": false,
          "grade_id": "cell-d8a4724b69551a22",
          "locked": false,
          "schema_version": 3,
          "solution": true,
          "task": false
        },
        "id": "xEkQ5SDVk5Bv"
      },
      "outputs": [],
      "source": [
        "path_pib = 'https://github.com/alexlopespereira/enapespcd2021/raw/main/data/originais/pib/pib_municipios.xlsx'\n",
        "# Faça aqui\n",
        "### BEGIN SOLUTION\n",
        "df = pd.read_excel(path_pib, skiprows=3, skipfooter=1)\n",
        "### END SOLUTION"
      ]
    },
    {
      "cell_type": "code",
      "execution_count": null,
      "metadata": {
        "nbgrader": {
          "grade": false,
          "grade_id": "cell-6819d51ef498e2f1",
          "locked": false,
          "schema_version": 3,
          "solution": true,
          "task": false
        },
        "id": "lfg4mdJZk5Bv"
      },
      "outputs": [],
      "source": [
        "# Mostre os 10 primeiros registros da sua tabela com o método pd.DataFrame.head()\n",
        "# Faça aqui\n",
        "### BEGIN SOLUTION\n",
        "df.head(10)\n",
        "### END SOLUTION"
      ]
    },
    {
      "cell_type": "code",
      "execution_count": null,
      "metadata": {
        "nbgrader": {
          "grade": false,
          "grade_id": "cell-f9b45b917d1bfe4f",
          "locked": false,
          "schema_version": 3,
          "solution": true,
          "task": false
        },
        "scrolled": false,
        "id": "bFdbdfDDk5Bv"
      },
      "outputs": [],
      "source": [
        "# Mostre os 10 últimos registros da sua tabela com o método pd.DataFrame.tail()\n",
        "# Faça aqui\n",
        "### BEGIN SOLUTION\n",
        "df.tail()\n",
        "### END SOLUTION"
      ]
    },
    {
      "cell_type": "code",
      "execution_count": null,
      "metadata": {
        "nbgrader": {
          "grade": false,
          "grade_id": "cell-511fbd2f440393c7",
          "locked": false,
          "schema_version": 3,
          "solution": true,
          "task": false
        },
        "scrolled": false,
        "id": "YZdYV7K4k5Bw"
      },
      "outputs": [],
      "source": [
        "# Vizualize os tipos dos dados desse dataframe utilizando o método pd.DataFrame.info()\n",
        "# Use esse método SEMPRE que alguma coisa não funcionar quando estiver\n",
        "# fazendo operaçoes que esperam algum tipo de dado específico numa coluna.\n",
        "# Por exemplo, é comum você tentar concatenar o conteúdo de duas colunas na forma de string\n",
        "# imaginando que as duas colunas já são string, quando na verdade alguma delas não são.\n",
        "# Outro exemplo de erro bastante comum é você tentar somar o valor de duas colunas quando\n",
        "# uma delas ou as duas não são números, mas strings.\n",
        "\n",
        "# Faça aqui\n",
        "### BEGIN SOLUTION\n",
        "df.info()\n",
        "### END SOLUTION"
      ]
    },
    {
      "cell_type": "markdown",
      "metadata": {
        "id": "h4oU-tdek5Bw"
      },
      "source": [
        "#### W6.5 Carregue o arquivo do índice de gini. Você pode escolher abrir do arquivo local ou diretamente da URL do github.\n",
        "#### Assegure-se de carregar os cabeçalhos corretamente e os valores numericos como float. Para isso, use os argumentos ```sep, skiprows, skipfooter, na_values, decimal e encoding='utf8'```."
      ]
    },
    {
      "cell_type": "code",
      "execution_count": null,
      "metadata": {
        "nbgrader": {
          "grade": false,
          "grade_id": "cell-b02f068c5b7d790b",
          "locked": false,
          "schema_version": 3,
          "solution": true,
          "task": false
        },
        "id": "nvK_tL5Zk5Bw"
      },
      "outputs": [],
      "source": [
        "path_gini = 'https://github.com/alexlopespereira/enapespcd2021/raw/main/data/originais/gini/ginibr.csv'\n",
        "# Faça aqui\n",
        "### BEGIN SOLUTION\n",
        "pd.read_csv(path_gini, sep=\";\", skiprows=2, skipfooter=2, encoding='utf8', decimal=\",\")\n",
        "### END SOLUTION"
      ]
    },
    {
      "cell_type": "markdown",
      "metadata": {
        "id": "p97vRs7Nk5Bw"
      },
      "source": [
        "#### W6.6 Carregue o arquivo do dataset de morbidade disponibilizado nas bases de dados deste curso. Você pode escolher abrir do arquivo local ou diretamente da URL do github.\n",
        "#### Ajuste corretamente os argumentos sep e decimal. Assegure-se de que os dados numéricos foram carregados em formato numérico (int ou float). Use o método pd.DataFrame.info() para fazer esta verificação."
      ]
    },
    {
      "cell_type": "code",
      "execution_count": null,
      "metadata": {
        "nbgrader": {
          "grade": false,
          "grade_id": "cell-7f92082a7cd06059",
          "locked": false,
          "schema_version": 3,
          "solution": true,
          "task": false
        },
        "id": "vSJcPwpxk5Bx"
      },
      "outputs": [],
      "source": [
        "path_morbidade = 'https://github.com/alexlopespereira/enapespcd2021/raw/main/data/originais/morbidade/consolidado/morbidade.csv'\n",
        "# Faça aqui\n",
        "### BEGIN SOLUTION\n",
        "df = pd.read_csv(path_morbidade, sep=\";\", decimal=\",\", na_values='-')\n",
        "df\n",
        "### END SOLUTION"
      ]
    },
    {
      "cell_type": "markdown",
      "metadata": {
        "id": "w6dqx4abk5Bx"
      },
      "source": [
        "### Descartando valores faltantes (NA ou NaN)"
      ]
    },
    {
      "cell_type": "markdown",
      "metadata": {
        "id": "lwWwJ7-xk5Bx"
      },
      "source": [
        "#### W6.7 Remova os valores NA da series a seguir"
      ]
    },
    {
      "cell_type": "code",
      "execution_count": null,
      "metadata": {
        "nbgrader": {
          "grade": false,
          "grade_id": "cell-16b5625333d4748d",
          "locked": false,
          "schema_version": 3,
          "solution": true,
          "task": false
        },
        "id": "jHdqHKMxk5Bx"
      },
      "outputs": [],
      "source": [
        "from numpy import nan as NA\n",
        "# Considere a serie a seguir\n",
        "data = pd.Series([1, NA, 3.5, NA, 7])\n",
        "\n",
        "# Faça aqui\n",
        "### BEGIN SOLUTION\n",
        "data.dropna()\n",
        "### END SOLUTION"
      ]
    },
    {
      "cell_type": "markdown",
      "metadata": {
        "id": "NAn00mS3k5By"
      },
      "source": [
        "#### W6.8 Remova os itens duplicados do dataframe a seguir"
      ]
    },
    {
      "cell_type": "code",
      "execution_count": null,
      "metadata": {
        "nbgrader": {
          "grade": false,
          "grade_id": "cell-637a91c100f7c7a9",
          "locked": false,
          "schema_version": 3,
          "solution": true,
          "task": false
        },
        "id": "FF-f1kzQk5By"
      },
      "outputs": [],
      "source": [
        "# Considere o seguinte dataframe\n",
        "data = pd.DataFrame({'k1': ['one', 'two'] * 3 + ['two'], 'k2': [1, 1, 2, 3, 3, 4, 4]})\n",
        "# Faça aqui\n",
        "### BEGIN SOLUTION\n",
        "data.drop_duplicates()\n",
        "### END SOLUTION"
      ]
    },
    {
      "cell_type": "markdown",
      "metadata": {
        "id": "tffc19uHk5By"
      },
      "source": [
        "### Treinando Indexação Hierárquica"
      ]
    },
    {
      "cell_type": "code",
      "execution_count": null,
      "metadata": {
        "id": "jym-2Xv3k5By"
      },
      "outputs": [],
      "source": [
        "# Considere a seguinte Serie\n",
        "data = pd.Series(np.random.randn(9), index=[['a', 'a', 'a', 'b', 'b', 'c', 'c', 'd', 'd'],\n",
        "                                            [1, 2, 3, 1, 3, 1, 2, 2, 3]])\n",
        "data"
      ]
    },
    {
      "cell_type": "markdown",
      "metadata": {
        "id": "LESqV5rdk5Bz"
      },
      "source": [
        "#### W6.9 Exiba (imprima) o indice hierárquico usando o atributo ```index``` do dataframe"
      ]
    },
    {
      "cell_type": "code",
      "execution_count": null,
      "metadata": {
        "nbgrader": {
          "grade": false,
          "grade_id": "cell-f6fd97f2ed856bbe",
          "locked": false,
          "schema_version": 3,
          "solution": true,
          "task": false
        },
        "id": "cym5eND5k5Bz"
      },
      "outputs": [],
      "source": [
        "# Faça aqui\n",
        "### BEGIN SOLUTION\n",
        "data.index\n",
        "### END SOLUTION"
      ]
    },
    {
      "cell_type": "markdown",
      "metadata": {
        "id": "f4XzBlfUk5Bz"
      },
      "source": [
        "#### W6.10 Considerando a serie data, definida na célula anterior, faça um filtro com uma lista de elementos do 1o nível do índice exibindo apenas os dados das linhas identificadas por 'a' no nível 1."
      ]
    },
    {
      "cell_type": "code",
      "execution_count": null,
      "metadata": {
        "nbgrader": {
          "grade": false,
          "grade_id": "cell-40904420446b0478",
          "locked": false,
          "schema_version": 3,
          "solution": true,
          "task": false
        },
        "id": "Teda7B6Yk5Bz"
      },
      "outputs": [],
      "source": [
        "# Faça aqui\n",
        "### BEGIN SOLUTION\n",
        "data.loc[['a']]\n",
        "### END SOLUTION"
      ]
    },
    {
      "cell_type": "markdown",
      "metadata": {
        "id": "cUzisN_1k5Bz"
      },
      "source": [
        "#### W6.11 Considerando a serie data, definida na célula anterior, faça um filtro com uma lista de elementos do 1o nível do índice exibindo apenas os dados das linhas identificadas por 'a' ou 'b' no nível 1, e 2 ou 3 no nível 2.\n",
        "#### Dica: usa a sintaxe com loc"
      ]
    },
    {
      "cell_type": "code",
      "execution_count": null,
      "metadata": {
        "nbgrader": {
          "grade": false,
          "grade_id": "cell-9e882098929ad373",
          "locked": false,
          "schema_version": 3,
          "solution": true,
          "task": false
        },
        "id": "0vbXkPZRk5B0"
      },
      "outputs": [],
      "source": [
        "# Considere o seguinte dataframe\n",
        "# Faça aqui\n",
        "### BEGIN SOLUTION\n",
        "data.loc[['a', 'b'], [2, 3]]\n",
        "### END SOLUTION"
      ]
    }
  ],
  "metadata": {
    "celltoolbar": "Create Assignment",
    "kernelspec": {
      "display_name": "Python 3",
      "language": "python",
      "name": "python3"
    },
    "language_info": {
      "codemirror_mode": {
        "name": "ipython",
        "version": 3
      },
      "file_extension": ".py",
      "mimetype": "text/x-python",
      "name": "python",
      "nbconvert_exporter": "python",
      "pygments_lexer": "ipython3",
      "version": "3.8.3"
    },
    "varInspector": {
      "cols": {
        "lenName": 16,
        "lenType": 16,
        "lenVar": 40
      },
      "kernels_config": {
        "python": {
          "delete_cmd_postfix": "",
          "delete_cmd_prefix": "del ",
          "library": "var_list.py",
          "varRefreshCmd": "print(var_dic_list())"
        },
        "r": {
          "delete_cmd_postfix": ") ",
          "delete_cmd_prefix": "rm(",
          "library": "var_list.r",
          "varRefreshCmd": "cat(var_dic_list()) "
        }
      },
      "types_to_exclude": [
        "module",
        "function",
        "builtin_function_or_method",
        "instance",
        "_Feature"
      ],
      "window_display": false
    },
    "colab": {
      "provenance": [],
      "include_colab_link": true
    }
  },
  "nbformat": 4,
  "nbformat_minor": 0
}