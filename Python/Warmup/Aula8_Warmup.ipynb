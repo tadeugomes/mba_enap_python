{
 "cells": [
  {
   "cell_type": "markdown",
   "metadata": {},
   "source": [
    "## Aula 8 - Warmup de Datetime e Regex"
   ]
  },
  {
   "cell_type": "code",
   "execution_count": null,
   "metadata": {},
   "outputs": [],
   "source": [
    "import pandas as pd\n",
    "import numpy as np\n",
    "import re\n",
    "from datetime import datetime"
   ]
  },
  {
   "cell_type": "markdown",
   "metadata": {},
   "source": [
    "### Treinando Datetime no python"
   ]
  },
  {
   "cell_type": "markdown",
   "metadata": {},
   "source": [
    "#### W8.1 Transforme as seguintes strings para um objeto do tipo datetime"
   ]
  },
  {
   "cell_type": "code",
   "execution_count": null,
   "metadata": {
    "nbgrader": {
     "grade": false,
     "grade_id": "cell-d252f3b8c133c1fb",
     "locked": false,
     "schema_version": 3,
     "solution": true,
     "task": false
    }
   },
   "outputs": [],
   "source": [
    "str1 = \"2020/01/30\"\n",
    "# Faça aqui"
    "\n",
    "str2 = \"02-16-2010\"\n",
    "# Faça aqui"
    "\n",
    "str3 = \"02-Mar-2010\"\n",
    "# Faça aqui"
   ]
  },
  {
   "cell_type": "markdown",
   "metadata": {},
   "source": [
    "#### W8.2 Transforme o objeto datetime abaixo numa string com o seguinte conteúdo: \"18-Jun-2019\""
   ]
  },
  {
   "cell_type": "code",
   "execution_count": null,
   "metadata": {
    "nbgrader": {
     "grade": false,
     "grade_id": "cell-725f39592d263dc6",
     "locked": false,
     "schema_version": 3,
     "solution": true,
     "task": false
    }
   },
   "outputs": [],
   "source": [
    "d = datetime.strptime('18/06/19 01:55:19', '%d/%m/%y %H:%M:%S')\n",
    "\n",
    "# Faça aqui"
   ]
  },
  {
   "cell_type": "markdown",
   "metadata": {},
   "source": [
    "#### W8.3 Crie um indice do tipo datetime (DatetimeIndex) com 4 amostras de datas em intervalos fixos de 2 semanas a partir do dia 09/05/2021."
   ]
  },
  {
   "cell_type": "code",
   "execution_count": null,
   "metadata": {
    "nbgrader": {
     "grade": false,
     "grade_id": "cell-c5bcff86800434c2",
     "locked": false,
     "schema_version": 3,
     "solution": true,
     "task": false
    }
   },
   "outputs": [],
   "source": [
    "# Faça aqui"
   ]
  },
  {
   "cell_type": "markdown",
   "metadata": {},
   "source": [
    "### Treinando Regex"
   ]
  },
  {
   "cell_type": "code",
   "execution_count": null,
   "metadata": {},
   "outputs": [],
   "source": [
    "import re"
   ]
  },
  {
   "cell_type": "markdown",
   "metadata": {},
   "source": [
    "#### W8.4 Usando a função re.findall e a função len, encontre quantas vezes a palavra love aparece no texto a seguir."
   ]
  },
  {
   "cell_type": "code",
   "execution_count": null,
   "metadata": {},
   "outputs": [],
   "source": [
    "texto = \"\"\"Love is a fire that burns without being seen;\n",
    "It is a wound that hurts and does not feel;\n",
    "It is discontented contentment;\n",
    "It is pain that unravels without hurting.\n",
    "It is not wanting more than wanting well;\n",
    "It is a lonely walk among people;\n",
    "It is never content to be content;\n",
    "It is a care that you gain in losing yourself.\n",
    "\n",
    "It is wanting to be bound by will;\n",
    "It is to serve who wins the winner;\n",
    "Have someone kill us, loyalty.\n",
    "\n",
    "But how can cause your favor\n",
    "In human hearts friendship,\n",
    "If so contrary to itself is the same love?\"\"\""
   ]
  },
  {
   "cell_type": "code",
   "execution_count": null,
   "metadata": {
    "nbgrader": {
     "grade": false,
     "grade_id": "cell-58a7e86543bce2cc",
     "locked": false,
     "schema_version": 3,
     "solution": true,
     "task": false
    }
   },
   "outputs": [],
   "source": [
    "# Faça aqui"
   ]
  },
  {
   "cell_type": "markdown",
   "metadata": {},
   "source": [
    "#### W8.5 Usando a função apply e a função lambda definida abaixo, encontre o caracter que representa os valores NA na coluna IDEB12_17 no dataset do IDEB disponibilizado neste curso."
   ]
  },
  {
   "cell_type": "code",
   "execution_count": null,
   "metadata": {
    "nbgrader": {
     "grade": false,
     "grade_id": "cell-5fe4e44037f9a1d2",
     "locked": false,
     "schema_version": 3,
     "solution": true,
     "task": false
    }
   },
   "outputs": [],
   "source": [
    "#Implemente a função lambda aqui\n",
    "# defina uma variavel find_na e guarde a função lambda nela\n",
    "# Faça aqui"
   ]
  },
  {
   "cell_type": "code",
   "execution_count": null,
   "metadata": {},
   "outputs": [],
   "source": [
    "path_ideb = 'https://github.com/alexlopespereira/curso_ciencia_dados2020/raw/master/data/originais/ideb/ideb_municipios2017.xlsx'\n",
    "df_ideb = pd.read_excel(path_ideb, skiprows=9, skipfooter=3, dtype={\"IDEB12_17\": \"str\"})"
   ]
  },
  {
   "cell_type": "code",
   "execution_count": null,
   "metadata": {},
   "outputs": [],
   "source": [
    "df_ideb.info()"
   ]
  },
  {
   "cell_type": "code",
   "execution_count": null,
   "metadata": {},
   "outputs": [],
   "source": [
    "# Faça aqui\n",
    "# Aplicação da função lambda para encontrar os valores \n",
    "# que representam valores faltantes no seu dataset \n",
    "na_values = df_ideb['IDEB12_17'].apply(find_na)\n",
    "na_values.unique()"
   ]
  },
  {
   "cell_type": "markdown",
   "metadata": {},
   "source": [
    "### Tratamento de Exceção em Python"
   ]
  },
  {
   "cell_type": "markdown",
   "metadata": {},
   "source": [
    "#### 8.6 Trate a exceção geradana célula a seguir de forma que a execução do programa não seja interrompida e a instrução ```print(\"Hello World!\")``` possa ser executada apesar do erro evidente."
   ]
  },
  {
   "cell_type": "code",
   "execution_count": null,
   "metadata": {},
   "outputs": [],
   "source": [
    "a = 2\n",
    "b = 0\n",
    "c = a / b\n",
    "print(\"Hello World!\")"
   ]
  },
  {
   "cell_type": "code",
   "execution_count": null,
   "metadata": {
    "nbgrader": {
     "grade": false,
     "grade_id": "cell-1e7be01219d7b807",
     "locked": false,
     "schema_version": 3,
     "solution": true,
     "task": false
    }
   },
   "outputs": [],
   "source": [
    "# Faça aqui"
   ]
  },
  {
   "cell_type": "code",
   "execution_count": null,
   "metadata": {},
   "outputs": [],
   "source": []
  }
 ],
 "metadata": {
  "celltoolbar": "Create Assignment",
  "kernelspec": {
   "display_name": "Python 3",
   "language": "python",
   "name": "python3"
  },
  "language_info": {
   "codemirror_mode": {
    "name": "ipython",
    "version": 3
   },
   "file_extension": ".py",
   "mimetype": "text/x-python",
   "name": "python",
   "nbconvert_exporter": "python",
   "pygments_lexer": "ipython3",
   "version": "3.8.3"
  },
  "varInspector": {
   "cols": {
    "lenName": 16,
    "lenType": 16,
    "lenVar": 40
   },
   "kernels_config": {
    "python": {
     "delete_cmd_postfix": "",
     "delete_cmd_prefix": "del ",
     "library": "var_list.py",
     "varRefreshCmd": "print(var_dic_list())"
    },
    "r": {
     "delete_cmd_postfix": ") ",
     "delete_cmd_prefix": "rm(",
     "library": "var_list.r",
     "varRefreshCmd": "cat(var_dic_list()) "
    }
   },
   "types_to_exclude": [
    "module",
    "function",
    "builtin_function_or_method",
    "instance",
    "_Feature"
   ],
   "window_display": false
  }
 },
 "nbformat": 4,
 "nbformat_minor": 4
}
