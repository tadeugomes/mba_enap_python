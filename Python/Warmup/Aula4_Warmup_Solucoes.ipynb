{
  "nbformat": 4,
  "nbformat_minor": 0,
  "metadata": {
    "kernelspec": {
      "display_name": "Python 3",
      "language": "python",
      "name": "python3"
    },
    "language_info": {
      "codemirror_mode": {
        "name": "ipython",
        "version": 3
      },
      "file_extension": ".py",
      "mimetype": "text/x-python",
      "name": "python",
      "nbconvert_exporter": "python",
      "pygments_lexer": "ipython3",
      "version": "3.8.3"
    },
    "varInspector": {
      "cols": {
        "lenName": 16,
        "lenType": 16,
        "lenVar": 40
      },
      "kernels_config": {
        "python": {
          "delete_cmd_postfix": "",
          "delete_cmd_prefix": "del ",
          "library": "var_list.py",
          "varRefreshCmd": "print(var_dic_list())"
        },
        "r": {
          "delete_cmd_postfix": ") ",
          "delete_cmd_prefix": "rm(",
          "library": "var_list.r",
          "varRefreshCmd": "cat(var_dic_list()) "
        }
      },
      "types_to_exclude": [
        "module",
        "function",
        "builtin_function_or_method",
        "instance",
        "_Feature"
      ],
      "window_display": false
    },
    "colab": {
      "provenance": [],
      "include_colab_link": true
    }
  },
  "cells": [
    {
      "cell_type": "markdown",
      "metadata": {
        "id": "view-in-github",
        "colab_type": "text"
      },
      "source": [
        "<a href=\"https://colab.research.google.com/github/alexlopespereira/mba_enap/blob/main/Warmup/Aula4_Warmup_Solucoes.ipynb\" target=\"_parent\"><img src=\"https://colab.research.google.com/assets/colab-badge.svg\" alt=\"Open In Colab\"/></a>"
      ]
    },
    {
      "cell_type": "markdown",
      "metadata": {
        "id": "6m7ce7tZZtrg"
      },
      "source": [
        "# Aula 4 - Warmup de Python e Numpy"
      ]
    },
    {
      "cell_type": "markdown",
      "metadata": {
        "id": "vCSvX3uWZtrl"
      },
      "source": [
        "### Treinando Funções Lambda (Anônima) (Slide 3)"
      ]
    },
    {
      "cell_type": "markdown",
      "metadata": {
        "id": "xd1Wddk0Ztrm"
      },
      "source": [
        "#### W4.1 Crie uma função lambda que retorne o valor do argumento multiplicado por ele mesmo. Armazena a função lambda numa variável de nome fq. Execute a função lambda criada, e imprima o resultado."
      ]
    },
    {
      "cell_type": "code",
      "metadata": {
        "id": "vQiplSH2Ztrm"
      },
      "source": [
        "# Faça aqui\n",
        "# defina sua função lambda, começando assim: fq = lambda x: ...\n",
        "# Reescreva substituindo os 3 pontos pela sua solução do problema\n",
        "### BEGIN SOLUTION\n",
        "fq = lambda x: x*x\n",
        "### END SOLUTION\n",
        "# Código para executar a função lambda criada\n",
        "print(f2(2)) # Resultado esperado: 4"
      ],
      "execution_count": null,
      "outputs": []
    },
    {
      "cell_type": "markdown",
      "metadata": {
        "id": "6s674NRVZtrn"
      },
      "source": [
        "#### W4.2 Crie uma função lambda que retorne o último caracter de uma string passada como argumento. Armazena a função lambda numa variável de nome fs. Execute a função lambda criada, e imprima o resultado."
      ]
    },
    {
      "cell_type": "code",
      "metadata": {
        "id": "V3kznIljZtrn"
      },
      "source": [
        "# Faça aqui\n",
        "# defina sua função lambda, começando assim: f2 = lambda x: ...\n",
        "### BEGIN SOLUTION\n",
        "fs = lambda x: x[-1]\n",
        "### END SOLUTION\n",
        "# Código para executar a função lambda criada\n",
        "print(fs(\"meu teste!\"))\n",
        "print(fs(\"Hello World\"))"
      ],
      "execution_count": null,
      "outputs": []
    },
    {
      "cell_type": "markdown",
      "metadata": {
        "id": "tU2M124vZtrn"
      },
      "source": [
        "## NumPy Arrays\n"
      ]
    },
    {
      "cell_type": "code",
      "metadata": {
        "id": "V8ioICDzZtro"
      },
      "source": [
        "# Importe a biblioteca numpy\n",
        "import numpy as np"
      ],
      "execution_count": null,
      "outputs": []
    },
    {
      "cell_type": "markdown",
      "metadata": {
        "id": "5UEgiUogZtro"
      },
      "source": [
        "### Treinando a criação de arrays numpy  (Slide 8)"
      ]
    },
    {
      "cell_type": "markdown",
      "metadata": {
        "id": "ndJ0FLJEZtro"
      },
      "source": [
        "#### W4.3 Execute as instruções da célula abaixo"
      ]
    },
    {
      "cell_type": "code",
      "metadata": {
        "colab": {
          "base_uri": "https://localhost:8080/"
        },
        "id": "BjhiWJ9SZtro",
        "outputId": "7dbbb615-aa91-4331-d931-f0950c060f64"
      },
      "source": [
        "# 1) Crie um array unidimensional a partir da lista [6, 7.5, 8, 0, 1] e imprima o tipo do dado armazenado nele.\n",
        "### BEGIN SOLUTION\n",
        "ar = np.array([6, 7.5, 8, 0, 1])\n",
        "print(ar.dtype)\n",
        "### END SOLUTION\n",
        "\n",
        "\n",
        "# 2) Crie um array bidimensional a partir da lista [[1, 2, 3, 4], [5, 6, 7, 8]] e imprima o shape (forma) dele.\n",
        "### BEGIN SOLUTION\n",
        "ar2 = np.array([[1, 2, 3, 4], [5, 6, 7, 8]])\n",
        "print(ar2.shape)\n",
        "### END SOLUTION\n",
        "\n",
        "\n",
        "# 3) Crie um array unidimensional de zeros com 10 elementos.\n",
        "### BEGIN SOLUTION\n",
        "z = np.zeros(10)\n",
        "print(z)\n",
        "### END SOLUTION\n"
      ],
      "execution_count": null,
      "outputs": [
        {
          "output_type": "stream",
          "text": [
            "float64\n",
            "(2, 4)\n",
            "[0. 0. 0. 0. 0. 0. 0. 0. 0. 0.]\n"
          ],
          "name": "stdout"
        }
      ]
    },
    {
      "cell_type": "markdown",
      "metadata": {
        "id": "zOFI7XsfZtrp"
      },
      "source": [
        "### Treinando conversão de tipos (cast)  (Slide 11)"
      ]
    },
    {
      "cell_type": "markdown",
      "metadata": {
        "id": "KzDSDZNNZtrp"
      },
      "source": [
        "#### W4.4 Realize a conversão de tipos especificada na célula abaixo"
      ]
    },
    {
      "cell_type": "code",
      "metadata": {
        "id": "APfGYou1Ztrp"
      },
      "source": [
        "# Considere o seguinte array\n",
        "num_str = np.array(['1.25', '-9.6', '42'], dtype=np.string_)\n",
        "# 1) Converta os dados do array num_str para float\n",
        "### BEGIN SOLUTION\n",
        "arr_float = num_str.astype(float)\n",
        "print(arr_float)\n",
        "### END SOLUTION\n",
        "\n",
        "\n",
        "# 2) Converta os dados do array do item 1 para int\n",
        "### BEGIN SOLUTION\n",
        "arr_int = arr_float.astype(int)\n",
        "### END SOLUTION\n",
        "\n",
        "\n",
        "# 3) Imprima o tipo do dado do array que foi convertido para inteiro\n",
        "### BEGIN SOLUTION\n",
        "print(arr_int)\n",
        "### END SOLUTION\n"
      ],
      "execution_count": null,
      "outputs": []
    },
    {
      "cell_type": "markdown",
      "metadata": {
        "id": "sjbV9eKnZtrp"
      },
      "source": [
        "### Treinando operações vetorizadas em ndarrays  (Slide 13)\n",
        "#### W4.5 Sem utilizar laços (loops), execute as instruções da célula abaixo"
      ]
    },
    {
      "cell_type": "code",
      "metadata": {
        "id": "Rp-039wOZtrp"
      },
      "source": [
        "# Considere o seguinte array\n",
        "arr1 = np.array([[1, 2, 3, 4], [5, 6, 7, 8]])\n",
        "arr2 = np.array([[9, 12, 13, 14], [15, 16, 17, 18]])\n",
        "\n",
        "# 1) Multiplique todos os elementos do array arr1 por 10\n",
        "### BEGIN SOLUTION\n",
        "print(arr1 * 10)\n",
        "### END SOLUTION\n",
        "\n",
        "\n",
        "# 2) Eleve ao quadrado todos os elementos do arr1\n",
        "### BEGIN SOLUTION\n",
        "print(arr1 ** 2)\n",
        "### END SOLUTION\n",
        "\n",
        "\n",
        "# 3) Calcule a hipotenusa de triangulos cujos catetos estão definidos nos arrays arr1 e arr2.\n",
        "#    Ou seja, calcule a raiz quadrada da soma dos quadrados dos elementos de arr1 e arr2.\n",
        "### BEGIN SOLUTION\n",
        "print((arr1**2 + arr2**2)**0.5)\n",
        "### END SOLUTION\n",
        "\n"
      ],
      "execution_count": null,
      "outputs": []
    },
    {
      "cell_type": "markdown",
      "metadata": {
        "id": "ootkcPhxZtrq"
      },
      "source": [
        "### Treinando a seleção de elementos (slicing) em arrays numpy  (Slide 18)"
      ]
    },
    {
      "cell_type": "markdown",
      "metadata": {
        "id": "jzD6byfrZtrq"
      },
      "source": [
        "#### W4.6 Sem utilizar laços (loops), execute as instruções da célula abaixo"
      ]
    },
    {
      "cell_type": "code",
      "metadata": {
        "id": "rojYcMzQZtrq"
      },
      "source": [
        "# Considere o seguinte array\n",
        "arr3 = np.array([[1, 2, 3, 4, 10, 11, 12, 13], [5, 6, 7, 8, 10, 11, 12, 13],\n",
        "                [1, 2, 3, 4, 10, 11, 12, 13], [5, 6, 7, 8, 10, 11, 12, 13]])\n",
        "\n",
        "# 1) Selecione e imprima os elementos que estão nas colunas de índice 0 e 1\n",
        "#    de todas as linhas desse array bidimensional\n",
        "### BEGIN SOLUTION\n",
        "print(arr3[:, [0,1]])\n",
        "### END SOLUTION\n",
        "\n",
        "\n",
        "# 2) Atribua o valor 1000 a todos os elementos que estão nas colunas de índice 0 e 1\n",
        "#    de todas as linhas desse array bidimensional\n",
        "### BEGIN SOLUTION\n",
        "arr3[:, [0,1]] = 1000\n",
        "print(arr3)\n",
        "### END SOLUTION\n",
        "\n",
        "\n",
        "# 3) Selecione e imprima os elementos que estão nas colunas de índice 1 até a penúltima coluna\n",
        "# de todos os elementos desse array bidimensional\n",
        "### BEGIN SOLUTION\n",
        "print(arr3[:, 1:-1])\n",
        "### END SOLUTION\n",
        "\n",
        "\n",
        "# 4) Atribua zero para todos os elementos que estão nas linhas ímpares do array arr3\n",
        "### BEGIN SOLUTION\n",
        "arr3[1::2, :] = 0\n",
        "print(arr3)\n",
        "### END SOLUTION\n"
      ],
      "execution_count": null,
      "outputs": []
    },
    {
      "cell_type": "markdown",
      "metadata": {
        "id": "IweJY9VrZtrq"
      },
      "source": [
        "### Treinando outras funções numpy  (Slide 19)"
      ]
    },
    {
      "cell_type": "markdown",
      "metadata": {
        "id": "3rbYUy63Ztrr"
      },
      "source": [
        "#### W4.7 Usando a função np.sum, calcule a soma dos elementos de cada linha do array criado abaixo."
      ]
    },
    {
      "cell_type": "code",
      "metadata": {
        "id": "lBPuzU4AZtrr"
      },
      "source": [
        "arr2d = np.array([[1, 2, 3], [4, 5, 6], [7, 8, 9]])\n",
        "# Faça aqui\n",
        "### BEGIN SOLUTION\n",
        "np.sum(arr2d, axis=1)\n",
        "### END SOLUTION\n"
      ],
      "execution_count": null,
      "outputs": []
    },
    {
      "cell_type": "markdown",
      "metadata": {
        "id": "1vksrlGIZtrr"
      },
      "source": [
        "#### W4.8 Usando a função np.mean, calcule a média dos elementos de cada coluna do array criado abaixo."
      ]
    },
    {
      "cell_type": "code",
      "metadata": {
        "id": "tbEHQ0lBZtrs"
      },
      "source": [
        "arr2d = np.array([[1, 2, 3], [4, 5, 6], [7, 8, 9]])\n",
        "# Faça aqui\n",
        "### BEGIN SOLUTION\n",
        "np.mean(arr2d, axis=0)\n",
        "### END SOLUTION\n"
      ],
      "execution_count": null,
      "outputs": []
    },
    {
      "cell_type": "markdown",
      "metadata": {
        "id": "UgaiJ5tnZtrs"
      },
      "source": [
        "#### W4.9 Usando a função np.any, mostre quais colunas do array criado abaixo possuem pelo menos um valor diferente de zero."
      ]
    },
    {
      "cell_type": "code",
      "metadata": {
        "id": "87Lld3CcZtrs"
      },
      "source": [
        "arr4 = np.array([[0, 0, 0], [0, -5, -6], [0, -8, -9]])\n",
        "# Faça aqui\n",
        "### BEGIN SOLUTION\n",
        "arr4.any(axis=0)\n",
        "### END SOLUTION\n"
      ],
      "execution_count": null,
      "outputs": []
    },
    {
      "cell_type": "markdown",
      "metadata": {
        "id": "znHoZfPPZtrs"
      },
      "source": [
        "#### W4.10 Usando a função np.argmax, retorne o índice das colunas que contém o valor máximo de cada linha do array criado abaixo."
      ]
    },
    {
      "cell_type": "code",
      "metadata": {
        "id": "oBH3SltcZtrs"
      },
      "source": [
        "arr2d = np.array([[10, 2, 3], [4, 5, 6], [7, 8, 9]])\n",
        "# Faça aqui\n",
        "### BEGIN SOLUTION\n",
        "arr2d.argmax(axis=1)\n",
        "### END SOLUTION\n"
      ],
      "execution_count": null,
      "outputs": []
    },
    {
      "cell_type": "markdown",
      "metadata": {
        "id": "MXmM3AjVZtrt"
      },
      "source": [
        "#### W4.11 Crie um array unidimensional de 120 elementos, cujos valores sejam sequenciais iniciando em 20 e terminando em 139. Guarde o array numa variável chamada arr5.\n",
        "#### Dica: use a função np.arange(). Ela tem a mesma sintaxe (argumentos) da função range do python estudada em aula."
      ]
    },
    {
      "cell_type": "code",
      "metadata": {
        "id": "-r5vB_FiZtrt"
      },
      "source": [
        "# Faça aqui\n",
        "### BEGIN SOLUTION\n",
        "arr5 = np.arange(20, 140)\n",
        "print(arr5)\n",
        "### END SOLUTION\n"
      ],
      "execution_count": null,
      "outputs": []
    },
    {
      "cell_type": "markdown",
      "metadata": {
        "id": "gKnv74HBZtrt"
      },
      "source": [
        "#### W4.12 Altere a estrutura do array do exercício anterior. Transformando-o num array bidimensional de 12 linhas e 10 colunas.\n",
        "#### Dica: Use o método (função) ndarray.reshape(), passando as dimensões (linhas e colunas) como argumento."
      ]
    },
    {
      "cell_type": "code",
      "metadata": {
        "id": "BclyvdQSZtrt"
      },
      "source": [
        "# Faça aqui\n",
        "### BEGIN SOLUTION\n",
        "arr5.reshape([12,10])\n",
        "### END SOLUTION\n"
      ],
      "execution_count": null,
      "outputs": []
    },
    {
      "cell_type": "markdown",
      "metadata": {
        "id": "qovYjh4wZtrt"
      },
      "source": [
        "#### W4.13 Selecione os numeros pares do array definido abaixo\n",
        "#### Dica: pra testar se um número é par, use a seguinte expressão: n % 2 == 0. Neste caso, se n for par o resultado a expressão é True, pois o operador porcentagem (%) retorna o resto da divisão."
      ]
    },
    {
      "cell_type": "code",
      "metadata": {
        "id": "kC03Oy3oZtrt"
      },
      "source": [
        "arr = np.arange(100)\n",
        "# Faça aqui\n",
        "### BEGIN SOLUTION\n",
        "arr[arr %2 == 0]\n",
        "### END SOLUTION\n"
      ],
      "execution_count": null,
      "outputs": []
    }
  ]
}