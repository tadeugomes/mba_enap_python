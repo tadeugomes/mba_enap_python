{
  "cells": [
    {
      "cell_type": "markdown",
      "metadata": {
        "id": "view-in-github",
        "colab_type": "text"
      },
      "source": [
        "<a href=\"https://colab.research.google.com/github/alexlopespereira/mba_enap/blob/main/Warmup/Aula7_Warmup_Solucoes.ipynb\" target=\"_parent\"><img src=\"https://colab.research.google.com/assets/colab-badge.svg\" alt=\"Open In Colab\"/></a>"
      ]
    },
    {
      "cell_type": "markdown",
      "metadata": {
        "id": "lgkwqhV1uPuT"
      },
      "source": [
        "## Aula 7 - Pandas Parte III (Merge e Join)"
      ]
    },
    {
      "cell_type": "markdown",
      "metadata": {
        "id": "a3tNtWmeuPuX"
      },
      "source": [
        "### Treinando a função merge (fundir/juntar)"
      ]
    },
    {
      "cell_type": "code",
      "execution_count": null,
      "metadata": {
        "id": "dNV5qz5fuPuY"
      },
      "outputs": [],
      "source": [
        "import pandas as pd\n",
        "import numpy as np"
      ]
    },
    {
      "cell_type": "markdown",
      "metadata": {
        "id": "FYAcAsQwuPua"
      },
      "source": [
        "#### W7.1 Faça o merge dos dois dataframes a seguir usando como chave de junção a coluna 'key'. Use o argumento how='left'"
      ]
    },
    {
      "cell_type": "code",
      "execution_count": null,
      "metadata": {
        "id": "CjYPy9DNuPub"
      },
      "outputs": [],
      "source": [
        "# Considere os seguintes DataFrames\n",
        "df1 = pd.DataFrame({'key': ['b', 'b', 'a', 'c', 'a', 'a', 'b'], 'data1': range(7)})\n",
        "df2 = pd.DataFrame({'key': ['a', 'b', 'd'], 'data2': range(3)})"
      ]
    },
    {
      "cell_type": "code",
      "execution_count": null,
      "metadata": {
        "nbgrader": {
          "grade": false,
          "grade_id": "cell-e8cf365ade0d2868",
          "locked": false,
          "schema_version": 3,
          "solution": true,
          "task": false
        },
        "id": "N6GFYtb2uPuc"
      },
      "outputs": [],
      "source": [
        "# Faça aqui"

      ]
    },
    {
      "cell_type": "markdown",
      "metadata": {
        "id": "ADyyZkQIuPud"
      },
      "source": [
        "#### W7.2 Repita o exercício 6.1, mas desta vez utilize o faça o merge de tal forma que apareça no resultado somente os registros cuja chave esteja presente nos dois dataframes."
      ]
    },
    {
      "cell_type": "code",
      "execution_count": null,
      "metadata": {
        "nbgrader": {
          "grade": false,
          "grade_id": "cell-2fcec2aca770dd3e",
          "locked": false,
          "schema_version": 3,
          "solution": true,
          "task": false
        },
        "id": "3iNixIT3uPuf"
      },
      "outputs": [],
      "source": [
        "# Faça aqui"
      ]
    },
    {
      "cell_type": "markdown",
      "metadata": {
        "id": "PhwuJkZjuPuf"
      },
      "source": [
        "### Treinando Reshaping / Pivoting (Pivotar)"
      ]
    },
    {
      "cell_type": "markdown",
      "metadata": {
        "id": "7osTFCi1uPuh"
      },
      "source": [
        "#### W7.3 Pivote o dataframe df_provas a seguir colocando a coluna Aluno como índice, os valores da coluna Disciplina como colunas, e os valores da coluna Objetiva como conteúdo do novo dataframe\n",
        "#### Sugestão: Faça sem consulta ao slide, no máximo consultando a documentação do Pandas."
      ]
    },
    {
      "cell_type": "code",
      "execution_count": null,
      "metadata": {
        "id": "qcdTm7xsuPuh"
      },
      "outputs": [],
      "source": [
        "# Considere o seguinte DataFrame\n",
        "table = {\n",
        "    'Aluno': ['AlunoA', 'AlunoA', 'AlunoA', 'AlunoA', 'AlunoB', 'AlunoB', 'AlunoB', 'AlunoB'],\n",
        "    'Disciplina': ['Portugues', 'Matematica', 'Geografia', 'História', 'Portugues', 'Matematica', 'Geografia', 'História'],\n",
        "    'Objetiva': [8.5, 7.5, 9, 10, 8.5, 7.5, 9, 10],\n",
        "    'Discursiva': [6, 6.5, 7.5, 7, 8.5, 7.5, 9, 10]}\n",
        "df_provas = pd.DataFrame(table)\n",
        "df_provas"
      ]
    },
    {
      "cell_type": "code",
      "execution_count": null,
      "metadata": {
        "nbgrader": {
          "grade": false,
          "grade_id": "cell-be24232fcf3ad4df",
          "locked": false,
          "schema_version": 3,
          "solution": true,
          "task": false
        },
        "id": "UBxoOoOXuPui"
      },
      "outputs": [],
      "source": [
        "# Faça aqui"
      ]
    },
    {
      "cell_type": "markdown",
      "metadata": {
        "id": "5dZYdUbYuPui"
      },
      "source": [
        "#### W7.4 Usando o método stack, faça o despivoteamento do dataframe a seguir."
      ]
    },
    {
      "cell_type": "code",
      "execution_count": null,
      "metadata": {
        "id": "X-NQfLBcuPuj"
      },
      "outputs": [],
      "source": [
        "# Considere o seguinte DataFrame\n",
        "df_simples = pd.DataFrame([[40, 61], [21, 33]],\n",
        "                                    index=['carro', 'moto'],\n",
        "                                    columns=['consumo', 'potencia'])\n",
        "df_simples"
      ]
    },
    {
      "cell_type": "code",
      "execution_count": null,
      "metadata": {
        "nbgrader": {
          "grade": false,
          "grade_id": "cell-33951d28850d94a3",
          "locked": false,
          "schema_version": 3,
          "solution": true,
          "task": false
        },
        "id": "gArSpyvNuPuj"
      },
      "outputs": [],
      "source": [
        "# Faça aqui"
      ]
    },
    {
      "cell_type": "markdown",
      "metadata": {
        "id": "vxdE9pfMuPuj"
      },
      "source": [
        "#### W7.5 Usando o método stack, faça o despivoteamento do dataframe a seguir."
      ]
    },
    {
      "cell_type": "code",
      "execution_count": null,
      "metadata": {
        "id": "tgKONNMDuPuk"
      },
      "outputs": [],
      "source": [
        "multi = pd.MultiIndex.from_tuples([('peso', 'kg'),\n",
        "                                       ('peso', 'pounds')])\n",
        "df_multi = pd.DataFrame([[300, 661], [221, 487]],\n",
        "                                    index=['carro', 'moto'],\n",
        "                                    columns=multi)\n",
        "df_multi"
      ]
    },
    {
      "cell_type": "code",
      "execution_count": null,
      "metadata": {
        "nbgrader": {
          "grade": false,
          "grade_id": "cell-1420e4e85747bbf8",
          "locked": false,
          "schema_version": 3,
          "solution": true,
          "task": false
        },
        "id": "cN-a4uBQuPuk"
      },
      "outputs": [],
      "source": [
        "# Faça aqui"
      ]
    },
    {
      "cell_type": "markdown",
      "metadata": {
        "id": "aUJCY2L5uPuk"
      },
      "source": [
        "#### W7.6 Usando o método unstack, faça o pivoteamento do dataframe no nível 1 (neste dataframe o nível 1 armazena as cores dos veículos)."
      ]
    },
    {
      "cell_type": "code",
      "execution_count": null,
      "metadata": {
        "id": "nCOhQvDPuPuk"
      },
      "outputs": [],
      "source": [
        "index = pd.MultiIndex.from_tuples([('carro', 'Azul'), ('carro', 'Vermelho'),\n",
        "                                   ('moto', 'Azul'), ('moto', 'Vermelho')])\n",
        "s = pd.Series(np.arange(1.0, 5.0), index=index)\n",
        "s"
      ]
    },
    {
      "cell_type": "code",
      "execution_count": null,
      "metadata": {
        "nbgrader": {
          "grade": false,
          "grade_id": "cell-848975a8e5d92c93",
          "locked": false,
          "schema_version": 3,
          "solution": true,
          "task": false
        },
        "id": "fVye0E0KuPul"
      },
      "outputs": [],
      "source": [
        "# Faça aqui"
      ]
    },
    {
      "cell_type": "markdown",
      "metadata": {
        "id": "jcemYY9auPum"
      },
      "source": [
        "#### W7.7 Usando o método unstack, faça o pivoteamento do dataframe no nível 0 (neste dataframe o nível 0 armazena os tipos de veículos)."
      ]
    },
    {
      "cell_type": "code",
      "execution_count": null,
      "metadata": {
        "id": "jotr0NFKuPum"
      },
      "outputs": [],
      "source": [
        "index = pd.MultiIndex.from_tuples([('carro', 'Azul'), ('carro', 'Vermelho'),\n",
        "                                   ('moto', 'Azul'), ('moto', 'Vermelho')])\n",
        "s = pd.Series(np.arange(1.0, 5.0), index=index)\n",
        "s"
      ]
    },
    {
      "cell_type": "code",
      "execution_count": null,
      "metadata": {
        "nbgrader": {
          "grade": false,
          "grade_id": "cell-a9a73bd28a920ce9",
          "locked": false,
          "schema_version": 3,
          "solution": true,
          "task": false
        },
        "id": "9wezz5OnuPum"
      },
      "outputs": [],
      "source": [
        "# Faça aqui"
      ]
    }
  ],
  "metadata": {
    "celltoolbar": "Create Assignment",
    "kernelspec": {
      "display_name": "Python 3",
      "language": "python",
      "name": "python3"
    },
    "language_info": {
      "codemirror_mode": {
        "name": "ipython",
        "version": 3
      },
      "file_extension": ".py",
      "mimetype": "text/x-python",
      "name": "python",
      "nbconvert_exporter": "python",
      "pygments_lexer": "ipython3",
      "version": "3.8.3"
    },
    "varInspector": {
      "cols": {
        "lenName": 16,
        "lenType": 16,
        "lenVar": 40
      },
      "kernels_config": {
        "python": {
          "delete_cmd_postfix": "",
          "delete_cmd_prefix": "del ",
          "library": "var_list.py",
          "varRefreshCmd": "print(var_dic_list())"
        },
        "r": {
          "delete_cmd_postfix": ") ",
          "delete_cmd_prefix": "rm(",
          "library": "var_list.r",
          "varRefreshCmd": "cat(var_dic_list()) "
        }
      },
      "types_to_exclude": [
        "module",
        "function",
        "builtin_function_or_method",
        "instance",
        "_Feature"
      ],
      "window_display": false
    },
    "colab": {
      "provenance": [],
      "include_colab_link": true
    }
  },
  "nbformat": 4,
  "nbformat_minor": 0
}