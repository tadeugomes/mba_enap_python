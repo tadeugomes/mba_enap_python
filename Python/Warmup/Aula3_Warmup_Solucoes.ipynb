{
  "nbformat": 4,
  "nbformat_minor": 0,
  "metadata": {
    "celltoolbar": "Create Assignment",
    "kernelspec": {
      "display_name": "Python 3",
      "language": "python",
      "name": "python3"
    },
    "language_info": {
      "codemirror_mode": {
        "name": "ipython",
        "version": 3
      },
      "file_extension": ".py",
      "mimetype": "text/x-python",
      "name": "python",
      "nbconvert_exporter": "python",
      "pygments_lexer": "ipython3",
      "version": "3.8.3"
    },
    "varInspector": {
      "cols": {
        "lenName": 16,
        "lenType": 16,
        "lenVar": 40
      },
      "kernels_config": {
        "python": {
          "delete_cmd_postfix": "",
          "delete_cmd_prefix": "del ",
          "library": "var_list.py",
          "varRefreshCmd": "print(var_dic_list())"
        },
        "r": {
          "delete_cmd_postfix": ") ",
          "delete_cmd_prefix": "rm(",
          "library": "var_list.r",
          "varRefreshCmd": "cat(var_dic_list()) "
        }
      },
      "types_to_exclude": [
        "module",
        "function",
        "builtin_function_or_method",
        "instance",
        "_Feature"
      ],
      "window_display": false
    },
    "colab": {
      "provenance": [],
      "include_colab_link": true
    }
  },
  "cells": [
    {
      "cell_type": "markdown",
      "metadata": {
        "id": "view-in-github",
        "colab_type": "text"
      },
      "source": [
        "<a href=\"https://colab.research.google.com/github/alexlopespereira/mba_enap/blob/main/Warmup/Aula3_Warmup_Solucoes.ipynb\" target=\"_parent\"><img src=\"https://colab.research.google.com/assets/colab-badge.svg\" alt=\"Open In Colab\"/></a>"
      ]
    },
    {
      "cell_type": "markdown",
      "metadata": {
        "id": "11jL4mPH2LNj"
      },
      "source": [
        "# Aula 3 - Warmup de Estruturas de Dados Nativas do Python"
      ]
    },
    {
      "cell_type": "markdown",
      "metadata": {
        "id": "PMBAjQSu2LN0"
      },
      "source": [
        "### Treinando ordenamento de listas"
      ]
    },
    {
      "cell_type": "markdown",
      "metadata": {
        "id": "cmAGcNfw2LN5"
      },
      "source": [
        "#### W3.1 Crie uma lista de numeros inteiros e ordene-a usando um método built-in que altera a propria lista."
      ]
    },
    {
      "cell_type": "code",
      "metadata": {
        "nbgrader": {
          "grade": false,
          "grade_id": "cell-ecd7845804c3fdd0",
          "locked": false,
          "schema_version": 3,
          "solution": true,
          "task": false
        },
        "id": "rEy8o2jK2LN7"
      },
      "source": [
        "### BEGIN SOLUTION\n",
        "lista = [5, 6, 1, 100, -2]\n",
        "lista.sort()\n",
        "print(lista)\n",
        "### END SOLUTION"
      ],
      "execution_count": null,
      "outputs": []
    },
    {
      "cell_type": "markdown",
      "metadata": {
        "id": "uPaZi9Wi2LN9"
      },
      "source": [
        "#### W3.2 Crie uma lista de strings e ordene-a usando um método que retorna uma cópia alterada da lista."
      ]
    },
    {
      "cell_type": "code",
      "metadata": {
        "nbgrader": {
          "grade": false,
          "grade_id": "cell-3abf91a12065db21",
          "locked": false,
          "schema_version": 3,
          "solution": true,
          "task": false
        },
        "id": "YAbjtp3M2LN-"
      },
      "source": [
        "### BEGIN SOLUTION\n",
        "lista = [\"5\", \"a\", \"0\", \"\", \"asdf\"]\n",
        "print(sorted(lista))\n",
        "### END SOLUTION"
      ],
      "execution_count": null,
      "outputs": []
    },
    {
      "cell_type": "markdown",
      "metadata": {
        "id": "ZU8I1Ilh2LN_"
      },
      "source": [
        "### Corrigindo Erros de Sintaxe  \n"
      ]
    },
    {
      "cell_type": "markdown",
      "metadata": {
        "id": "t3vMH9r92LOA"
      },
      "source": [
        "#### W3.3 Corrija os erros de sintaxe das células abaixo"
      ]
    },
    {
      "cell_type": "code",
      "metadata": {
        "id": "Ot8r5Y1o2LOC"
      },
      "source": [
        "if 3 > 1\n",
        "    print(\"True\")\n",
        "else\n",
        "    print(\"False\")"
      ],
      "execution_count": null,
      "outputs": []
    },
    {
      "cell_type": "code",
      "metadata": {
        "nbgrader": {
          "grade": false,
          "grade_id": "cell-4d00fbe2ffe9eca5",
          "locked": false,
          "schema_version": 3,
          "solution": true,
          "task": false
        },
        "id": "rj-rAHag2LOD"
      },
      "source": [
        "# Faça aqui\n",
        "### BEGIN SOLUTION\n",
        "if 3 > 1:\n",
        "    print(\"True\")\n",
        "else:\n",
        "    print(\"False\")\n",
        "### END SOLUTION"
      ],
      "execution_count": null,
      "outputs": []
    },
    {
      "cell_type": "code",
      "metadata": {
        "id": "Hjn0FmTg2LOG"
      },
      "source": [
        "a = (3+b)*2)\n",
        "b = 4"
      ],
      "execution_count": null,
      "outputs": []
    },
    {
      "cell_type": "code",
      "metadata": {
        "nbgrader": {
          "grade": false,
          "grade_id": "cell-26f1077053ea05b9",
          "locked": false,
          "schema_version": 3,
          "solution": true,
          "task": false
        },
        "id": "5a3ubRuS2LOJ"
      },
      "source": [
        "# Faça aqui\n",
        "### BEGIN SOLUTION\n",
        "b = 4\n",
        "a = (3+b)*2\n",
        "### END SOLUTION"
      ],
      "execution_count": null,
      "outputs": []
    },
    {
      "cell_type": "code",
      "metadata": {
        "id": "npgiy_8F2LOM"
      },
      "source": [
        "print('where is jonh's car')"
      ],
      "execution_count": null,
      "outputs": []
    },
    {
      "cell_type": "code",
      "metadata": {
        "nbgrader": {
          "grade": false,
          "grade_id": "cell-9a557668cec18b15",
          "locked": false,
          "schema_version": 3,
          "solution": true,
          "task": false
        },
        "id": "-GlKTl6t2LOQ"
      },
      "source": [
        "# Dica: o caracter \\ pode ser utilizado para escapar (ignorar)\n",
        "#       caracteres especiais dentro de strings.\n",
        "# Faça aqui\n",
        "### BEGIN SOLUTION\n",
        "print('where is jonh\\'s car')\n",
        "\n",
        "# Solução alternativa\n",
        "print(\"where is jonh's car\")\n",
        "### END SOLUTION"
      ],
      "execution_count": null,
      "outputs": []
    },
    {
      "cell_type": "code",
      "metadata": {
        "id": "RqJVH0nI2LOR"
      },
      "source": [
        "if True:\n",
        "print(\"Isso sempre é impresso.\")"
      ],
      "execution_count": null,
      "outputs": []
    },
    {
      "cell_type": "code",
      "metadata": {
        "nbgrader": {
          "grade": false,
          "grade_id": "cell-88092cbb0676f69e",
          "locked": false,
          "schema_version": 3,
          "solution": true,
          "task": false
        },
        "id": "RBM6rhyD2LOS"
      },
      "source": [
        "# Faça aqui\n",
        "### BEGIN SOLUTION\n",
        "if True:\n",
        "    print(\"Isso sempre é impresso.\")\n",
        "### END SOLUTION"
      ],
      "execution_count": null,
      "outputs": []
    },
    {
      "cell_type": "markdown",
      "metadata": {
        "id": "iY74fLkS2LOT"
      },
      "source": [
        "### Corrigindo Erros de Runtime"
      ]
    },
    {
      "cell_type": "markdown",
      "metadata": {
        "id": "CTSx9IJ42LOU"
      },
      "source": [
        "#### W3.4 Corrija os erros do tipo Runtime abaixo"
      ]
    },
    {
      "cell_type": "code",
      "metadata": {
        "id": "qlKe_L9m2LOV"
      },
      "source": [
        "# Efetuar a divisão a seguir\n",
        "10/\"5\""
      ],
      "execution_count": null,
      "outputs": []
    },
    {
      "cell_type": "code",
      "metadata": {
        "nbgrader": {
          "grade": false,
          "grade_id": "cell-7b1cb642471c5ea0",
          "locked": false,
          "schema_version": 3,
          "solution": true,
          "task": false
        },
        "id": "9g4kdTvi2LOX"
      },
      "source": [
        "# Faça aqui\n",
        "### BEGIN SOLUTION\n",
        "10/5\n",
        "### END SOLUTION"
      ],
      "execution_count": null,
      "outputs": []
    },
    {
      "cell_type": "code",
      "metadata": {
        "id": "aZfP0V6z2LOY"
      },
      "source": [
        "c = [1, 2, 3]\n",
        "# Imprimir o ultimo elemento da lista c\n",
        "print(c[3])"
      ],
      "execution_count": null,
      "outputs": []
    },
    {
      "cell_type": "code",
      "metadata": {
        "nbgrader": {
          "grade": false,
          "grade_id": "cell-2433ce65164a726d",
          "locked": false,
          "schema_version": 3,
          "solution": true,
          "task": false
        },
        "id": "aDGyTAxu2LOZ"
      },
      "source": [
        "# Faça aqui\n",
        "### BEGIN SOLUTION\n",
        "print(c[2])\n",
        "### END SOLUTION"
      ],
      "execution_count": null,
      "outputs": []
    },
    {
      "cell_type": "code",
      "metadata": {
        "id": "ZLZfUMkA2LOa"
      },
      "source": [
        "l = [{\"nome\": \"Joao\", \"telefone\": 9917363}, {\"nome\": \"Ana\", \"telefone\": 9023633},\n",
        "    {\"nome\": \"Roberto\", \"telefone\": 9937321}, {\"none\": \"Maria\", \"telefome\": 92736213}]\n",
        "# imprimir o valor do telefone e do nome do ultimo elemento da lista de dicionários\n",
        "print(l[-1]['telefone'], l[-1]['nome'])"
      ],
      "execution_count": null,
      "outputs": []
    },
    {
      "cell_type": "code",
      "metadata": {
        "nbgrader": {
          "grade": false,
          "grade_id": "cell-42271734f1d33400",
          "locked": false,
          "schema_version": 3,
          "solution": true,
          "task": false
        },
        "id": "745EXYhz2LOc"
      },
      "source": [
        "# Faça aqui\n",
        "### BEGIN SOLUTION\n",
        "l = [{\"nome\": \"Joao\", \"telefone\": 9917363}, {\"nome\": \"Ana\", \"telefone\": 9023633},\n",
        "    {\"nome\": \"Roberto\", \"telefone\": 9937321}, {\"nome\": \"Maria\", \"telefone\": 92736213}]\n",
        "# imprimir o valor do telefone e do nome do ultimo elemento da lista de dicionários\n",
        "print(l[-1]['telefone'], l[-1]['nome'])\n",
        "### END SOLUTION"
      ],
      "execution_count": null,
      "outputs": []
    },
    {
      "cell_type": "markdown",
      "metadata": {
        "id": "Q0G3Y4uj2LOd"
      },
      "source": [
        "### Corrigindo Erros de Lógica  "
      ]
    },
    {
      "cell_type": "markdown",
      "metadata": {
        "id": "XKWpApnW2LOe"
      },
      "source": [
        "#### W3.5 Corrija os erros de lógica das células abaixo"
      ]
    },
    {
      "cell_type": "code",
      "metadata": {
        "id": "Z4kKjlT-2LOe"
      },
      "source": [
        "# Encontre o erro e faça o código correto na célula abaixo desta\n",
        "a = \"10\"\n",
        "if a == 10:\n",
        "    print(f\"{a} é igual a 10\")\n",
        "else:\n",
        "    print(f\"{a} é diferente de 10\")"
      ],
      "execution_count": null,
      "outputs": []
    },
    {
      "cell_type": "code",
      "metadata": {
        "nbgrader": {
          "grade": false,
          "grade_id": "cell-876f98a752c76df7",
          "locked": false,
          "schema_version": 3,
          "solution": true,
          "task": false
        },
        "id": "PQMNNNva2LOg"
      },
      "source": [
        "# Faça aqui\n",
        "### BEGIN SOLUTION\n",
        "# Uma das possíveis soluções é esta apresentada a seguir:\n",
        "a = 10\n",
        "if a == 10:\n",
        "    print(f\"{a} é igual a 10\")\n",
        "else:\n",
        "    print(f\"{a} é diferente de 10\")\n",
        "### END SOLUTION"
      ],
      "execution_count": null,
      "outputs": []
    },
    {
      "cell_type": "code",
      "metadata": {
        "id": "YrXh40YZ2LOk"
      },
      "source": [
        "# Encontre o erro e faça o código correto na célula abaixo desta\n",
        "l = [\"awerr\", \"aab\", \"sssaere\", \"aabb\", \"qwerttt\", \"12345\"]\n",
        "# Código para imprimir os elementos da lista l cujo tamanho seja maior que 3\n",
        "for x in l[1:]:\n",
        "    if len(x) > 3:\n",
        "        print(x)"
      ],
      "execution_count": null,
      "outputs": []
    },
    {
      "cell_type": "code",
      "metadata": {
        "nbgrader": {
          "grade": false,
          "grade_id": "cell-1b3832f5df58f03c",
          "locked": false,
          "schema_version": 3,
          "solution": true,
          "task": false
        },
        "id": "DoOg2-GC2LOm"
      },
      "source": [
        "# Faça aqui\n",
        "### BEGIN SOLUTION\n",
        "l = [\"awerr\", \"aab\", \"sssaere\", \"aabb\", \"qwerttt\", \"12345\"]\n",
        "# Código para imprimir os elementos da lista l cujo tamanho seja maior que 3\n",
        "for x in l[:]:\n",
        "    if len(x) > 3:\n",
        "        print(x)\n",
        "### END SOLUTION"
      ],
      "execution_count": null,
      "outputs": []
    },
    {
      "cell_type": "markdown",
      "metadata": {
        "id": "2ri53MQW2LOn"
      },
      "source": [
        "### Treinando conceitos de dicionário (dict) em python"
      ]
    },
    {
      "cell_type": "markdown",
      "metadata": {
        "id": "haaF9tke2LOo"
      },
      "source": [
        "#### W3.6 Criar um dicionário que represente o conteúdo da tabela abaixo"
      ]
    },
    {
      "cell_type": "markdown",
      "metadata": {
        "id": "g-4zwvDk2LOp"
      },
      "source": [
        "| Nome       | Endereço     | Telefone     |\n",
        "| :------------- | :----------: | -----------: |\n",
        "|  Jose da Silva | Rua 2, n. 39   | 119865563    |"
      ]
    },
    {
      "cell_type": "code",
      "metadata": {
        "nbgrader": {
          "grade": false,
          "grade_id": "cell-e82fa194744b4f22",
          "locked": false,
          "schema_version": 3,
          "solution": true,
          "task": false
        },
        "id": "1jUmedaC2LOq"
      },
      "source": [
        "# Faça aqui\n",
        "### BEGIN SOLUTION\n",
        "d = {'nome': 'Jose da Silva', 'Endereço': \"Rua 2, n. 39\", \"Telefone\": \"119865563\"}\n",
        "# Ou\n",
        "d = {'nome': 'Jose da Silva', 'Endereço': \"Rua 2, n. 39\", \"Telefone\": 119865563}\n",
        "### END SOLUTION"
      ],
      "execution_count": null,
      "outputs": []
    },
    {
      "cell_type": "markdown",
      "metadata": {
        "id": "K6bEG_Di2LOs"
      },
      "source": [
        "#### W3.7 Jose da Silva mudou seu número de telefone para 1187662330. Altere este valor no dicionário que você acabou de criar"
      ]
    },
    {
      "cell_type": "code",
      "metadata": {
        "nbgrader": {
          "grade": false,
          "grade_id": "cell-72ead8714d876ceb",
          "locked": false,
          "schema_version": 3,
          "solution": true,
          "task": false
        },
        "id": "M6E3vvBC2LOt"
      },
      "source": [
        "# Faça aqui\n",
        "### BEGIN SOLUTION\n",
        "d[\"Telefone\"] = 119865563\n",
        "### END SOLUTION"
      ],
      "execution_count": null,
      "outputs": []
    },
    {
      "cell_type": "markdown",
      "metadata": {
        "id": "sHhEw5S22LOt"
      },
      "source": [
        "#### W3.8 Crie um atributo CPF no dicionário da célula acima e adicione o CPF do Jose da Silva: 495.152.344-90"
      ]
    },
    {
      "cell_type": "code",
      "metadata": {
        "nbgrader": {
          "grade": false,
          "grade_id": "cell-184aace577272028",
          "locked": false,
          "schema_version": 3,
          "solution": true,
          "task": false
        },
        "id": "3dUjwZ3z2LOu"
      },
      "source": [
        "# Faça aqui\n",
        "### BEGIN SOLUTION\n",
        "d[\"CPF\"] = \"495.152.344-90\"\n",
        "### END SOLUTION"
      ],
      "execution_count": null,
      "outputs": []
    },
    {
      "cell_type": "markdown",
      "metadata": {
        "id": "Ga3KvTBN2LOu"
      },
      "source": [
        "#### W3.9 Remova o atributo Endereço desse dicionário"
      ]
    },
    {
      "cell_type": "code",
      "metadata": {
        "nbgrader": {
          "grade": false,
          "grade_id": "cell-54f5c035193faadd",
          "locked": false,
          "schema_version": 3,
          "solution": true,
          "task": false
        },
        "id": "5BpIhrgQ2LOv"
      },
      "source": [
        "# Faça aqui\n",
        "### BEGIN SOLUTION\n",
        "del d[\"Endereço\"]\n",
        "### END SOLUTION"
      ],
      "execution_count": null,
      "outputs": []
    },
    {
      "cell_type": "markdown",
      "metadata": {
        "id": "g3C1jjuI2LOv"
      },
      "source": [
        "### Treinando conceitos de Tupla"
      ]
    },
    {
      "cell_type": "markdown",
      "metadata": {
        "id": "FL6G8qAr2LOw"
      },
      "source": [
        "#### W3.10 Crie uma tupla com os números inteiros ímpares entre 0 e 10. Simplesmente crie a tupla, sem nenhum laço(loop)."
      ]
    },
    {
      "cell_type": "code",
      "metadata": {
        "nbgrader": {
          "grade": false,
          "grade_id": "cell-5976368b2d2ae647",
          "locked": false,
          "schema_version": 3,
          "solution": true,
          "task": false
        },
        "scrolled": true,
        "id": "iZp_fDlW2LOw"
      },
      "source": [
        "# Faça aqui\n",
        "### BEGIN SOLUTION\n",
        "t1 = (0,1,2,3,4,5,6,7,8,9,10)\n",
        "# solucao alternativa\n",
        "t2 = tuple(range(0,11))\n",
        "### END SOLUTION"
      ],
      "execution_count": null,
      "outputs": []
    },
    {
      "cell_type": "code",
      "metadata": {
        "nbgrader": {
          "grade": false,
          "grade_id": "cell-a0db510e1a41af40",
          "locked": false,
          "schema_version": 3,
          "solution": true,
          "task": false
        },
        "id": "glyQOAQ62LOx"
      },
      "source": [
        "# Faça uma iteração sobre a tupla da célula anterior e\n",
        "# imprima o valor de cada elemento elevado ao quadrado.\n",
        "# Faça aqui\n",
        "### BEGIN SOLUTION\n",
        "for i in t1:\n",
        "    print(i**2)\n",
        "### END SOLUTION"
      ],
      "execution_count": null,
      "outputs": []
    },
    {
      "cell_type": "markdown",
      "metadata": {
        "id": "WK3h2gGL2LOy"
      },
      "source": [
        "### Treinando conceitos de Set"
      ]
    },
    {
      "cell_type": "code",
      "metadata": {
        "scrolled": true,
        "id": "BQGKXMUY2LOz"
      },
      "source": [
        "# Considere os seguintes conjuntos\n",
        "c1 = {1, 2, 3, 4, \"a\", \"b\", \"c\"}\n",
        "c2 = {3, 4, 5, 6, \"a\", \"e\"}"
      ],
      "execution_count": null,
      "outputs": []
    },
    {
      "cell_type": "markdown",
      "metadata": {
        "id": "DzNnVypN2LOz"
      },
      "source": [
        "#### W3.11 Escreva um código que cria a união dos conjuntos c1 e c2"
      ]
    },
    {
      "cell_type": "code",
      "metadata": {
        "nbgrader": {
          "grade": false,
          "grade_id": "cell-e9e83852422d7e19",
          "locked": false,
          "schema_version": 3,
          "solution": true,
          "task": false
        },
        "id": "dvWhbKcP2LO0"
      },
      "source": [
        "# Faça aqui\n",
        "### BEGIN SOLUTION\n",
        "c1.union(c2)\n",
        "### END SOLUTION"
      ],
      "execution_count": null,
      "outputs": []
    },
    {
      "cell_type": "markdown",
      "metadata": {
        "id": "wV9GeWFa2LO1"
      },
      "source": [
        "#### W3.12 Escreva um código que cria a intersecção dos conjuntos c1 e c2"
      ]
    },
    {
      "cell_type": "code",
      "metadata": {
        "nbgrader": {
          "grade": false,
          "grade_id": "cell-40c3a36f8e6a169a",
          "locked": false,
          "schema_version": 3,
          "solution": true,
          "task": false
        },
        "id": "zDarsO1t2LO1"
      },
      "source": [
        "# Faça aqui\n",
        "### BEGIN SOLUTION\n",
        "c1.intersection(c2)\n",
        "### END SOLUTION"
      ],
      "execution_count": null,
      "outputs": []
    },
    {
      "cell_type": "markdown",
      "metadata": {
        "id": "1u-NdJx-2LO3"
      },
      "source": [
        "#### W3.13 Criar uma lista de dicionários que represente o conteúdo da tabela abaixo"
      ]
    },
    {
      "cell_type": "markdown",
      "metadata": {
        "id": "kIiG4RDd2LO3"
      },
      "source": [
        "| Nome       | Endereço     | Telefone     | CPF |\n",
        "| :------------- | :----------: | -----------: | -----------: |\n",
        "|  Jose da Silva | Rua 2, n. 39   | 119865563    | 495.152.344-90\n",
        "|  Roberto da Araujo | Av 2, n. 2010   | 389912353    | 755.223.432-10\n",
        "|  Maria Almeida | Rua Jau, n. 309   | 139845162    | 131.223.415-12\n",
        "|  Joaquim Pereira | Av Sete de Setembro, n. 5240   | 329912633    | 456.214.616-67"
      ]
    },
    {
      "cell_type": "code",
      "metadata": {
        "nbgrader": {
          "grade": false,
          "grade_id": "cell-4de29ff675d23ff0",
          "locked": false,
          "schema_version": 3,
          "solution": true,
          "task": false
        },
        "id": "HVAifdxn2LO4"
      },
      "source": [
        "# Faça aqui\n",
        "### BEGIN SOLUTION\n",
        "l = [\n",
        "    {\"nome\": \"Jose da Silva\", \"Endereço\": \"Rua 2, n. 39\", \"Telefone\": \"119865563\", \"CPF\": \"495.152.344-90\"},\n",
        "    {\"nome\": \"Roberto da Araujo\", \"Endereço\": \"Av 2, n. 2010\", \"Telefone\": \"389912353\", \"CPF\": \"755.223.432-10\"},\n",
        "    {\"nome\": \"Maria Almeida\", \"Endereço\": \"Rua Jau, n. 309\", \"Telefone\": \"139845162\", \"CPF\": \"131.223.415-12\"},\n",
        "    {\"nome\": \"Joaquim Pereira\", \"Endereço\": \"Av Sete de Setembro, n. 5240\" , \"Telefone\": \"329912633\", \"CPF\": \"456.214.616-67\"}\n",
        "  ]\n",
        "### END SOLUTION"
      ],
      "execution_count": null,
      "outputs": []
    },
    {
      "cell_type": "markdown",
      "metadata": {
        "id": "3eTFGm-K2LO5"
      },
      "source": [
        "#### W3.14 Considerando a lista de dicionários do exercício anterior, remova o dicionário do José da Silva desta lista."
      ]
    },
    {
      "cell_type": "code",
      "metadata": {
        "nbgrader": {
          "grade": false,
          "grade_id": "cell-288cf6ca354e8001",
          "locked": false,
          "schema_version": 3,
          "solution": true,
          "task": false
        },
        "id": "coKADsI02LO5"
      },
      "source": [
        "# Faça aqui\n",
        "### BEGIN SOLUTION\n",
        "l.pop(0)\n",
        "print(l)\n",
        "### END SOLUTION"
      ],
      "execution_count": null,
      "outputs": []
    },
    {
      "cell_type": "markdown",
      "metadata": {
        "id": "qkE-hyFJ2LO6"
      },
      "source": [
        "#### W3.15 Considerando a lista de dicionarios do exercicio anterior, usando um loop, remova todos os telefones desta lista de dicionários"
      ]
    },
    {
      "cell_type": "code",
      "metadata": {
        "nbgrader": {
          "grade": false,
          "grade_id": "cell-f9b29d0f9343f404",
          "locked": false,
          "schema_version": 3,
          "solution": true,
          "task": false
        },
        "id": "8dWGrDZ_2LO7"
      },
      "source": [
        "# Faça aqui\n",
        "### BEGIN SOLUTION\n",
        "for e in l:\n",
        "    del e['Telefone']\n",
        "\n",
        "print(l)\n",
        "### END SOLUTION"
      ],
      "execution_count": null,
      "outputs": []
    },
    {
      "cell_type": "markdown",
      "metadata": {
        "id": "PWk3aMUJ2LO8"
      },
      "source": [
        "### Treinando a função zip  "
      ]
    },
    {
      "cell_type": "markdown",
      "metadata": {
        "id": "Y5v6CK_I2LO9"
      },
      "source": [
        "#### W3.16 Crie um código que execute as instruções solicitadas abaixo"
      ]
    },
    {
      "cell_type": "code",
      "metadata": {
        "nbgrader": {
          "grade": false,
          "grade_id": "cell-617a50b1b9a4ef1b",
          "locked": false,
          "schema_version": 3,
          "solution": true,
          "task": false
        },
        "id": "aQGIVfpm2LO9"
      },
      "source": [
        "# Considere as seguintes listas\n",
        "letras = [\"Jan\", \"Fev\", \"Mar\"]\n",
        "numeros = [1000, 2000, 3000]\n",
        "\n",
        "# Usando a função zip e um loop do tipo for, crie um dicionário cuja chave sejam\n",
        "# os elementos da lista letras e o valor os elementos da lista numeros\n",
        "# Resultado esperado: {\"Jan\": 1000, \"Fev\": 2000, \"Mar\": 3000}\n",
        "# Faça aqui\n",
        "### BEGIN SOLUTION\n",
        "result = {}\n",
        "for l, n in zip(letras, numeros):\n",
        "    result[l] = n\n",
        "print(result)\n",
        "### END SOLUTION"
      ],
      "execution_count": null,
      "outputs": []
    },
    {
      "cell_type": "markdown",
      "metadata": {
        "id": "T6RuvvyR2LO-"
      },
      "source": [
        "### Treinando instruções inline e list comprehension"
      ]
    },
    {
      "cell_type": "markdown",
      "metadata": {
        "id": "hYzOOChv2LO-"
      },
      "source": [
        "#### W3.17 Escreva uma instrução ```if else``` na forma inline que teste o tamanho de uma string e retorne True caso o seu tamanho seja maior que 5, e Falso caso contrário.\n",
        "#### Dica - Sintaxe: valor_se_verdadeiro if condicao else valor_se_falso"
      ]
    },
    {
      "cell_type": "code",
      "metadata": {
        "nbgrader": {
          "grade": false,
          "grade_id": "cell-0876947d747cd681",
          "locked": false,
          "schema_version": 3,
          "solution": true,
          "task": false
        },
        "id": "uS5AwF152LO_"
      },
      "source": [
        "# Faça aqui\n",
        "### BEGIN SOLUTION\n",
        "s = \"asdfasd\"\n",
        "r = True if len(s) > 5 else False\n",
        "print(r)\n",
        "### END SOLUTION\n"
      ],
      "execution_count": null,
      "outputs": []
    },
    {
      "cell_type": "markdown",
      "metadata": {
        "id": "pJRFUti82LPC"
      },
      "source": [
        "#### W3.18 Escreva um list comprehension, ou seja, uma instrução de loop (for) na forma inline que gere a lista [1, 4, 9, 16, 25, 36, 49, 64,  81, 100]\n",
        "#### Dica - Sintaxe: [ OPERACAO_COM_X for X in SEQUENCIA ]"
      ]
    },
    {
      "cell_type": "code",
      "metadata": {
        "nbgrader": {
          "grade": false,
          "grade_id": "cell-87754dbd0467c717",
          "locked": false,
          "schema_version": 3,
          "solution": true,
          "task": false
        },
        "id": "-33Y2jsu2LPC"
      },
      "source": [
        "# Faça aqui\n",
        "### BEGIN SOLUTION\n",
        "[x**2 for x in range(1, 11)]\n",
        "### END SOLUTION"
      ],
      "execution_count": null,
      "outputs": []
    },
    {
      "cell_type": "markdown",
      "metadata": {
        "id": "Zqeg2eIX2LPD"
      },
      "source": [
        "#### W3.19 Escreva um list comprehension, ou seja, uma instrução de loop (for) na forma inline que gere a lista [1, 3, 5, 7, 9, 11, 13, 15, 17, 19]\n",
        "#### Dica - Sintaxe: [ OPERACAO_COM_X for X in SEQUENCIA ]"
      ]
    },
    {
      "cell_type": "code",
      "metadata": {
        "nbgrader": {
          "grade": false,
          "grade_id": "cell-ffec87ae8bbda598",
          "locked": false,
          "schema_version": 3,
          "solution": true,
          "task": false
        },
        "id": "OC7WpKah2LPD"
      },
      "source": [
        "# Faça aqui\n",
        "### BEGIN SOLUTION\n",
        "[x for x in range(1, 20, 2)]\n",
        "### END SOLUTION"
      ],
      "execution_count": null,
      "outputs": []
    },
    {
      "cell_type": "markdown",
      "metadata": {
        "id": "XuK77-xV2LPE"
      },
      "source": [
        "#### W3.20 Escreva um dict comprehension, ou seja, uma instrução de loop (for) na forma inline que gere um dicionário. O dicionário deve conter palavras nas suas chaves e nos valores, os respectivos tamanhos (quantidade de letras) das suas chaves.\n",
        "#### Exemplo: {\"carro\": 5, \"moto\": 4, \"trem\": 4, \"aviao\": 5, \"bicicleta\": 9}"
      ]
    },
    {
      "cell_type": "code",
      "metadata": {
        "nbgrader": {
          "grade": false,
          "grade_id": "cell-2a696a59d288e6a3",
          "locked": false,
          "schema_version": 3,
          "solution": true,
          "task": false
        },
        "id": "joa9P3TZ2LPG"
      },
      "source": [
        "palavras = [\"carro\", \"moto\", \"trem\", \"aviao\", \"bicicleta\"]\n",
        "# Faça aqui\n",
        "### BEGIN SOLUTION\n",
        "{k:len(k) for k in palavras}\n",
        "### END SOLUTION"
      ],
      "execution_count": null,
      "outputs": []
    },
    {
      "cell_type": "markdown",
      "metadata": {
        "id": "QaeltOYH2LPH"
      },
      "source": [
        "### Treinando requisições HTTP em Python"
      ]
    },
    {
      "cell_type": "markdown",
      "metadata": {
        "id": "BvRjrCAt2LPI"
      },
      "source": [
        "#### W3.21 Escreva um código python para fazer uma requisição http à URL ```https://api.exchangerate-api.com/v4/latest/USD``` e imprimir a cotação do Dolar em EURO.\n",
        "#### Dica: o código do Euro no JSON retornado por esta requisição é EUR."
      ]
    },
    {
      "cell_type": "code",
      "metadata": {
        "nbgrader": {
          "grade": false,
          "grade_id": "cell-33866a4348a06f4f",
          "locked": false,
          "schema_version": 3,
          "solution": true,
          "task": false
        },
        "colab": {
          "base_uri": "https://localhost:8080/"
        },
        "id": "wYXfJYtq2LPJ",
        "outputId": "7a96e22b-c792-4f0b-dca7-e66229d6578b"
      },
      "source": [
        "# Faça aqui\n",
        "### BEGIN SOLUTION\n",
        "# Importar a biblioteca que faz requisições HTTP\n",
        "import requests\n",
        "# Fazer uma requisição HTTP\n",
        "r = requests.get(\"https://api.exchangerate-api.com/v4/latest/USD\")\n",
        "# Transformar a resposta em JSON\n",
        "resp_json = r.json()\n",
        "print(resp_json['provider'])\n",
        "### END SOLUTION"
      ],
      "execution_count": null,
      "outputs": [
        {
          "output_type": "stream",
          "name": "stdout",
          "text": [
            "{'provider': 'https://www.exchangerate-api.com', 'WARNING_UPGRADE_TO_V6': 'https://www.exchangerate-api.com/docs/free', 'terms': 'https://www.exchangerate-api.com/terms', 'base': 'USD', 'date': '2021-09-02', 'time_last_updated': 1630540801, 'rates': {'USD': 1, 'AED': 3.67, 'AFN': 83.63, 'ALL': 103.22, 'AMD': 493.27, 'ANG': 1.79, 'AOA': 638, 'ARS': 97.73, 'AUD': 1.36, 'AWG': 1.79, 'AZN': 1.7, 'BAM': 1.65, 'BBD': 2, 'BDT': 85.11, 'BGN': 1.65, 'BHD': 0.376, 'BIF': 1980.02, 'BMD': 1, 'BND': 1.34, 'BOB': 6.89, 'BRL': 5.15, 'BSD': 1, 'BTN': 72.98, 'BWP': 11.09, 'BYN': 2.51, 'BZD': 2, 'CAD': 1.26, 'CDF': 1986.51, 'CHF': 0.916, 'CLP': 774.79, 'CNY': 6.46, 'COP': 3750.55, 'CRC': 621.24, 'CUC': 1, 'CUP': 25.75, 'CVE': 93.15, 'CZK': 21.52, 'DJF': 177.72, 'DKK': 6.3, 'DOP': 56.86, 'DZD': 135.54, 'EGP': 15.67, 'ERN': 15, 'ETB': 45.68, 'EUR': 0.845, 'FJD': 2.09, 'FKP': 0.726, 'FOK': 6.3, 'GBP': 0.726, 'GEL': 3.11, 'GGP': 0.726, 'GHS': 6.02, 'GIP': 0.726, 'GMD': 52.08, 'GNF': 9790.29, 'GTQ': 7.73, 'GYD': 209.26, 'HKD': 7.77, 'HNL': 23.83, 'HRK': 6.36, 'HTG': 97.64, 'HUF': 295.15, 'IDR': 14392.58, 'ILS': 3.22, 'IMP': 0.726, 'INR': 72.98, 'IQD': 1459.4, 'IRR': 41887.84, 'ISK': 125.95, 'JMD': 151.56, 'JOD': 0.709, 'JPY': 110.08, 'KES': 109.74, 'KGS': 84.68, 'KHR': 4081.03, 'KID': 1.36, 'KMF': 415.59, 'KRW': 1157.35, 'KWD': 0.3, 'KYD': 0.833, 'KZT': 426.34, 'LAK': 9568.9, 'LBP': 1507.5, 'LKR': 200.16, 'LRD': 171.74, 'LSL': 14.42, 'LYD': 4.52, 'MAD': 8.93, 'MDL': 17.7, 'MGA': 3917.26, 'MKD': 52.08, 'MMK': 1643.05, 'MNT': 2850.34, 'MOP': 8.01, 'MRU': 36.15, 'MUR': 42.28, 'MVR': 15.4, 'MWK': 812.09, 'MXN': 20.01, 'MYR': 4.15, 'MZN': 64.01, 'NAD': 14.42, 'NGN': 422.61, 'NIO': 35.09, 'NOK': 8.69, 'NPR': 116.77, 'NZD': 1.42, 'OMR': 0.384, 'PAB': 1, 'PEN': 4.09, 'PGK': 3.5, 'PHP': 49.98, 'PKR': 166.74, 'PLN': 3.82, 'PYG': 6958.01, 'QAR': 3.64, 'RON': 4.17, 'RSD': 99.58, 'RUB': 73.05, 'RWF': 1008.26, 'SAR': 3.75, 'SBD': 7.94, 'SCR': 13.87, 'SDG': 440, 'SEK': 8.61, 'SGD': 1.34, 'SHP': 0.726, 'SLL': 10345.96, 'SOS': 578.6, 'SRD': 21.53, 'SSP': 177.7, 'STN': 20.7, 'SYP': 1629.79, 'SZL': 14.42, 'THB': 32.32, 'TJS': 11.31, 'TMT': 3.5, 'TND': 2.78, 'TOP': 2.24, 'TRY': 8.3, 'TTD': 6.77, 'TVD': 1.36, 'TWD': 27.7, 'TZS': 2317.08, 'UAH': 26.96, 'UGX': 3534.8, 'UYU': 42.49, 'UZS': 10698.19, 'VES': 4119333.98, 'VND': 22786.94, 'VUV': 111.46, 'WST': 2.55, 'XAF': 554.12, 'XCD': 2.7, 'XDR': 0.705, 'XOF': 554.12, 'XPF': 100.81, 'YER': 250.63, 'ZAR': 14.42, 'ZMW': 15.94}}\n"
          ]
        }
      ]
    },
    {
      "cell_type": "code",
      "metadata": {
        "id": "bizmx4nz2f2m",
        "outputId": "d5965839-7612-43cc-9aaf-0a4a28f82736",
        "colab": {
          "base_uri": "https://localhost:8080/"
        }
      },
      "source": [
        "print(resp_json['provider'])"
      ],
      "execution_count": null,
      "outputs": [
        {
          "output_type": "stream",
          "name": "stdout",
          "text": [
            "https://www.exchangerate-api.com\n"
          ]
        }
      ]
    },
    {
      "cell_type": "markdown",
      "metadata": {
        "id": "-6e3HRsX2LPJ"
      },
      "source": [
        "#### W3.22 Escreva um código python para fazer uma requisição HTTP à URL ```http://hotline.whalemuseum.org/api.json?species=orca``` e imprimir o primeiro elemento da lista retornada.\n",
        "\n",
        "#### Curiosidade: A documentação desta API encontra-se em ```http://hotline.whalemuseum.org/api```"
      ]
    },
    {
      "cell_type": "code",
      "metadata": {
        "nbgrader": {
          "grade": false,
          "grade_id": "cell-df3830794c032b47",
          "locked": false,
          "schema_version": 3,
          "solution": true,
          "task": false
        },
        "id": "sCCnRKdr2LPK"
      },
      "source": [
        "# Faça aqui\n",
        "### BEGIN SOLUTION\n",
        "# Importar a biblioteca que faz requisições HTTP\n",
        "import requests\n",
        "# Fazer uma requisição HTTP\n",
        "r = requests.get(\"http://hotline.whalemuseum.org/api.json?species=orca\")\n",
        "# Transformar a resposta em JSON\n",
        "resp_json = r.json()\n",
        "print(resp_json[0])\n",
        "### END SOLUTION"
      ],
      "execution_count": null,
      "outputs": []
    }
  ]
}