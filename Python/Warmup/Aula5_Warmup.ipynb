{
  "cells": [
    {
      "cell_type": "markdown",
      "metadata": {
        "id": "view-in-github",
        "colab_type": "text"
      },
      "source": [
        "<a href=\"https://colab.research.google.com/github/alexlopespereira/mba_enap/blob/main/Warmup/Aula5_Warmup.ipynb\" target=\"_parent\"><img src=\"https://colab.research.google.com/assets/colab-badge.svg\" alt=\"Open In Colab\"/></a>"
      ]
    },
    {
      "cell_type": "markdown",
      "metadata": {
        "id": "Y9mAd3Iqwb2n"
      },
      "source": [
        "# Aula 5 - Warmup de Introdução ao Pandas"
      ]
    },
    {
      "cell_type": "markdown",
      "metadata": {
        "id": "YHNcKkcBwb2t"
      },
      "source": [
        "### Treinando conceitos de Pandas e Series"
      ]
    },
    {
      "cell_type": "code",
      "execution_count": null,
      "metadata": {
        "id": "Dpaq6KRawb2x"
      },
      "outputs": [],
      "source": [
        "# Importe as bibliotecas pandas e numpy\n",
        "import pandas as pd\n",
        "import numpy as np"
      ]
    },
    {
      "cell_type": "markdown",
      "metadata": {
        "id": "WJE-MXB7wb22"
      },
      "source": [
        "#### W5.1 Crie um objeto Series contendo os seguintes elementos [4, 7, -5, 3]"
      ]
    },
    {
      "cell_type": "code",
      "execution_count": null,
      "metadata": {
        "id": "UGWQucVtwb23"
      },
      "outputs": [],
      "source": [
        "# Faça aqui"
      ]
    },
    {
      "cell_type": "markdown",
      "metadata": {
        "id": "zq1DVPAAwb24"
      },
      "source": [
        "#### W5.2 Crie um objeto Series contendo [4, 7, -5, 3] e defina seu próprio array de índices como sendo ['d', 'b', 'a', 'c']"
      ]
    },
    {
      "cell_type": "code",
      "execution_count": null,
      "metadata": {
        "id": "0RZ3e524wb25"
      },
      "outputs": [],
      "source": [
        "# Faça aqui"
      ]
    },
    {
      "cell_type": "markdown",
      "metadata": {
        "id": "ZL0zULsjwb26"
      },
      "source": [
        "#### W5.3 Use o índice para acessar o valor 4 do objeto Series criado no exercicio W5.1"
      ]
    },
    {
      "cell_type": "code",
      "execution_count": null,
      "metadata": {
        "id": "MqDWcDMEwb27"
      },
      "outputs": [],
      "source": [
        "# Faça aqui"
      ]
    },
    {
      "cell_type": "markdown",
      "metadata": {
        "id": "EuTTqsONwb28"
      },
      "source": [
        "#### W5.4 Use o índice para acessar os valores 7 e 3 do objeto Series criado no exercicio W5.1"
      ]
    },
    {
      "cell_type": "code",
      "execution_count": null,
      "metadata": {
        "id": "Gd6ho-Qywb29"
      },
      "outputs": [],
      "source": [
        "# Faça aqui"
      ]
    },
    {
      "cell_type": "markdown",
      "metadata": {
        "id": "q4S8yrj7wb2-"
      },
      "source": [
        "#### W5.5 Atribua o valor 6 ao elemento de índice d"
      ]
    },
    {
      "cell_type": "code",
      "execution_count": null,
      "metadata": {
        "id": "ky4L7PkJwb2-"
      },
      "outputs": [],
      "source": [
        "# Faça aqui"
      ]
    },
    {
      "cell_type": "markdown",
      "metadata": {
        "id": "wBycJK25wb2_"
      },
      "source": [
        "#### W5.6 Verifique se o índice 'c' está presente na Serie criada no exercício W5.1"
      ]
    },
    {
      "cell_type": "code",
      "execution_count": null,
      "metadata": {
        "id": "hlydtwh2wb2_"
      },
      "outputs": [],
      "source": [
        "# Faça aqui"
      ]
    },
    {
      "cell_type": "markdown",
      "metadata": {
        "id": "aaaBVB2Lwb3A"
      },
      "source": [
        "#### W5.7 Verifique se o índice 'e' está presente na Serie criada no exercício W5.1\n"
      ]
    },
    {
      "cell_type": "code",
      "execution_count": null,
      "metadata": {
        "id": "rCvK72kowb3A"
      },
      "outputs": [],
      "source": [
        "# Faça aqui"
      ]
    },
    {
      "cell_type": "markdown",
      "metadata": {
        "id": "qnajCwyNwb3A"
      },
      "source": [
        "#### W5.8 Retorne os elementos da Series abaixo cujo valor seja maior que 0"
      ]
    },
    {
      "cell_type": "code",
      "execution_count": null,
      "metadata": {
        "id": "dpdx1_ouwb3B"
      },
      "outputs": [],
      "source": [
        "# Considere a seguinte serie\n",
        "obj2 = pd.Series([0, 7, -5, 3, 2, 5, -15], index=['d', 'b', 'a', 'c', 'd', 'e', 'f'])\n",
        "# Faça aqui"
      ]
    },
    {
      "cell_type": "markdown",
      "metadata": {
        "id": "O079Z-nWwb3B"
      },
      "source": [
        "#### W5.9 Retorne os valores da Serie obj2 (exercício W5.8) multiplicados por 2\n"
      ]
    },
    {
      "cell_type": "code",
      "execution_count": null,
      "metadata": {
        "id": "zSJpMFr0wb3B"
      },
      "outputs": [],
      "source": [
        "# Faça aqui"
      ]
    },
    {
      "cell_type": "markdown",
      "metadata": {
        "id": "ZOuWYLUMwb3B"
      },
      "source": [
        "#### W5.10 Retorne os valores da aplicação da função exponencial (np.exp) a Serie obj2 (exercício W5.8)\n"
      ]
    },
    {
      "cell_type": "code",
      "execution_count": null,
      "metadata": {
        "id": "gi1whqxMwb3C"
      },
      "outputs": [],
      "source": [
        "# Faça aqui"
      ]
    },
    {
      "cell_type": "markdown",
      "metadata": {
        "id": "ag2xAo3Swb3D"
      },
      "source": [
        "#### W5.11 Criando uma Serie com um dicionário. Chame a Serie de obj3."
      ]
    },
    {
      "cell_type": "code",
      "execution_count": null,
      "metadata": {
        "id": "kfzdXi3Pwb3D"
      },
      "outputs": [],
      "source": [
        "# Crie uma série com o seguinte dicionário\n",
        "# {'carro': 350, 'moto': 750, 'bicicleta': 260, 'caminhao': 500, 'trem': np.nan, 'aviao': np.nan}\n",
        "# Chame a Serie de obj3\n",
        "# Faça aqui"
      ]
    },
    {
      "cell_type": "markdown",
      "metadata": {
        "id": "SvpY9WyWwb3E"
      },
      "source": [
        "### Treinando conceitos de Valores Ausentes/Indisponíveis (NA)"
      ]
    },
    {
      "cell_type": "markdown",
      "metadata": {
        "id": "1DqaIZYwwb3E"
      },
      "source": [
        "#### W5.12 Retorne, na forma de uma serie de booleanos, quais elementos da Serie obj3 tem valores NA"
      ]
    },
    {
      "cell_type": "code",
      "execution_count": null,
      "metadata": {
        "id": "hpFn92xOwb3E"
      },
      "outputs": [],
      "source": [
        "# Faça aqui"
      ]
    },
    {
      "cell_type": "markdown",
      "metadata": {
        "id": "pfIC0Ygmwb3F"
      },
      "source": [
        "#### W5.13 Retorne, na forma de uma serie de booleanos, quais elementos da Serie obj3 não tem valores NA"
      ]
    },
    {
      "cell_type": "code",
      "execution_count": null,
      "metadata": {
        "id": "7om1U-8ywb3F"
      },
      "outputs": [],
      "source": [
        "# Faça aqui"
      ]
    },
    {
      "cell_type": "markdown",
      "metadata": {
        "id": "as6w5enAwb3F"
      },
      "source": [
        "#### W5.14 Retorne os valores não nulos (diferentes de NA) da serie obj3"
      ]
    },
    {
      "cell_type": "code",
      "execution_count": null,
      "metadata": {
        "id": "niDuzG7Wwb3F"
      },
      "outputs": [],
      "source": [
        "# Faça aqui"
      ]
    },
    {
      "cell_type": "markdown",
      "metadata": {
        "id": "czxO-rbiwb3G"
      },
      "source": [
        "#### W5.15 Remova os elementos de valor NA da serie obj3"
      ]
    },
    {
      "cell_type": "code",
      "execution_count": null,
      "metadata": {
        "id": "dnr-82yRwb3G"
      },
      "outputs": [],
      "source": [
        "# Faça aqui"
      ]
    },
    {
      "cell_type": "markdown",
      "metadata": {
        "id": "cz_wVJmrwb3H"
      },
      "source": [
        "### Treinando Aritmética com Series"
      ]
    },
    {
      "cell_type": "markdown",
      "metadata": {
        "id": "weTqOgICwb3H"
      },
      "source": [
        "#### W5.16 Crie a série abaixo"
      ]
    },
    {
      "cell_type": "code",
      "execution_count": null,
      "metadata": {
        "id": "yftdsv2-wb3H"
      },
      "outputs": [],
      "source": [
        "# Crie uma série com o seguinte dicionário\n",
        "# {'carro': 50, 'moto': 150, 'bicicleta': 200, 'caminhao': np.nan, 'trem': 10, 'aviao': 20}\n",
        "# Chame a Serie de obj4\n",
        "# Faça aqui"
      ]
    },
    {
      "cell_type": "markdown",
      "metadata": {
        "id": "UdxqXuahwb3I"
      },
      "source": [
        "#### W5.17 Some as séries criadas nos dois exercícios anteriores (obj3 e obj4)\n"
      ]
    },
    {
      "cell_type": "code",
      "execution_count": null,
      "metadata": {
        "id": "OslCF888wb3I"
      },
      "outputs": [],
      "source": [
        "# Faça aqui"
      ]
    },
    {
      "cell_type": "markdown",
      "metadata": {
        "id": "Br55Kvzawb3I"
      },
      "source": [
        "## Treinando conceitos sobre DataFrames"
      ]
    },
    {
      "cell_type": "markdown",
      "metadata": {
        "id": "Dxmh40Lgwb3J"
      },
      "source": [
        "#### W5.18 Crie um data frame a partir dos dados do seguinte dicionário. Chame-o de frame"
      ]
    },
    {
      "cell_type": "code",
      "execution_count": null,
      "metadata": {
        "id": "-vwYyErNwb3J"
      },
      "outputs": [],
      "source": [
        "data = {'state': ['Ohio', 'Ohio', 'Ohio', 'Nevada', 'Nevada', 'Nevada'],\n",
        "'year': [2000, 2001, 2002, 2001, 2002, 2003],\n",
        "'pop': [1.5, 1.7, 3.6, 2.4, 2.9, 3.2]}\n",
        "# Faça aqui"
      ]
    },
    {
      "cell_type": "markdown",
      "metadata": {
        "id": "mzvju8TQwb3J"
      },
      "source": [
        "#### W5.19 Mostre as primeiras linhas do dataframe frame"
      ]
    },
    {
      "cell_type": "code",
      "execution_count": null,
      "metadata": {
        "id": "UL-yYNOrwb3J"
      },
      "outputs": [],
      "source": [
        "# Acesse as primeiras linhas do dataframe frame\n",
        "# Faça aqui"
      ]
    },
    {
      "cell_type": "markdown",
      "metadata": {
        "id": "eBsML2udwb3K"
      },
      "source": [
        "#### Acesse a coluna state usando a sintaxe com colchetes"
      ]
    },
    {
      "cell_type": "code",
      "execution_count": null,
      "metadata": {
        "id": "-EurD04_wb3K"
      },
      "outputs": [],
      "source": [
        "# Faça aqui"
      ]
    },
    {
      "cell_type": "markdown",
      "metadata": {
        "id": "CFLhE86Twb3K"
      },
      "source": [
        "#### W5.20 Atribua o valor 16.5 para todas as posições de uma nova coluna chamada debt."
      ]
    },
    {
      "cell_type": "code",
      "execution_count": null,
      "metadata": {
        "id": "RfIvCY7Lwb3L"
      },
      "outputs": [],
      "source": [
        "# Faça aqui"
      ]
    },
    {
      "cell_type": "markdown",
      "metadata": {
        "id": "XuYC9bTOwb3L"
      },
      "source": [
        "#### W5.21 Atribua o valor do intervalo de 0 a 5 (float) na coluna debt.\n",
        "#### Dica: use a função np.arange"
      ]
    },
    {
      "cell_type": "code",
      "execution_count": null,
      "metadata": {
        "id": "zixI2fvswb3L"
      },
      "outputs": [],
      "source": [
        "# Faça aqui"
      ]
    },
    {
      "cell_type": "markdown",
      "metadata": {
        "id": "j04h2F81wb3L"
      },
      "source": [
        "#### W5.22 Crie uma nova coluna chamada eastern com o valor True para as linhas cujo estado seja Ohio, e False caso contrário."
      ]
    },
    {
      "cell_type": "code",
      "execution_count": null,
      "metadata": {
        "id": "0ybi3Z9xwb3L"
      },
      "outputs": [],
      "source": [
        "# Faça aqui"
      ]
    },
    {
      "cell_type": "markdown",
      "metadata": {
        "id": "S6gPcBcSwb3M"
      },
      "source": [
        "#### W5.23 Delete a coluna eastern usando o comando del"
      ]
    },
    {
      "cell_type": "code",
      "execution_count": null,
      "metadata": {
        "id": "93qpbr2Ywb3M"
      },
      "outputs": [],
      "source": [
        "# Faça aqui"
      ]
    },
    {
      "cell_type": "markdown",
      "metadata": {
        "id": "AA0iOqIlwb3M"
      },
      "source": [
        "#### W5.24 Crie um DataFrame a partir de um dicionário de dicionários. Chame-o de frame3."
      ]
    },
    {
      "cell_type": "code",
      "execution_count": null,
      "metadata": {
        "id": "_7UJaAJNwb3M"
      },
      "outputs": [],
      "source": [
        "# Crie um Dataframe a partir do seguinte dicionário:\n",
        "pop = {'DF': {2001: 2.7, 2002: 2.8},\n",
        "        'GO': {2000: 1.2, 2001: 1.7, 2002: 2.6}}\n",
        "# Faça aqui"
      ]
    },
    {
      "cell_type": "markdown",
      "metadata": {
        "id": "2Y-SZZ0nwb3N"
      },
      "source": [
        "#### W5.25 Retorne somente os valores do dicionário frame3.\n",
        "#### Dica use o atributo values."
      ]
    },
    {
      "cell_type": "code",
      "execution_count": null,
      "metadata": {
        "id": "2Z2RSt_Swb3N"
      },
      "outputs": [],
      "source": [
        "# Faça aqui"
      ]
    },
    {
      "cell_type": "markdown",
      "metadata": {
        "id": "YG3E6clSwb3N"
      },
      "source": [
        "#### W5.26 Remova os valores de uma Serie conforme especificado a seguir."
      ]
    },
    {
      "cell_type": "code",
      "execution_count": null,
      "metadata": {
        "id": "NGmURfEGwb3N"
      },
      "outputs": [],
      "source": [
        "# Considere a Serie abaixo\n",
        "obj = pd.Series(np.arange(5.), index=['a', 'b', 'c', 'd', 'e'])\n",
        "obj\n"
      ]
    },
    {
      "cell_type": "code",
      "execution_count": null,
      "metadata": {
        "id": "i-N0yY82wb3O"
      },
      "outputs": [],
      "source": [
        "# Crie um novo objeto removendo o item de índice c\n",
        "# Faça aqui"
      ]
    },
    {
      "cell_type": "code",
      "execution_count": null,
      "metadata": {
        "scrolled": true,
        "id": "CmehsDpLwb3O"
      },
      "outputs": [],
      "source": [
        "# Retorne uma serie sem os itens c e d\n",
        "# Faça aqui"
      ]
    },
    {
      "cell_type": "markdown",
      "metadata": {
        "id": "Jq8HYpFDwb3O"
      },
      "source": [
        "#### W5.27 Removendo entradas de um DataFrame conforme especificado a seguir."
      ]
    },
    {
      "cell_type": "code",
      "execution_count": null,
      "metadata": {
        "id": "bH8GBIN0wb3P"
      },
      "outputs": [],
      "source": [
        "# Considere o dataframe abaixo\n",
        "data = pd.DataFrame(np.arange(16).reshape((4, 4)),\n",
        "                    index=['DF', 'GO', 'SP', 'RJ'],\n",
        "                    columns=['um', 'dois', 'tres', 'quatro'])\n",
        "data\n"
      ]
    },
    {
      "cell_type": "code",
      "execution_count": null,
      "metadata": {
        "id": "zf_kz8HRwb3P"
      },
      "outputs": [],
      "source": [
        "# Retorne um dataframe sem as linhas DF e GO\n",
        "# Faça aqui"
      ]
    },
    {
      "cell_type": "code",
      "execution_count": null,
      "metadata": {
        "id": "U04wQaCjwb3Q"
      },
      "outputs": [],
      "source": [
        "# Remova a coluna tres do dataframe data. Dica: use o argumento axis do método drop.\n",
        "# Faça aqui"
      ]
    },
    {
      "cell_type": "markdown",
      "metadata": {
        "id": "p-PLSrR5wb3Q"
      },
      "source": [
        "#### W5.28 Realize as operações solicitadas a seguir"
      ]
    },
    {
      "cell_type": "code",
      "execution_count": null,
      "metadata": {
        "id": "7ujB6Dajwb3Q"
      },
      "outputs": [],
      "source": [
        "# Considere o dataframe abaixo\n",
        "data = pd.DataFrame(np.arange(16).reshape((4, 4)),\n",
        "                    index=['DF', 'GO', 'SP', 'RJ'],\n",
        "                    columns=['um', 'dois', 'tres', 'quatro'])\n",
        "data\n"
      ]
    },
    {
      "cell_type": "code",
      "execution_count": null,
      "metadata": {
        "id": "KbLaw8fjwb3S"
      },
      "outputs": [],
      "source": [
        "# Retorne um dataframe contendo True para itens menores que 5, e False caso contrário\n",
        "# Faça aqui"
      ]
    },
    {
      "cell_type": "code",
      "execution_count": null,
      "metadata": {
        "id": "YMpihFsewb3S"
      },
      "outputs": [],
      "source": [
        "# Atribua o valor zero onde os valores do dataframe são menores que 5\n",
        "# Faça aqui"
      ]
    },
    {
      "cell_type": "markdown",
      "metadata": {
        "id": "ctyeE-2Rwb3S"
      },
      "source": [
        "### Treinando Filtro e Seleção num dataframe\n",
        "#### W5.29 Execute as instruções solicitadas a seguir."
      ]
    },
    {
      "cell_type": "code",
      "execution_count": null,
      "metadata": {
        "id": "WR5wBaVlwb3T"
      },
      "outputs": [],
      "source": [
        "# Selecione as colunas um e dois do dataframe data\n",
        "# Faça aqui"
      ]
    },
    {
      "cell_type": "code",
      "execution_count": null,
      "metadata": {
        "id": "tREATPU-wb3T"
      },
      "outputs": [],
      "source": [
        "# Retorne as linhas do dataframe data cujo valor da coluna tres seja maior que 5\n",
        "# Faça aqui"
      ]
    },
    {
      "cell_type": "markdown",
      "metadata": {
        "id": "Hd_M-oeYwb3T"
      },
      "source": [
        "### Treinando seleção com os operadores loc e iloc\n",
        "#### W5.30 Execute as instruções solicitadas a seguir."
      ]
    },
    {
      "cell_type": "code",
      "execution_count": null,
      "metadata": {
        "id": "grnc17Cfwb3T"
      },
      "outputs": [],
      "source": [
        "# Retorne o subconjunto especificado pela linha DF e colunas dois e tres\n",
        "# Faça aqui"
      ]
    },
    {
      "cell_type": "code",
      "execution_count": null,
      "metadata": {
        "id": "txXMk-Olwb3T"
      },
      "outputs": [],
      "source": [
        "# Utilizando o iloc, retorne o subconjunto especificado pela linha 2 e colunas 3, 0 e 1\n",
        "# Faça aqui"
      ]
    }
  ],
  "metadata": {
    "kernelspec": {
      "display_name": "Python 3",
      "language": "python",
      "name": "python3"
    },
    "language_info": {
      "codemirror_mode": {
        "name": "ipython",
        "version": 3
      },
      "file_extension": ".py",
      "mimetype": "text/x-python",
      "name": "python",
      "nbconvert_exporter": "python",
      "pygments_lexer": "ipython3",
      "version": "3.8.3"
    },
    "varInspector": {
      "cols": {
        "lenName": 16,
        "lenType": 16,
        "lenVar": 40
      },
      "kernels_config": {
        "python": {
          "delete_cmd_postfix": "",
          "delete_cmd_prefix": "del ",
          "library": "var_list.py",
          "varRefreshCmd": "print(var_dic_list())"
        },
        "r": {
          "delete_cmd_postfix": ") ",
          "delete_cmd_prefix": "rm(",
          "library": "var_list.r",
          "varRefreshCmd": "cat(var_dic_list()) "
        }
      },
      "types_to_exclude": [
        "module",
        "function",
        "builtin_function_or_method",
        "instance",
        "_Feature"
      ],
      "window_display": false
    },
    "colab": {
      "provenance": [],
      "include_colab_link": true
    }
  },
  "nbformat": 4,
  "nbformat_minor": 0
}