{
  "cells": [
    {
      "cell_type": "markdown",
      "metadata": {
        "id": "view-in-github",
        "colab_type": "text"
      },
      "source": [
        "<a href=\"https://colab.research.google.com/github/alexlopespereira/mba_enap/blob/main/Teoria/Aula2_Teoria_SintaxePython.ipynb\" target=\"_parent\"><img src=\"https://colab.research.google.com/assets/colab-badge.svg\" alt=\"Open In Colab\"/></a>"
      ]
    },
    {
      "cell_type": "markdown",
      "metadata": {
        "id": "cgqeyL1wZ7X4"
      },
      "source": [
        "# Aula 2 - Explicações sobre a sintaxe da linguagem Python"
      ]
    },
    {
      "cell_type": "markdown",
      "source": [
        "###Variáveis"
      ],
      "metadata": {
        "id": "OcljGfwdaVtp"
      }
    },
    {
      "cell_type": "code",
      "source": [
        "a=4\n",
        "print(a)\n",
        "b=5\n",
        "print(b)"
      ],
      "metadata": {
        "colab": {
          "base_uri": "https://localhost:8080/"
        },
        "id": "Da7T2TsxaAgI",
        "outputId": "9535ddd0-a31d-4923-ba65-ae55106e27a6"
      },
      "execution_count": null,
      "outputs": [
        {
          "output_type": "stream",
          "name": "stdout",
          "text": [
            "4\n",
            "5\n"
          ]
        }
      ]
    },
    {
      "cell_type": "code",
      "source": [
        "# Se escrever o nome da variavel na ultima linha da célula, ela é impressa\n",
        "c=6\n",
        "a"
      ],
      "metadata": {
        "colab": {
          "base_uri": "https://localhost:8080/"
        },
        "id": "yZoyOuADaPtg",
        "outputId": "e74d709f-6b98-4f56-dda1-7ba9c788fcef"
      },
      "execution_count": null,
      "outputs": [
        {
          "output_type": "execute_result",
          "data": {
            "text/plain": [
              "4"
            ]
          },
          "metadata": {},
          "execution_count": 4
        }
      ]
    },
    {
      "cell_type": "markdown",
      "source": [
        "### Atentar para a tabulação para representar o aninhamento"
      ],
      "metadata": {
        "id": "fNYotmEXaZVe"
      }
    },
    {
      "cell_type": "code",
      "source": [
        "x = 2  # Atribuição com sinal de = (igual)\n",
        "if x > 0:\n",
        "      # adiciona 1 a x\n",
        "      x = x + 1;\n",
        "print(x)"
      ],
      "metadata": {
        "colab": {
          "base_uri": "https://localhost:8080/"
        },
        "id": "-6pfYWm-aYqL",
        "outputId": "6dd5b6a7-5667-4d9e-b7e6-2e4a0fdb9510"
      },
      "execution_count": null,
      "outputs": [
        {
          "output_type": "stream",
          "name": "stdout",
          "text": [
            "3\n"
          ]
        }
      ]
    },
    {
      "cell_type": "markdown",
      "metadata": {
        "id": "DhgrXqzvZ7X8"
      },
      "source": [
        "### Dois pontos sinaliza o início de uma sentença composta\n",
        "#### O conteúdo das sentenças compostas é aninhado com espaços/tabs, sem chaves"
      ]
    },
    {
      "cell_type": "code",
      "execution_count": null,
      "metadata": {
        "id": "eAWcbunMZ7X-"
      },
      "outputs": [],
      "source": [
        "# 1) Criar uma sentença composta (if else)\n",
        "# 2) Mostrar aninhamento com tabulação\n",
        "# 3) ; é opcional\n",
        "# 4) imprimir valores dentro do if else como feedback\n",
        "x = 2\n",
        "if x > 0:\n",
        "      # adiciona 1 a x\n",
        "      x = x + 1;  # Ponto e virgula para finalizar uma sentença é opcional\n",
        "      print(x)\n",
        "      print('x maior que zero')\n",
        "else:\n",
        "      print('x menor ou igual a zero')\n"
      ]
    },
    {
      "cell_type": "markdown",
      "metadata": {
        "id": "1Pf3U81NZ7YD"
      },
      "source": [
        "### Referências para objetos não possuem um tipo associado\n",
        "#### Não há problema em reatribuir uma referência a outro tipo"
      ]
    },
    {
      "cell_type": "code",
      "execution_count": null,
      "metadata": {
        "id": "ED3MKLkXZ7YE"
      },
      "outputs": [],
      "source": [
        "# 1) Atribuir um número a uma variável,\n",
        "# e em sequencia atribuir um conteúdo de tipo diferente à mesma variável\n",
        "# 2) imprimir os tipos da variável como feedback\n",
        "x=2\n",
        "print(type(x))\n",
        "x='carro'\n",
        "print(type(x))"
      ]
    },
    {
      "cell_type": "markdown",
      "metadata": {
        "id": "TU-WvYB9Z7YF"
      },
      "source": [
        "### Funções são declaradas com a palavra-chave def\n",
        "### Argumentos são passados por referência, e não por valor na chamada de funções"
      ]
    },
    {
      "cell_type": "code",
      "execution_count": null,
      "metadata": {
        "id": "xX_U626QZ7YG"
      },
      "outputs": [],
      "source": [
        "# 1) criar uma função qualquer (por exemplo, insert_1)\n",
        "# 2) aplicar a função a uma variável\n",
        "# 3) mostrar que os argumentos são passados por referência para objetos\n",
        "def insert_1(a): # A função não retorna nenhum objeto\n",
        "    a.append(1) # O objeto apontado pela referência a foi alterado\n",
        "\n",
        "b = [2]\n",
        "insert_1(b)\n",
        "print(b)\n"
      ]
    },
    {
      "cell_type": "markdown",
      "metadata": {
        "id": "2j1HLmxfZ7YH"
      },
      "source": [
        "### return de uma função Python"
      ]
    },
    {
      "cell_type": "code",
      "execution_count": null,
      "metadata": {
        "id": "eA2j07XWZ7YI"
      },
      "outputs": [],
      "source": [
        "# Veja a instrução return. Ela informa ao interpretador python o que deve ser retornado\n",
        "#    da chamada da função.\n",
        "def soma(m, n):\n",
        "    return m + n\n",
        "result = soma(4, 5)\n",
        "print(result)"
      ]
    },
    {
      "cell_type": "markdown",
      "metadata": {
        "id": "TN_7xFPjZ7YM"
      },
      "source": [
        "### Conversão de Tipos\n",
        "#### str, bool, int, e float também são funções para converter valores para esses tipos"
      ]
    },
    {
      "cell_type": "code",
      "execution_count": null,
      "metadata": {
        "id": "pfUKB-fIZ7YN"
      },
      "outputs": [],
      "source": [
        "# 1) Criar uma variavel do tipo string\n",
        "# 2) Converte-la para float\n",
        "# 3) Converter o float resultante para int\n",
        "s = '3.14159'\n",
        "fval = float(s)\n",
        "ival = int(fval)\n",
        "print(fval)\n",
        "print(ival)"
      ]
    },
    {
      "cell_type": "markdown",
      "metadata": {
        "id": "q_no8J16Z7YN"
      },
      "source": [
        "### Laços (loops) do tipo while"
      ]
    },
    {
      "cell_type": "markdown",
      "metadata": {
        "id": "d_6m0Pb3Z7YO"
      },
      "source": [
        "#### Uma maneira de iterar sobre uma coleção enquanto uma condição for verdadeira"
      ]
    },
    {
      "cell_type": "code",
      "execution_count": null,
      "metadata": {
        "id": "PnrC6x5EZ7YO"
      },
      "outputs": [],
      "source": [
        "n = 0\n",
        "total = 0\n",
        "while n < 4:\n",
        "    total = total + n*n\n",
        "    n = n + 1\n",
        "    print(n, total)\n",
        "\n",
        "print(total)"
      ]
    },
    {
      "cell_type": "markdown",
      "metadata": {
        "id": "E9-M0ZTmZ7YP"
      },
      "source": [
        "### Laços (loops) do tipo for\n",
        "#### Uma maneira de iterar sobre uma coleção. Usa-se o keyword *in* para referenciar a coleção."
      ]
    },
    {
      "cell_type": "code",
      "execution_count": null,
      "metadata": {
        "id": "re8BfeZRZ7YP"
      },
      "outputs": [],
      "source": [
        "# 1) Criar uma sequencia de números inteiros contendo o numero 5 em alguma posição\n",
        "# 2) Fazer um laço para ler os valores de forma sequencial e somá-los até encontrar\n",
        "#     o número 5. Não incluir o número 5 na soma.\n",
        "# 3) Imprimir o valor da soma\n",
        "\n",
        "# val foi um termo escolhido pelo programador\n",
        "\n",
        "sequence = [1, 2, 0, 4, 6, 5, 2, 1]\n",
        "total_until_5 = 0\n",
        "for val in sequence:\n",
        "    if val == 5:\n",
        "        break  # Interrompe um laço/loop/iteração\n",
        "    total_until_5 += val\n",
        "    print(total_until_5)\n",
        "print(total_until_5)"
      ]
    },
    {
      "cell_type": "markdown",
      "metadata": {
        "id": "5fTIfGd-Z7YQ"
      },
      "source": [
        "#### Usando a função range"
      ]
    },
    {
      "cell_type": "code",
      "execution_count": null,
      "metadata": {
        "id": "O7y2__AsZ7YQ"
      },
      "outputs": [],
      "source": [
        "# A função range retorna um iterator (iterador) para a sequência especificada.\n",
        "for val in range(3):\n",
        "    print(val*val)"
      ]
    },
    {
      "cell_type": "code",
      "execution_count": null,
      "metadata": {
        "id": "FUBBLOcxZ7YQ"
      },
      "outputs": [],
      "source": [
        "for val in range(3):\n",
        "    print(f\"{val} x {val} = {val*val}\")"
      ]
    },
    {
      "cell_type": "markdown",
      "metadata": {
        "id": "fJZ_xyrPZ7YR"
      },
      "source": [
        "### Formando uma string"
      ]
    },
    {
      "cell_type": "code",
      "execution_count": null,
      "metadata": {
        "id": "GaSmkwWjZ7YR"
      },
      "outputs": [],
      "source": [
        "# Coloque um f antes das aspas (simples ou duplas), e depois uma sentença python entre\n",
        "#    chaves dentro da string\n",
        "# 1) Criar uma string a partir de parâmetros\n",
        "\n",
        "a = 4.5\n",
        "b = 2\n",
        "frase1 = f\"a={a}, b={b}\"\n",
        "\n",
        "# Existe outra sintaxe alternativa que gera o mesmo resultado:\n",
        "frase2 = \"a={0}, b={1}\".format(a, b)\n",
        "print(frase1)\n",
        "print(frase2)"
      ]
    },
    {
      "cell_type": "markdown",
      "metadata": {
        "id": "lg0jYs5nZ7YR"
      },
      "source": [
        "### Funções Populares de String: join"
      ]
    },
    {
      "cell_type": "markdown",
      "metadata": {
        "id": "w7myqSOrZ7YS"
      },
      "source": [
        "#### Transforma uma lista de strings numa string concatenada por um separador"
      ]
    },
    {
      "cell_type": "code",
      "execution_count": null,
      "metadata": {
        "id": "LJHD0xc_Z7YS"
      },
      "outputs": [],
      "source": [
        "lista_str = [\"1\", \"2\", \"3\", \"4\"]\n",
        "str_concatenado = \"-\".join(lista_str)\n",
        "print(str_concatenado)"
      ]
    },
    {
      "cell_type": "markdown",
      "metadata": {
        "id": "FZ4zC0BvZ7YT"
      },
      "source": [
        "### Funções Populares de String: split"
      ]
    },
    {
      "cell_type": "markdown",
      "metadata": {
        "id": "-khEjLacZ7YT"
      },
      "source": [
        "#### Divide uma string em partes separadas por um caractere separador sep. O resultado retornado é uma lista dos sub-elementos"
      ]
    },
    {
      "cell_type": "code",
      "execution_count": null,
      "metadata": {
        "id": "2Q297qtZZ7YT"
      },
      "outputs": [],
      "source": [
        "texto = \"1-2-3-4\"\n",
        "lista = texto.split(\"-\")\n",
        "print(lista)"
      ]
    },
    {
      "cell_type": "markdown",
      "metadata": {
        "id": "ZhTiyTFfZ7YT"
      },
      "source": [
        "### Outras operações com strings"
      ]
    },
    {
      "cell_type": "code",
      "execution_count": null,
      "metadata": {
        "id": "snKTPLdOZ7YU"
      },
      "outputs": [],
      "source": [
        "#### Execute o trecho de código da célula abaixo"
      ]
    },
    {
      "cell_type": "code",
      "execution_count": null,
      "metadata": {
        "id": "9c0bgrpNZ7YU"
      },
      "outputs": [],
      "source": [
        "\"*\" * 10"
      ]
    },
    {
      "cell_type": "code",
      "execution_count": null,
      "metadata": {
        "id": "4I8CnhQdZ7YU"
      },
      "outputs": [],
      "source": [
        "#### Execute o trecho de código da célula abaixo"
      ]
    },
    {
      "cell_type": "code",
      "execution_count": null,
      "metadata": {
        "id": "VPzFhj5lZ7YV"
      },
      "outputs": [],
      "source": [
        "\"hello \" + \"world!\""
      ]
    },
    {
      "cell_type": "code",
      "execution_count": null,
      "metadata": {
        "id": "F2VHZOiZZ7YV"
      },
      "outputs": [],
      "source": [
        "#### Usando o raciocínio apresentado acima, crie em uma linha de código a seguinte string: aaaa---bbbb\n"
      ]
    },
    {
      "cell_type": "markdown",
      "metadata": {
        "id": "znSpY1ZaZ7YW"
      },
      "source": [
        "# Estrutura de Dados em Python"
      ]
    },
    {
      "cell_type": "markdown",
      "metadata": {
        "id": "jxLLl4HsZ7YW"
      },
      "source": [
        "### Lista é uma sequência de tamanho variável e conteúdo mutável (alterável)\n",
        "#### Assim como as tuplas, a lista pode conter objetos de vários tipos. Define-se uma lista com colchetes [ ]\n",
        "#### Use append para inserir elementos, pop para remover elementos pelo índice"
      ]
    },
    {
      "cell_type": "code",
      "execution_count": null,
      "metadata": {
        "id": "8DeTmzVSZ7YW"
      },
      "outputs": [],
      "source": [
        "# 1) Criar uma lista com elementos de diferentes tipos. Exemplo: [2, 4, 0, None]\n",
        "# 2) Adicionar um elemento com o método append\n",
        "# 3) Remover e recuperar o elemento de índice 1\n",
        "# 4) Remover o elemento de valor 0\n",
        "\n",
        "al = [2, 4, 0, None]\n",
        "print(al)\n",
        "al.append(9)\n",
        "print(al)\n",
        "al.pop(1) # Remover pelo índice\n",
        "print(al)\n",
        "# Use remove para remover pelo valor\n",
        "al.remove(0)\n",
        "print(al)"
      ]
    },
    {
      "cell_type": "markdown",
      "metadata": {
        "id": "DnGgkobmZ7YW"
      },
      "source": [
        "### Combinando Listas\n",
        "#### Use o operador + ou a função extend. A função extend é mais rápida do que o operador +"
      ]
    },
    {
      "cell_type": "code",
      "execution_count": null,
      "metadata": {
        "id": "M4ht6cyyZ7YW"
      },
      "outputs": [],
      "source": [
        "# 1) Criar uma lista com elementos de diferentes tipos, chamada a1. Ex.: [2, 4, 0, None]\n",
        "# 2) Criar uma nova lista, al_plus, com os elementos de duas listas usando o operador +\n",
        "# 3) Adicionar os elementos de uma outra lista à lista a1\n",
        "# 4) Comparar o conteúdo das duas listas a1 e a1_plus\n",
        "\n",
        "al = [2, 4, 0, None]\n",
        "al_plus = al + ['a', 'b']\n",
        "al.extend(['a', 'b'])\n",
        "comp = al_plus == al\n",
        "print(comp)"
      ]
    },
    {
      "cell_type": "markdown",
      "metadata": {
        "id": "xCIGhFCxZ7YW"
      },
      "source": [
        "### Slicing (fatiar)\n",
        "#### Use intervalos entre colchetes para fatiar sequências"
      ]
    },
    {
      "cell_type": "code",
      "execution_count": null,
      "metadata": {
        "id": "Tv2vNB2PZ7YX"
      },
      "outputs": [],
      "source": [
        "# 1) Criar uma lista com vários elementos\n",
        "# 2) Imprimir os elementos de índice 0 a 3 (são os 4 primeiros elementos)\n",
        "# 3) Imprimir os elementos de índice 0 a 4, suprimindo o parametro esquerdo do intervalo\n",
        "# 4) Imprimir os elementos de índice 2 até o último\n",
        "# 5) Imprimir o último elemento\n",
        "# 6) Imprimir a cada dois elementos, começando do zero\n",
        "# 7) Imprimir os elementos espelhados/revertidos\n",
        "# 8) Atribuir uma lista a um slice (uma parte) da lista original\n",
        "\n",
        "al = [2, 4, 0, 3, 7, 10, 4, 5]\n",
        "print(al[0:3])  # De zero a 3\n",
        "print(al[:4])   # De zero a 4\n",
        "print(al[2:])   # De 2 até o último\n",
        "print(al[-1])   # O último elemento\n",
        "print(al[::2])  # A cada dois elementos\n",
        "print(al[::-1]) # Reverter/espelhar os elementos\n",
        "al[1:3] = [8, 8]\n",
        "print(al)"
      ]
    },
    {
      "cell_type": "code",
      "execution_count": null,
      "metadata": {
        "id": "jBDAFz1uZ7YX"
      },
      "outputs": [],
      "source": [
        "al = [2, 4, 0, 3, 7, 10, 4, 5]\n",
        "al[-2:]"
      ]
    },
    {
      "cell_type": "markdown",
      "metadata": {
        "id": "z9rRvHjvZ7YX"
      },
      "source": [
        "### Tamanho de uma lista\n",
        "#### O método len retorna o tamanho de uma lista"
      ]
    },
    {
      "cell_type": "code",
      "execution_count": null,
      "metadata": {
        "id": "2qQ2kmLYZ7YY"
      },
      "outputs": [],
      "source": [
        "al = [2, 4, 0, 3, 7, 10, 4, 5]\n",
        "print(len(al))"
      ]
    },
    {
      "cell_type": "markdown",
      "metadata": {
        "id": "Qup5EvP6Z7YK"
      },
      "source": [
        "### Imports\n",
        "#### Um módulo é um arquivo de extensão .py. Útil para reusabilidade de código."
      ]
    },
    {
      "cell_type": "code",
      "execution_count": null,
      "metadata": {
        "id": "BxaovoE5Z7YK"
      },
      "outputs": [],
      "source": [
        "# O módulo \"os\" fornece vários métodos para manipulação de arquivos e diretórios.\n",
        "# Um módulo é um arquivo .py condendo funções/métodos\n",
        "# O método getcwd (get current work directory) retorna o diretório corrente\n",
        "# 1) Importar o módulo os\n",
        "# 2) Imprimir o diretorio de trabalho (diretorio corrente)\n",
        "import os\n",
        "print(os.getcwd())"
      ]
    },
    {
      "cell_type": "code",
      "execution_count": null,
      "metadata": {
        "id": "J8RocuO7Z7YM"
      },
      "outputs": [],
      "source": [
        "# Do módulo os importar o método getcwd\n",
        "# O método getcwd retorna o \"current work directory\", ou seja, diretório de trabalho corrente\n",
        "from os import getcwd\n",
        "print(getcwd())"
      ]
    },
    {
      "cell_type": "markdown",
      "metadata": {
        "id": "IBw6KGLSZ7YY"
      },
      "source": [
        "### Teste de desempenho  ( curiosidade )"
      ]
    },
    {
      "cell_type": "code",
      "execution_count": 1,
      "metadata": {
        "id": "y2DNmyIsZ7YY",
        "colab": {
          "base_uri": "https://localhost:8080/"
        },
        "outputId": "6ba6989e-752c-4884-f1c9-eaa9b56e056d"
      },
      "outputs": [
        {
          "output_type": "stream",
          "name": "stdout",
          "text": [
            "extend\n"
          ]
        }
      ],
      "source": [
        "import timeit\n",
        "print(\"extend\")\n",
        "extend_str = '''everything = []\n",
        "list_of_lists = [[1, 2, 3, 4, 5, 6, 7, 8, 9, 10] for i in range(0,1000)]\n",
        "for chunk in list_of_lists:\n",
        "    everything.extend(chunk)'''\n",
        "\n",
        "t1 = timeit.timeit(extend_str, number=100)  # number representa a qtd de vezes que vai executar o comando"
      ]
    },
    {
      "cell_type": "code",
      "execution_count": null,
      "metadata": {
        "id": "3bxbtkKdZ7YY"
      },
      "outputs": [],
      "source": [
        "print(\"plus\")\n",
        "plus_str = '''import random\n",
        "everything = []\n",
        "list_of_lists = [[1, 2, 3, 4, 5, 6, 7, 8, 9, 10] for i in range(0,1000)]\n",
        "for chunk in list_of_lists:\n",
        "    everything = everything + chunk'''\n",
        "\n",
        "t2 = timeit.timeit(plus_str, number=100)  # number representa a qtd de vezes que vai executar o comando"
      ]
    },
    {
      "cell_type": "code",
      "execution_count": null,
      "metadata": {
        "id": "-Tqw_vrHZ7YZ"
      },
      "outputs": [],
      "source": [
        "print(t1)\n",
        "print(t2)\n",
        "print(t2/t1)"
      ]
    },
    {
      "cell_type": "code",
      "source": [],
      "metadata": {
        "id": "YOzaAxMHJRwN"
      },
      "execution_count": null,
      "outputs": []
    }
  ],
  "metadata": {
    "kernelspec": {
      "display_name": "Python 3",
      "language": "python",
      "name": "python3"
    },
    "language_info": {
      "codemirror_mode": {
        "name": "ipython",
        "version": 3
      },
      "file_extension": ".py",
      "mimetype": "text/x-python",
      "name": "python",
      "nbconvert_exporter": "python",
      "pygments_lexer": "ipython3",
      "version": "3.8.3"
    },
    "varInspector": {
      "cols": {
        "lenName": 16,
        "lenType": 16,
        "lenVar": 40
      },
      "kernels_config": {
        "python": {
          "delete_cmd_postfix": "",
          "delete_cmd_prefix": "del ",
          "library": "var_list.py",
          "varRefreshCmd": "print(var_dic_list())"
        },
        "r": {
          "delete_cmd_postfix": ") ",
          "delete_cmd_prefix": "rm(",
          "library": "var_list.r",
          "varRefreshCmd": "cat(var_dic_list()) "
        }
      },
      "types_to_exclude": [
        "module",
        "function",
        "builtin_function_or_method",
        "instance",
        "_Feature"
      ],
      "window_display": false
    },
    "colab": {
      "provenance": [],
      "include_colab_link": true
    }
  },
  "nbformat": 4,
  "nbformat_minor": 0
}