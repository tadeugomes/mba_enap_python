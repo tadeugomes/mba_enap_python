{
  "cells": [
    {
      "cell_type": "markdown",
      "metadata": {
        "id": "view-in-github",
        "colab_type": "text"
      },
      "source": [
        "<a href=\"https://colab.research.google.com/github/alexlopespereira/mba_enap/blob/main/Teoria/Aula5_Teoria_Pandas.ipynb\" target=\"_parent\"><img src=\"https://colab.research.google.com/assets/colab-badge.svg\" alt=\"Open In Colab\"/></a>"
      ]
    },
    {
      "cell_type": "markdown",
      "metadata": {
        "id": "GuYABq2m1c_M"
      },
      "source": [
        "# Aula 5 - Introdução ao Pandas"
      ]
    },
    {
      "cell_type": "markdown",
      "metadata": {
        "id": "fMLGc_l31c_P"
      },
      "source": [
        "## Series"
      ]
    },
    {
      "cell_type": "code",
      "execution_count": null,
      "metadata": {
        "id": "MPhpHWLf1c_R"
      },
      "outputs": [],
      "source": [
        "# Importe a biblioteca pandas\n",
        "import pandas as pd"
      ]
    },
    {
      "cell_type": "markdown",
      "metadata": {
        "id": "zVfx7XvQ1c_T"
      },
      "source": [
        "### Crie um objeto Series"
      ]
    },
    {
      "cell_type": "code",
      "execution_count": null,
      "metadata": {
        "id": "bP_bvPqR1c_V",
        "outputId": "5cad322a-d98e-4e27-f9b1-70633d6f8618"
      },
      "outputs": [
        {
          "data": {
            "text/plain": [
              "0    4\n",
              "1    7\n",
              "2   -5\n",
              "3    3\n",
              "dtype: int64"
            ]
          },
          "execution_count": 3,
          "metadata": {},
          "output_type": "execute_result"
        }
      ],
      "source": [
        "# Crie uma Serie contendo os seguintes elementos [4, 7, -5, 3]\n",
        "obj = pd.Series([4, 7, -5, 3])\n",
        "obj"
      ]
    },
    {
      "cell_type": "code",
      "execution_count": null,
      "metadata": {
        "id": "CKCxOF8b1c_X",
        "outputId": "3d0d707e-0a74-48aa-91a6-6b4f94dc11bb"
      },
      "outputs": [
        {
          "data": {
            "text/plain": [
              "d     4\n",
              "b     7\n",
              "a    -5\n",
              "c     3\n",
              "f     a\n",
              "dtype: object"
            ]
          },
          "execution_count": 4,
          "metadata": {},
          "output_type": "execute_result"
        }
      ],
      "source": [
        "# Crie um objeto Series contendo [4, 7, -5, 3] e\n",
        "#   defina seu próprio array de índices como sendo ['d', 'b', 'a', 'c']\n",
        "obj2 = pd.Series([4, 7, -5, 3, 'a'], index=['d', 'b', 'a', 'c', 'f'])\n",
        "obj2"
      ]
    },
    {
      "cell_type": "markdown",
      "metadata": {
        "id": "66v4IVaH1c_Z"
      },
      "source": [
        "### Use o índice para acessar o valor"
      ]
    },
    {
      "cell_type": "code",
      "execution_count": null,
      "metadata": {
        "id": "LM6a4K-51c_a"
      },
      "outputs": [],
      "source": [
        "# Retorne o elemento de índice a\n",
        "obj2['a']"
      ]
    },
    {
      "cell_type": "code",
      "execution_count": null,
      "metadata": {
        "id": "cbK99ozT1c_c"
      },
      "outputs": [],
      "source": [
        "# Atribua o valor 6 ao elemento de índice d\n",
        "obj2['d'] = 6\n",
        "obj2"
      ]
    },
    {
      "cell_type": "code",
      "execution_count": null,
      "metadata": {
        "id": "tJVpiqg21c_e"
      },
      "outputs": [],
      "source": [
        "# Retorne os valores de índice 'c', 'a' e 'd'\n",
        "obj2[['c', 'a', 'd']]"
      ]
    },
    {
      "cell_type": "markdown",
      "metadata": {
        "id": "_gcDbimE1c_e"
      },
      "source": [
        "### Verificar se um elemento pertence a uma Serie"
      ]
    },
    {
      "cell_type": "code",
      "execution_count": null,
      "metadata": {
        "scrolled": true,
        "id": "qCx-c80K1c_g",
        "outputId": "7304a726-cabf-463b-c468-36f7faa9f6d4"
      },
      "outputs": [
        {
          "data": {
            "text/plain": [
              "True"
            ]
          },
          "execution_count": 5,
          "metadata": {},
          "output_type": "execute_result"
        }
      ],
      "source": [
        "# Verifique se o índice 'c' está presente\n",
        "'c' in obj2"
      ]
    },
    {
      "cell_type": "code",
      "execution_count": null,
      "metadata": {
        "id": "KKUaVnIQ1c_h"
      },
      "outputs": [],
      "source": [
        "# Verifique se o índice 'e' está presente na Serie criada no exercício anterior\n",
        "'e' in obj2"
      ]
    },
    {
      "cell_type": "markdown",
      "metadata": {
        "id": "Ny5Sswsh1c_h"
      },
      "source": [
        "### Use o operações semelhantes às operações NumPy"
      ]
    },
    {
      "cell_type": "code",
      "execution_count": null,
      "metadata": {
        "id": "fD2w2rO21c_i",
        "outputId": "92e690bb-2b8a-4bc4-d54f-8c07e14c7300"
      },
      "outputs": [
        {
          "data": {
            "text/plain": [
              "d    6\n",
              "b    7\n",
              "c    3\n",
              "dtype: int64"
            ]
          },
          "execution_count": 6,
          "metadata": {},
          "output_type": "execute_result"
        }
      ],
      "source": [
        "# Considere a seguinte serie\n",
        "obj2 = pd.Series([6, 7, -5, 3], index=['d', 'b', 'a', 'c'])\n",
        "# Retorne os elementos cujo valor seja maior que 0\n",
        "#\n",
        "obj2[obj2 > 0]"
      ]
    },
    {
      "cell_type": "code",
      "execution_count": null,
      "metadata": {
        "id": "JMkGSCOV1c_k",
        "outputId": "4b533205-2ffe-46f6-be90-cf03ad0cc0fd"
      },
      "outputs": [
        {
          "data": {
            "text/plain": [
              "d    12\n",
              "b    14\n",
              "a   -10\n",
              "c     6\n",
              "dtype: int64"
            ]
          },
          "execution_count": 7,
          "metadata": {},
          "output_type": "execute_result"
        }
      ],
      "source": [
        "# Retorne os valores da Serie obj2 multiplicados por 2\n",
        "obj2 * 2"
      ]
    },
    {
      "cell_type": "code",
      "execution_count": null,
      "metadata": {
        "id": "c7PxkSxs1c_o"
      },
      "outputs": [],
      "source": [
        "# Retorne os valores da aplicação da função exponencial (exp) a Serie obj2\n",
        "np.exp(obj2)"
      ]
    },
    {
      "cell_type": "markdown",
      "metadata": {
        "id": "V2z83ha51c_p"
      },
      "source": [
        "### Criando uma Serie com um dicionário"
      ]
    },
    {
      "cell_type": "code",
      "execution_count": null,
      "metadata": {
        "colab": {
          "base_uri": "https://localhost:8080/"
        },
        "id": "ascQGdMY1c_q",
        "outputId": "1b98f6bf-c251-4d40-9be8-323b7689eab9"
      },
      "outputs": [
        {
          "output_type": "execute_result",
          "data": {
            "text/plain": [
              "Ohio      35000\n",
              "Texas     71000\n",
              "Oregon    16000\n",
              "Utah       5000\n",
              "dtype: int64"
            ]
          },
          "metadata": {},
          "execution_count": 7
        }
      ],
      "source": [
        "# Crie uma série como seguinte dicionário\n",
        "# {'Ohio': 35000, 'Texas': 71000, 'Oregon': 16000, 'Utah': 5000}\n",
        "import numpy as np\n",
        "sdata = {'Ohio': 35000, 'Texas': 71000, 'Oregon': 16000, 'Utah': 5000}\n",
        "obj3 = pd.Series(sdata)\n",
        "obj3"
      ]
    },
    {
      "cell_type": "markdown",
      "metadata": {
        "id": "li00FPRW1c_r"
      },
      "source": [
        "### Criando uma Serie com um dicionário\n",
        "#### mas especificando seu próprio índice separadamente"
      ]
    },
    {
      "cell_type": "code",
      "execution_count": null,
      "metadata": {
        "colab": {
          "base_uri": "https://localhost:8080/"
        },
        "id": "XWbNU1BI1c_r",
        "outputId": "fc668cb8-facc-419c-d760-a59d1d9013ca"
      },
      "outputs": [
        {
          "output_type": "execute_result",
          "data": {
            "text/plain": [
              "California        NaN\n",
              "Ohio          35000.0\n",
              "Oregon        16000.0\n",
              "Texas         71000.0\n",
              "dtype: float64"
            ]
          },
          "metadata": {},
          "execution_count": 4
        }
      ],
      "source": [
        "# Crie uma série como seguinte dicionário\n",
        "# sdata= {'Ohio': 35000, 'Texas': 71000, 'Oregon': None, 'Utah': None}\n",
        "# mas especificando como índice este vetor ['California', 'Ohio', 'Oregon', 'Texas']\n",
        "states = ['California', 'Ohio', 'Oregon', 'Texas']\n",
        "obj4 = pd.Series(sdata, index=states)\n",
        "obj4"
      ]
    },
    {
      "cell_type": "markdown",
      "metadata": {
        "id": "hFDF6dbg1c_s"
      },
      "source": [
        "### Valores Ausentes/Indisponíveis (NA)"
      ]
    },
    {
      "cell_type": "code",
      "execution_count": null,
      "metadata": {
        "id": "VyXZCHeU1c_t"
      },
      "outputs": [],
      "source": [
        "# Retorne quais elementos da Serie anterior (obj4) tem valores NA\n",
        "pd.isnull(obj4)"
      ]
    },
    {
      "cell_type": "code",
      "execution_count": null,
      "metadata": {
        "id": "Dr-k2gOQ1c_t"
      },
      "outputs": [],
      "source": [
        "# Retorne quais elementos da Serie anterior (obj4) não tem valores NA\n",
        "pd.notnull(obj4)"
      ]
    },
    {
      "cell_type": "code",
      "execution_count": null,
      "metadata": {
        "id": "K-TvpXCL1c_u"
      },
      "outputs": [],
      "source": [
        "# Retorne quais valores da Serie anterior (obj4) tem valores NA, usando a função da própria Serie\n",
        "obj4.isnull()"
      ]
    },
    {
      "cell_type": "markdown",
      "metadata": {
        "id": "L3MFRcIW1c_v"
      },
      "source": [
        "### Aritmética com Series\n",
        "#### Automaticamente alinha os valores pelo índice"
      ]
    },
    {
      "cell_type": "code",
      "execution_count": null,
      "metadata": {
        "id": "KL3a1H_R1c_w"
      },
      "outputs": [],
      "source": [
        "# Some as séries criadas nos dois exercícios anteriores (obj3 e obj4)\n",
        "obj3 + obj4"
      ]
    },
    {
      "cell_type": "markdown",
      "metadata": {
        "id": "_h8uKjd_1c_x"
      },
      "source": [
        "## DataFrame"
      ]
    },
    {
      "cell_type": "code",
      "execution_count": null,
      "metadata": {
        "id": "sChqMqpS1c_x"
      },
      "outputs": [],
      "source": [
        "# Crie um data frame a partir dos dados do seguinte dicionário, chame-o de frame\n",
        "data = {'state': ['Ohio', 'Ohio', 'Ohio', 'Nevada', 'Nevada', 'Nevada'],\n",
        "'year': [2000, 2001, 2002, 2001, 2002, 2003],\n",
        "'pop': [1.5, 1.7, 3.6, 2.4, 2.9, 3.2]}\n",
        "frame = pd.DataFrame(data)\n",
        "frame"
      ]
    },
    {
      "cell_type": "markdown",
      "metadata": {
        "id": "JaVMay8G1c_y"
      },
      "source": [
        "### Mostre as primeiras linhas de um DataFrame"
      ]
    },
    {
      "cell_type": "code",
      "execution_count": null,
      "metadata": {
        "id": "7_QmqAcm1c_y"
      },
      "outputs": [],
      "source": [
        "# Acesse as primeiras linhas do dataframe\n",
        "frame.head()"
      ]
    },
    {
      "cell_type": "markdown",
      "metadata": {
        "id": "b2wiv_Du1c_z"
      },
      "source": [
        "### Uma coluna pode ser recuperada como uma Serie\n",
        "#### A notação .nome_coluna não funciona quando o nome da coluna contém espaços\n",
        "### Acostume-se a usar a notação ['nome_coluna']\n"
      ]
    },
    {
      "cell_type": "code",
      "execution_count": null,
      "metadata": {
        "id": "IuavekgC1c_z"
      },
      "outputs": [],
      "source": [
        "# Acesse a coluna state usando a sintaxe com colchetes\n",
        "frame['state']"
      ]
    },
    {
      "cell_type": "code",
      "execution_count": null,
      "metadata": {
        "id": "ZsDqGlsb1c_0"
      },
      "outputs": [],
      "source": [
        "# Acesse a coluna year com a sintaxe .nome\n",
        "frame.year"
      ]
    },
    {
      "cell_type": "markdown",
      "metadata": {
        "id": "Jxmek0qG1c_0"
      },
      "source": [
        "### Colunas podem ser modificadas por atribuição\n",
        "#### Atribuição de um valor único ou de um array numpy"
      ]
    },
    {
      "cell_type": "code",
      "execution_count": null,
      "metadata": {
        "id": "cdrN9U0m1c_1"
      },
      "outputs": [],
      "source": [
        "# Atribua o valor 16.5 para todas as posições da coluna debt\n",
        "# Quando a coluna não existir, o pandas cria ela pra você\n",
        "frame['debt'] = 16.5\n",
        "frame"
      ]
    },
    {
      "cell_type": "code",
      "execution_count": null,
      "metadata": {
        "id": "D_peiUHO1c_1"
      },
      "outputs": [],
      "source": [
        "# Atribua o valor de um intervalo de 0 a 5 (float) na coluna debt\n",
        "frame['debt'] = np.arange(6.)\n",
        "frame"
      ]
    },
    {
      "cell_type": "code",
      "execution_count": null,
      "metadata": {
        "id": "Ws6q48aY1c_1"
      },
      "outputs": [],
      "source": [
        "# Crie uma nova coluna chamada eastern com o valor True para\n",
        "#   as linhas cujo estado seja Ohio, e False caso contrário\n",
        "frame['eastern'] = frame.state == 'Ohio'\n",
        "frame"
      ]
    },
    {
      "cell_type": "markdown",
      "metadata": {
        "id": "G1YyWHvc1c_2"
      },
      "source": [
        "### del exclui as colunas (como em um dicionário)"
      ]
    },
    {
      "cell_type": "code",
      "execution_count": null,
      "metadata": {
        "id": "Gfw2vWqD1c_2"
      },
      "outputs": [],
      "source": [
        "# Delete a coluna eastern\n",
        "del frame['eastern']\n",
        "frame.columns"
      ]
    },
    {
      "cell_type": "markdown",
      "metadata": {
        "id": "mWYTzHp81c_2"
      },
      "source": [
        "### Criar um DataFrame a partir de um dicionário de dicionários"
      ]
    },
    {
      "cell_type": "code",
      "execution_count": null,
      "metadata": {
        "id": "gTBlvujN1c_2"
      },
      "outputs": [],
      "source": [
        "# Crie um Dataframe a partir do seguinte dicionário:\n",
        "pop = {'Nevada': {2001: 2.4, 2002: 2.9},\n",
        "        'Ohio': {2000: 1.5, 2001: 1.7, 2002: 3.6}}\n",
        "frame3 = pd.DataFrame(pop)\n",
        "frame3"
      ]
    },
    {
      "cell_type": "markdown",
      "metadata": {
        "id": "EIzXpuEN1c_3"
      },
      "source": [
        "### O atributo values retorna um array 2d com os valores"
      ]
    },
    {
      "cell_type": "code",
      "execution_count": null,
      "metadata": {
        "id": "L64tNCY51c_3"
      },
      "outputs": [],
      "source": [
        "# retorne um array 2d com os valores do frame3\n",
        "frame3.values"
      ]
    },
    {
      "cell_type": "markdown",
      "metadata": {
        "id": "SCcUziWq1c_4"
      },
      "source": [
        "### Removendo entradas de uma Serie"
      ]
    },
    {
      "cell_type": "code",
      "execution_count": null,
      "metadata": {
        "id": "mnYuV6nJ1c_5"
      },
      "outputs": [],
      "source": [
        "# Considere a Serie abaixo\n",
        "obj = pd.Series(np.arange(5.), index=['a', 'b', 'c', 'd', 'e'])\n",
        "obj"
      ]
    },
    {
      "cell_type": "code",
      "execution_count": null,
      "metadata": {
        "id": "B4xAswY-1c_5"
      },
      "outputs": [],
      "source": [
        "# Crie um novo objeto removendo o item c\n",
        "new_obj = obj.drop('c')\n",
        "new_obj"
      ]
    },
    {
      "cell_type": "code",
      "execution_count": null,
      "metadata": {
        "scrolled": true,
        "id": "68NUVzBq1c_6"
      },
      "outputs": [],
      "source": [
        "# Retorne a serie sem os itens c e d\n",
        "obj.drop(['d', 'c'])"
      ]
    },
    {
      "cell_type": "markdown",
      "metadata": {
        "id": "zWi4RKNH1c_7"
      },
      "source": [
        "### Removendo entradas de um DataFrame\n",
        "#### Pode-se remover linhas ou colunas"
      ]
    },
    {
      "cell_type": "code",
      "execution_count": null,
      "metadata": {
        "id": "ukXbYtod1c_8"
      },
      "outputs": [],
      "source": [
        "# Considere o dataframe abaixo\n",
        "data = pd.DataFrame(np.arange(16).reshape((4, 4)),\n",
        "                    index=['Ohio', 'Colorado', 'Utah', 'New York'],\n",
        "                    columns=['one', 'two', 'three', 'four'])\n",
        "data"
      ]
    },
    {
      "cell_type": "code",
      "execution_count": null,
      "metadata": {
        "id": "yybFijO11c_9"
      },
      "outputs": [],
      "source": [
        "# Retorne um dataframe sem as colunas Colorado e Ohio\n",
        "data.drop(['Colorado', 'Ohio'])"
      ]
    },
    {
      "cell_type": "code",
      "execution_count": null,
      "metadata": {
        "id": "wBPao2tU1c_9"
      },
      "outputs": [],
      "source": [
        "data.drop('two', axis=1)"
      ]
    },
    {
      "cell_type": "markdown",
      "metadata": {
        "id": "bgW7uBDg1c_-"
      },
      "source": [
        "### Atribuindo valor num DataFrame"
      ]
    },
    {
      "cell_type": "code",
      "execution_count": null,
      "metadata": {
        "id": "KgYZBfyZ1c__"
      },
      "outputs": [],
      "source": [
        "# Considere o dataframe abaixo\n",
        "data = pd.DataFrame(np.arange(16).reshape((4, 4)),\n",
        "                    index=['Ohio', 'Colorado', 'Utah', 'New York'],\n",
        "                    columns=['one', 'two', 'three', 'four'])\n",
        "data"
      ]
    },
    {
      "cell_type": "code",
      "execution_count": null,
      "metadata": {
        "id": "54tmMxxn1dAA"
      },
      "outputs": [],
      "source": [
        "# Retorne um dataframen contendo True para itens menores que 5, e False caso contrário\n",
        "data < 5"
      ]
    },
    {
      "cell_type": "code",
      "execution_count": null,
      "metadata": {
        "id": "4ehXHfFX1dAB"
      },
      "outputs": [],
      "source": [
        "# Atribua o valor zero onde os valores do dataframe são menores que 5\n",
        "data[data < 5] = 0\n",
        "data"
      ]
    },
    {
      "cell_type": "markdown",
      "metadata": {
        "id": "f3VPA0N01dAB"
      },
      "source": [
        "### Filtro e Seleção"
      ]
    },
    {
      "cell_type": "code",
      "execution_count": null,
      "metadata": {
        "id": "rUE-dn2G1dAC"
      },
      "outputs": [],
      "source": [
        "# Selecione as colunas three e one\n",
        "data[['three', 'one']]"
      ]
    },
    {
      "cell_type": "code",
      "execution_count": null,
      "metadata": {
        "id": "XE6tW9Lc1dAD"
      },
      "outputs": [],
      "source": [
        "# Retorne as linhas do dataframe cujo valor da coluna three seja maior que 5\n",
        "data[data['three'] > 5]"
      ]
    },
    {
      "cell_type": "markdown",
      "metadata": {
        "id": "MbIjdjba1dAD"
      },
      "source": [
        "### Seleção com o Operador loc e iloc\n",
        "#### Seleção de linhas ou linhas e colunas"
      ]
    },
    {
      "cell_type": "code",
      "execution_count": null,
      "metadata": {
        "id": "ScSyYJVj1dAD"
      },
      "outputs": [],
      "source": [
        "# Retorne o subconjunto especificado pela linha colorado e colunas two e three\n",
        "data.loc['Colorado', ['two', 'three']]"
      ]
    },
    {
      "cell_type": "code",
      "execution_count": null,
      "metadata": {
        "id": "Oadb46Sr1dAE"
      },
      "outputs": [],
      "source": [
        "# Retorne o subconjunto especificado pela linha 2 e colunas 3, 0 e 1\n",
        "data.iloc[2, [3, 0, 1]]"
      ]
    },
    {
      "cell_type": "markdown",
      "metadata": {
        "id": "4fTiyUlL1dAE"
      },
      "source": [
        "### Outros exemplos de loc, iloc e []"
      ]
    },
    {
      "cell_type": "code",
      "execution_count": null,
      "metadata": {
        "id": "_Ri8Rsyd1dAE"
      },
      "outputs": [],
      "source": [
        "data = {'state': ['Ohio', 'Ohio', 'Ohio', 'Nevada', 'Nevada', 'Nevada'],\n",
        "'year': [2000, 2001, 2002, 2001, 2002, 2003],\n",
        "'pop': [1.5, 1.7, 3.6, 2.4, 2.9, 3.2]}\n",
        "frame = pd.DataFrame(data, index=['a', 'b', 'c', 'd', 'e', 'f'])\n",
        "frame"
      ]
    },
    {
      "cell_type": "code",
      "execution_count": null,
      "metadata": {
        "id": "y2R8wgZj1dAF"
      },
      "outputs": [],
      "source": [
        "# Nome(s) de coluna(s)\n",
        "print(frame.loc['a'])\n",
        "# Nome(s) de linha(s) e nomes de coluna(s)\n",
        "print(frame.loc['a', 'pop'])\n",
        "# Vetor de booleano e nome de coluna\n",
        "print(frame.loc[[True, True, False, False, False, False], 'pop'])\n",
        "# Vetor(es) de booleano(s)\n",
        "print(frame.loc[[True, True, False, False, False, False], [True, True, False]])\n",
        "print(frame.iloc[0:2, 1]) # Indice(s) da(s) linha(s) e coluna(s)\n",
        "print(frame['pop']) # Nome(s) da(s) colunas\n",
        "print(frame[[True, True, False, False, False, False]]) # Vetor de booleano"
      ]
    }
  ],
  "metadata": {
    "kernelspec": {
      "display_name": "Python 3",
      "language": "python",
      "name": "python3"
    },
    "language_info": {
      "codemirror_mode": {
        "name": "ipython",
        "version": 3
      },
      "file_extension": ".py",
      "mimetype": "text/x-python",
      "name": "python",
      "nbconvert_exporter": "python",
      "pygments_lexer": "ipython3",
      "version": "3.8.3"
    },
    "varInspector": {
      "cols": {
        "lenName": 16,
        "lenType": 16,
        "lenVar": 40
      },
      "kernels_config": {
        "python": {
          "delete_cmd_postfix": "",
          "delete_cmd_prefix": "del ",
          "library": "var_list.py",
          "varRefreshCmd": "print(var_dic_list())"
        },
        "r": {
          "delete_cmd_postfix": ") ",
          "delete_cmd_prefix": "rm(",
          "library": "var_list.r",
          "varRefreshCmd": "cat(var_dic_list()) "
        }
      },
      "types_to_exclude": [
        "module",
        "function",
        "builtin_function_or_method",
        "instance",
        "_Feature"
      ],
      "window_display": false
    },
    "colab": {
      "provenance": [],
      "include_colab_link": true
    }
  },
  "nbformat": 4,
  "nbformat_minor": 0
}