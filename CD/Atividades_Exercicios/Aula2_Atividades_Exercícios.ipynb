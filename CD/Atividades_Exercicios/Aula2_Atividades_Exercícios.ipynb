{
  "cells": [
    {
      "cell_type": "markdown",
      "metadata": {
        "id": "view-in-github",
        "colab_type": "text"
      },
      "source": [
        "<a href=\"https://colab.research.google.com/github/alexlopespereira/mba_enap/blob/main/CD/Atividades_Exercicios/Aula2_Atividades_Exerc%C3%ADcios.ipynb\" target=\"_parent\"><img src=\"https://colab.research.google.com/assets/colab-badge.svg\" alt=\"Open In Colab\"/></a>"
      ]
    },
    {
      "cell_type": "markdown",
      "metadata": {
        "id": "KcAZ2RHCg_Ze"
      },
      "source": [
        "# Aula 2 - Atividades e Exercícios\n"
      ]
    },
    {
      "cell_type": "code",
      "execution_count": null,
      "metadata": {
        "id": "SeTJb51SKs_W"
      },
      "outputs": [],
      "source": [
        "import pandas as pd\n"
      ]
    },
    {
      "cell_type": "markdown",
      "metadata": {
        "id": "Z7rhFS4W_Dvv"
      },
      "source": [
        "## Atividade 2.1 - 10 min (em Aula)\n",
        "### Considere o seguinte dataset"
      ]
    },
    {
      "cell_type": "code",
      "execution_count": null,
      "metadata": {
        "colab": {
          "base_uri": "https://localhost:8080/",
          "height": 214
        },
        "id": "XlFT0PIr--Cu",
        "outputId": "0e186ff4-23a4-418e-babb-644815d61839"
      },
      "outputs": [
        {
          "data": {
            "text/html": [
              "<div>\n",
              "<style scoped>\n",
              "    .dataframe tbody tr th:only-of-type {\n",
              "        vertical-align: middle;\n",
              "    }\n",
              "\n",
              "    .dataframe tbody tr th {\n",
              "        vertical-align: top;\n",
              "    }\n",
              "\n",
              "    .dataframe thead th {\n",
              "        text-align: right;\n",
              "    }\n",
              "</style>\n",
              "<table border=\"1\" class=\"dataframe\">\n",
              "  <thead>\n",
              "    <tr style=\"text-align: right;\">\n",
              "      <th></th>\n",
              "      <th>ProductID</th>\n",
              "      <th>ProductName</th>\n",
              "      <th>Price</th>\n",
              "      <th>OrderID</th>\n",
              "      <th>CustomerID</th>\n",
              "      <th>EmployeeID</th>\n",
              "      <th>OrderDate</th>\n",
              "      <th>ShipperID</th>\n",
              "      <th>OrderDetailID</th>\n",
              "      <th>Quantity</th>\n",
              "      <th>FirstName</th>\n",
              "      <th>LastName</th>\n",
              "      <th>CategoryID</th>\n",
              "      <th>CategoryName</th>\n",
              "    </tr>\n",
              "  </thead>\n",
              "  <tbody>\n",
              "    <tr>\n",
              "      <th>0</th>\n",
              "      <td>11</td>\n",
              "      <td>Queso Cabrales</td>\n",
              "      <td>21.00</td>\n",
              "      <td>10248</td>\n",
              "      <td>90</td>\n",
              "      <td>5</td>\n",
              "      <td>1996-07-04</td>\n",
              "      <td>3</td>\n",
              "      <td>1</td>\n",
              "      <td>12</td>\n",
              "      <td>Steven</td>\n",
              "      <td>Buchanan</td>\n",
              "      <td>4</td>\n",
              "      <td>Dairy Products</td>\n",
              "    </tr>\n",
              "    <tr>\n",
              "      <th>1</th>\n",
              "      <td>42</td>\n",
              "      <td>Singaporean Hokkien Fried Mee</td>\n",
              "      <td>14.00</td>\n",
              "      <td>10248</td>\n",
              "      <td>90</td>\n",
              "      <td>5</td>\n",
              "      <td>1996-07-04</td>\n",
              "      <td>3</td>\n",
              "      <td>2</td>\n",
              "      <td>10</td>\n",
              "      <td>Steven</td>\n",
              "      <td>Buchanan</td>\n",
              "      <td>5</td>\n",
              "      <td>Grains/Cereals</td>\n",
              "    </tr>\n",
              "    <tr>\n",
              "      <th>2</th>\n",
              "      <td>72</td>\n",
              "      <td>Mozzarella di Giovanni</td>\n",
              "      <td>34.80</td>\n",
              "      <td>10248</td>\n",
              "      <td>90</td>\n",
              "      <td>5</td>\n",
              "      <td>1996-07-04</td>\n",
              "      <td>3</td>\n",
              "      <td>3</td>\n",
              "      <td>5</td>\n",
              "      <td>Steven</td>\n",
              "      <td>Buchanan</td>\n",
              "      <td>4</td>\n",
              "      <td>Dairy Products</td>\n",
              "    </tr>\n",
              "    <tr>\n",
              "      <th>3</th>\n",
              "      <td>14</td>\n",
              "      <td>Tofu</td>\n",
              "      <td>23.25</td>\n",
              "      <td>10249</td>\n",
              "      <td>81</td>\n",
              "      <td>6</td>\n",
              "      <td>1996-07-05</td>\n",
              "      <td>1</td>\n",
              "      <td>4</td>\n",
              "      <td>9</td>\n",
              "      <td>Michael</td>\n",
              "      <td>Suyama</td>\n",
              "      <td>7</td>\n",
              "      <td>Produce</td>\n",
              "    </tr>\n",
              "    <tr>\n",
              "      <th>4</th>\n",
              "      <td>51</td>\n",
              "      <td>Manjimup Dried Apples</td>\n",
              "      <td>53.00</td>\n",
              "      <td>10249</td>\n",
              "      <td>81</td>\n",
              "      <td>6</td>\n",
              "      <td>1996-07-05</td>\n",
              "      <td>1</td>\n",
              "      <td>5</td>\n",
              "      <td>40</td>\n",
              "      <td>Michael</td>\n",
              "      <td>Suyama</td>\n",
              "      <td>7</td>\n",
              "      <td>Produce</td>\n",
              "    </tr>\n",
              "  </tbody>\n",
              "</table>\n",
              "</div>"
            ],
            "text/plain": [
              "   ProductID                    ProductName  ...  CategoryID    CategoryName\n",
              "0         11                 Queso Cabrales  ...           4  Dairy Products\n",
              "1         42  Singaporean Hokkien Fried Mee  ...           5  Grains/Cereals\n",
              "2         72         Mozzarella di Giovanni  ...           4  Dairy Products\n",
              "3         14                           Tofu  ...           7         Produce\n",
              "4         51          Manjimup Dried Apples  ...           7         Produce\n",
              "\n",
              "[5 rows x 14 columns]"
            ]
          },
          "execution_count": 3,
          "metadata": {},
          "output_type": "execute_result"
        }
      ],
      "source": [
        "url='https://docs.google.com/spreadsheets/d/16B0uAFH1hubqvXytaxEkh9J8fXAJugYi/edit?usp=sharing'\n",
        "url2='https://drive.google.com/uc?id=' + url.split('/')[-2]\n",
        "df_orders = pd.read_excel(url2, sheet_name='Orders')\n",
        "df_orders.head()"
      ]
    },
    {
      "cell_type": "markdown",
      "metadata": {
        "id": "poH6EFdYLbuw"
      },
      "source": [
        "#### Faça uma tabela dinâmica (pivot table), aqui no Colab, em que nas linhas estejam os vendedores, nas colunas as categorias, nos valores a soma das vendas/faturamento ($) do vendedor na respectiva categoria.\n",
        "##### Dica: As colunas FirstName e LastName têm o nome dos vendedores. Use uma delas para identificar o vendedor (não há homônimos nessa tabela)."
      ]
    },
    {
      "cell_type": "code",
      "execution_count": null,
      "metadata": {
        "id": "dWM_7PI8_IBp"
      },
      "outputs": [],
      "source": []
    },
    {
      "cell_type": "markdown",
      "metadata": {
        "id": "GrdSerU6FtjN"
      },
      "source": [
        "#### Despivote a tabela pivotada que acabou de criar."
      ]
    },
    {
      "cell_type": "code",
      "execution_count": null,
      "metadata": {
        "id": "REHr3itKFkqg"
      },
      "outputs": [],
      "source": []
    },
    {
      "cell_type": "code",
      "execution_count": null,
      "metadata": {
        "id": "i1lWqySLGFxn"
      },
      "outputs": [],
      "source": []
    },
    {
      "cell_type": "code",
      "execution_count": null,
      "metadata": {
        "id": "0XKVxqg-Jnob"
      },
      "outputs": [],
      "source": []
    }
  ],
  "metadata": {
    "colab": {
      "name": "Aula2_Atividades_Exercicios.ipynb",
      "provenance": [],
      "include_colab_link": true
    },
    "kernelspec": {
      "display_name": "Python 3",
      "name": "python3"
    }
  },
  "nbformat": 4,
  "nbformat_minor": 0
}