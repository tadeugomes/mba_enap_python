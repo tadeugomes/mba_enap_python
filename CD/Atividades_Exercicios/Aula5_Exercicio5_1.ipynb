{
 "cells": [
  {
   "cell_type": "markdown",
   "metadata": {
    "id": "view-in-github"
   },
   "source": [
    "<a href=\"https://colab.research.google.com/github/alexlopespereira/mba_enap/blob/main/CD/Atividades_Exercicios/Aula5_Exercicio5_1.ipynb\" target=\"_parent\"><img src=\"https://colab.research.google.com/assets/colab-badge.svg\" alt=\"Open In Colab\"/></a>"
   ]
  },
  {
   "cell_type": "markdown",
   "metadata": {
    "id": "NSLs83IDUKfq"
   },
   "source": [
    "# Exercício 5.1 - Solução"
   ]
  },
  {
   "cell_type": "code",
   "execution_count": null,
   "metadata": {
    "colab": {
     "base_uri": "https://localhost:8080/"
    },
    "executionInfo": {
     "elapsed": 249768,
     "status": "ok",
     "timestamp": 1636231403789,
     "user": {
      "displayName": "Alex Lopes",
      "photoUrl": "https://lh3.googleusercontent.com/a-/AOh14GiIodCIc3QmEkRc07ZdX1uDEU_3XpwbFfljE8IyIg=s64",
      "userId": "01606300887134833077"
     },
     "user_tz": 180
    },
    "id": "Z0nybKmRrJRn",
    "outputId": "ad3ec5ab-1f96-4b8e-d4a6-22b26c0687a9"
   },
   "outputs": [
    {
     "name": "stdout",
     "output_type": "stream",
     "text": [
      "Authenticated\n"
     ]
    }
   ],
   "source": [
    "from google.colab import auth\n",
    "auth.authenticate_user()\n",
    "print('Authenticated')"
   ]
  },
  {
   "cell_type": "code",
   "execution_count": null,
   "metadata": {
    "colab": {
     "base_uri": "https://localhost:8080/",
     "height": 273
    },
    "executionInfo": {
     "elapsed": 38668,
     "status": "ok",
     "timestamp": 1636310390639,
     "user": {
      "displayName": "Alex Lopes",
      "photoUrl": "https://lh3.googleusercontent.com/a-/AOh14GiIodCIc3QmEkRc07ZdX1uDEU_3XpwbFfljE8IyIg=s64",
      "userId": "01606300887134833077"
     },
     "user_tz": 180
    },
    "id": "i8BuNBoVUPys",
    "outputId": "a2ddd584-33c6-4af2-9947-39ed8457d554"
   },
   "outputs": [],
   "source": [
    "import pandas as pd\n",
    "## Defina o id do seu projeto no bigquery!!!!!\n",
    "project_id = 'SEU PROJECT ID' # Defina o id do seu projeto no bigquery!!!!!\n",
    "## Defina o id do seu projeto no bigquery!!!!!\n",
    "\n",
    "df = pd.io.gbq.read_gbq('''\n",
    "SELECT ... ''', project_id=project_id)\n",
    "\n",
    "df.head()"
   ]
  },
  {
   "cell_type": "code",
   "execution_count": null,
   "metadata": {
    "id": "FBdtX5y8TSPB"
   },
   "outputs": [],
   "source": [
    "## Explique o que fez na sua query e por que.\n",
    "# Fiz o left join da população porque essa tabela tem mais anos. \n",
    "# Tive que fazer o distinct da tabela geobr_mapas porque essa tabela granularidade de setor censitário."
   ]
  },
  {
   "cell_type": "markdown",
   "metadata": {
    "id": "KxgVMBVrJNcS"
   },
   "source": [
    "## [Demonstração](https://drive.google.com/file/d/1PYtx7LSVGYzv3pcjPY6VB8uO7P1Cl0cF/view?usp=sharing) de como criar um dataset"
   ]
  },
  {
   "cell_type": "markdown",
   "metadata": {
    "id": "IdUFXgfWTPIe"
   },
   "source": [
    "## Submeta o seu dataframe criando uma tabela no BigQuery"
   ]
  },
  {
   "cell_type": "code",
   "execution_count": null,
   "metadata": {
    "colab": {
     "base_uri": "https://localhost:8080/"
    },
    "executionInfo": {
     "elapsed": 27267,
     "status": "ok",
     "timestamp": 1635651782361,
     "user": {
      "displayName": "Alex Lopes",
      "photoUrl": "https://lh3.googleusercontent.com/a-/AOh14GiIodCIc3QmEkRc07ZdX1uDEU_3XpwbFfljE8IyIg=s64",
      "userId": "01606300887134833077"
     },
     "user_tz": 180
    },
    "id": "mF2rNZIvx-zz",
    "outputId": "cef53755-8824-4472-c9ec-31bab0791f58"
   },
   "outputs": [
    {
     "name": "stderr",
     "output_type": "stream",
     "text": [
      "5it [00:25,  5.14s/it]\n"
     ]
    }
   ],
   "source": [
    "df.to_gbq(\"enapcd2021.pibpercapita\",\n",
    "              project_id=project_id,\n",
    "              chunksize=40000,\n",
    "              if_exists='replace',\n",
    "              )"
   ]
  }
 ],
 "metadata": {
  "colab": {
   "collapsed_sections": [],
   "name": "Aula5_Exercicio5.1_Solucao.ipynb",
   "provenance": []
  },
  "kernelspec": {
   "display_name": "Python 3",
   "name": "python3"
  },
  "language_info": {
   "name": "python"
  }
 },
 "nbformat": 4,
 "nbformat_minor": 0
}
