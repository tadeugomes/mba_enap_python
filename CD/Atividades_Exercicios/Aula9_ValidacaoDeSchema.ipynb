{
  "cells": [
    {
      "cell_type": "markdown",
      "metadata": {},
      "source": [
        "<a href=\"https://colab.research.google.com/github/alexlopespereira/mba_enap/blob/main/CD/Atividades_Exercicios/Aula9_ValidacaoDeSchema.ipynb\" target=\"_parent\"><img src=\"https://colab.research.google.com/assets/colab-badge.svg\" alt=\"Open In Colab\"/></a>"
      ]
    },
    {
      "cell_type": "markdown",
      "metadata": {
        "id": "KCpYBIV4k0H8"
      },
      "source": [
        "## Aula 9 - Validação de Esquema com Pandas"
      ]
    },
    {
      "cell_type": "code",
      "execution_count": null,
      "metadata": {
        "colab": {
          "base_uri": "https://localhost:8080/",
          "height": 549
        },
        "id": "c3YfgLwL66zt",
        "outputId": "596f9528-cd2b-4696-8047-131bf01298a5"
      },
      "outputs": [
        {
          "name": "stdout",
          "output_type": "stream",
          "text": [
            "Collecting pandera\n",
            "  Downloading pandera-0.8.0-py3-none-any.whl (186 kB)\n",
            "\u001b[?25l\r\u001b[K     |█▊                              | 10 kB 24.1 MB/s eta 0:00:01\r\u001b[K     |███▌                            | 20 kB 27.2 MB/s eta 0:00:01\r\u001b[K     |█████▎                          | 30 kB 11.9 MB/s eta 0:00:01\r\u001b[K     |███████                         | 40 kB 8.9 MB/s eta 0:00:01\r\u001b[K     |████████▉                       | 51 kB 5.1 MB/s eta 0:00:01\r\u001b[K     |██████████▋                     | 61 kB 5.6 MB/s eta 0:00:01\r\u001b[K     |████████████▎                   | 71 kB 5.4 MB/s eta 0:00:01\r\u001b[K     |██████████████                  | 81 kB 6.1 MB/s eta 0:00:01\r\u001b[K     |███████████████▉                | 92 kB 4.6 MB/s eta 0:00:01\r\u001b[K     |█████████████████▋              | 102 kB 5.0 MB/s eta 0:00:01\r\u001b[K     |███████████████████▍            | 112 kB 5.0 MB/s eta 0:00:01\r\u001b[K     |█████████████████████▏          | 122 kB 5.0 MB/s eta 0:00:01\r\u001b[K     |██████████████████████▉         | 133 kB 5.0 MB/s eta 0:00:01\r\u001b[K     |████████████████████████▋       | 143 kB 5.0 MB/s eta 0:00:01\r\u001b[K     |██████████████████████████▍     | 153 kB 5.0 MB/s eta 0:00:01\r\u001b[K     |████████████████████████████▏   | 163 kB 5.0 MB/s eta 0:00:01\r\u001b[K     |██████████████████████████████  | 174 kB 5.0 MB/s eta 0:00:01\r\u001b[K     |███████████████████████████████▊| 184 kB 5.0 MB/s eta 0:00:01\r\u001b[K     |████████████████████████████████| 186 kB 5.0 MB/s \n",
            "\u001b[?25hRequirement already satisfied: typing-extensions>=3.7.4.3 in /usr/local/lib/python3.7/dist-packages (from pandera) (3.10.0.2)\n",
            "Requirement already satisfied: numpy>=1.9.0 in /usr/local/lib/python3.7/dist-packages (from pandera) (1.19.5)\n",
            "Requirement already satisfied: wrapt in /usr/local/lib/python3.7/dist-packages (from pandera) (1.13.3)\n",
            "Collecting typing-inspect>=0.6.0\n",
            "  Downloading typing_inspect-0.7.1-py3-none-any.whl (8.4 kB)\n",
            "Collecting pandas-stubs\n",
            "  Downloading pandas_stubs-1.2.0.39-py3-none-any.whl (161 kB)\n",
            "\u001b[K     |████████████████████████████████| 161 kB 59.0 MB/s \n",
            "\u001b[?25hRequirement already satisfied: packaging>=20.0 in /usr/local/lib/python3.7/dist-packages (from pandera) (21.3)\n",
            "Requirement already satisfied: pandas>=1.0 in /usr/local/lib/python3.7/dist-packages (from pandera) (1.1.5)\n",
            "Requirement already satisfied: pyarrow in /usr/local/lib/python3.7/dist-packages (from pandera) (3.0.0)\n",
            "Requirement already satisfied: pyparsing!=3.0.5,>=2.0.2 in /usr/local/lib/python3.7/dist-packages (from packaging>=20.0->pandera) (3.0.6)\n",
            "Requirement already satisfied: pytz>=2017.2 in /usr/local/lib/python3.7/dist-packages (from pandas>=1.0->pandera) (2018.9)\n",
            "Requirement already satisfied: python-dateutil>=2.7.3 in /usr/local/lib/python3.7/dist-packages (from pandas>=1.0->pandera) (2.8.2)\n",
            "Requirement already satisfied: six>=1.5 in /usr/local/lib/python3.7/dist-packages (from python-dateutil>=2.7.3->pandas>=1.0->pandera) (1.15.0)\n",
            "Collecting mypy-extensions>=0.3.0\n",
            "  Downloading mypy_extensions-0.4.3-py2.py3-none-any.whl (4.5 kB)\n",
            "Installing collected packages: mypy-extensions, typing-inspect, pandas-stubs, pandera\n",
            "Successfully installed mypy-extensions-0.4.3 pandas-stubs-1.2.0.39 pandera-0.8.0 typing-inspect-0.7.1\n"
          ]
        },
        {
          "data": {
            "application/vnd.colab-display-data+json": {
              "pip_warning": {
                "packages": [
                  "pandas"
                ]
              }
            }
          },
          "metadata": {},
          "output_type": "display_data"
        }
      ],
      "source": [
        "!pip install pandera"
      ]
    },
    {
      "cell_type": "code",
      "execution_count": null,
      "metadata": {
        "colab": {
          "base_uri": "https://localhost:8080/",
          "height": 439
        },
        "id": "xjxlT3Ygk_Y2",
        "outputId": "7dea6323-61cd-4c7b-fcfc-d6df24bcd7dd"
      },
      "outputs": [
        {
          "data": {
            "text/html": [
              "<div>\n",
              "<style scoped>\n",
              "    .dataframe tbody tr th:only-of-type {\n",
              "        vertical-align: middle;\n",
              "    }\n",
              "\n",
              "    .dataframe tbody tr th {\n",
              "        vertical-align: top;\n",
              "    }\n",
              "\n",
              "    .dataframe thead th {\n",
              "        text-align: right;\n",
              "    }\n",
              "</style>\n",
              "<table border=\"1\" class=\"dataframe\">\n",
              "  <thead>\n",
              "    <tr style=\"text-align: right;\">\n",
              "      <th></th>\n",
              "      <th>cat_var_1</th>\n",
              "      <th>cat_var_2</th>\n",
              "      <th>num_var_1</th>\n",
              "      <th>num_var_2</th>\n",
              "    </tr>\n",
              "  </thead>\n",
              "  <tbody>\n",
              "    <tr>\n",
              "      <th>0</th>\n",
              "      <td>A</td>\n",
              "      <td>A</td>\n",
              "      <td>6.804147</td>\n",
              "      <td>24.743304</td>\n",
              "    </tr>\n",
              "    <tr>\n",
              "      <th>1</th>\n",
              "      <td>A</td>\n",
              "      <td>C</td>\n",
              "      <td>3.684308</td>\n",
              "      <td>22.774633</td>\n",
              "    </tr>\n",
              "    <tr>\n",
              "      <th>2</th>\n",
              "      <td>A</td>\n",
              "      <td>C</td>\n",
              "      <td>5.911288</td>\n",
              "      <td>28.416588</td>\n",
              "    </tr>\n",
              "    <tr>\n",
              "      <th>3</th>\n",
              "      <td>C</td>\n",
              "      <td>A</td>\n",
              "      <td>4.790627</td>\n",
              "      <td>21.951250</td>\n",
              "    </tr>\n",
              "    <tr>\n",
              "      <th>4</th>\n",
              "      <td>C</td>\n",
              "      <td>B</td>\n",
              "      <td>4.504166</td>\n",
              "      <td>28.563142</td>\n",
              "    </tr>\n",
              "    <tr>\n",
              "      <th>...</th>\n",
              "      <td>...</td>\n",
              "      <td>...</td>\n",
              "      <td>...</td>\n",
              "      <td>...</td>\n",
              "    </tr>\n",
              "    <tr>\n",
              "      <th>95</th>\n",
              "      <td>C</td>\n",
              "      <td>B</td>\n",
              "      <td>8.918212</td>\n",
              "      <td>20.537053</td>\n",
              "    </tr>\n",
              "    <tr>\n",
              "      <th>96</th>\n",
              "      <td>A</td>\n",
              "      <td>B</td>\n",
              "      <td>9.925908</td>\n",
              "      <td>26.377857</td>\n",
              "    </tr>\n",
              "    <tr>\n",
              "      <th>97</th>\n",
              "      <td>C</td>\n",
              "      <td>C</td>\n",
              "      <td>2.802506</td>\n",
              "      <td>20.730084</td>\n",
              "    </tr>\n",
              "    <tr>\n",
              "      <th>98</th>\n",
              "      <td>C</td>\n",
              "      <td>A</td>\n",
              "      <td>4.465055</td>\n",
              "      <td>29.914306</td>\n",
              "    </tr>\n",
              "    <tr>\n",
              "      <th>99</th>\n",
              "      <td>B</td>\n",
              "      <td>C</td>\n",
              "      <td>8.516331</td>\n",
              "      <td>27.795298</td>\n",
              "    </tr>\n",
              "  </tbody>\n",
              "</table>\n",
              "<p>100 rows × 4 columns</p>\n",
              "</div>"
            ],
            "text/plain": [
              "   cat_var_1 cat_var_2  num_var_1  num_var_2\n",
              "0          A         A   6.804147  24.743304\n",
              "1          A         C   3.684308  22.774633\n",
              "2          A         C   5.911288  28.416588\n",
              "3          C         A   4.790627  21.951250\n",
              "4          C         B   4.504166  28.563142\n",
              "..       ...       ...        ...        ...\n",
              "95         C         B   8.918212  20.537053\n",
              "96         A         B   9.925908  26.377857\n",
              "97         C         C   2.802506  20.730084\n",
              "98         C         A   4.465055  29.914306\n",
              "99         B         C   8.516331  27.795298\n",
              "\n",
              "[100 rows x 4 columns]"
            ]
          },
          "execution_count": 1,
          "metadata": {},
          "output_type": "execute_result"
        }
      ],
      "source": [
        "import numpy as np\n",
        "import pandas as pd\n",
        "import pandera as pa\n",
        "\n",
        "categories = [\"A\", \"B\", \"C\"]\n",
        "\n",
        "np.random.seed(100)\n",
        "\n",
        "dataframe = pd.DataFrame({\n",
        "    \"cat_var_1\": np.random.choice(categories, size=100),\n",
        "    \"cat_var_2\": np.random.choice(categories, size=100),\n",
        "    \"num_var_1\": np.random.uniform(0, 10, size=100),\n",
        "    \"num_var_2\": np.random.uniform(20, 30, size=100),\n",
        "})\n",
        "dataframe\n",
        "\n"
      ]
    },
    {
      "cell_type": "code",
      "execution_count": null,
      "metadata": {
        "colab": {
          "base_uri": "https://localhost:8080/",
          "height": 439
        },
        "id": "ZWR6-40uX-0h",
        "outputId": "0964b9c3-0700-43f0-a784-72efa4bf5726"
      },
      "outputs": [
        {
          "data": {
            "text/html": [
              "<div>\n",
              "<style scoped>\n",
              "    .dataframe tbody tr th:only-of-type {\n",
              "        vertical-align: middle;\n",
              "    }\n",
              "\n",
              "    .dataframe tbody tr th {\n",
              "        vertical-align: top;\n",
              "    }\n",
              "\n",
              "    .dataframe thead th {\n",
              "        text-align: right;\n",
              "    }\n",
              "</style>\n",
              "<table border=\"1\" class=\"dataframe\">\n",
              "  <thead>\n",
              "    <tr style=\"text-align: right;\">\n",
              "      <th></th>\n",
              "      <th>cat_var_1</th>\n",
              "      <th>cat_var_2</th>\n",
              "      <th>num_var_1</th>\n",
              "      <th>num_var_2</th>\n",
              "    </tr>\n",
              "  </thead>\n",
              "  <tbody>\n",
              "    <tr>\n",
              "      <th>0</th>\n",
              "      <td>A</td>\n",
              "      <td>A</td>\n",
              "      <td>6.804147</td>\n",
              "      <td>24.743304</td>\n",
              "    </tr>\n",
              "    <tr>\n",
              "      <th>1</th>\n",
              "      <td>A</td>\n",
              "      <td>C</td>\n",
              "      <td>3.684308</td>\n",
              "      <td>22.774633</td>\n",
              "    </tr>\n",
              "    <tr>\n",
              "      <th>2</th>\n",
              "      <td>A</td>\n",
              "      <td>C</td>\n",
              "      <td>5.911288</td>\n",
              "      <td>28.416588</td>\n",
              "    </tr>\n",
              "    <tr>\n",
              "      <th>3</th>\n",
              "      <td>C</td>\n",
              "      <td>A</td>\n",
              "      <td>4.790627</td>\n",
              "      <td>21.951250</td>\n",
              "    </tr>\n",
              "    <tr>\n",
              "      <th>4</th>\n",
              "      <td>C</td>\n",
              "      <td>B</td>\n",
              "      <td>4.504166</td>\n",
              "      <td>28.563142</td>\n",
              "    </tr>\n",
              "    <tr>\n",
              "      <th>...</th>\n",
              "      <td>...</td>\n",
              "      <td>...</td>\n",
              "      <td>...</td>\n",
              "      <td>...</td>\n",
              "    </tr>\n",
              "    <tr>\n",
              "      <th>95</th>\n",
              "      <td>C</td>\n",
              "      <td>B</td>\n",
              "      <td>8.918212</td>\n",
              "      <td>20.537053</td>\n",
              "    </tr>\n",
              "    <tr>\n",
              "      <th>96</th>\n",
              "      <td>A</td>\n",
              "      <td>B</td>\n",
              "      <td>9.925908</td>\n",
              "      <td>26.377857</td>\n",
              "    </tr>\n",
              "    <tr>\n",
              "      <th>97</th>\n",
              "      <td>C</td>\n",
              "      <td>C</td>\n",
              "      <td>2.802506</td>\n",
              "      <td>20.730084</td>\n",
              "    </tr>\n",
              "    <tr>\n",
              "      <th>98</th>\n",
              "      <td>C</td>\n",
              "      <td>A</td>\n",
              "      <td>4.465055</td>\n",
              "      <td>29.914306</td>\n",
              "    </tr>\n",
              "    <tr>\n",
              "      <th>99</th>\n",
              "      <td>B</td>\n",
              "      <td>C</td>\n",
              "      <td>8.516331</td>\n",
              "      <td>27.795298</td>\n",
              "    </tr>\n",
              "  </tbody>\n",
              "</table>\n",
              "<p>100 rows × 4 columns</p>\n",
              "</div>"
            ],
            "text/plain": [
              "   cat_var_1 cat_var_2  num_var_1  num_var_2\n",
              "0          A         A   6.804147  24.743304\n",
              "1          A         C   3.684308  22.774633\n",
              "2          A         C   5.911288  28.416588\n",
              "3          C         A   4.790627  21.951250\n",
              "4          C         B   4.504166  28.563142\n",
              "..       ...       ...        ...        ...\n",
              "95         C         B   8.918212  20.537053\n",
              "96         A         B   9.925908  26.377857\n",
              "97         C         C   2.802506  20.730084\n",
              "98         C         A   4.465055  29.914306\n",
              "99         B         C   8.516331  27.795298\n",
              "\n",
              "[100 rows x 4 columns]"
            ]
          },
          "execution_count": 3,
          "metadata": {},
          "output_type": "execute_result"
        }
      ],
      "source": [
        "schema = pa.DataFrameSchema({\n",
        "    \"num_var_.+\": pa.Column(\n",
        "        float,\n",
        "        checks=pa.Check.greater_than_or_equal_to(0),\n",
        "        regex=True,\n",
        "    ),\n",
        "    \"cat_var_.+\": pa.Column(\n",
        "        pa.Category,\n",
        "        checks=pa.Check.isin(categories),\n",
        "        coerce=True,\n",
        "        regex=True,\n",
        "    ),\n",
        "})\n",
        "validated_df = schema.validate(dataframe)\n",
        "validated_df"
      ]
    },
    {
      "cell_type": "code",
      "execution_count": null,
      "metadata": {
        "colab": {
          "base_uri": "https://localhost:8080/",
          "height": 115
        },
        "id": "iRUI69QG7WI4",
        "outputId": "1f12151a-c44f-429c-9c9a-44cac979766f"
      },
      "outputs": [
        {
          "data": {
            "text/html": [
              "<div>\n",
              "<style scoped>\n",
              "    .dataframe tbody tr th:only-of-type {\n",
              "        vertical-align: middle;\n",
              "    }\n",
              "\n",
              "    .dataframe tbody tr th {\n",
              "        vertical-align: top;\n",
              "    }\n",
              "\n",
              "    .dataframe thead th {\n",
              "        text-align: right;\n",
              "    }\n",
              "</style>\n",
              "<table border=\"1\" class=\"dataframe\">\n",
              "  <thead>\n",
              "    <tr style=\"text-align: right;\">\n",
              "      <th></th>\n",
              "      <th>a</th>\n",
              "      <th>b</th>\n",
              "      <th>c</th>\n",
              "    </tr>\n",
              "  </thead>\n",
              "  <tbody>\n",
              "    <tr>\n",
              "      <th>0</th>\n",
              "      <td>1</td>\n",
              "      <td>2</td>\n",
              "      <td>3</td>\n",
              "    </tr>\n",
              "    <tr>\n",
              "      <th>1</th>\n",
              "      <td>1</td>\n",
              "      <td>2</td>\n",
              "      <td>3</td>\n",
              "    </tr>\n",
              "  </tbody>\n",
              "</table>\n",
              "</div>"
            ],
            "text/plain": [
              "   a  b  c\n",
              "0  1  2  3\n",
              "1  1  2  3"
            ]
          },
          "execution_count": 6,
          "metadata": {},
          "output_type": "execute_result"
        }
      ],
      "source": [
        "schema = pa.DataFrameSchema(\n",
        "    columns={col: pa.Column(int) for col in [\"a\", \"b\", \"c\"]},\n",
        "    unique=[\"a\", \"c\"],\n",
        ")\n",
        "df = pd.DataFrame.from_records([\n",
        "    {\"a\": 1, \"b\": 2, \"c\": 3},\n",
        "    {\"a\": 1, \"b\": 2, \"c\": 3},\n",
        "])\n",
        "df"
      ]
    },
    {
      "cell_type": "code",
      "execution_count": null,
      "metadata": {
        "colab": {
          "base_uri": "https://localhost:8080/",
          "height": 445
        },
        "id": "MYNUBrHC8sF3",
        "outputId": "4e07b5ba-b9ea-4216-bec3-7f98975f8f3d"
      },
      "outputs": [
        {
          "ename": "SchemaError",
          "evalue": "ignored",
          "output_type": "error",
          "traceback": [
            "\u001b[0;31m---------------------------------------------------------------------------\u001b[0m",
            "\u001b[0;31mSchemaError\u001b[0m                               Traceback (most recent call last)",
            "\u001b[0;32m<ipython-input-7-dc85ea979a2b>\u001b[0m in \u001b[0;36m<module>\u001b[0;34m()\u001b[0m\n\u001b[0;32m----> 1\u001b[0;31m \u001b[0mschema\u001b[0m\u001b[0;34m.\u001b[0m\u001b[0mvalidate\u001b[0m\u001b[0;34m(\u001b[0m\u001b[0mdf\u001b[0m\u001b[0;34m)\u001b[0m\u001b[0;34m\u001b[0m\u001b[0;34m\u001b[0m\u001b[0m\n\u001b[0m",
            "\u001b[0;32m/usr/local/lib/python3.7/dist-packages/pandera/schemas.py\u001b[0m in \u001b[0;36mvalidate\u001b[0;34m(self, check_obj, head, tail, sample, random_state, lazy, inplace)\u001b[0m\n\u001b[1;32m    490\u001b[0m             \u001b[0mrandom_state\u001b[0m\u001b[0;34m=\u001b[0m\u001b[0mrandom_state\u001b[0m\u001b[0;34m,\u001b[0m\u001b[0;34m\u001b[0m\u001b[0;34m\u001b[0m\u001b[0m\n\u001b[1;32m    491\u001b[0m             \u001b[0mlazy\u001b[0m\u001b[0;34m=\u001b[0m\u001b[0mlazy\u001b[0m\u001b[0;34m,\u001b[0m\u001b[0;34m\u001b[0m\u001b[0;34m\u001b[0m\u001b[0m\n\u001b[0;32m--> 492\u001b[0;31m             \u001b[0minplace\u001b[0m\u001b[0;34m=\u001b[0m\u001b[0minplace\u001b[0m\u001b[0;34m,\u001b[0m\u001b[0;34m\u001b[0m\u001b[0;34m\u001b[0m\u001b[0m\n\u001b[0m\u001b[1;32m    493\u001b[0m         )\n\u001b[1;32m    494\u001b[0m \u001b[0;34m\u001b[0m\u001b[0m\n",
            "\u001b[0;32m/usr/local/lib/python3.7/dist-packages/pandera/schemas.py\u001b[0m in \u001b[0;36m_validate\u001b[0;34m(self, check_obj, head, tail, sample, random_state, lazy, inplace)\u001b[0m\n\u001b[1;32m    708\u001b[0m                             \u001b[0;34mf\"columns '{*lst,}' not unique:\\n{failure_cases}\"\u001b[0m\u001b[0;34m,\u001b[0m\u001b[0;34m\u001b[0m\u001b[0;34m\u001b[0m\u001b[0m\n\u001b[1;32m    709\u001b[0m                             \u001b[0mfailure_cases\u001b[0m\u001b[0;34m=\u001b[0m\u001b[0mfailure_cases\u001b[0m\u001b[0;34m,\u001b[0m\u001b[0;34m\u001b[0m\u001b[0;34m\u001b[0m\u001b[0m\n\u001b[0;32m--> 710\u001b[0;31m                             \u001b[0mcheck\u001b[0m\u001b[0;34m=\u001b[0m\u001b[0;34m\"multiple_fields_uniqueness\"\u001b[0m\u001b[0;34m,\u001b[0m\u001b[0;34m\u001b[0m\u001b[0;34m\u001b[0m\u001b[0m\n\u001b[0m\u001b[1;32m    711\u001b[0m                         ),\n\u001b[1;32m    712\u001b[0m                     )\n",
            "\u001b[0;32m/usr/local/lib/python3.7/dist-packages/pandera/error_handlers.py\u001b[0m in \u001b[0;36mcollect_error\u001b[0;34m(self, reason_code, schema_error, original_exc)\u001b[0m\n\u001b[1;32m     30\u001b[0m         \"\"\"\n\u001b[1;32m     31\u001b[0m         \u001b[0;32mif\u001b[0m \u001b[0;32mnot\u001b[0m \u001b[0mself\u001b[0m\u001b[0;34m.\u001b[0m\u001b[0m_lazy\u001b[0m\u001b[0;34m:\u001b[0m\u001b[0;34m\u001b[0m\u001b[0;34m\u001b[0m\u001b[0m\n\u001b[0;32m---> 32\u001b[0;31m             \u001b[0;32mraise\u001b[0m \u001b[0mschema_error\u001b[0m \u001b[0;32mfrom\u001b[0m \u001b[0moriginal_exc\u001b[0m\u001b[0;34m\u001b[0m\u001b[0;34m\u001b[0m\u001b[0m\n\u001b[0m\u001b[1;32m     33\u001b[0m \u001b[0;34m\u001b[0m\u001b[0m\n\u001b[1;32m     34\u001b[0m         \u001b[0;31m# delete data of validated object from SchemaError object to prevent\u001b[0m\u001b[0;34m\u001b[0m\u001b[0;34m\u001b[0m\u001b[0;34m\u001b[0m\u001b[0m\n",
            "\u001b[0;31mSchemaError\u001b[0m: columns '('a', 'c')' not unique:\n  column  index  failure_case\n0      a      0             1\n1      a      1             1\n2      c      0             3\n3      c      1             3"
          ]
        }
      ],
      "source": [
        "schema.validate(df)"
      ]
    },
    {
      "cell_type": "code",
      "execution_count": null,
      "metadata": {
        "id": "WgNhyAoB8xAw"
      },
      "outputs": [],
      "source": []
    }
  ],
  "metadata": {
    "colab": {
      "collapsed_sections": [],
      "name": "Aula9_ValidacaoDeSchema.ipynb",
      "provenance": []
    },
    "kernelspec": {
      "display_name": "Python 3",
      "language": "python",
      "name": "python3"
    },
    "language_info": {
      "codemirror_mode": {
        "name": "ipython",
        "version": 3
      },
      "file_extension": ".py",
      "mimetype": "text/x-python",
      "name": "python",
      "nbconvert_exporter": "python",
      "pygments_lexer": "ipython3",
      "version": "3.8.3"
    },
    "varInspector": {
      "cols": {
        "lenName": 16,
        "lenType": 16,
        "lenVar": 40
      },
      "kernels_config": {
        "python": {
          "delete_cmd_postfix": "",
          "delete_cmd_prefix": "del ",
          "library": "var_list.py",
          "varRefreshCmd": "print(var_dic_list())"
        },
        "r": {
          "delete_cmd_postfix": ") ",
          "delete_cmd_prefix": "rm(",
          "library": "var_list.r",
          "varRefreshCmd": "cat(var_dic_list()) "
        }
      },
      "types_to_exclude": [
        "module",
        "function",
        "builtin_function_or_method",
        "instance",
        "_Feature"
      ],
      "window_display": false
    }
  },
  "nbformat": 4,
  "nbformat_minor": 0
}
