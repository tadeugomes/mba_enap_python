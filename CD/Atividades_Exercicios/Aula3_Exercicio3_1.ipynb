{
  "cells": [
    {
      "cell_type": "markdown",
      "metadata": {
        "colab_type": "text",
        "id": "view-in-github"
      },
      "source": [
        "<a href=\"https://colab.research.google.com/github/alexlopespereira/mba_enap/blob/main/CD/Atividades_Exercicios/Aula3_Exercicio3.1_Solucao.ipynb\" target=\"_parent\"><img src=\"https://colab.research.google.com/assets/colab-badge.svg\" alt=\"Open In Colab\"/></a>"
      ]
    },
    {
      "cell_type": "markdown",
      "metadata": {
        "id": "NSLs83IDUKfq"
      },
      "source": [
        "# Exercício 3.1 "
      ]
    },
    {
      "cell_type": "code",
      "execution_count": null,
      "metadata": {
        "colab": {
          "base_uri": "https://localhost:8080/"
        },
        "id": "Z0nybKmRrJRn",
        "outputId": "41d3926f-e419-43e5-8177-3e0b35c2a116"
      },
      "outputs": [
        {
          "name": "stdout",
          "output_type": "stream",
          "text": [
            "Authenticated\n"
          ]
        }
      ],
      "source": [
        "from google.colab import auth\n",
        "auth.authenticate_user()\n",
        "print('Authenticated')\n"
      ]
    },
    {
      "cell_type": "code",
      "execution_count": null,
      "metadata": {
        "colab": {
          "base_uri": "https://localhost:8080/",
          "height": 214
        },
        "id": "i8BuNBoVUPys",
        "outputId": "6ad9ce01-10d8-42c5-b29d-37996a07849b"
      },
      "outputs": [
        {
          "data": {
            "text/html": [
              "<div>\n",
              "<style scoped>\n",
              "    .dataframe tbody tr th:only-of-type {\n",
              "        vertical-align: middle;\n",
              "    }\n",
              "\n",
              "    .dataframe tbody tr th {\n",
              "        vertical-align: top;\n",
              "    }\n",
              "\n",
              "    .dataframe thead th {\n",
              "        text-align: right;\n",
              "    }\n",
              "</style>\n",
              "<table border=\"1\" class=\"dataframe\">\n",
              "  <thead>\n",
              "    <tr style=\"text-align: right;\">\n",
              "      <th></th>\n",
              "      <th>ano</th>\n",
              "      <th>sigla_uf</th>\n",
              "      <th>id_municipio</th>\n",
              "      <th>populacao</th>\n",
              "      <th>nome_municipio</th>\n",
              "      <th>pib</th>\n",
              "      <th>pibpercapita</th>\n",
              "    </tr>\n",
              "  </thead>\n",
              "  <tbody>\n",
              "    <tr>\n",
              "      <th>0</th>\n",
              "      <td>2002</td>\n",
              "      <td>RO</td>\n",
              "      <td>1100015</td>\n",
              "      <td>27237.0</td>\n",
              "      <td>Alta Floresta D'oeste</td>\n",
              "      <td>111290995</td>\n",
              "      <td>4086.022506</td>\n",
              "    </tr>\n",
              "    <tr>\n",
              "      <th>1</th>\n",
              "      <td>2003</td>\n",
              "      <td>RO</td>\n",
              "      <td>1100015</td>\n",
              "      <td>27563.0</td>\n",
              "      <td>Alta Floresta D'oeste</td>\n",
              "      <td>143222381</td>\n",
              "      <td>5196.182600</td>\n",
              "    </tr>\n",
              "    <tr>\n",
              "      <th>2</th>\n",
              "      <td>2004</td>\n",
              "      <td>RO</td>\n",
              "      <td>1100015</td>\n",
              "      <td>29001.0</td>\n",
              "      <td>Alta Floresta D'oeste</td>\n",
              "      <td>173990790</td>\n",
              "      <td>5999.475535</td>\n",
              "    </tr>\n",
              "    <tr>\n",
              "      <th>3</th>\n",
              "      <td>2005</td>\n",
              "      <td>RO</td>\n",
              "      <td>1100015</td>\n",
              "      <td>28629.0</td>\n",
              "      <td>Alta Floresta D'oeste</td>\n",
              "      <td>167127355</td>\n",
              "      <td>5837.694471</td>\n",
              "    </tr>\n",
              "    <tr>\n",
              "      <th>4</th>\n",
              "      <td>2006</td>\n",
              "      <td>RO</td>\n",
              "      <td>1100015</td>\n",
              "      <td>29005.0</td>\n",
              "      <td>Alta Floresta D'oeste</td>\n",
              "      <td>168805060</td>\n",
              "      <td>5819.860714</td>\n",
              "    </tr>\n",
              "  </tbody>\n",
              "</table>\n",
              "</div>"
            ],
            "text/plain": [
              "    ano sigla_uf id_municipio  ...         nome_municipio        pib  pibpercapita\n",
              "0  2002       RO      1100015  ...  Alta Floresta D'oeste  111290995   4086.022506\n",
              "1  2003       RO      1100015  ...  Alta Floresta D'oeste  143222381   5196.182600\n",
              "2  2004       RO      1100015  ...  Alta Floresta D'oeste  173990790   5999.475535\n",
              "3  2005       RO      1100015  ...  Alta Floresta D'oeste  167127355   5837.694471\n",
              "4  2006       RO      1100015  ...  Alta Floresta D'oeste  168805060   5819.860714\n",
              "\n",
              "[5 rows x 7 columns]"
            ]
          },
          "execution_count": 3,
          "metadata": {},
          "output_type": "execute_result"
        }
      ],
      "source": [
        "import pandas as pd\n",
        "## Defina o id do seu projeto no bigquery!!!!!\n",
        "project_id = 'SEU PROJECT ID' # Defina o id do seu projeto no bigquery!!!!!\n",
        "## Defina o id do seu projeto no bigquery!!!!!\n",
        "\n",
        "df = pd.io.gbq.read_gbq('''\n",
        "SELECT ... ''', project_id=project_id)\n",
        "\n",
        "df.head()"
      ]
    },
    {
      "cell_type": "code",
      "execution_count": null,
      "metadata": {
        "id": "FBdtX5y8TSPB"
      },
      "outputs": [],
      "source": [
        "## Explique o que fez na sua query e por que.\n",
        "# Fiz o left join da população porque essa tabela tem mais anos.\n",
        "# Tive que fazer o distinct da tabela geobr_mapas porque essa tabela granularidade de setor censitário."
      ]
    },
    {
      "cell_type": "markdown",
      "metadata": {
        "id": "IdUFXgfWTPIe"
      },
      "source": [
        "## Submeta o seu dataframe criando uma tabela no BigQuery"
      ]
    },
    {
      "cell_type": "code",
      "execution_count": null,
      "metadata": {
        "colab": {
          "base_uri": "https://localhost:8080/"
        },
        "id": "mF2rNZIvx-zz",
        "outputId": "cc8b3d39-cf4c-4d79-b6fc-14c3c176de47"
      },
      "outputs": [
        {
          "name": "stderr",
          "output_type": "stream",
          "text": [
            "5it [00:23,  4.79s/it]\n"
          ]
        }
      ],
      "source": [
        "df.to_gbq(\"enapdatasets.pibpercapita\",\n",
        "              project_id=project_id,\n",
        "              chunksize=40000,\n",
        "              if_exists='replace',\n",
        "              )"
      ]
    },
    {
      "cell_type": "markdown",
      "metadata": {
        "id": "KxgVMBVrJNcS"
      },
      "source": [
        "#### O comando acima cria um dataset chamado enapdatasets e dentro dele uma tabela chamada pibpercapita.\n",
        "#### Por padrão, os dados são guardados fisicamente nos EUA, onde também estão guardados os dados do projeto basedosdados.\n",
        "#### Não é possível fazer join de dados guardados em locais distintos\n",
        "\n",
        "##### Aqui há uma demonstração de como [criar um dataset manualmente](https://youtu.be/h_HRXdket7U)"
      ]
    }
  ],
  "metadata": {
    "colab": {
      "include_colab_link": true,
      "name": "Aula3_Exercicio3.1_Solucao.ipynb",
      "provenance": []
    },
    "kernelspec": {
      "display_name": "Python 3",
      "name": "python3"
    },
    "language_info": {
      "name": "python"
    }
  },
  "nbformat": 4,
  "nbformat_minor": 0
}
