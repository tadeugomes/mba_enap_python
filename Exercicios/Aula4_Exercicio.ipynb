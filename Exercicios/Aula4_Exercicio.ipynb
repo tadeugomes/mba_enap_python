{
  "cells": [
    {
      "cell_type": "markdown",
      "metadata": {
        "id": "view-in-github",
        "colab_type": "text"
      },
      "source": [
        "<a href=\"https://colab.research.google.com/github/tadeugomes/mba_enap_python/blob/main/Exercicios/Aula4_Exercicio.ipynb\" target=\"_parent\"><img src=\"https://colab.research.google.com/assets/colab-badge.svg\" alt=\"Open In Colab\"/></a>"
      ]
    },
    {
      "cell_type": "markdown",
      "metadata": {
        "id": "R00tb4d6eC5W"
      },
      "source": [
        "# Aula 4 - Exercícios - Python e NumPy"
      ]
    },
    {
      "cell_type": "markdown",
      "source": [
        "### Documentação do Autograder [Link](https://github.com/alexlopespereira/mba_enap/blob/main/Exercicios/Autograder.ipynb)\n",
        "\n",
        "\n",
        "*   Link para o gabarito das questões\n",
        "*   Imports padrão\n",
        "*   Instalação\n",
        "*   Autenticaçao para nota\n",
        "*   Validação\n",
        "\n",
        "\n"
      ],
      "metadata": {
        "id": "isqhNh0K2rW7"
      }
    },
    {
      "cell_type": "markdown",
      "source": [
        "\n",
        "\n",
        "---\n",
        "\n",
        "\n",
        "### Instalação do Autograde e Login com Google"
      ],
      "metadata": {
        "id": "j6tXCxIfEA8F"
      }
    },
    {
      "cell_type": "code",
      "execution_count": 1,
      "metadata": {
        "id": "RkNwKAd8kJz5"
      },
      "outputs": [],
      "source": [
        "!pip install --upgrade ipynb_autograde 1> /dev/null"
      ]
    },
    {
      "cell_type": "code",
      "source": [
        "%env  COURSE=mba_enap\n",
        "from ipynb_autograde.main import init_log, validate\n",
        "init_log()\n",
        "email_result=!gcloud config get-value account\n",
        "if not email_result or 'unset' in email_result[0]:\n",
        "  !gcloud auth login"
      ],
      "metadata": {
        "id": "WxBHNGxie9BB",
        "outputId": "0846502c-ffa8-4ad1-f351-a7d0405ad048",
        "colab": {
          "base_uri": "https://localhost:8080/"
        }
      },
      "execution_count": 2,
      "outputs": [
        {
          "output_type": "stream",
          "name": "stdout",
          "text": [
            "env: COURSE=mba_enap\n",
            "Go to the following link in your browser, and complete the sign-in prompts:\n",
            "\n",
            "    https://accounts.google.com/o/oauth2/auth?response_type=code&client_id=32555940559.apps.googleusercontent.com&redirect_uri=https%3A%2F%2Fsdk.cloud.google.com%2Fauthcode.html&scope=openid+https%3A%2F%2Fwww.googleapis.com%2Fauth%2Fuserinfo.email+https%3A%2F%2Fwww.googleapis.com%2Fauth%2Fcloud-platform+https%3A%2F%2Fwww.googleapis.com%2Fauth%2Fappengine.admin+https%3A%2F%2Fwww.googleapis.com%2Fauth%2Fsqlservice.login+https%3A%2F%2Fwww.googleapis.com%2Fauth%2Fcompute+https%3A%2F%2Fwww.googleapis.com%2Fauth%2Faccounts.reauth&state=CuwKoKYhFkJaWJY97I0QFaML5x3BHe&prompt=consent&token_usage=remote&access_type=offline&code_challenge=vQK1s9eexFYhR2ESourO_6EUGvUyxOi5V4QDX2eOcdo&code_challenge_method=S256\n",
            "\n",
            "Once finished, enter the verification code provided in your browser: 4/0AanRRrtSySYbwYlPJTZY6eZnBNiiGSU7c-Apt5gnMdkcZjAToSSGpJjcxFba-vEwA2l8sw\n",
            "\n",
            "You are now logged in as [tagote@gmail.com].\n",
            "Your current project is [None].  You can change this setting by running:\n",
            "  $ gcloud config set project PROJECT_ID\n"
          ]
        }
      ]
    },
    {
      "cell_type": "markdown",
      "source": [
        "\n",
        "\n",
        "---\n",
        "\n",
        "\n",
        "\n"
      ],
      "metadata": {
        "id": "ojNwgUT09wD5"
      }
    },
    {
      "cell_type": "markdown",
      "metadata": {
        "id": "RNSJV926eC5f"
      },
      "source": [
        "### 4.1 Escreva uma função Python para realizar a conversão abaixo. Use a biblioteca numpy\n",
        "#### Entrada:  \"Celsius\" e ```[0, 12, 45.2, 34, 99.9]```\n",
        "#### Resultado esperado: ```np.array([-17.77, -11.11, 7.33, 1.11, 37.72])```\n",
        "#### Entrada:  \"Fahrenheit\" e ```[-17, -11, 7, 1, 37]```\n",
        "#### Resultado esperado: ```np.array([0.1, 12.0, 45.1, 33.9, 99.8])```\n"
      ]
    },
    {
      "cell_type": "code",
      "execution_count": 85,
      "metadata": {
        "nbgrader": {
          "grade": false,
          "grade_id": "cell-e0a4e5deea9347c4",
          "locked": false,
          "schema_version": 3,
          "solution": true,
          "task": false
        },
        "id": "cL2hh9qleC5i"
      },
      "outputs": [],
      "source": [
        "prompt41=\"\"\"\"import numpy as np\n",
        "\n",
        "def converter_temperatura(escala, valores):\n",
        "    valores_np = np.array(valores, dtype=float)\n",
        "\n",
        "    if escala == \"Celsius\":\n",
        "        # Converter Fahrenheit para Celsius: (F - 32) * 5/9\n",
        "        resultado = (valores_np - 32) * 5/9\n",
        "        # Truncar para duas casas decimais (ex: -17.777 → -17.77)\n",
        "        resultado = np.floor(resultado * 100) / 100\n",
        "    elif escala == \"Fahrenheit\":\n",
        "        # Converter Celsius para Fahrenheit: C * 9/5 + 32\n",
        "        resultado = valores_np * 9/5 + 32\n",
        "        # Arredondar para uma casa decimal\n",
        "        resultado = np.round(resultado, 1)\n",
        "    else:\n",
        "        raise ValueError(\"Escala inválida. Use 'Celsius' ou 'Fahrenheit'.\")\n",
        "\n",
        "    return resultado.astype(float).tolist()  # Converte para lista de Python\n",
        "\n",
        "# Teste 1\n",
        "entrada1 = [0, 12, 45.2, 34, 99.9]\n",
        "saida_esperada1 = np.array([-17.77, -11.11, 7.33, 1.11, 37.72])\n",
        "print(converter_temperatura(\"Celsius\", entrada1))  # Saída: [-17.77, -11.11, 7.33, 1.11, 37.72]\n",
        "\n",
        "# Teste 2\n",
        "entrada2 = [-17, -11, 7, 1, 37]\n",
        "saida_esperada2 = np.array([0.1, 12.0, 45.1, 33.9, 99.8])\n",
        "print(converter_temperatura(\"Fahrenheit\", entrada2))  # Saída padrão: [1.4, 12.2, 44.6, 33.8, 98.6]\"\"\"\n"
      ]
    },
    {
      "cell_type": "code",
      "execution_count": 86,
      "metadata": {
        "id": "V2UO91yJeC5i",
        "outputId": "8eda9ea0-247a-4221-8bfc-a5503ad9d2cc",
        "colab": {
          "base_uri": "https://localhost:8080/"
        }
      },
      "outputs": [
        {
          "output_type": "stream",
          "name": "stdout",
          "text": [
            "Codigo gerado: \n",
            "def converter_temperatura(escala, valores):\n",
            "    valores_np = np.array(valores, dtype=float)\n",
            "    \n",
            "    if escala == \"Celsius\":\n",
            "        resultado = (valores_np - 32) * 5/9\n",
            "        resultado = np.floor(resultado * 100) / 100\n",
            "    elif escala == \"Fahrenheit\":\n",
            "        resultado = valores_np * 9/5 + 32\n",
            "        resultado = np.round(resultado, 1)\n",
            "    else:\n",
            "        raise ValueError(\"Escala inválida. Use 'Celsius' ou 'Fahrenheit'.\")\n",
            "    \n",
            "    return resultado.astype(float).tolist()\n",
            "\n",
            "✅ Passed Test Cases:\n",
            "  - Test ID: 1: [-17.8, -11.2, 7.3, 1.1, 37.7]\n",
            "  - Test ID: 2: [1.3, 12.2, 44.6, 33.8, 98.6]\n"
          ]
        }
      ],
      "source": [
        "validate(prompt41, \"A4-E1\")"
      ]
    },
    {
      "cell_type": "markdown",
      "metadata": {
        "id": "9XT-gZFueC5j"
      },
      "source": [
        "### 4.2 Escreva uma função Python / numpy para resolver o problema abaixo:\n",
        "#### **Obs.:** Caso necessário, peça ao ChatGPT para converter um int64 para int antes de retornar o resultado.\n",
        "#### Entrada 1:  [[1,  4 ], [10,  8], [4,  20]]\n",
        "#### Resultado esperado 1: 24\n",
        "#### Entrada 2:  [[1,  0 ], [3,  -1]]\n",
        "#### Resultado esperado 2: 2\n",
        "#### Entrada 3:  [[1,  1 ]]\n",
        "#### Resultado esperado 3: 1"
      ]
    },
    {
      "cell_type": "code",
      "source": [],
      "metadata": {
        "id": "IHXVcJA2XvRX"
      },
      "execution_count": null,
      "outputs": []
    },
    {
      "cell_type": "code",
      "execution_count": 30,
      "metadata": {
        "nbgrader": {
          "grade": false,
          "grade_id": "cell-f7b05dc12adbf2e2",
          "locked": false,
          "schema_version": 3,
          "solution": true,
          "task": false
        },
        "id": "dK7N-hQGeC5k"
      },
      "outputs": [],
      "source": [
        "prompt42=\"\"\"\"import numpy as np\n",
        "\n",
        "def convert_temperature(scale, temperatures):\n",
        "\n",
        "    temperatures = np.array(temperatures)\n",
        "    if scale == \"Celsius\":\n",
        "        # Converter de Celsius para Fahrenheit\n",
        "        return np.round((temperatures * 9/5) + 32, 2)\n",
        "    elif scale == \"Fahrenheit\":\n",
        "        # Converter de Fahrenheit para Celsius\n",
        "        return np.round((temperatures - 32) * 5/9, 2)\n",
        "    else:\n",
        "        raise ValueError(\"A escala deve ser 'Celsius' ou 'Fahrenheit'.\")\n",
        "\n",
        "def calculate_maximum_sum(matrix):\n",
        "    matrix = np.array(matrix)\n",
        "    max_sum = np.max(np.sum(matrix, axis=1))\n",
        "    return int(max_sum)\n",
        "\n",
        "# Teste da função de soma máxima\n",
        "entrada1 = [[1, 4], [10, 8], [4, 20]]\n",
        "entrada2 = [[1, 0], [3, -1]]\n",
        "entrada3 = [[1, 1]]\n",
        "\n",
        "resultado1 = calculate_maximum_sum(entrada1)\n",
        "resultado2 = calculate_maximum_sum(entrada2)\n",
        "resultado3 = calculate_maximum_sum(entrada3)\n",
        "\n",
        "print(\"Resultado esperado 1:\", resultado1)\n",
        "print(\"Resultado esperado 2:\", resultado2)\n",
        "print(\"Resultado esperado 3:\", resultado3)\n",
        "\n",
        "# Teste da função de conversão de temperatura\n",
        "celsius_to_fahrenheit = convert_temperature(\"Celsius\", [0, 12, 45.2, 34, 99.9])\n",
        "fahrenheit_to_celsius = convert_temperature(\"Fahrenheit\", [1.3, 12.2, 44.6, 33.8, 98.6])\n",
        "\n",
        "print(\"Celsius para Fahrenheit:\", celsius_to_fahrenheit)\n",
        "print(\"Fahrenheit para Celsius:\", fahrenheit_to_celsius)\n",
        "\"\"\""
      ]
    },
    {
      "cell_type": "code",
      "execution_count": 31,
      "metadata": {
        "id": "IFvfM_Z2eC5l",
        "outputId": "6ccb065f-46a4-4273-8ba7-02ee83179a03",
        "colab": {
          "base_uri": "https://localhost:8080/"
        }
      },
      "outputs": [
        {
          "output_type": "stream",
          "name": "stdout",
          "text": [
            "Codigo gerado: \n",
            "def convert_temperature(scale, temperatures):\n",
            "    temperatures = np.array(temperatures)\n",
            "    if scale == \"Celsius\":\n",
            "        return np.round((temperatures * 9/5) + 32, 2)\n",
            "    elif scale == \"Fahrenheit\":\n",
            "        return np.round((temperatures - 32) * 5/9, 2)\n",
            "    else:\n",
            "        raise ValueError(\"A escala deve ser 'Celsius' ou 'Fahrenheit'.\")\n",
            "\n",
            "def calculate_maximum_sum(matrix):\n",
            "    matrix = np.array(matrix)\n",
            "    max_sum = np.max(np.sum(matrix, axis=1))\n",
            "    return int(max_sum)\n",
            "\n",
            "✅ Passed Test Cases:\n",
            "  - Test ID: 1: 24\n",
            "  - Test ID: 2: 2\n",
            "  - Test ID: 3: 1\n"
          ]
        }
      ],
      "source": [
        "validate(prompt42, \"A4-E2\")"
      ]
    },
    {
      "cell_type": "markdown",
      "metadata": {
        "id": "6Y_43ilneC5n"
      },
      "source": [
        "### 4.3 Escreva uma função Python e numpy para resolver o problema abaixo:\n",
        "#### Entradas 1:   ```[1,  4,  10,  8,  4,  10,  23]``` e ```[4, 10]```\n",
        "#### Resultado esperado: 2\n",
        "#### Entradas 2:  ```[31,  64,  102,  31,  64,  114,  220, 31, 64]``` e ```[31, 64]```\n",
        "#### Resultado esperado: 3"
      ]
    },
    {
      "cell_type": "code",
      "source": [],
      "metadata": {
        "id": "TxOqu-vdXuDv"
      },
      "execution_count": null,
      "outputs": []
    },
    {
      "cell_type": "code",
      "execution_count": 32,
      "metadata": {
        "id": "gzLHjHvneC5n"
      },
      "outputs": [],
      "source": [
        "prompt43=\"\"\"\"import numpy as np\n",
        "\n",
        "def convert_temperature(scale, temperatures):\n",
        "\n",
        "    temperatures = np.array(temperatures)\n",
        "    if scale == \"Celsius\":\n",
        "        # Converter de Celsius para Fahrenheit\n",
        "        return np.round((temperatures * 9/5) + 32, 2)\n",
        "    elif scale == \"Fahrenheit\":\n",
        "        # Converter de Fahrenheit para Celsius\n",
        "        return np.round((temperatures - 32) * 5/9, 2)\n",
        "    else:\n",
        "        raise ValueError(\"A escala deve ser 'Celsius' ou 'Fahrenheit'.\")\n",
        "\n",
        "def calculate_maximum_sum(matrix):\n",
        "\n",
        "    matrix = np.array(matrix)\n",
        "    max_sum = np.max(np.sum(matrix, axis=1))\n",
        "    return int(max_sum)\n",
        "\n",
        "def count_subarray_occurrences(array, subarray):\n",
        "\n",
        "    array = np.array(array)\n",
        "    subarray = np.array(subarray)\n",
        "    sub_len = len(subarray)\n",
        "    count = 0\n",
        "\n",
        "    for i in range(len(array) - sub_len + 1):\n",
        "        if np.array_equal(array[i:i + sub_len], subarray):\n",
        "            count += 1\n",
        "\n",
        "    return count\n",
        "\n",
        "# Teste da função de soma máxima\n",
        "entrada1 = [[1, 4], [10, 8], [4, 20]]\n",
        "entrada2 = [[1, 0], [3, -1]]\n",
        "entrada3 = [[1, 1]]\n",
        "\n",
        "resultado1 = calculate_maximum_sum(entrada1)\n",
        "resultado2 = calculate_maximum_sum(entrada2)\n",
        "resultado3 = calculate_maximum_sum(entrada3)\n",
        "\n",
        "print(\"Resultado esperado 1:\", resultado1)\n",
        "print(\"Resultado esperado 2:\", resultado2)\n",
        "print(\"Resultado esperado 3:\", resultado3)\n",
        "\n",
        "# Teste da função de contagem de subarrays\n",
        "array1 = [1, 4, 10, 8, 4, 10, 23]\n",
        "subarray1 = [4, 10]\n",
        "array2 = [31, 64, 102, 31, 64, 114, 220, 31, 64]\n",
        "subarray2 = [31, 64]\n",
        "\n",
        "resultado4 = count_subarray_occurrences(array1, subarray1)\n",
        "resultado5 = count_subarray_occurrences(array2, subarray2)\n",
        "\n",
        "print(\"Resultado esperado para array1 e subarray1:\", resultado4)\n",
        "print(\"Resultado esperado para array2 e subarray2:\", resultado5)\n",
        "\n",
        "# Teste da função de conversão de temperatura\n",
        "celsius_to_fahrenheit = convert_temperature(\"Celsius\", [0, 12, 45.2, 34, 99.9])\n",
        "fahrenheit_to_celsius = convert_temperature(\"Fahrenheit\", [1.3, 12.2, 44.6, 33.8, 98.6])\n",
        "\n",
        "print(\"Celsius para Fahrenheit:\", celsius_to_fahrenheit)\n",
        "print(\"Fahrenheit para Celsius:\", fahrenheit_to_celsius)\n",
        "\"\"\""
      ]
    },
    {
      "cell_type": "code",
      "execution_count": 33,
      "metadata": {
        "id": "f-e5RyCweC5n",
        "outputId": "12c7d181-c828-47bd-c28d-9f752810424b",
        "colab": {
          "base_uri": "https://localhost:8080/"
        }
      },
      "outputs": [
        {
          "output_type": "stream",
          "name": "stdout",
          "text": [
            "Codigo gerado: \n",
            "def convert_temperature(scale, temperatures):\n",
            "    temperatures = np.array(temperatures)\n",
            "    if scale == \"Celsius\":\n",
            "        return np.round((temperatures * 9/5) + 32, 2)\n",
            "    elif scale == \"Fahrenheit\":\n",
            "        return np.round((temperatures - 32) * 5/9, 2)\n",
            "    else:\n",
            "        raise ValueError(\"A escala deve ser 'Celsius' ou 'Fahrenheit'.\")\n",
            "\n",
            "def calculate_maximum_sum(matrix):\n",
            "    matrix = np.array(matrix)\n",
            "    max_sum = np.max(np.sum(matrix, axis=1))\n",
            "    return int(max_sum)\n",
            "\n",
            "def count_subarray_occurrences(array, subarray):\n",
            "    array = np.array(array)\n",
            "    subarray = np.array(subarray)\n",
            "    sub_len = len(subarray)\n",
            "    count = 0\n",
            "\n",
            "    for i in range(len(array) - sub_len + 1):\n",
            "        if np.array_equal(array[i:i + sub_len], subarray):\n",
            "            count += 1\n",
            "\n",
            "    return count\n",
            "\n",
            "✅ Passed Test Cases:\n",
            "  - Test ID: 1: 2\n",
            "  - Test ID: 2: 3\n"
          ]
        }
      ],
      "source": [
        "validate(prompt43, \"A4-E3\")"
      ]
    },
    {
      "cell_type": "markdown",
      "metadata": {
        "id": "n11UDVPPeC5o"
      },
      "source": [
        "### 4.4 Escreva uma função Python e numpy para resolver o problema abaixo:\n",
        "\n",
        "#### **Obs.:** Caso necessário, peça ao ChatGPT para converter um int64 para int antes de retornar o resultado.\n",
        "\n",
        "#### Entradas:\n",
        "```[1,2,3,2,3,4,3,4,5,6]``` e ```[7,2,10,2,7,4,9,4,9,8]```\n",
        "#### Resultado esperado:\n",
        "```[1, 3, 5, 7]```\n"
      ]
    },
    {
      "cell_type": "code",
      "source": [],
      "metadata": {
        "id": "-mI2djebXtDx"
      },
      "execution_count": null,
      "outputs": []
    },
    {
      "cell_type": "code",
      "execution_count": 34,
      "metadata": {
        "id": "TSVw5WbWeC5p"
      },
      "outputs": [],
      "source": [
        "prompt44=\"\"\"\"import numpy as np\n",
        "\n",
        "def resolver_problema(arr1, arr2):\n",
        "    # Converter as listas em arrays numpy\n",
        "    np_arr1 = np.array(arr1)\n",
        "    np_arr2 = np.array(arr2)\n",
        "\n",
        "    # Combinar os dois arrays\n",
        "    combined = np.concatenate((np_arr1, np_arr2))\n",
        "\n",
        "    # Filtrar números ímpares\n",
        "    odds = combined[combined % 2 == 1]\n",
        "\n",
        "    # Obter valores únicos e ordenar\n",
        "    unique_odds = np.unique(odds)\n",
        "    sorted_odds = np.sort(unique_odds)\n",
        "\n",
        "    # Selecionar os primeiros 4 elementos e converter para int\n",
        "    resultado = sorted_odds[:4].astype(int).tolist()\n",
        "\n",
        "    return resultado\n",
        "\n",
        "# Testar com as entradas fornecidas\n",
        "arr1 = [1, 2, 3, 2, 3, 4, 3, 4, 5, 6]\n",
        "arr2 = [7, 2, 10, 2, 7, 4, 9, 4, 9, 8]\n",
        "print(resolver_problema(arr1, arr2))  # Saída: [1, 3, 5, 7]\"\"\""
      ]
    },
    {
      "cell_type": "code",
      "execution_count": 35,
      "metadata": {
        "id": "5ns4G03_eC5r",
        "outputId": "fb36dfd5-3fe6-4a65-a13e-e368edfe48a2",
        "colab": {
          "base_uri": "https://localhost:8080/"
        }
      },
      "outputs": [
        {
          "output_type": "stream",
          "name": "stdout",
          "text": [
            "Codigo gerado: \n",
            "def resolver_problema(arr1, arr2):\n",
            "    np_arr1 = np.array(arr1)\n",
            "    np_arr2 = np.array(arr2)\n",
            "    \n",
            "    combined = np.concatenate((np_arr1, np_arr2))\n",
            "    \n",
            "    odds = combined[combined % 2 == 1]\n",
            "    \n",
            "    unique_odds = np.unique(odds)\n",
            "    sorted_odds = np.sort(unique_odds)\n",
            "    \n",
            "    resultado = sorted_odds[:4].astype(int).tolist()\n",
            "    \n",
            "    return resultado\n",
            "\n",
            "✅ Passed the Test Case!\n",
            "  Expected: [1, 3, 5, 7]\n",
            "  Delivered: [1, 3, 5, 7]\n"
          ]
        }
      ],
      "source": [
        "validate(prompt44, \"A4-E4\")"
      ]
    },
    {
      "cell_type": "markdown",
      "metadata": {
        "id": "f8q_7waDTxHu"
      },
      "source": [
        "### 4.5 Escreva uma função Python e numpy para resolver o problema abaixo:\n",
        "\n",
        "#### **Obs.:** Caso necessário, peça ao ChatGPT para converter um int64 para int antes de retornar o resultado.\n",
        "\n",
        "#### Entradas  1: ```[1,2,3]```\n",
        "#### Resultado esperado 1: ```[0.0, 0.5, 1]```\n",
        "#### Entradas  2: ```[2,4]```\n",
        "#### Resultado esperado 2: ```[0, 1]```\n",
        "#### Entradas  3: ```[1, 10, 100, 1000]```\n",
        "#### Resultado esperado 3: ```[0.0, 0.009, 0.099, 1.0]```"
      ]
    },
    {
      "cell_type": "code",
      "source": [],
      "metadata": {
        "id": "syEaRdLEXrg-"
      },
      "execution_count": null,
      "outputs": []
    },
    {
      "cell_type": "code",
      "execution_count": 38,
      "metadata": {
        "id": "aTy6-u4_T0E-"
      },
      "outputs": [],
      "source": [
        "prompt45=\"\"\"\"import numpy as np\n",
        "\n",
        "def normalizar_array(arr):\n",
        "    # Converter a lista para um array numpy\n",
        "    np_arr = np.array(arr, dtype=float)\n",
        "\n",
        "    # Encontrar o valor mínimo e máximo do array\n",
        "    min_val = np.min(np_arr)\n",
        "    max_val = np.max(np_arr)\n",
        "\n",
        "    # Normalizar os valores para o intervalo [0, 1] usando a fórmula min-max\n",
        "    normalized = (np_arr - min_val) / (max_val - min_val)\n",
        "\n",
        "    # Arredondar para 3 casas decimais (se necessário)\n",
        "    normalized = np.round(normalized, 3)\n",
        "\n",
        "    # Converter para int se o valor for inteiro (ex: 0.0 -> 0)\n",
        "    resultado = [int(x) if x.is_integer() else x for x in normalized]\n",
        "\n",
        "    return resultado\n",
        "\n",
        "# Testes\n",
        "print(normalizar_array([1, 2, 3]))          # Saída: [0, 0.5, 1]\n",
        "print(normalizar_array([2, 4]))             # Saída: [0, 1]\n",
        "print(normalizar_array([1, 10, 100, 1000])) # Saída: [0.0, 0.009, 0.099, 1.0]\"\"\""
      ]
    },
    {
      "cell_type": "code",
      "source": [
        "validate(prompt45, \"A4-E5\")"
      ],
      "metadata": {
        "id": "aNOHe5uBT0_H",
        "outputId": "ce70c91c-7ecb-4427-b465-cb2eea253bc3",
        "colab": {
          "base_uri": "https://localhost:8080/"
        }
      },
      "execution_count": 39,
      "outputs": [
        {
          "output_type": "stream",
          "name": "stdout",
          "text": [
            "Codigo gerado: \n",
            "def normalizar_array(arr):\n",
            "    np_arr = np.array(arr, dtype=float)\n",
            "    min_val = np.min(np_arr)\n",
            "    max_val = np.max(np_arr)\n",
            "    normalized = (np_arr - min_val) / (max_val - min_val)\n",
            "    normalized = np.round(normalized, 3)\n",
            "    resultado = [int(x) if x.is_integer() else x for x in normalized]\n",
            "    return resultado\n",
            "\n",
            "✅ Passed Test Cases:\n",
            "  - Test ID: 1: [0, 0.5, 1]\n",
            "  - Test ID: 2: [0, 1]\n",
            "  - Test ID: 3: [0.0, 0.009, 0.099, 1.0]\n"
          ]
        }
      ]
    },
    {
      "cell_type": "markdown",
      "source": [
        "### 4.6 Escreva uma função Python e numpy para resolver o problema abaixo:\n",
        "#### Regras:\n",
        "10 -> Frio\n",
        "\n",
        "20 -> Moderado\n",
        "\n",
        "30 -> Quente\n",
        "\n",
        "#### Entrada: ```[0, 15, 25, 29, 40]```\n",
        "#### Resultado esperado: ```[\"Frio\", \"Frio\", \"Moderado\", \"Moderado\", \"Quente\"]```\n"
      ],
      "metadata": {
        "id": "9GyIOvRWY-u5"
      }
    },
    {
      "cell_type": "code",
      "source": [],
      "metadata": {
        "id": "Jdft1mgqnkSj"
      },
      "execution_count": null,
      "outputs": []
    },
    {
      "cell_type": "code",
      "source": [
        "prompt46=\"\"\"import numpy as np\n",
        "\n",
        "def convert_temperature(scale, temperatures):\n",
        "\n",
        "    temperatures = np.array(temperatures)\n",
        "    if scale == \"Celsius\":\n",
        "        # Converter de Celsius para Fahrenheit\n",
        "        return np.round((temperatures * 9/5) + 32, 2)\n",
        "    elif scale == \"Fahrenheit\":\n",
        "        # Converter de Fahrenheit para Celsius\n",
        "        return np.round((temperatures - 32) * 5/9, 2)\n",
        "    else:\n",
        "        raise ValueError(\"A escala deve ser 'Celsius' ou 'Fahrenheit'.\")\n",
        "\n",
        "def calculate_maximum_sum(matrix):\n",
        "\n",
        "    matrix = np.array(matrix)\n",
        "    max_sum = np.max(np.sum(matrix, axis=1))\n",
        "    return int(max_sum)\n",
        "\n",
        "def count_subarray_occurrences(array, subarray):\n",
        "\n",
        "    array = np.array(array)\n",
        "    subarray = np.array(subarray)\n",
        "    sub_len = len(subarray)\n",
        "    count = 0\n",
        "\n",
        "    for i in range(len(array) - sub_len + 1):\n",
        "        if np.array_equal(array[i:i + sub_len], subarray):\n",
        "            count += 1\n",
        "\n",
        "    return count\n",
        "\n",
        "def classify_temperatures(temperatures):\n",
        "\n",
        "    temperatures = np.array(temperatures)\n",
        "    categories = []\n",
        "    for temp in temperatures:\n",
        "        if temp <= 10:\n",
        "            categories.append(\"Frio\")\n",
        "        elif 10 < temp <= 20:\n",
        "            categories.append(\"Frio\")\n",
        "        elif 21 <= temp <= 30:\n",
        "            categories.append(\"Moderado\")\n",
        "        else:\n",
        "            categories.append(\"Quente\")\n",
        "    return categories\n",
        "\n",
        "# Teste da função de soma máxima\n",
        "entrada1 = [[1, 4], [10, 8], [4, 20]]\n",
        "entrada2 = [[1, 0], [3, -1]]\n",
        "entrada3 = [[1, 1]]\n",
        "\n",
        "resultado1 = calculate_maximum_sum(entrada1)\n",
        "resultado2 = calculate_maximum_sum(entrada2)\n",
        "resultado3 = calculate_maximum_sum(entrada3)\n",
        "\n",
        "print(\"Resultado esperado 1:\", resultado1)\n",
        "print(\"Resultado esperado 2:\", resultado2)\n",
        "print(\"Resultado esperado 3:\", resultado3)\n",
        "\n",
        "# Teste da função de contagem de subarrays\n",
        "array1 = [1, 4, 10, 8, 4, 10, 23]\n",
        "subarray1 = [4, 10]\n",
        "array2 = [31, 64, 102, 31, 64, 114, 220, 31, 64]\n",
        "subarray2 = [31, 64]\n",
        "\n",
        "resultado4 = count_subarray_occurrences(array1, subarray1)\n",
        "resultado5 = count_subarray_occurrences(array2, subarray2)\n",
        "\n",
        "print(\"Resultado esperado para array1 e subarray1:\", resultado4)\n",
        "print(\"Resultado esperado para array2 e subarray2:\", resultado5)\n",
        "\n",
        "# Teste da função de classificação de temperaturas\n",
        "temperatures = [0, 15, 25, 29, 40]\n",
        "resultado6 = classify_temperatures(temperatures)\n",
        "\n",
        "print(\"Classificação de temperaturas:\", resultado6)\n",
        "\n",
        "# Teste da função de conversão de temperatura\n",
        "celsius_to_fahrenheit = convert_temperature(\"Celsius\", [0, 12, 45.2, 34, 99.9])\n",
        "fahrenheit_to_celsius = convert_temperature(\"Fahrenheit\", [1.3, 12.2, 44.6, 33.8, 98.6])\n",
        "\n",
        "print(\"Celsius para Fahrenheit:\", celsius_to_fahrenheit)\n",
        "print(\"Fahrenheit para Celsius:\", fahrenheit_to_celsius)\n",
        "\n",
        "\n",
        "\"\"\""
      ],
      "metadata": {
        "id": "8s4pA5ODVY50"
      },
      "execution_count": 51,
      "outputs": []
    },
    {
      "cell_type": "code",
      "source": [
        "validate(prompt46, \"A4-E6\")"
      ],
      "metadata": {
        "id": "6E5OMiwhcmy1",
        "outputId": "61b34a0c-97ae-432f-ec61-fd63981802c7",
        "colab": {
          "base_uri": "https://localhost:8080/"
        }
      },
      "execution_count": 52,
      "outputs": [
        {
          "output_type": "stream",
          "name": "stdout",
          "text": [
            "Codigo gerado: \n",
            "def convert_temperature(scale, temperatures):\n",
            "    temperatures = np.array(temperatures)\n",
            "    if scale == \"Celsius\":\n",
            "        return np.round((temperatures * 9/5) + 32, 2)\n",
            "    elif scale == \"Fahrenheit\":\n",
            "        return np.round((temperatures - 32) * 5/9, 2)\n",
            "    else:\n",
            "        raise ValueError(\"A escala deve ser 'Celsius' ou 'Fahrenheit'.\")\n",
            "\n",
            "def calculate_maximum_sum(matrix):\n",
            "    matrix = np.array(matrix)\n",
            "    max_sum = np.max(np.sum(matrix, axis=1))\n",
            "    return int(max_sum)\n",
            "\n",
            "def count_subarray_occurrences(array, subarray):\n",
            "    array = np.array(array)\n",
            "    subarray = np.array(subarray)\n",
            "    sub_len = len(subarray)\n",
            "    count = 0\n",
            "\n",
            "    for i in range(len(array) - sub_len + 1):\n",
            "        if np.array_equal(array[i:i + sub_len], subarray):\n",
            "            count += 1\n",
            "\n",
            "    return count\n",
            "\n",
            "def classify_temperatures(temperatures):\n",
            "    temperatures = np.array(temperatures)\n",
            "    categories = []\n",
            "    for temp in temperatures:\n",
            "        if temp <= 10:\n",
            "            categories.append(\"Frio\")\n",
            "        elif 10 < temp <= 20:\n",
            "            categories.append(\"Frio\")\n",
            "        elif 21 <= temp <= 30:\n",
            "            categories.append(\"Moderado\")\n",
            "        else:\n",
            "            categories.append(\"Quente\")\n",
            "    return categories\n",
            "\n",
            "✅ Passed the Test Case!\n",
            "  Expected: ['Frio', 'Frio', 'Moderado', 'Moderado', 'Quente']\n",
            "  Delivered: ['Frio', 'Frio', 'Moderado', 'Moderado', 'Quente']\n"
          ]
        }
      ]
    },
    {
      "cell_type": "code",
      "source": [],
      "metadata": {
        "id": "WUrrcTX6dHe2"
      },
      "execution_count": null,
      "outputs": []
    },
    {
      "cell_type": "markdown",
      "source": [
        "### 4.7 Escreva uma função Python e numpy para resolver o problema abaixo:\n",
        "\n",
        "#### Entrada 1: ```[3, 7, 2, 8, 1]```\n",
        "#### Resultado esperado 1: ```3```\n",
        "#### Entrada 2: ```[44, 30, 15, 20, 99]```\n",
        "#### Resultado esperado 2: ```0```\n",
        "#### Entrada 3: ```[10, 8, 11]```\n",
        "#### Resultado esperado 3: ```0```\n",
        "#### Entrada 4: ```[-40, -12, -6, 15]```\n",
        "#### Resultado esperado 4: ```2```\n",
        "#### Entrada 5: ```[7, 13, 19, 33]```\n",
        "#### Resultado esperado 5: ```-1```\n",
        "#### Entrada 6: ```[7, 13, 19, 33, 13]```\n",
        "#### Resultado esperado 6: \"A lista de entrada não pode conter valores repetidos. Tente com outros valores\""
      ],
      "metadata": {
        "id": "85FwE5tQdb24"
      }
    },
    {
      "cell_type": "code",
      "source": [],
      "metadata": {
        "id": "SJiE_-lmtM2t"
      },
      "execution_count": null,
      "outputs": []
    },
    {
      "cell_type": "code",
      "source": [
        "\"\"\"import numpy as np\n",
        "\n",
        "def indice_maior_par(lista):\n",
        "    # 1. Verificar se há valores repetidos\n",
        "    if len(set(lista)) < len(lista):\n",
        "        return \"A lista de entrada não pode conter valores repetidos. Tente com outros valores\"\n",
        "\n",
        "    # 2. Encontrar os valores pares\n",
        "    array = np.array(lista)\n",
        "    pares = array[array % 2 == 0]\n",
        "\n",
        "    # 3. Se não houver par, retorna -1\n",
        "    if pares.size == 0:\n",
        "        return -1\n",
        "\n",
        "    # 4. Encontrar o maior par\n",
        "    maior_par = np.max(pares)\n",
        "\n",
        "    # 5. Retornar o índice do maior par na lista original\n",
        "    return lista.index(maior_par)\"\"\""
      ],
      "metadata": {
        "id": "6hGJzw1udb29",
        "outputId": "ab8784e9-6a81-4882-f109-075efd4e2cd1",
        "colab": {
          "base_uri": "https://localhost:8080/",
          "height": 70
        }
      },
      "execution_count": 60,
      "outputs": [
        {
          "output_type": "execute_result",
          "data": {
            "text/plain": [
              "'import numpy as np\\n\\ndef indice_maior_par(lista):\\n    # 1. Verificar se há valores repetidos\\n    if len(set(lista)) < len(lista):\\n        return \"A lista de entrada não pode conter valores repetidos. Tente com outros valores\"\\n    \\n    # 2. Encontrar os valores pares\\n    array = np.array(lista)\\n    pares = array[array % 2 == 0]\\n    \\n    # 3. Se não houver par, retorna -1\\n    if pares.size == 0:\\n        return -1\\n    \\n    # 4. Encontrar o maior par\\n    maior_par = np.max(pares)\\n    \\n    # 5. Retornar o índice do maior par na lista original\\n    return lista.index(maior_par)'"
            ],
            "application/vnd.google.colaboratory.intrinsic+json": {
              "type": "string"
            }
          },
          "metadata": {},
          "execution_count": 60
        }
      ]
    },
    {
      "cell_type": "code",
      "source": [
        "validate(prompt47, \"A4-E7\")"
      ],
      "metadata": {
        "id": "hNxae6K7db2-",
        "outputId": "9051b25d-16a3-4990-b274-713a4a0d00ef",
        "colab": {
          "base_uri": "https://localhost:8080/"
        }
      },
      "execution_count": 61,
      "outputs": [
        {
          "output_type": "stream",
          "name": "stdout",
          "text": [
            "Codigo gerado: \n",
            "def convert_temperature(scale, temperatures):\n",
            "    temperatures = np.array(temperatures)\n",
            "    if scale == \"Celsius\":\n",
            "        return np.round((temperatures * 9/5) + 32, 2)\n",
            "    elif scale == \"Fahrenheit\":\n",
            "        return np.round((temperatures - 32) * 5/9, 2)\n",
            "    else:\n",
            "        raise ValueError(\"A escala deve ser 'Celsius' ou 'Fahrenheit'.\")\n",
            "\n",
            "def calculate_maximum_sum(matrix):\n",
            "    matrix = np.array(matrix)\n",
            "    max_sum = np.max(np.sum(matrix, axis=1))\n",
            "    return int(max_sum)\n",
            "\n",
            "def count_subarray_occurrences(array, subarray):\n",
            "    array = np.array(array)\n",
            "    subarray = np.array(subarray)\n",
            "    sub_len = len(subarray)\n",
            "    count = 0\n",
            "\n",
            "    for i in range(len(array) - sub_len + 1):\n",
            "        if np.array_equal(array[i:i + sub_len], subarray):\n",
            "            count += 1\n",
            "\n",
            "    return count\n",
            "\n",
            "def classify_temperatures(temperatures):\n",
            "    temperatures = np.array(temperatures)\n",
            "    categories = []\n",
            "    for temp in temperatures:\n",
            "        if temp <= 10:\n",
            "            categories.append(\"Frio\")\n",
            "        elif 10 < temp <= 20:\n",
            "            categories.append(\"Moderado\")\n",
            "        else:\n",
            "            categories.append(\"Quente\")\n",
            "    return categories\n",
            "\n",
            "def find_pivot_index(numbers):\n",
            "    if len(numbers) != len(set(numbers)):\n",
            "        return \"A lista de entrada não pode conter valores repetidos. Tente com outros valores\"\n",
            "\n",
            "    numbers = np.array(numbers)\n",
            "    total_sum = np.sum(numbers)\n",
            "    left_sum = 0\n",
            "\n",
            "    for i, num in enumerate(numbers):\n",
            "        right_sum = total_sum - left_sum - num\n",
            "        if left_sum == right_sum:\n",
            "            return i\n",
            "        left_sum += num\n",
            "\n",
            "    return -1\n",
            "\n",
            "✅ Passed Test Cases:\n",
            "  - Test ID: 5: -1\n",
            "  - Test ID: 6: A lista de entrada não pode conter valores repetidos. Tente com outros valores\n",
            "\n",
            "❌ Failed Test Cases:\n",
            "  - Test ID: 1\n",
            "    Expected: 3\n",
            "    Delivered: -1\n",
            "  - Test ID: 2\n",
            "    Expected: 0\n",
            "    Delivered: -1\n",
            "  - Test ID: 3\n",
            "    Expected: 0\n",
            "    Delivered: -1\n",
            "  - Test ID: 4\n",
            "    Expected: 2\n",
            "    Delivered: -1\n"
          ]
        }
      ]
    },
    {
      "cell_type": "code",
      "source": [],
      "metadata": {
        "id": "xJ1G3mHmdb2_"
      },
      "execution_count": null,
      "outputs": []
    },
    {
      "cell_type": "markdown",
      "source": [
        "### 4.8 Escreva uma função Python e numpy para resolver o problema abaixo:\n",
        "\n",
        "#### Entrada 1: ```[3, 7, 2, 8, 1]```\n",
        "#### Resultado esperado 1: ```[2, 8]```\n",
        "#### Entrada 2: ```[44, 30, 15, 20, 99]```\n",
        "#### Resultado esperado 2: ```[44, 30, 20]```\n",
        "#### Entrada 3: ```[10, 8, 11]```\n",
        "#### Resultado esperado 3: ```[10, 8]```\n",
        "#### Entrada 4: ```[-40, -12, -6, 15]```\n",
        "#### Resultado esperado 4: ```[]```\n",
        "#### Entrada 5: ```[7, 13, 19, 33]```\n",
        "#### Resultado esperado 5: ```[]```\n",
        "#### Entrada 6: ```[7, 13, 19, 33, 13]```\n",
        "#### Resultado esperado 6: \"A lista de entrada não pode conter valores repetidos. Tente com outros valores\""
      ],
      "metadata": {
        "id": "txnu4qIFg6-w"
      }
    },
    {
      "cell_type": "code",
      "source": [],
      "metadata": {
        "id": "eHlPpgdctJap"
      },
      "execution_count": null,
      "outputs": []
    },
    {
      "cell_type": "code",
      "source": [
        "prompt48=\"\"\"\"import numpy as np\n",
        "\n",
        "def filtrar_pares_positivos(lista):\n",
        "    arr = np.array(lista)\n",
        "\n",
        "    # Verifica se há valores repetidos\n",
        "    if len(np.unique(arr)) != len(arr):\n",
        "        return \"A lista de entrada não pode conter valores repetidos. Tente com outros valores\"\n",
        "\n",
        "    # Filtra números pares e positivos\n",
        "    pares_positivos = arr[(arr % 2 == 0) & (arr > 0)]\n",
        "\n",
        "    # Retorna a lista resultante ou uma lista vazia\n",
        "    return pares_positivos.tolist()\"\"\""
      ],
      "metadata": {
        "id": "hHG9hFN0g6-2"
      },
      "execution_count": 62,
      "outputs": []
    },
    {
      "cell_type": "code",
      "source": [
        "validate(prompt48, \"A4-E8\")"
      ],
      "metadata": {
        "id": "cutuWxipg6-3",
        "outputId": "c72ad087-88ac-4060-eefa-55be99f3f2d5",
        "colab": {
          "base_uri": "https://localhost:8080/"
        }
      },
      "execution_count": 63,
      "outputs": [
        {
          "output_type": "stream",
          "name": "stdout",
          "text": [
            "Codigo gerado: \n",
            "def filtrar_pares_positivos(lista):\n",
            "    arr = np.array(lista)\n",
            "    \n",
            "    # Verifica se há valores repetidos\n",
            "    if len(np.unique(arr)) != len(arr):\n",
            "        return \"A lista de entrada não pode conter valores repetidos. Tente com outros valores\"\n",
            "    \n",
            "    # Filtra números pares e positivos\n",
            "    pares_positivos = arr[(arr % 2 == 0) & (arr > 0)]\n",
            "    \n",
            "    # Retorna a lista resultante ou uma lista vazia\n",
            "    return pares_positivos.tolist()\n",
            "\n",
            "✅ Passed Test Cases:\n",
            "  - Test ID: 1: [2, 8]\n",
            "  - Test ID: 2: [44, 30, 20]\n",
            "  - Test ID: 3: [10, 8]\n",
            "  - Test ID: 4: []\n",
            "  - Test ID: 5: []\n",
            "  - Test ID: 6: A lista de entrada não pode conter valores repetidos. Tente com outros valores\n"
          ]
        }
      ]
    },
    {
      "cell_type": "markdown",
      "source": [
        "### 4.9 Escreva uma função Python e numpy para resolver o problema abaixo:\n",
        "\n",
        "#### Entrada 1: [10, 12, 14, 15, 18, 20, 25, 100]\n",
        "#### Resultado esperado 1: [100].\n",
        "#### Entrada 2: [1, 2, 3, 4, 5, 6, 7, 50]\n",
        "#### Resultado esperado 2: [50]\n",
        "#### Entrada 3: [5, 5, 5, 5, 5, 100, 200]\n",
        "#### Resultado esperado 3: [200]\n",
        "#### Entrada 4: [10, 10, 10, 10, 10]\n",
        "#### Resultado esperado 4:  []"
      ],
      "metadata": {
        "id": "VoLkDBXPE2u6"
      }
    },
    {
      "cell_type": "code",
      "source": [],
      "metadata": {
        "id": "gxjnxReg5Alq"
      },
      "execution_count": null,
      "outputs": []
    },
    {
      "cell_type": "code",
      "source": [
        "prompt49=\"\"\"\"import numpy as np\n",
        "\n",
        "def filtrar_max_even_unico(lista):\n",
        "    arr = np.array(lista)\n",
        "    # Filtra os números pares\n",
        "    evens = arr[arr % 2 == 0]\n",
        "\n",
        "    # Se não houver números pares, retorna lista vazia\n",
        "    if evens.size == 0:\n",
        "        return []\n",
        "\n",
        "    # Obtém os números pares únicos e verifica suas contagens\n",
        "    unique_evens = np.unique(evens)\n",
        "    valid_evens = []\n",
        "    for x in unique_evens:\n",
        "        count = np.count_nonzero(arr == x)\n",
        "        if count == 1:\n",
        "            valid_evens.append(x)\n",
        "\n",
        "    # Encontra o maior número par válido\n",
        "    if valid_evens:\n",
        "        max_even = np.max(valid_evens)\n",
        "        # Converte numpy.int64 para int se necessário\n",
        "        return [int(max_even)] if isinstance(max_even, np.integer) else [max_even]\n",
        "    else:\n",
        "        return []\"\"\""
      ],
      "metadata": {
        "id": "bgh3nJTyE2vD"
      },
      "execution_count": 64,
      "outputs": []
    },
    {
      "cell_type": "code",
      "source": [
        "validate(prompt49, \"A4-E9\")"
      ],
      "metadata": {
        "id": "CWZWjMwJE2vF",
        "outputId": "1ae0a135-8303-46fc-907b-38c17b7f945d",
        "colab": {
          "base_uri": "https://localhost:8080/"
        }
      },
      "execution_count": 65,
      "outputs": [
        {
          "output_type": "stream",
          "name": "stdout",
          "text": [
            "Codigo gerado: \n",
            "def filtrar_max_even_unico(lista):\n",
            "    arr = np.array(lista)\n",
            "    evens = arr[arr % 2 == 0]\n",
            "    \n",
            "    if evens.size == 0:\n",
            "        return []\n",
            "    \n",
            "    unique_evens = np.unique(evens)\n",
            "    valid_evens = []\n",
            "    for x in unique_evens:\n",
            "        count = np.count_nonzero(arr == x)\n",
            "        if count == 1:\n",
            "            valid_evens.append(x)\n",
            "    \n",
            "    if valid_evens:\n",
            "        max_even = np.max(valid_evens)\n",
            "        return [int(max_even)] if isinstance(max_even, np.integer) else [max_even]\n",
            "    else:\n",
            "        return []\n",
            "\n",
            "✅ Passed Test Cases:\n",
            "  - Test ID: 1: [100]\n",
            "  - Test ID: 2: [50]\n",
            "  - Test ID: 3: [200]\n",
            "  - Test ID: 4: []\n"
          ]
        }
      ]
    },
    {
      "cell_type": "markdown",
      "source": [
        "### 4.10 Faça um programa em python que resolva este problema\n",
        "\n",
        "#### Mapa Rodoviário:\n",
        "![image.png](data:image/png;base64,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)\n",
        "\n",
        "#### Entrada: O mapa no formato, e a lista ```[\"A\", \"D\"]```\n",
        "```\n",
        "[[\n",
        "    [0, 4, 5, \"inf\"],\n",
        "    [\"inf\", 0, 2, 6],\n",
        "    [\"inf\", \"inf\", 0, 3],\n",
        "    [\"inf\", \"inf\", \"inf\", 0]\n",
        "]]\n",
        "```\n",
        "#### Resultado esperado: ```[8, [\"A\", \"C\", \"D\"]]```\n",
        "#### Instruções: \"inf\" é uma string que deve ser trocada pelo valor float correspondente a infinito dentro da função que você vai implementar (ou especificar via prompt)."
      ],
      "metadata": {
        "id": "jb0egvgCR0lN"
      }
    },
    {
      "cell_type": "code",
      "source": [],
      "metadata": {
        "id": "nmhe06zX4_wa"
      },
      "execution_count": null,
      "outputs": []
    },
    {
      "cell_type": "code",
      "source": [
        "prompt410=\"\"\"\"import math\n",
        "\n",
        "def shortest_path(matrix, route):\n",
        "\n",
        "\n",
        "    # Converte a string 'inf' em float('inf')\n",
        "    mat = []\n",
        "    for row in matrix:\n",
        "        new_row = [float('inf') if x == \"inf\" else x for x in row]\n",
        "        mat.append(new_row)\n",
        "\n",
        "    # Mapeamento de nós para índices\n",
        "    node_to_index = {'A': 0, 'B': 1, 'C': 2, 'D': 3}\n",
        "    index_to_node = {0: 'A', 1: 'B', 2: 'C', 3: 'D'}\n",
        "\n",
        "    start_index = node_to_index[route[0]]\n",
        "    end_index = node_to_index[route[1]]\n",
        "    num_nodes = len(mat)\n",
        "\n",
        "    dist = [math.inf] * num_nodes\n",
        "    dist[start_index] = 0\n",
        "    visited = [False] * num_nodes\n",
        "    predecessor = [-1] * num_nodes\n",
        "\n",
        "    # Algoritmo de Dijkstra\n",
        "    for _ in range(num_nodes):\n",
        "        # Escolhe o nó não visitado com a menor distância atual\n",
        "        min_distance = math.inf\n",
        "        current = -1\n",
        "        for i in range(num_nodes):\n",
        "            if not visited[i] and dist[i] < min_distance:\n",
        "                min_distance = dist[i]\n",
        "                current = i\n",
        "\n",
        "        if current == -1:\n",
        "            break\n",
        "\n",
        "        visited[current] = True\n",
        "\n",
        "        # Atualiza distâncias dos vizinhos\n",
        "        for neighbor in range(num_nodes):\n",
        "            if mat[current][neighbor] != float('inf') and not visited[neighbor]:\n",
        "                alt = dist[current] + mat[current][neighbor]\n",
        "                if alt < dist[neighbor]:\n",
        "                    dist[neighbor] = alt\n",
        "                    predecessor[neighbor] = current\n",
        "\n",
        "    if dist[end_index] == math.inf:\n",
        "        return [math.inf, []]\n",
        "\n",
        "    # Reconstrução do caminho a partir do predecessor\n",
        "    path = []\n",
        "    node = end_index\n",
        "    while node != -1:\n",
        "        path.append(index_to_node[node])\n",
        "        node = predecessor[node]\n",
        "    path.reverse()\n",
        "\n",
        "    return [dist[end_index], path]\n",
        "\n",
        "\n",
        "if __name__ == \"__main__\":\n",
        "    # Exemplo de uso\n",
        "    matrix_example = [\n",
        "        [0, 4, 5, \"inf\"],\n",
        "        [\"inf\", 0, 2, 6],\n",
        "        [\"inf\", \"inf\", 0, 3],\n",
        "        [\"inf\", \"inf\", \"inf\", 0]\n",
        "    ]\n",
        "\n",
        "    result = shortest_path(matrix_example, [\"A\",\"D\"])\n",
        "    print(result)  # Deve imprimir [8, ['A', 'C', 'D']]\n",
        "\n",
        "\"\"\""
      ],
      "metadata": {
        "id": "joILY5X-P-9K"
      },
      "execution_count": 83,
      "outputs": []
    },
    {
      "cell_type": "code",
      "source": [
        "validate(prompt410, \"A4-E10\")"
      ],
      "metadata": {
        "id": "scDrccKXYOPy",
        "outputId": "c479971e-ba3e-4561-f1fc-f301c97d6eb9",
        "colab": {
          "base_uri": "https://localhost:8080/"
        }
      },
      "execution_count": 84,
      "outputs": [
        {
          "output_type": "stream",
          "name": "stdout",
          "text": [
            "Codigo gerado: \n",
            "def shortest_path(matrix, route):\n",
            "    \n",
            "    mat = []\n",
            "    for row in matrix:\n",
            "        new_row = [float('inf') if x == \"inf\" else x for x in row]\n",
            "        mat.append(new_row)\n",
            "    \n",
            "    node_to_index = {'A': 0, 'B': 1, 'C': 2, 'D': 3}\n",
            "    index_to_node = {0: 'A', 1: 'B', 2: 'C', 3: 'D'}\n",
            "    \n",
            "    start_index = node_to_index[route[0]]\n",
            "    end_index = node_to_index[route[1]]\n",
            "    num_nodes = len(mat)\n",
            "    \n",
            "    dist = [math.inf] * num_nodes\n",
            "    dist[start_index] = 0\n",
            "    visited = [False] * num_nodes\n",
            "    predecessor = [-1] * num_nodes\n",
            "\n",
            "    for _ in range(num_nodes):\n",
            "        min_distance = math.inf\n",
            "        current = -1\n",
            "        for i in range(num_nodes):\n",
            "            if not visited[i] and dist[i] < min_distance:\n",
            "                min_distance = dist[i]\n",
            "                current = i\n",
            "        \n",
            "        if current == -1:\n",
            "            break\n",
            "        \n",
            "        visited[current] = True\n",
            "        \n",
            "        for neighbor in range(num_nodes):\n",
            "            if mat[current][neighbor] != float('inf') and not visited[neighbor]:\n",
            "                alt = dist[current] + mat[current][neighbor]\n",
            "                if alt < dist[neighbor]:\n",
            "                    dist[neighbor] = alt\n",
            "                    predecessor[neighbor] = current\n",
            "    \n",
            "    if dist[end_index] == math.inf:\n",
            "        return [math.inf, []]\n",
            "    \n",
            "    path = []\n",
            "    node = end_index\n",
            "    while node != -1:\n",
            "        path.append(index_to_node[node])\n",
            "        node = predecessor[node]\n",
            "    path.reverse()\n",
            "    \n",
            "    return [dist[end_index], path]\n",
            "\n",
            "✅ Passed the Test Case!\n",
            "  Expected: [8, ['A', 'C', 'D']]\n",
            "  Delivered: [8, ['A', 'C', 'D']]\n"
          ]
        }
      ]
    },
    {
      "cell_type": "markdown",
      "source": [
        "### 4.11 Escreva uma função Python para resolver o problema abaixo:\n",
        "\n",
        "#### Entrada:\n",
        "```\n",
        "[\"red\", \"green\", \"red\", \"blue\", \"green\", \"blue\", \"red\"]\n",
        "```\n",
        "#### Resultado esperado:\n",
        "```\n",
        "[[0, 0, 1],\n",
        " [0, 1, 0],\n",
        " [0, 0, 1],\n",
        " [1, 0, 0],\n",
        " [0, 1, 0],\n",
        " [1, 0, 0],\n",
        " [0, 0, 1]]\n",
        "```\n"
      ],
      "metadata": {
        "id": "2JAOpKfOjmIv"
      }
    },
    {
      "cell_type": "code",
      "source": [],
      "metadata": {
        "id": "Of8s6laR4_FZ"
      },
      "execution_count": null,
      "outputs": []
    },
    {
      "cell_type": "code",
      "source": [
        "prompt411=\"\"\"\"def cores_para_vetor(lista_cores):\n",
        "\n",
        "  mapa_cores = {\n",
        "      \"red\": [0, 0, 1],\n",
        "      \"green\": [0, 1, 0],\n",
        "      \"blue\": [1, 0, 0]\n",
        "  }\n",
        "  resultado = []\n",
        "  for cor in lista_cores:\n",
        "    resultado.append(mapa_cores[cor])\n",
        "  return resultado\n",
        "\n",
        "# Testando a função\n",
        "cores = [\"red\", \"green\", \"red\", \"blue\", \"green\", \"blue\", \"red\"]\n",
        "vetor_cores = cores_para_vetor(cores)\n",
        "print(vetor_cores)\"\"\""
      ],
      "metadata": {
        "id": "KMPhs8AtjmI0"
      },
      "execution_count": 66,
      "outputs": []
    },
    {
      "cell_type": "code",
      "source": [
        "validate(prompt411, \"A4-E11\")"
      ],
      "metadata": {
        "id": "42nrkV52jmI1",
        "outputId": "a1dec264-2d92-463e-830d-5aab6690f91c",
        "colab": {
          "base_uri": "https://localhost:8080/"
        }
      },
      "execution_count": 67,
      "outputs": [
        {
          "output_type": "stream",
          "name": "stdout",
          "text": [
            "Codigo gerado: \n",
            "def cores_para_vetor(lista_cores):\n",
            "    mapa_cores = {\n",
            "        \"red\": [0, 0, 1],\n",
            "        \"green\": [0, 1, 0],\n",
            "        \"blue\": [1, 0, 0]\n",
            "    }\n",
            "    resultado = []\n",
            "    for cor in lista_cores:\n",
            "        resultado.append(mapa_cores[cor])\n",
            "    return resultado\n",
            "\n",
            "✅ Passed the Test Case!\n",
            "  Expected: [[0, 0, 1], [0, 1, 0], [0, 0, 1], [1, 0, 0], [0, 1, 0], [1, 0, 0], [0, 0, 1]]\n",
            "  Delivered: [[0, 0, 1], [0, 1, 0], [0, 0, 1], [1, 0, 0], [0, 1, 0], [1, 0, 0], [0, 0, 1]]\n"
          ]
        }
      ]
    },
    {
      "cell_type": "code",
      "source": [],
      "metadata": {
        "id": "YOChiTCOnCMZ"
      },
      "execution_count": null,
      "outputs": []
    },
    {
      "cell_type": "markdown",
      "source": [
        "### 4.12 Escreva uma função Python para resolver o problema abaixo:\n",
        "\n",
        "#### Entrada 1: ```3```\n",
        "#### Resultado esperado 1:\n",
        "```\n",
        "[[1, 1, 1],\n",
        "[1, 0, 1],\n",
        "[1, 1, 1]]\n",
        "```\n",
        "#### Entrada 2: ```6```\n",
        "#### Resultado esperado 2:\n",
        "```\n",
        "[[1, 1, 1, 1, 1, 1],\n",
        "[1, 0, 0, 0, 0, 1],\n",
        "[1, 0, 0, 0, 0, 1],\n",
        "[1, 0, 0, 0, 0, 1],\n",
        "[1, 0, 0, 0, 0, 1],\n",
        "[1, 1, 1, 1, 1, 1]]\n",
        "```"
      ],
      "metadata": {
        "id": "rtPyC5CkzjOW"
      }
    },
    {
      "cell_type": "code",
      "source": [],
      "metadata": {
        "id": "Lpq0FQGM4-Xq"
      },
      "execution_count": null,
      "outputs": []
    },
    {
      "cell_type": "code",
      "source": [
        "prompt412=\"\"\"\"def gerar_matriz(tamanho):\n",
        "\n",
        "  matriz = [[0 for _ in range(tamanho)] for _ in range(tamanho)]\n",
        "  for i in range(tamanho):\n",
        "    matriz[0][i] = 1  # Primeira linha\n",
        "    matriz[tamanho - 1][i] = 1  # Última linha\n",
        "    matriz[i][0] = 1  # Primeira coluna\n",
        "    matriz[i][tamanho - 1] = 1  # Última coluna\n",
        "  return matriz\n",
        "\n",
        "# Testando a função\n",
        "tamanho_matriz = 3\n",
        "matriz_resultante = gerar_matriz(tamanho_matriz)\n",
        "print(matriz_resultante)\n",
        "\n",
        "tamanho_matriz = 6\n",
        "matriz_resultante = gerar_matriz(tamanho_matriz)\n",
        "print(matriz_resultante)\"\"\""
      ],
      "metadata": {
        "id": "hKnrplpdzjOZ"
      },
      "execution_count": 68,
      "outputs": []
    },
    {
      "cell_type": "code",
      "source": [
        "validate(prompt412, \"A4-E12\")"
      ],
      "metadata": {
        "id": "w3IryUHOzjOa",
        "outputId": "0d1e07fe-79c3-44dd-add5-fc3a46c44ec9",
        "colab": {
          "base_uri": "https://localhost:8080/"
        }
      },
      "execution_count": 69,
      "outputs": [
        {
          "output_type": "stream",
          "name": "stdout",
          "text": [
            "Codigo gerado: \n",
            "def gerar_matriz(tamanho):\n",
            "    matriz = [[0 for _ in range(tamanho)] for _ in range(tamanho)]\n",
            "    for i in range(tamanho):\n",
            "        matriz[0][i] = 1  # Primeira linha\n",
            "        matriz[tamanho - 1][i] = 1  # Última linha\n",
            "        matriz[i][0] = 1  # Primeira coluna\n",
            "        matriz[i][tamanho - 1] = 1  # Última coluna\n",
            "    return matriz\n",
            "\n",
            "✅ Passed Test Cases:\n",
            "  - Test ID: 1: [[1, 1, 1], [1, 0, 1], [1, 1, 1]]\n",
            "  - Test ID: 2: [[1, 1, 1, 1, 1, 1], [1, 0, 0, 0, 0, 1], [1, 0, 0, 0, 0, 1], [1, 0, 0, 0, 0, 1], [1, 0, 0, 0, 0, 1], [1, 1, 1, 1, 1, 1]]\n"
          ]
        }
      ]
    },
    {
      "cell_type": "code",
      "source": [],
      "metadata": {
        "id": "E420hpXm1dny"
      },
      "execution_count": null,
      "outputs": []
    },
    {
      "cell_type": "markdown",
      "source": [
        "### Exercício de Reflexão (Facultativo)\n",
        "#### Você aprendeu alguma coisa que pode ser reaproveitado em outros problemas?\n",
        "#### Como você pode melhorar seu processo de elaboração de requisitos / prompts?\n",
        "#### Você notou ambiguidade na sua especificação inicial?"
      ],
      "metadata": {
        "id": "9cTqrAw0IXaY"
      }
    },
    {
      "cell_type": "code",
      "source": [
        "resposta=\"\"\"AQUI\"\"\""
      ],
      "metadata": {
        "id": "Y9yjEmHV2nKi"
      },
      "execution_count": null,
      "outputs": []
    },
    {
      "cell_type": "code",
      "source": [
        "validate(resposta, \"A4-R1\")"
      ],
      "metadata": {
        "id": "yLXjtjQaK6V1"
      },
      "execution_count": null,
      "outputs": []
    }
  ],
  "metadata": {
    "celltoolbar": "Create Assignment",
    "kernelspec": {
      "display_name": "Python 3",
      "language": "python",
      "name": "python3"
    },
    "language_info": {
      "codemirror_mode": {
        "name": "ipython",
        "version": 3
      },
      "file_extension": ".py",
      "mimetype": "text/x-python",
      "name": "python",
      "nbconvert_exporter": "python",
      "pygments_lexer": "ipython3",
      "version": "3.8.3"
    },
    "name": "_merged",
    "varInspector": {
      "cols": {
        "lenName": 16,
        "lenType": 16,
        "lenVar": 40
      },
      "kernels_config": {
        "python": {
          "delete_cmd_postfix": "",
          "delete_cmd_prefix": "del ",
          "library": "var_list.py",
          "varRefreshCmd": "print(var_dic_list())"
        },
        "r": {
          "delete_cmd_postfix": ") ",
          "delete_cmd_prefix": "rm(",
          "library": "var_list.r",
          "varRefreshCmd": "cat(var_dic_list()) "
        }
      },
      "types_to_exclude": [
        "module",
        "function",
        "builtin_function_or_method",
        "instance",
        "_Feature"
      ],
      "window_display": false
    },
    "colab": {
      "provenance": [],
      "include_colab_link": true
    }
  },
  "nbformat": 4,
  "nbformat_minor": 0
}