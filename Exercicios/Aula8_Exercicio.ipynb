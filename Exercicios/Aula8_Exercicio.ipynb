{
  "cells": [
    {
      "cell_type": "markdown",
      "metadata": {
        "id": "view-in-github",
        "colab_type": "text"
      },
      "source": [
        "<a href=\"https://colab.research.google.com/github/tadeugomes/mba_enap_python/blob/main/Exercicios/Aula8_Exercicio.ipynb\" target=\"_parent\"><img src=\"https://colab.research.google.com/assets/colab-badge.svg\" alt=\"Open In Colab\"/></a>"
      ]
    },
    {
      "cell_type": "markdown",
      "metadata": {
        "id": "dyrfGARY5Ho9"
      },
      "source": [
        "# Aula 8 - Exercícios - Datetime e Regex"
      ]
    },
    {
      "cell_type": "markdown",
      "metadata": {
        "id": "isqhNh0K2rW7"
      },
      "source": [
        "### Documentação do Autograder [Link](https://github.com/alexlopespereira/mba_enap/blob/main/Exercicios/Autograder.ipynb)\n",
        "\n",
        "\n",
        "*   Link para o gabarito das questões\n",
        "*   Imports padrão\n",
        "*   Instalação\n",
        "*   Autenticaçao para nota\n",
        "*   Validação\n",
        "\n",
        "\n"
      ]
    },
    {
      "cell_type": "code",
      "execution_count": 1,
      "metadata": {
        "id": "RkNwKAd8kJz5"
      },
      "outputs": [],
      "source": [
        "!pip install --upgrade ipynb_autograde > /dev/null"
      ]
    },
    {
      "cell_type": "code",
      "execution_count": 2,
      "metadata": {
        "id": "WxBHNGxie9BB",
        "outputId": "93a916ec-773f-4405-8366-155d5dcb299e",
        "colab": {
          "base_uri": "https://localhost:8080/"
        }
      },
      "outputs": [
        {
          "output_type": "stream",
          "name": "stdout",
          "text": [
            "env: COURSE=mba_enap\n",
            "Go to the following link in your browser, and complete the sign-in prompts:\n",
            "\n",
            "    https://accounts.google.com/o/oauth2/auth?response_type=code&client_id=32555940559.apps.googleusercontent.com&redirect_uri=https%3A%2F%2Fsdk.cloud.google.com%2Fauthcode.html&scope=openid+https%3A%2F%2Fwww.googleapis.com%2Fauth%2Fuserinfo.email+https%3A%2F%2Fwww.googleapis.com%2Fauth%2Fcloud-platform+https%3A%2F%2Fwww.googleapis.com%2Fauth%2Fappengine.admin+https%3A%2F%2Fwww.googleapis.com%2Fauth%2Fsqlservice.login+https%3A%2F%2Fwww.googleapis.com%2Fauth%2Fcompute+https%3A%2F%2Fwww.googleapis.com%2Fauth%2Faccounts.reauth&state=lNVjuE8F0KsFt8co1BBwBnMmh5Gveo&prompt=consent&token_usage=remote&access_type=offline&code_challenge=924umRAWr_DH7Rs7fv2fB5gcpB1rOZAfNFhbVIjhMRU&code_challenge_method=S256\n",
            "\n",
            "Once finished, enter the verification code provided in your browser: 4/0ASVgi3L5-PztEJzbptvVdz3boQCvtok05tHmN6K61wQQ05z9G2cDuYsYYLiGQqesHtf87w\n",
            "\n",
            "You are now logged in as [tagote@gmail.com].\n",
            "Your current project is [None].  You can change this setting by running:\n",
            "  $ gcloud config set project PROJECT_ID\n"
          ]
        }
      ],
      "source": [
        "%env  COURSE=mba_enap\n",
        "from ipynb_autograde.main import init_log, validate\n",
        "init_log()\n",
        "email_result=!gcloud config get-value account\n",
        "if not email_result or 'unset' in email_result[0]:\n",
        "  !gcloud auth login"
      ]
    },
    {
      "cell_type": "code",
      "execution_count": 3,
      "metadata": {
        "id": "fzizEpSQ5HpD"
      },
      "outputs": [],
      "source": [
        "# Importe a biblioteca pandas\n",
        "import pandas as pd\n",
        "import numpy as np\n",
        "import re\n",
        "import pandas as pd\n",
        "import datetime\n",
        "from datetime import datetime, date"
      ]
    },
    {
      "cell_type": "markdown",
      "metadata": {
        "id": "IHMAEQUa5HpF"
      },
      "source": [
        "### 8.1 Escreva um prompt de uma função python que use a biblioteca de regex para extrair o padrão monstrado nos exemplos a seguir.\n",
        "\n",
        "#### Entrada 1: ```\"abbb asde ababbaaabbbabbb\"```\n",
        "\n",
        "\n",
        "#### Saída 1: ```[\"abbb\", \"abbb\", \"abbb\"]```\n",
        "\n",
        "\n",
        "#### Entrada 2: ```\"ab bb bba aaa\"```\n",
        "\n",
        "\n",
        "#### Saída 2: ```[]```\n",
        "\n",
        "#### Entrada 3: ```\"abb bb bbabbba abaaba\"```\n",
        "\n",
        "\n",
        "#### Saída 3: ```[\"abbb\"]```\n",
        "\n",
        "\n"
      ]
    },
    {
      "cell_type": "code",
      "execution_count": null,
      "metadata": {
        "id": "-hjPLU5CJ9oz"
      },
      "outputs": [],
      "source": [
        "d8_1_1 = \"abbb asde ababbaaabbbabbb\"\n",
        "d8_1_2 = \"ab bb bba aaa\"\n",
        "d8_1_3 = \"abb bb bbabbba abaaba\""
      ]
    },
    {
      "cell_type": "code",
      "execution_count": 4,
      "metadata": {
        "id": "uHOH0TBe5HpG",
        "nbgrader": {
          "grade": false,
          "grade_id": "cell-c705ab9d11473b9f9",
          "locked": false,
          "schema_version": 3,
          "solution": true,
          "task": false
        }
      },
      "outputs": [],
      "source": [
        "prompt81 = \"\"\"import re\n",
        "\n",
        "def extract_pattern(text):\n",
        "    pattern = r'ab{3}'\n",
        "    return re.findall(pattern, text)\n",
        "\"\"\""
      ]
    },
    {
      "cell_type": "code",
      "execution_count": 5,
      "metadata": {
        "id": "MKxwvOpc5HpI",
        "outputId": "b6067643-fe9e-4b2e-b811-12723bfd6702",
        "colab": {
          "base_uri": "https://localhost:8080/"
        }
      },
      "outputs": [
        {
          "output_type": "stream",
          "name": "stdout",
          "text": [
            "Codigo gerado: \n",
            "def extract_pattern(text):\n",
            "    pattern = r'ab{3}'\n",
            "    return re.findall(pattern, text)\n",
            "\n",
            "✅ Passed Test Cases:\n",
            "  - Test ID: 1: ['abbb', 'abbb', 'abbb']\n",
            "  - Test ID: 2: []\n",
            "  - Test ID: 3: ['abbb']\n"
          ]
        }
      ],
      "source": [
        "validate(prompt81, \"A8-E1\")"
      ]
    },
    {
      "cell_type": "markdown",
      "metadata": {
        "id": "xw9NCw7u5HpK"
      },
      "source": [
        "### 8.2 Escreva um prompt de uma função python que use a biblioteca de regex para extrair o padrão monstrado nos exemplos a seguir.\n",
        "\n",
        "#### Entrada 1: ```\"33a307a\"```\n",
        "\n",
        "\n",
        "#### Saída 1: ```[]```\n",
        "\n",
        "\n",
        "#### Entrada 2: ```\"33a307\"```\n",
        "\n",
        "\n",
        "#### Saída 2: ```[\"307\"]```\n",
        "\n",
        "\n",
        "\n",
        "\n"
      ]
    },
    {
      "cell_type": "code",
      "execution_count": null,
      "metadata": {
        "id": "pHQ8GDwLJ8_R"
      },
      "outputs": [],
      "source": [
        "d8_2_1 = \"33a307a\"\n",
        "d8_2_2 = \"33a307\""
      ]
    },
    {
      "cell_type": "code",
      "execution_count": 8,
      "metadata": {
        "id": "O0Jvfk50CQW3",
        "nbgrader": {
          "grade": false,
          "grade_id": "cell-c705ab9d11473b9f9",
          "locked": false,
          "schema_version": 3,
          "solution": true,
          "task": false
        }
      },
      "outputs": [],
      "source": [
        "prompt82 = \"\"\"import re\n",
        "\n",
        "def extract_pattern(text):\n",
        "    pattern = r'(?<=[a-z])\\d{3}(?![a-z])'  # Padrão corrigido\n",
        "    return re.findall(pattern, text)\n",
        "\n",
        "\"\"\""
      ]
    },
    {
      "cell_type": "code",
      "execution_count": 9,
      "metadata": {
        "id": "-hCheU1DCQW-",
        "outputId": "1c48c6ab-b4fe-47b4-9e02-20bcb6149e10",
        "colab": {
          "base_uri": "https://localhost:8080/"
        }
      },
      "outputs": [
        {
          "output_type": "stream",
          "name": "stdout",
          "text": [
            "Codigo gerado: \n",
            "def extract_pattern(text):\n",
            "    pattern = r'(?<=[a-z])\\d{3}(?![a-z])'\n",
            "    return re.findall(pattern, text)\n",
            "\n",
            "✅ Passed Test Cases:\n",
            "  - Test ID: 1: []\n",
            "  - Test ID: 2: ['307']\n"
          ]
        }
      ],
      "source": [
        "validate(prompt82, \"A8-E2\")"
      ]
    },
    {
      "cell_type": "markdown",
      "metadata": {
        "id": "vVjFdewF5HpN"
      },
      "source": [
        "### 8.3 Escreva um prompt de uma função python para realizar a transformação monstrada no exemplo a seguir.\n",
        "#### **Dica:** O pandas só faz conta de datas dados do tipo datetime. Com o tipo string não é possível fazer operações matematicas de data.\n",
        "\n",
        "#### Entrada 1:  ```\"2021-05-11\"```\n",
        "\n",
        "\n",
        "#### Saída 1: ```[\"2021-05-10\", \"2021-05-12\"]```\n",
        "\n"
      ]
    },
    {
      "cell_type": "code",
      "execution_count": null,
      "metadata": {
        "id": "GKZfD7fTJ8hO"
      },
      "outputs": [],
      "source": [
        "d8_3_1 = \"2021-05-11\""
      ]
    },
    {
      "cell_type": "code",
      "execution_count": 12,
      "metadata": {
        "id": "RKDeWD-fCRXP",
        "nbgrader": {
          "grade": false,
          "grade_id": "cell-c705ab9d11473b9f9",
          "locked": false,
          "schema_version": 3,
          "solution": true,
          "task": false
        }
      },
      "outputs": [],
      "source": [
        "prompt83 = \"\"\"import datetime  # Importação do módulo completo\n",
        "\n",
        "def transform_date(date_string):\n",
        "    # Convertendo usando datetime.datetime.strptime()\n",
        "    date_obj = datetime.datetime.strptime(date_string, \"%Y-%m-%d\")\n",
        "\n",
        "    # Calculando datas adjacentes\n",
        "    previous_day = date_obj - datetime.timedelta(days=1)\n",
        "    next_day = date_obj + datetime.timedelta(days=1)\n",
        "\n",
        "    # Formatando para strings no padrão ISO\n",
        "    return [\n",
        "        previous_day.strftime(\"%Y-%m-%d\"),\n",
        "        next_day.strftime(\"%Y-%m-%d\")\n",
        "    ]\n",
        "\n",
        "\"\"\""
      ]
    },
    {
      "cell_type": "code",
      "execution_count": 13,
      "metadata": {
        "id": "2xb2vzFeCRXR",
        "outputId": "236c4d1a-7999-4b1a-8008-b49ff7d35432",
        "colab": {
          "base_uri": "https://localhost:8080/"
        }
      },
      "outputs": [
        {
          "output_type": "stream",
          "name": "stdout",
          "text": [
            "Codigo gerado: \n",
            "def transform_date(date_string):\n",
            "    date_obj = datetime.datetime.strptime(date_string, \"%Y-%m-%d\")\n",
            "    previous_day = date_obj - datetime.timedelta(days=1)\n",
            "    next_day = date_obj + datetime.timedelta(days=1)\n",
            "    return [\n",
            "        previous_day.strftime(\"%Y-%m-%d\"),\n",
            "        next_day.strftime(\"%Y-%m-%d\")\n",
            "    ]\n",
            "\n",
            "✅ Passed the Test Case!\n",
            "  Expected: ['2021-05-10', '2021-05-12']\n",
            "  Delivered: ['2021-05-10', '2021-05-12']\n"
          ]
        }
      ],
      "source": [
        "validate(prompt83, \"A8-E3\")"
      ]
    },
    {
      "cell_type": "markdown",
      "metadata": {
        "id": "cO1eUMZh5HpR"
      },
      "source": [
        "### 8.4 Escreva um prompt de uma função python para realizar a transformação monstrada no exemplo a seguir.\n",
        "#### **Dica:** O pandas só faz conta de datas dados do tipo datetime. Com o tipo string não é possível fazer operações matematicas de data.\n",
        "\n",
        "#### Entrada: ```{\"data\": [\"2011-09-02\", \"2012-08-04\", \"2013-09-03\"], \"0\": [-0.96, -0.05, -0.42]}```\n",
        "\n",
        "\n",
        "#### Saída:\n",
        "\n",
        "\n",
        "|    | data      |     0 |   mes |\n",
        "|---:|:-----------|------:|------:|\n",
        "|  0 | 2011-09-02 | -0.96 |     9 |\n",
        "|  1 | 2012-08-04 | -0.05 |     8 |\n",
        "|  2 | 2013-09-03 | -0.42 |     9 |\n"
      ]
    },
    {
      "cell_type": "code",
      "execution_count": null,
      "metadata": {
        "id": "Jm92RDL5J7we"
      },
      "outputs": [],
      "source": [
        "d8_4_1 = {\"data\": [\"2011-09-02\", \"2012-08-04\", \"2013-09-03\"], \"0\": [-0.96, -0.05, -0.42]}"
      ]
    },
    {
      "cell_type": "code",
      "execution_count": 14,
      "metadata": {
        "id": "XukvxTEECSVo",
        "nbgrader": {
          "grade": false,
          "grade_id": "cell-c705ab9d11473b9f9",
          "locked": false,
          "schema_version": 3,
          "solution": true,
          "task": false
        }
      },
      "outputs": [],
      "source": [
        "prompt84 = \"\"\"import pandas as pd\n",
        "import datetime\n",
        "\n",
        "def transform_dataframe(input_dict):\n",
        "    # Criar DataFrame a partir do dicionário de entrada\n",
        "    df = pd.DataFrame(input_dict)\n",
        "\n",
        "    # Converter a coluna 'data' para o tipo datetime\n",
        "    df['data'] = pd.to_datetime(df['data'])\n",
        "\n",
        "    # Extrair mês das datas\n",
        "    df['mes'] = df['data'].dt.month\n",
        "\n",
        "    # Converter a coluna 'data' de volta para string no formato original\n",
        "    df['data'] = df['data'].dt.strftime('%Y-%m-%d')\n",
        "\n",
        "    return df\n",
        "\"\"\""
      ]
    },
    {
      "cell_type": "code",
      "execution_count": 15,
      "metadata": {
        "id": "sfnmg1u2CSVr",
        "outputId": "85b42411-4333-4a53-f43c-95a74db25ee0",
        "colab": {
          "base_uri": "https://localhost:8080/"
        }
      },
      "outputs": [
        {
          "output_type": "stream",
          "name": "stdout",
          "text": [
            "Codigo gerado: \n",
            "def transform_dataframe(input_dict):\n",
            "    # Criar DataFrame a partir do dicionário de entrada\n",
            "    df = pd.DataFrame(input_dict)\n",
            "    \n",
            "    # Converter a coluna 'data' para o tipo datetime\n",
            "    df['data'] = pd.to_datetime(df['data'])\n",
            "    \n",
            "    # Extrair mês das datas\n",
            "    df['mes'] = df['data'].dt.month\n",
            "    \n",
            "    # Converter a coluna 'data' de volta para string no formato original\n",
            "    df['data'] = df['data'].dt.strftime('%Y-%m-%d')\n",
            "    \n",
            "    return df\n",
            "\n",
            "✅ Passed the Test Case!\n",
            "  Expected: {'data': {'aggregation_checks': {'sum': {'0': -1.5, 'mes': 26.0}, 'total_rows': {'max': 3, 'min': 3}}, 'columns': ['data', '0', 'mes'], 'dtypes': {'0': 'float64', 'data': 'object', 'mes': 'int32'}, 'sample_rows': [{'expected_values': {'mes': 9}, 'filter': {'0': -0.96}}]}, 'type': 'dataframe', 'validation_rules': {'round_decimals': 1, 'row_match_threshold': 0.01, 'tolerance': 3}}\n",
            "  Delivered: {'aggregation_summary': {'sums': {'0': -1.5, 'mes': 26.0}, 'total_rows': {'max': 3, 'min': 3}}, 'column_analysis': {'expected_columns': ['data', '0', 'mes'], 'missing_columns': [], 'possible_matches': {}, 'provided_columns': ['data', '0', 'mes'], 'unexpected_columns': []}, 'verified_samples': [{'expected_values': {'mes': 9}, 'filter': {'0': -0.96}}]}\n"
          ]
        }
      ],
      "source": [
        "validate(prompt84, \"A8-E4\")"
      ]
    },
    {
      "cell_type": "markdown",
      "metadata": {
        "id": "nzEJf3jHAl1w"
      },
      "source": [
        "### 8.5 Escreva um prompt de uma função python utilizando a biblioteca de regex para extrair o padrão monstrado nos exemplos a seguir.\n",
        "\n",
        "#### Entrada: ```[\"(16) 91231-6165\", \"(16) 3231-6165\", \"16 91231-6165\", \"16 3231-6164\", \"3231-6165\", \"91231-616\"]```\n",
        "\n",
        "\n",
        "#### Saída: ```[\"(16) 91231-6165\", \"(16) 3231-6165\", \"16 91231-6165\", \"16 3231-6164\"]```\n"
      ]
    },
    {
      "cell_type": "code",
      "execution_count": null,
      "metadata": {
        "id": "Sq-1l0nZJ7Mo"
      },
      "outputs": [],
      "source": [
        "d8_5_1 = [\"(16) 91231-6165\", \"(16) 3231-6165\", \"16 91231-6165\", \"16 3231-6164\", \"3231-6165\", \"91231-616\"]"
      ]
    },
    {
      "cell_type": "code",
      "execution_count": 16,
      "metadata": {
        "id": "lmcuYdJ8CTJc",
        "nbgrader": {
          "grade": false,
          "grade_id": "cell-c705ab9d11473b9f9",
          "locked": false,
          "schema_version": 3,
          "solution": true,
          "task": false
        }
      },
      "outputs": [],
      "source": [
        "prompt85 = \"\"\"import re\n",
        "\n",
        "def extract_valid_phone_numbers(phone_list):\n",
        "    pattern = r'^\\(?(\\d{2})\\)?\\s?9?\\d{4}-\\d{4}$'\n",
        "    return [phone for phone in phone_list if re.match(pattern, phone)]\n",
        "\"\"\""
      ]
    },
    {
      "cell_type": "code",
      "execution_count": 17,
      "metadata": {
        "id": "G8ekZAXSCTJc",
        "outputId": "580c0b31-ae0a-480c-fdd9-f5a5a16b1919",
        "colab": {
          "base_uri": "https://localhost:8080/"
        }
      },
      "outputs": [
        {
          "output_type": "stream",
          "name": "stdout",
          "text": [
            "Codigo gerado: \n",
            "def extract_valid_phone_numbers(phone_list):\n",
            "    pattern = r'^\\(?(\\d{2})\\)?\\s?9?\\d{4}-\\d{4}$'\n",
            "    return [phone for phone in phone_list if re.match(pattern, phone)]\n",
            "\n",
            "✅ Passed the Test Case!\n",
            "  Expected: ['(16) 91231-6165', '(16) 3231-6165', '16 91231-6165', '16 3231-6164']\n",
            "  Delivered: ['(16) 91231-6165', '(16) 3231-6165', '16 91231-6165', '16 3231-6164']\n"
          ]
        }
      ],
      "source": [
        "validate(prompt85, \"A8-E5\")"
      ]
    },
    {
      "cell_type": "markdown",
      "metadata": {
        "id": "0vsm5KZhAwHD"
      },
      "source": [
        "### 8.6 Escreva um prompt de uma função python para realizar a transformação monstrada no exemplo a seguir.\n",
        "#### **Dica:** Ultimo dia útil do **mês**. O pandas só faz conta de datas dados do tipo datetime. Com o tipo string não é possível fazer operações matematicas de data.\n",
        "#### Entrada: ```2024```\n",
        "\n",
        "\n",
        "#### Saída: Um dataframe igual a esse\n",
        "\n",
        "|    | Col1                | Col2      |\n",
        "|---:|:--------------------|:----------|\n",
        "|  0 | 2024-01-31 00:00:00 | Wednesday |\n",
        "|  1 | 2024-02-29 00:00:00 | Thursday  |\n",
        "|  2 | 2024-03-29 00:00:00 | Friday    |\n",
        "|  3 | 2024-04-30 00:00:00 | Tuesday   |\n",
        "|  4 | 2024-05-31 00:00:00 | Friday    |\n",
        "|  5 | 2024-06-28 00:00:00 | Friday    |\n",
        "|  6 | 2024-07-31 00:00:00 | Wednesday |\n",
        "|  7 | 2024-08-30 00:00:00 | Friday    |\n",
        "|  8 | 2024-09-30 00:00:00 | Monday    |\n",
        "|  9 | 2024-10-31 00:00:00 | Thursday  |\n",
        "| 10 | 2024-11-29 00:00:00 | Friday    |\n",
        "| 11 | 2024-12-31 00:00:00 | Tuesday   |\n"
      ]
    },
    {
      "cell_type": "code",
      "execution_count": 18,
      "metadata": {
        "nbgrader": {
          "grade": false,
          "grade_id": "cell-c705ab9d11473b9f9",
          "locked": false,
          "schema_version": 3,
          "solution": true,
          "task": false
        },
        "id": "nIwk6_SnP60Z"
      },
      "outputs": [],
      "source": [
        "prompt86 = \"\"\"import pandas as pd\n",
        "\n",
        "def generate_business_days(year):\n",
        "    # Gerar datas do último dia útil de cada mês\n",
        "    dates = pd.date_range(start=f\"{year}-01-01\", end=f\"{year}-12-31\", freq='BM')\n",
        "\n",
        "    # Criar DataFrame e formatar datas\n",
        "    df = pd.DataFrame({'Col1': dates})\n",
        "    df['Col2'] = df['Col1'].dt.day_name()  # Extrair nome do dia da semana\n",
        "\n",
        "    return df\n",
        "\"\"\""
      ]
    },
    {
      "cell_type": "code",
      "execution_count": 19,
      "metadata": {
        "id": "bzLWdmZNCT90",
        "outputId": "bdebcd71-9dbe-448c-fb96-7dde2a76cab2",
        "colab": {
          "base_uri": "https://localhost:8080/"
        }
      },
      "outputs": [
        {
          "output_type": "stream",
          "name": "stdout",
          "text": [
            "Codigo gerado: \n",
            "def generate_business_days(year):\n",
            "    dates = pd.date_range(start=f\"{year}-01-01\", end=f\"{year}-12-31\", freq='BM')\n",
            "    df = pd.DataFrame({'Col1': dates})\n",
            "    df['Col2'] = df['Col1'].dt.day_name()\n",
            "    return df\n",
            "\n",
            "✅ Passed the Test Case!\n",
            "  Expected: {'data': {'aggregation_checks': {'sum': {}, 'total_rows': {'max': 12, 'min': 12}}, 'columns': ['Col1', 'Col2'], 'dtypes': {'Col1': 'datetime64[ns]', 'Col2': 'object'}, 'sample_rows': [{'expected_values': {'Col2': 'Wednesday'}, 'filter': {'Col1': '2024-01-31'}}, {'expected_values': {'Col2': 'Tuesday'}, 'filter': {'Col1': '2024-12-31'}}]}, 'type': 'dataframe', 'validation_rules': {'round_decimals': 1, 'row_match_threshold': 0.01, 'tolerance': 3}}\n",
            "  Delivered: {'aggregation_summary': {'sums': {}, 'total_rows': {'max': 12, 'min': 12}}, 'column_analysis': {'expected_columns': ['Col1', 'Col2'], 'missing_columns': [], 'possible_matches': {}, 'provided_columns': ['Col1', 'Col2'], 'unexpected_columns': []}, 'verified_samples': [{'expected_values': {'Col2': 'Wednesday'}, 'filter': {'Col1': '2024-01-31'}}, {'expected_values': {'Col2': 'Tuesday'}, 'filter': {'Col1': '2024-12-31'}}]}\n"
          ]
        }
      ],
      "source": [
        "validate(prompt86, \"A8-E6\")"
      ]
    },
    {
      "cell_type": "markdown",
      "metadata": {
        "id": "AFrMfPFDAwRv"
      },
      "source": [
        "### 8.7 Escreva um prompt de uma função python para realizar a transformação monstrada no exemplo a seguir.\n",
        "#### **Dica:** O pandas só faz conta de datas dados do tipo datetime. Com o tipo string não é possível fazer operações matematicas de data.\n",
        "#### Entrada:\n",
        "```\n",
        "{\n",
        "    'Start Date': ['2021-05-01', '2021-06-15', '2021-07-20'],\n",
        "    'End Date': ['2021-05-10', '2021-06-25', '2021-08-01']\n",
        "}\n",
        "```\n",
        "\n",
        "#### Saída:\n",
        "\n",
        "|    | Start Date          | End Date            |   Difference |\n",
        "|---:|:--------------------|:--------------------|-------------:|\n",
        "|  0 | 2021-07-20 00:00:00 | 2021-08-01 00:00:00 |           12 |\n"
      ]
    },
    {
      "cell_type": "code",
      "execution_count": null,
      "metadata": {
        "id": "DNVMsFBmJ5vd"
      },
      "outputs": [],
      "source": [
        "d8_7_1 = {\n",
        "    'Start Date': ['2021-05-01', '2021-06-15', '2021-07-20'],\n",
        "    'End Date': ['2021-05-10', '2021-06-25', '2021-08-01']\n",
        "}"
      ]
    },
    {
      "cell_type": "code",
      "execution_count": 20,
      "metadata": {
        "id": "DXVdoZdlCUb3",
        "nbgrader": {
          "grade": false,
          "grade_id": "cell-c705ab9d11473b9f9",
          "locked": false,
          "schema_version": 3,
          "solution": true,
          "task": false
        }
      },
      "outputs": [],
      "source": [
        "prompt87 = \"\"\"import pandas as pd\n",
        "\n",
        "def calculate_date_difference(date_dict):\n",
        "    # Criar DataFrame a partir do dicionário de entrada\n",
        "    df = pd.DataFrame(date_dict)\n",
        "\n",
        "    # Converter as colunas de data para o tipo datetime\n",
        "    df['Start Date'] = pd.to_datetime(df['Start Date'])\n",
        "    df['End Date'] = pd.to_datetime(df['End Date'])\n",
        "\n",
        "    # Calcular a diferença em dias\n",
        "    df['Difference'] = (df['End Date'] - df['Start Date']).dt.days\n",
        "\n",
        "    # Ordenar o DataFrame pela data de início em ordem decrescente\n",
        "    df = df.sort_values('Start Date', ascending=False)\n",
        "\n",
        "    # Selecionar apenas a primeira linha (a mais recente)\n",
        "    df = df.head(1)\n",
        "\n",
        "    return df\n",
        "\"\"\""
      ]
    },
    {
      "cell_type": "code",
      "execution_count": 21,
      "metadata": {
        "id": "luQuTo5-CUb5",
        "outputId": "cbf93064-404a-4a43-ba3a-b388dc1866ba",
        "colab": {
          "base_uri": "https://localhost:8080/"
        }
      },
      "outputs": [
        {
          "output_type": "stream",
          "name": "stdout",
          "text": [
            "Codigo gerado: \n",
            "def calculate_date_difference(date_dict):\n",
            "    df = pd.DataFrame(date_dict)\n",
            "    \n",
            "    df['Start Date'] = pd.to_datetime(df['Start Date'])\n",
            "    df['End Date'] = pd.to_datetime(df['End Date'])\n",
            "    \n",
            "    df['Difference'] = (df['End Date'] - df['Start Date']).dt.days\n",
            "    \n",
            "    df = df.sort_values('Start Date', ascending=False)\n",
            "    \n",
            "    df = df.head(1)\n",
            "    \n",
            "    return df\n",
            "\n",
            "✅ Passed the Test Case!\n",
            "  Expected: {'data': {'aggregation_checks': {'sum': {'Difference': 12.0}, 'total_rows': {'max': 1, 'min': 1}}, 'columns': ['Start Date', 'End Date', 'Difference'], 'dtypes': {'Difference': 'int64', 'End Date': 'datetime64[ns]', 'Start Date': 'datetime64[ns]'}, 'sample_rows': [{'expected_values': {'Difference': 12}, 'filter': {'Difference': 12}}]}, 'type': 'dataframe', 'validation_rules': {'round_decimals': 1, 'row_match_threshold': 0.01, 'tolerance': 3}}\n",
            "  Delivered: {'aggregation_summary': {'sums': {'Difference': 12.0}, 'total_rows': {'max': 1, 'min': 1}}, 'column_analysis': {'expected_columns': ['Start Date', 'End Date', 'Difference'], 'missing_columns': [], 'possible_matches': {}, 'provided_columns': ['Start Date', 'End Date', 'Difference'], 'unexpected_columns': []}, 'verified_samples': [{'expected_values': {'Difference': 12}, 'filter': {'Difference': 12}}]}\n"
          ]
        }
      ],
      "source": [
        "validate(prompt87, \"A8-E7\")"
      ]
    },
    {
      "cell_type": "markdown",
      "metadata": {
        "id": "rSBuKF2fAwrP"
      },
      "source": [
        "### 8.8 Escreva um prompt de uma função python para realizar a transformação monstrada no exemplo a seguir.\n",
        "#### **Dica:** número de semanas completas\n",
        "#### Entrada 1:\n",
        "```\n",
        "{\n",
        "    'Event': ['Event A', 'Event B', 'Event C'],\n",
        "    'Start Date': ['2023-01-05', '2023-02-15', '2023-07-20'],\n",
        "    'End Date': ['2023-02-10', '2023-03-28', '2023-08-01']\n",
        "}\n",
        "```\n",
        "\n",
        "\n",
        "#### Saída: um dataframe igual a este\n",
        "\n",
        "|    | Event   | Start Date          | End Date            |   Difference |   Full Weeks Difference |\n",
        "|---:|:--------|:--------------------|:--------------------|-------------:|------------------------:|\n",
        "|  0 | Event A | 2023-01-05 00:00:00 | 2023-02-10 00:00:00 |           36 |                       5 |\n",
        "|  1 | Event B | 2023-02-15 00:00:00 | 2023-03-28 00:00:00 |           41 |                       5 |\n",
        "|  2 | Event C | 2023-07-20 00:00:00 | 2023-08-01 00:00:00 |           12 |                       1 |\n",
        "\n"
      ]
    },
    {
      "cell_type": "code",
      "execution_count": null,
      "metadata": {
        "id": "olo5R2k_J4jI"
      },
      "outputs": [],
      "source": [
        "d8_8_1 = {\n",
        "    'Event': ['Event A', 'Event B', 'Event C'],\n",
        "    'Start Date': ['2023-01-05', '2023-02-15', '2023-07-20'],\n",
        "    'End Date': ['2023-02-10', '2023-03-28', '2023-08-01']\n",
        "}"
      ]
    },
    {
      "cell_type": "code",
      "execution_count": 22,
      "metadata": {
        "id": "PseMbwuxCU09",
        "nbgrader": {
          "grade": false,
          "grade_id": "cell-c705ab9d11473b9f9",
          "locked": false,
          "schema_version": 3,
          "solution": true,
          "task": false
        }
      },
      "outputs": [],
      "source": [
        "prompt88 = \"\"\"import pandas as pd\n",
        "\n",
        "def calcular_semanas_completas(dados):\n",
        "    df = pd.DataFrame(dados)\n",
        "\n",
        "    # Converter colunas para datetime\n",
        "    df['Start Date'] = pd.to_datetime(df['Start Date'])\n",
        "    df['End Date'] = pd.to_datetime(df['End Date'])\n",
        "\n",
        "    # Calcular diferença em dias\n",
        "    df['Difference'] = (df['End Date'] - df['Start Date']).dt.days\n",
        "\n",
        "    # Calcular semanas completas\n",
        "    df['Full Weeks Difference'] = df['Difference'] // 7\n",
        "\n",
        "    return df\n",
        "\"\"\""
      ]
    },
    {
      "cell_type": "code",
      "execution_count": 23,
      "metadata": {
        "id": "rN3j4g7TCU1C",
        "outputId": "6448dfab-86c5-433c-e3c3-1458978835c6",
        "colab": {
          "base_uri": "https://localhost:8080/"
        }
      },
      "outputs": [
        {
          "output_type": "stream",
          "name": "stdout",
          "text": [
            "Codigo gerado: \n",
            "def calcular_semanas_completas(dados):\n",
            "    df = pd.DataFrame(dados)\n",
            "    \n",
            "    # Converter colunas para datetime\n",
            "    df['Start Date'] = pd.to_datetime(df['Start Date'])\n",
            "    df['End Date'] = pd.to_datetime(df['End Date'])\n",
            "    \n",
            "    # Calcular diferença em dias\n",
            "    df['Difference'] = (df['End Date'] - df['Start Date']).dt.days\n",
            "    \n",
            "    # Calcular semanas completas\n",
            "    df['Full Weeks Difference'] = df['Difference'] // 7\n",
            "    \n",
            "    return df\n",
            "\n",
            "✅ Passed the Test Case!\n",
            "  Expected: {'data': {'aggregation_checks': {'sum': {'Difference': 89.0, 'Full Weeks Difference': 11.0}, 'total_rows': {'max': 3, 'min': 3}}, 'columns': ['Event', 'Start Date', 'End Date', 'Difference', 'Full Weeks Difference'], 'dtypes': {'Difference': 'int64', 'End Date': 'datetime64[ns]', 'Event': 'object', 'Full Weeks Difference': 'int64', 'Start Date': 'datetime64[ns]'}, 'sample_rows': [{'expected_values': {'Full Weeks Difference': 5}, 'filter': {'Event': 'Event A'}}]}, 'type': 'dataframe', 'validation_rules': {'round_decimals': 1, 'row_match_threshold': 0.01, 'tolerance': 3}}\n",
            "  Delivered: {'aggregation_summary': {'sums': {'Difference': 89.0, 'Full Weeks Difference': 11.0}, 'total_rows': {'max': 3, 'min': 3}}, 'column_analysis': {'expected_columns': ['Event', 'Start Date', 'End Date', 'Difference', 'Full Weeks Difference'], 'missing_columns': [], 'possible_matches': {}, 'provided_columns': ['Event', 'Start Date', 'End Date', 'Difference', 'Full Weeks Difference'], 'unexpected_columns': []}, 'verified_samples': [{'expected_values': {'Full Weeks Difference': 5}, 'filter': {'Event': 'Event A'}}]}\n"
          ]
        }
      ],
      "source": [
        "validate(prompt88, \"A8-E8\")"
      ]
    },
    {
      "cell_type": "code",
      "execution_count": null,
      "metadata": {
        "id": "IoFYhlp1Jnwf"
      },
      "outputs": [],
      "source": []
    },
    {
      "cell_type": "markdown",
      "metadata": {
        "id": "9cTqrAw0IXaY"
      },
      "source": [
        "### Exercício de Reflexão (Facultativo)\n",
        "#### Você aprendeu alguma coisa que pode ser reaproveitado em outros problemas?\n",
        "#### Como você pode melhorar seu processo de elaboração de requisitos / prompts?\n",
        "#### Você notou ambiguidade na sua especificação inicial?"
      ]
    },
    {
      "cell_type": "code",
      "execution_count": 24,
      "metadata": {
        "id": "Y9yjEmHV2nKi"
      },
      "outputs": [],
      "source": [
        "resposta=\"\"\"1. Reaproveitamento de Soluções\n",
        "Padrões recorrentes identificados:\n",
        "Manipulação de datas (ex: pandas para cálculos temporais, datetime para conversões) pode ser aplicada em problemas de análise temporal, relatórios, ou cálculos de SLA.\n",
        "Expressões regulares (regex) para validação/extrasão de padrões (como números de telefone, CPF, e-mails) são úteis em limpeza de dados e pré-processamento.\n",
        "Transformação de DataFrames (ex: adicionar colunas calculadas, filtragem) é essencial em pipelines de ETL e análise exploratória.\n",
        "Lições transferíveis:\n",
        "Entender a diferença entre strings e tipos temporais (datetime) evita erros em operações matemáticas com datas.\n",
        "Uso de operações vetorizadas no pandas (em vez de loops) melhora eficiência em grandes volumes de dados.\n",
        "2. Melhoria no Processo de Elaboração de Requisitos\n",
        "Estratégias para prompts mais claros:\n",
        "Explicitar regras de validação:\n",
        "Em problemas com regex, definir todos os critérios (ex: \"números de telefone podem ter parênteses opcionais, mas devem ter 9 dígitos após o DDD\").\n",
        "Fornecer casos de teste críticos:\n",
        "Incluir exemplos que cobrem edge cases (ex: datas de fim de mês, anos bissextos).\n",
        "Documentar formatos de entrada/saída:\n",
        "Especificar se datas devem ser strings (\"YYYY-MM-DD\") ou objetos temporais.\n",
        "Técnicas de refinamento:\n",
        "Desmembrar problemas complexos em subtarefas (ex: \"1. Converter datas → 2. Calcular diferenças → 3. Filtrar resultados\").\n",
        "Usar diagramas ou pseudocódigo para validar a lógica antes da implementação.\n",
        "3. Ambiguidades Identificadas\n",
        "Casos com múltiplas interpretações:\n",
        "Exemplo 1: \"Número de semanas completas\" pode ser interpretado como:\n",
        "Semanas de 7 dias corridos (ex: 12 dias = 1 semana completa).\n",
        "Semanas considerando dias úteis (ex: descontar finais de semana).\n",
        "Solução: Definir claramente a regra (ex: \"semanas corridas, usando divisão inteira por 7\").\n",
        "Exemplo 2: \"Último dia útil do mês\" pode variar por feriados locais.\n",
        "Solução: Especificar se deve considerar apenas finais de semana ou incluir feriados.\n",
        "Impacto das ambiguidades:\n",
        "Gera retrabalho para ajustar soluções já implementadas.\n",
        "Dificulta a validação de resultados esperados.\n",
        "4. Plano de Ação para Futuros Projetos\n",
        "Checklist de requisitos:\n",
        "Definir formatos exatos de entrada/saída.\n",
        "Listar todas as regras de validação.\n",
        "Incluir exemplos que cubram casos extremos.\n",
        "Validação iterativa:\n",
        "Testar cada etapa da solução com dados reais antes da implementação final.\n",
        "Documentação compartilhada:\n",
        "Criar um dicionário de dados com descrições técnicas (ex: \"Coluna Full Weeks Difference: inteiro representando semanas completas de 7 dias\").\"\"\""
      ]
    },
    {
      "cell_type": "code",
      "execution_count": 25,
      "metadata": {
        "id": "yLXjtjQaK6V1",
        "outputId": "fec81414-ae6c-40e1-a230-c74462f3a04d",
        "colab": {
          "base_uri": "https://localhost:8080/"
        }
      },
      "outputs": [
        {
          "output_type": "stream",
          "name": "stdout",
          "text": [
            "Chatgpt graded your answer as: True\n",
            "Chatgpt feedback was: The reflection demonstrates a strong depth of understanding and introduces specific concepts related to data manipulation, prompt crafting, and the importance of clarity in requirements. The student connects their ideas well by illustrating recurrent patterns and ambiguity issues, while also offering actionable strategies for future projects. Personal insights about the impact of ambiguity on workload and the importance of iterative validation add originality to this reflection, distinguishing it from previous submissions. Overall, this reflection meets quality standards and offers sufficient originality.\n"
          ]
        }
      ],
      "source": [
        "validate(resposta, \"A8-R1\")"
      ]
    }
  ],
  "metadata": {
    "celltoolbar": "Create Assignment",
    "colab": {
      "provenance": [],
      "include_colab_link": true
    },
    "kernelspec": {
      "display_name": "Python 3",
      "language": "python",
      "name": "python3"
    },
    "language_info": {
      "codemirror_mode": {
        "name": "ipython",
        "version": 3
      },
      "file_extension": ".py",
      "mimetype": "text/x-python",
      "name": "python",
      "nbconvert_exporter": "python",
      "pygments_lexer": "ipython3",
      "version": "3.8.3"
    },
    "name": "_merged",
    "varInspector": {
      "cols": {
        "lenName": 16,
        "lenType": 16,
        "lenVar": 40
      },
      "kernels_config": {
        "python": {
          "delete_cmd_postfix": "",
          "delete_cmd_prefix": "del ",
          "library": "var_list.py",
          "varRefreshCmd": "print(var_dic_list())"
        },
        "r": {
          "delete_cmd_postfix": ") ",
          "delete_cmd_prefix": "rm(",
          "library": "var_list.r",
          "varRefreshCmd": "cat(var_dic_list()) "
        }
      },
      "types_to_exclude": [
        "module",
        "function",
        "builtin_function_or_method",
        "instance",
        "_Feature"
      ],
      "window_display": false
    }
  },
  "nbformat": 4,
  "nbformat_minor": 0
}