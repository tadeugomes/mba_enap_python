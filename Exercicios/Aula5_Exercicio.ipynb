{
  "cells": [
    {
      "cell_type": "markdown",
      "metadata": {
        "id": "view-in-github",
        "colab_type": "text"
      },
      "source": [
        "<a href=\"https://colab.research.google.com/github/tadeugomes/mba_enap_python/blob/main/Exercicios/Aula5_Exercicio.ipynb\" target=\"_parent\"><img src=\"https://colab.research.google.com/assets/colab-badge.svg\" alt=\"Open In Colab\"/></a>"
      ]
    },
    {
      "cell_type": "markdown",
      "metadata": {
        "id": "1yj3DBgX2Zro"
      },
      "source": [
        "# Aula 5 - Exercícios - Python e Pandas"
      ]
    },
    {
      "cell_type": "markdown",
      "source": [
        "### Documentação do Autograder [Link](https://github.com/alexlopespereira/mba_enap/blob/main/Exercicios/Autograder.ipynb)\n",
        "\n",
        "\n",
        "*   Link para o gabarito das questões\n",
        "*   Imports padrão\n",
        "*   Instalação\n",
        "*   Autenticaçao para nota\n",
        "*   Validação\n",
        "\n",
        "\n"
      ],
      "metadata": {
        "id": "isqhNh0K2rW7"
      }
    },
    {
      "cell_type": "code",
      "execution_count": 1,
      "metadata": {
        "id": "RkNwKAd8kJz5"
      },
      "outputs": [],
      "source": [
        "!pip install --upgrade ipynb_autograde 1> /dev/null"
      ]
    },
    {
      "cell_type": "code",
      "source": [
        "%env  COURSE=mba_enap\n",
        "from ipynb_autograde.main import init_log, validate\n",
        "init_log()\n",
        "email_result=!gcloud config get-value account\n",
        "if not email_result or 'unset' in email_result[0]:\n",
        "  !gcloud auth login"
      ],
      "metadata": {
        "id": "WxBHNGxie9BB",
        "outputId": "1792aecd-a69f-4c9f-f59a-f73f396db1fb",
        "colab": {
          "base_uri": "https://localhost:8080/"
        }
      },
      "execution_count": 2,
      "outputs": [
        {
          "output_type": "stream",
          "name": "stdout",
          "text": [
            "env: COURSE=mba_enap\n",
            "Go to the following link in your browser, and complete the sign-in prompts:\n",
            "\n",
            "    https://accounts.google.com/o/oauth2/auth?response_type=code&client_id=32555940559.apps.googleusercontent.com&redirect_uri=https%3A%2F%2Fsdk.cloud.google.com%2Fauthcode.html&scope=openid+https%3A%2F%2Fwww.googleapis.com%2Fauth%2Fuserinfo.email+https%3A%2F%2Fwww.googleapis.com%2Fauth%2Fcloud-platform+https%3A%2F%2Fwww.googleapis.com%2Fauth%2Fappengine.admin+https%3A%2F%2Fwww.googleapis.com%2Fauth%2Fsqlservice.login+https%3A%2F%2Fwww.googleapis.com%2Fauth%2Fcompute+https%3A%2F%2Fwww.googleapis.com%2Fauth%2Faccounts.reauth&state=0A1FpR0ThVRk3Dn4WJRNFNuNw1bEPw&prompt=consent&token_usage=remote&access_type=offline&code_challenge=PjD9Q6_Xu1oQis93ye4WI7dh_YdSHNBFV8wosGxIA0w&code_challenge_method=S256\n",
            "\n",
            "Once finished, enter the verification code provided in your browser: 4/0ASVgi3IDWkIf00pSzY20mFbMMUPUnaLP02IDnA5vV9k0yK1P2APY7vlUCNBCqwgE1jXU-Q\n",
            "\n",
            "You are now logged in as [tagote@gmail.com].\n",
            "Your current project is [None].  You can change this setting by running:\n",
            "  $ gcloud config set project PROJECT_ID\n"
          ]
        }
      ]
    },
    {
      "cell_type": "markdown",
      "metadata": {
        "id": "PyHsXDkl2Zrt"
      },
      "source": [
        "### Onde buscar informações sobre as funções do Pandas\n",
        "[https://pandas.pydata.org/docs/](https://pandas.pydata.org/docs/)"
      ]
    },
    {
      "cell_type": "code",
      "execution_count": 3,
      "metadata": {
        "id": "UrgGFCON2Zrx"
      },
      "outputs": [],
      "source": [
        "# Importe as bibliotecas pandas e numpy\n",
        "import pandas as pd\n",
        "import numpy as np"
      ]
    },
    {
      "cell_type": "markdown",
      "metadata": {
        "id": "Dd-Z8w_b2Zr2"
      },
      "source": [
        "### 5.1 Resolva o problema abaixo com uma função python que utilize umá serie do pandas:\n",
        "#### **Dica**: operação de conjuntos\n",
        "#### Entradas : ```[1, 2, 3, 4, 5, 6, 7, 8]``` e ```[2, 4, 6, 8, 10, 12]```\n",
        "#### Resultado Esperado: ```[1, 3, 5, 7]```\n",
        "\n"
      ]
    },
    {
      "cell_type": "code",
      "execution_count": null,
      "metadata": {
        "id": "SY1JbkBw2Zr7"
      },
      "outputs": [],
      "source": []
    },
    {
      "cell_type": "code",
      "source": [
        "prompt51=\"\"\"import pandas as pd\n",
        "\n",
        "def find_unique_elements(list1, list2):\n",
        "\n",
        "    series1 = pd.Series(list1)\n",
        "    series2 = pd.Series(list2)\n",
        "\n",
        "    # Utilizando a operação de diferença entre conjuntos\n",
        "    unique_elements = series1[~series1.isin(series2)].tolist()\n",
        "    return unique_elements\n",
        "\n",
        "# Exemplo de uso\n",
        "list1 = [1, 2, 3, 4, 5, 6, 7, 8]\n",
        "list2 = [2, 4, 6, 8, 10, 12]\n",
        "resultado = find_unique_elements(list1, list2)\n",
        "print(resultado)\n",
        "\"\"\""
      ],
      "metadata": {
        "id": "hKnrplpdzjOZ"
      },
      "execution_count": 5,
      "outputs": []
    },
    {
      "cell_type": "code",
      "source": [
        "validate(prompt51, \"A5-E1\")"
      ],
      "metadata": {
        "id": "w3IryUHOzjOa",
        "outputId": "ab10a4ab-54de-4335-a001-753df997f8b7",
        "colab": {
          "base_uri": "https://localhost:8080/"
        }
      },
      "execution_count": 6,
      "outputs": [
        {
          "output_type": "stream",
          "name": "stdout",
          "text": [
            "Codigo gerado: \n",
            "def find_unique_elements(list1, list2):\n",
            "    series1 = pd.Series(list1)\n",
            "    series2 = pd.Series(list2)\n",
            "\n",
            "    unique_elements = series1[~series1.isin(series2)].tolist()\n",
            "    return unique_elements\n",
            "\n",
            "✅ Passed the Test Case!\n",
            "  Expected: [1, 3, 5, 7]\n",
            "  Delivered: [1, 3, 5, 7]\n"
          ]
        }
      ]
    },
    {
      "cell_type": "code",
      "execution_count": null,
      "metadata": {
        "nbgrader": {
          "grade": true,
          "grade_id": "cell-9ffda88d58e9282a",
          "locked": true,
          "points": 1,
          "schema_version": 3,
          "solution": false,
          "task": false
        },
        "id": "u6Fapr1K2Zr8"
      },
      "outputs": [],
      "source": []
    },
    {
      "cell_type": "markdown",
      "metadata": {
        "id": "H69F5ikL2Zr-"
      },
      "source": [
        "### 5.2 Resolva o problema abaixo com uma função python que utilize umá serie do pandas:\n",
        "#### **Dica**: operação de conjuntos\n",
        "#### Entrada: ```[1, 2, 3, 4, 5, 6, 7, 8]``` e ```[2, 4, 6, 8, 10, 12]```\n",
        "#### Resultado Esperado: ```[1, 3, 5, 7,10,12]```\n"
      ]
    },
    {
      "cell_type": "code",
      "source": [
        "prompt52=\"\"\"import pandas as pd\n",
        "\n",
        "def symmetric_difference(series1, series2):\n",
        "\n",
        "    set1 = set(series1)\n",
        "    set2 = set(series2)\n",
        "    result = set1.symmetric_difference(set2)\n",
        "    return sorted(result)\n",
        "\n",
        "# Exemplo de uso\n",
        "s1 = pd.Series([1, 2, 3, 4, 5, 6, 7, 8])\n",
        "s2 = pd.Series([2, 4, 6, 8, 10, 12])\n",
        "\n",
        "resultado = symmetric_difference(s1, s2)\n",
        "print(resultado)\n",
        "\"\"\""
      ],
      "metadata": {
        "id": "L7sc2Blgk3Yk"
      },
      "execution_count": 9,
      "outputs": []
    },
    {
      "cell_type": "code",
      "source": [
        "validate(prompt52, \"A5-E2\")"
      ],
      "metadata": {
        "id": "4XWCu4Pnk3Oy",
        "outputId": "803cd9dc-6f8b-4631-be0b-aaa0d46e1bb7",
        "colab": {
          "base_uri": "https://localhost:8080/"
        }
      },
      "execution_count": 10,
      "outputs": [
        {
          "output_type": "stream",
          "name": "stdout",
          "text": [
            "Codigo gerado: \n",
            "def symmetric_difference(series1, series2):\n",
            "    set1 = set(series1)\n",
            "    set2 = set(series2)\n",
            "    result = set1.symmetric_difference(set2)\n",
            "    return sorted(result)\n",
            "\n",
            "✅ Passed the Test Case!\n",
            "  Expected: [1, 3, 5, 7, 10, 12]\n",
            "  Delivered: [1, 3, 5, 7, 10, 12]\n"
          ]
        }
      ]
    },
    {
      "cell_type": "markdown",
      "source": [
        "### Instruções para Questões 5.3 a 5.5\n",
        "#### Considere que todos os dataframes de entrada e de saída estão no seguinte formato (o conteúdo varia de acordo com o exercício):\n",
        "```\n",
        "[{\"name\": \"Anastasia\", \"score\": 12.5, \"attempts\": 1, \"qualify\": \"yes\"},\n",
        "{\"name\": \"Dima\", \"score\": 9.0, \"attempts\": 3, \"qualify\": \"no\"},\n",
        "{\"name\": \"Katherine\", \"score\": 16.5, \"attempts\": 2, \"qualify\": \"yes\"},\n",
        "{\"name\": \"James\", \"score\": \"\", \"attempts\": 3, \"qualify\": \"no\"}]\n",
        "```\n",
        "\n",
        "#### Obs.: As entradas e saídas serão dicionários porque um json não consegue armazenar um Dataframe. Mas o json pode armazenar um dicionário com os mesmos dados."
      ],
      "metadata": {
        "id": "0EBIqgRVsy-W"
      }
    },
    {
      "cell_type": "markdown",
      "metadata": {
        "id": "d23-lIOX2ZsG"
      },
      "source": [
        "### 5.3 Escreva um prompt de uma função para transformar o dataframe gerado a partir da entrada no dataframe especificado pela saída e retornar o resultado no formato de um dicionário.\n",
        "\n",
        "#### **Dica**: filtrar um dataframe\n",
        "\n",
        "#### Entrada:\n",
        "1o argumento da função\n",
        "```\n",
        "[\n",
        "  {\"name\": \"Anastasia\", \"score\": 12.5, \"attempts\": 1, \"qualify\": \"yes\"},\n",
        "  {\"name\": \"Dima\", \"score\": 9.0, \"attempts\": 3, \"qualify\": \"no\"},  \n",
        "  {\"name\": \"Katherine\", \"score\": 16.5, \"attempts\": 2, \"qualify\": \"yes\"},\n",
        "  {\"name\": \"James\", \"score\": \"\", \"attempts\": 3, \"qualify\": \"no\"},  \n",
        "  {\"name\": \"Emily\", \"score\": 9.0, \"attempts\": 2, \"qualify\": \"no\"},\n",
        "  {\"name\": \"Michael\", \"score\": 20.0, \"attempts\": 3, \"qualify\": \"yes\"},\n",
        "  {\"name\": \"Matthew\", \"score\": 14.5, \"attempts\": 1, \"qualify\": \"yes\"},\n",
        "  {\"name\": \"Laura\", \"attempts\": 1, \"qualify\": \"no\"}]\n",
        "```\n",
        "A entrada é somente o dicionário acima. A tabela abaixo é só para facilitar a visualização.\n",
        "\n",
        "| name      |   score |   attempts | qualify   |\n",
        "|:----------|--------:|-----------:|:----------|\n",
        "| Anastasia |    12.5 |          1 | yes       |\n",
        "| Dima      |     9   |          3 | no        |\n",
        "| Katherine |    16.5 |          2 | yes       |\n",
        "| James     |         |          3 | no        |\n",
        "| Emily     |     9   |          2 | no        |\n",
        "| Michael   |    20   |          3 | yes       |\n",
        "| Matthew   |    14.5 |          1 | yes       |\n",
        "| Laura     |         |          1 | no        |\n",
        "\n",
        "E o 2o argumento da função ```'score'```\n",
        "\n",
        "#### Resultado esperado:\n",
        "```\n",
        "[\n",
        "{\"name\": \"James\", \"attempts\": 3, \"qualify\": \"no\"},\n",
        "{\"name\": \"Laura\", \"attempts\": 1, \"qualify\": \"no\"}\n",
        "]\n",
        "```\n",
        "\n",
        "| name   | attempts | qualify   |\n",
        "|:-------|---------:|:----------|\n",
        "| James  |        3 | no        |\n",
        "| Laura  |        1 | no        |"
      ]
    },
    {
      "cell_type": "code",
      "source": [
        "prompt53=\"\"\"import pandas as pd\n",
        "import numpy as np\n",
        "\n",
        "def filter_dataframe(data, column):\n",
        "\n",
        "    # Converter a lista de dicionários em um DataFrame\n",
        "    df = pd.DataFrame(data)\n",
        "\n",
        "    # Substituir strings vazias por valores nulos (NaN)\n",
        "    df[column] = df[column].replace(\"\", np.nan)\n",
        "\n",
        "    # Filtrar as linhas onde a coluna especificada está vazia (NaN)\n",
        "    filtered_df = df[df[column].isnull()]\n",
        "\n",
        "    # Selecionar apenas as colunas relevantes para o resultado\n",
        "    filtered_df = filtered_df.drop(columns=[column])\n",
        "\n",
        "    # Retornar o resultado como uma lista de dicionários\n",
        "    return filtered_df.to_dict(orient='records')\"\"\""
      ],
      "metadata": {
        "id": "Q3zf5kREI4Ro"
      },
      "execution_count": 14,
      "outputs": []
    },
    {
      "cell_type": "code",
      "source": [
        "validate(prompt53, \"A5-E3\")"
      ],
      "metadata": {
        "id": "q7AZhcFSJcCL",
        "outputId": "de48c287-3b0f-4c56-d25e-f932f3bdcd9c",
        "colab": {
          "base_uri": "https://localhost:8080/"
        }
      },
      "execution_count": 15,
      "outputs": [
        {
          "output_type": "stream",
          "name": "stdout",
          "text": [
            "Codigo gerado: \n",
            "def filter_dataframe(data, column):\n",
            "    # Converter a lista de dicionários em um DataFrame\n",
            "    df = pd.DataFrame(data)\n",
            "    \n",
            "    # Substituir strings vazias por valores nulos (NaN)\n",
            "    df[column] = df[column].replace(\"\", np.nan)\n",
            "    \n",
            "    # Filtrar as linhas onde a coluna especificada está vazia (NaN)\n",
            "    filtered_df = df[df[column].isnull()]\n",
            "    \n",
            "    # Selecionar apenas as colunas relevantes para o resultado\n",
            "    filtered_df = filtered_df.drop(columns=[column])\n",
            "    \n",
            "    # Retornar o resultado como uma lista de dicionários\n",
            "    return filtered_df.to_dict(orient='records')\n",
            "\n",
            "✅ Passed the Test Case!\n",
            "  Expected: [{'attempts': 3, 'name': 'James', 'qualify': 'no'}, {'attempts': 1, 'name': 'Laura', 'qualify': 'no'}]\n",
            "  Delivered: [{'attempts': 3, 'name': 'James', 'qualify': 'no'}, {'attempts': 1, 'name': 'Laura', 'qualify': 'no'}]\n"
          ]
        }
      ]
    },
    {
      "cell_type": "markdown",
      "metadata": {
        "id": "LbBwg39A2ZsJ"
      },
      "source": [
        "### 5.4 Escreva um prompt de uma função para transformar o dataframe gerado a partir da entrada no dataframe especificado pela saída e retornar o resultado no formato de um dicionário.\n",
        "#### Entrada:\n",
        "1o argumento da função\n",
        "\n",
        "```\n",
        "[\n",
        "{\"name\": \"Jose\", \"score\": 12.5, \"qualify\": \"yes\"},\n",
        "{\"name\": \"Maria\", \"score\": 9.0, \"qualify\": \"no\"},\n",
        "{\"name\": \"Joao\", \"score\": 16.5, \"qualify\": \"yes\"},\n",
        "{\"name\": \"Pedro\", \"score\": 13, \"qualify\": \"no\"}\n",
        "]\n",
        "```\n",
        "\n",
        "A entrada está apresentadas acima. A tabela abaixo é só para facilitar a visualização.\n",
        "\n",
        "\n",
        "| name      |   score | qualify   |\n",
        "|:----------|--------:|:----------|\n",
        "| Jose |    12.5 | yes       |\n",
        "| Maria      |     9   | no        |\n",
        "| Joao |    16.5 | yes       |\n",
        "| Pedro     |   13   | no        |\n",
        "\n",
        "2o, 3o e 4o argumentos da função:\n",
        "```'name'```, ```'Pedro'``` e ```'Rafael'```\n",
        "\n",
        "#### Resultado Esperado:\n",
        "```\n",
        "[\n",
        "{\"name\": \"Jose\", \"score\": 12.5, \"qualify\": \"yes\"},\n",
        "{\"name\": \"Maria\", \"score\": 9.0, \"qualify\": \"no\"},\n",
        "{\"name\": \"Joao\", \"score\": 16.5, \"qualify\": \"yes\"},\n",
        "{\"name\": \"Rafael\", \"score\": 13.0, \"qualify\": \"no\"}\n",
        "]\n",
        "```\n",
        "\n",
        "A tabela abaixo é só para facilitar a visualização.\n",
        "\n",
        "| name      |   score | qualify   |\n",
        "|:----------|--------:|:----------|\n",
        "| Jose |    12.5 | yes       |\n",
        "| Maria      |     9   | no        |\n",
        "| Joao |    16.5 | yes       |\n",
        "| Rafael    |   13   | no        |\n",
        "\n"
      ]
    },
    {
      "cell_type": "code",
      "execution_count": 16,
      "metadata": {
        "nbgrader": {
          "grade": false,
          "grade_id": "cell-553f5248eb14bc30",
          "locked": false,
          "schema_version": 3,
          "solution": true,
          "task": false
        },
        "id": "71oehRsR2ZsJ"
      },
      "outputs": [],
      "source": [
        "prompt54=\"\"\"def transform_dataframe(data, key, old_value, new_value):\n",
        "\n",
        "    # Iterar sobre os registros na lista\n",
        "    for record in data:\n",
        "        # Verificar se o valor da chave corresponde ao valor antigo\n",
        "        if record.get(key) == old_value:\n",
        "            # Alterar o valor para o novo valor\n",
        "            record[key] = new_value\n",
        "    return data\"\"\""
      ]
    },
    {
      "cell_type": "code",
      "execution_count": 17,
      "metadata": {
        "id": "8pQRahX_2ZsK",
        "outputId": "4560931f-2af7-424a-97d9-fc5af6c39e75",
        "colab": {
          "base_uri": "https://localhost:8080/"
        }
      },
      "outputs": [
        {
          "output_type": "stream",
          "name": "stdout",
          "text": [
            "Codigo gerado: \n",
            "def transform_dataframe(data, key, old_value, new_value):\n",
            "    for record in data:\n",
            "        if record.get(key) == old_value:\n",
            "            record[key] = new_value\n",
            "    return data\n",
            "\n",
            "✅ Passed the Test Case!\n",
            "  Expected: [{'name': 'Jose', 'qualify': 'yes', 'score': 12.5}, {'name': 'Maria', 'qualify': 'no', 'score': 9.0}, {'name': 'Joao', 'qualify': 'yes', 'score': 16.5}, {'name': 'Rafael', 'qualify': 'no', 'score': 13.0}]\n",
            "  Delivered: [{'name': 'Jose', 'qualify': 'yes', 'score': 12.5}, {'name': 'Maria', 'qualify': 'no', 'score': 9.0}, {'name': 'Joao', 'qualify': 'yes', 'score': 16.5}, {'name': 'Rafael', 'qualify': 'no', 'score': 13}]\n"
          ]
        }
      ],
      "source": [
        "validate(prompt54, \"A5-E4\")"
      ]
    },
    {
      "cell_type": "code",
      "execution_count": null,
      "metadata": {
        "nbgrader": {
          "grade": true,
          "grade_id": "cell-0e2b65cefe06bdc60",
          "locked": true,
          "points": 1,
          "schema_version": 3,
          "solution": false,
          "task": false
        },
        "id": "npxq-hhK2ZsL"
      },
      "outputs": [],
      "source": []
    },
    {
      "cell_type": "markdown",
      "metadata": {
        "id": "lqTUETV7pJ-e"
      },
      "source": [
        "### 5.5 Escreva um prompt de uma função para transformar o dataframe gerado a partir da entrada no dataframe especificado pela saída e retornar o resultado no formato de um dicionário.\n",
        "\n",
        "#### Entrada:\n",
        "```\n",
        "[\n",
        "{\"name\": \"Jose\", \"score\": 12.5, \"qualify\": \"yes\"},\n",
        "{\"name\": \"Maria\", \"score\": 9.0, \"qualify\": \"no\"},\n",
        "{\"name\": \"Joao\", \"score\": 16.5, \"qualify\": \"yes\"}\n",
        "]\n",
        "```\n",
        "A entrada está apresentadas acima. A tabela abaixo é só para facilitar a visualização.\n",
        "\n",
        "| name      |   score | qualify   |\n",
        "|:----------|--------:|:----------|\n",
        "| Jose |    12.5 | yes       |\n",
        "| Maria      |     9   | no        |\n",
        "| Joao |    16.5 | yes       |\n",
        "\n",
        "#### Resultado Esperado:\n",
        "```\n",
        "[\n",
        "{\"name\": \"Jose\", \"score\": 12.5, \"qualify\": 1},\n",
        "{\"name\": \"Maria\", \"score\": 9.0, \"qualify\": 0},\n",
        "{\"name\": \"Joao\", \"score\": 16.5, \"qualify\": 1}\n",
        "]\n",
        "```\n",
        "\n",
        "A tabela abaixo é só para facilitar a visualização.\n",
        "\n",
        "| name      |   score | qualify   |\n",
        "|:----------|--------:|:----------|\n",
        "| Jose |    12.5 | 1      |\n",
        "| Maria      |     9   | 0     |\n",
        "| Joao |    16.5 | 1      |\n"
      ]
    },
    {
      "cell_type": "code",
      "source": [
        "prompt55=\"\"\"def transform_qualify_column(data):\n",
        "\n",
        "    # Iterar sobre cada registro na lista e transformar o valor da chave 'qualify'\n",
        "    for record in data:\n",
        "        if record['qualify'] == \"yes\":\n",
        "            record['qualify'] = 1\n",
        "        elif record['qualify'] == \"no\":\n",
        "            record['qualify'] = 0\n",
        "    return data\"\"\""
      ],
      "metadata": {
        "id": "givgbsXfpgwu"
      },
      "execution_count": 18,
      "outputs": []
    },
    {
      "cell_type": "code",
      "source": [
        "validate(prompt55, \"A5-E5\")"
      ],
      "metadata": {
        "id": "fpVq_fWrq_Nw",
        "outputId": "316adc59-1709-49ae-f750-b6e032367b75",
        "colab": {
          "base_uri": "https://localhost:8080/"
        }
      },
      "execution_count": 19,
      "outputs": [
        {
          "output_type": "stream",
          "name": "stdout",
          "text": [
            "Codigo gerado: \n",
            "def transform_qualify_column(data):\n",
            "    for record in data:\n",
            "        if record['qualify'] == \"yes\":\n",
            "            record['qualify'] = 1\n",
            "        elif record['qualify'] == \"no\":\n",
            "            record['qualify'] = 0\n",
            "    return data\n",
            "\n",
            "✅ Passed the Test Case!\n",
            "  Expected: [{'name': 'Jose', 'qualify': 1, 'score': 12.5}, {'name': 'Maria', 'qualify': 0, 'score': 9.0}, {'name': 'Joao', 'qualify': 1, 'score': 16.5}]\n",
            "  Delivered: [{'name': 'Jose', 'qualify': 1, 'score': 12.5}, {'name': 'Maria', 'qualify': 0, 'score': 9.0}, {'name': 'Joao', 'qualify': 1, 'score': 16.5}]\n"
          ]
        }
      ]
    },
    {
      "cell_type": "code",
      "source": [],
      "metadata": {
        "id": "NdAlmTWSrlDf"
      },
      "execution_count": null,
      "outputs": []
    },
    {
      "cell_type": "markdown",
      "source": [
        "### 5.6 Resolva o problema abaixo com uma função python que utilize umá serie do pandas\n",
        "\n",
        "#### **Dica**: Ordenação do dataframe\n",
        "\n",
        "#### Entrada:\n",
        "```https://raw.githubusercontent.com/mwaskom/seaborn-data/master/diamonds.csv```, ```price``` e ```3```\n",
        "\n",
        "### Resultado esperado:\n",
        "\n",
        "Um dicionário com os seguintes dados\n",
        "\n",
        "|       |   carat | cut       | color   | clarity   |   depth |   table |   price |    x |    y |    z |\n",
        "|------:|--------:|:----------|:--------|:----------|--------:|--------:|--------:|-----:|-----:|-----:|\n",
        "| 27749 |    2.29 | Premium   | I       | VS2       |    60.8 |      60 |   18823 | 8.5  | 8.47 | 5.16 |\n",
        "| 27748 |    2    | Very Good | G       | SI1       |    63.5 |      56 |   18818 | 7.9  | 7.97 | 5.04 |\n",
        "| 27747 |    1.51 | Ideal     | G       | IF        |    61.7 |      55 |   18806 | 7.37 | 7.41 | 4.56 |"
      ],
      "metadata": {
        "id": "xRy736hZwLzq"
      }
    },
    {
      "cell_type": "code",
      "source": [
        "prompt56=\"\"\"import pandas as pd\n",
        "\n",
        "def top_n_diamonds(url, column, n):\n",
        "\n",
        "    # Carregar o dataset\n",
        "    df = pd.read_csv(url)\n",
        "\n",
        "    # Ordenar pela coluna especificada em ordem decrescente\n",
        "    sorted_df = df.sort_values(by=column, ascending=False)\n",
        "\n",
        "    # Selecionar os primeiros n registros\n",
        "    top_n = sorted_df.head(n)\n",
        "\n",
        "    # Converter para dicionário\n",
        "    return top_n.to_dict(orient='records')\"\"\""
      ],
      "metadata": {
        "id": "ctspmTJmweGz"
      },
      "execution_count": 20,
      "outputs": []
    },
    {
      "cell_type": "code",
      "source": [
        "validate(prompt56, \"A5-E6\")"
      ],
      "metadata": {
        "id": "l-Tt7xEKwfqz",
        "outputId": "d0b94703-b8a0-4565-8b0c-bcdc62fad095",
        "colab": {
          "base_uri": "https://localhost:8080/"
        }
      },
      "execution_count": 21,
      "outputs": [
        {
          "output_type": "stream",
          "name": "stdout",
          "text": [
            "Codigo gerado: \n",
            "def top_n_diamonds(url, column, n):\n",
            "    df = pd.read_csv(url)\n",
            "    sorted_df = df.sort_values(by=column, ascending=False)\n",
            "    top_n = sorted_df.head(n)\n",
            "    return top_n.to_dict(orient='records')\n",
            "\n",
            "✅ Passed the Test Case!\n",
            "  Expected: [{'carat': 2.29, 'clarity': 'VS2', 'color': 'I', 'cut': 'Premium', 'depth': 60.8, 'price': 18823, 'table': 60.0, 'x': 8.5, 'y': 8.47, 'z': 5.16}, {'carat': 2.0, 'clarity': 'SI1', 'color': 'G', 'cut': 'Very Good', 'depth': 63.5, 'price': 18818, 'table': 56.0, 'x': 7.9, 'y': 7.97, 'z': 5.04}, {'carat': 1.51, 'clarity': 'IF', 'color': 'G', 'cut': 'Ideal', 'depth': 61.7, 'price': 18806, 'table': 55.0, 'x': 7.37, 'y': 7.41, 'z': 4.56}]\n",
            "  Delivered: [{'carat': 2.29, 'clarity': 'VS2', 'color': 'I', 'cut': 'Premium', 'depth': 60.8, 'price': 18823, 'table': 60.0, 'x': 8.5, 'y': 8.47, 'z': 5.16}, {'carat': 2.0, 'clarity': 'SI1', 'color': 'G', 'cut': 'Very Good', 'depth': 63.5, 'price': 18818, 'table': 56.0, 'x': 7.9, 'y': 7.97, 'z': 5.04}, {'carat': 1.51, 'clarity': 'IF', 'color': 'G', 'cut': 'Ideal', 'depth': 61.7, 'price': 18806, 'table': 55.0, 'x': 7.37, 'y': 7.41, 'z': 4.56}]\n"
          ]
        }
      ]
    },
    {
      "cell_type": "markdown",
      "source": [
        "### 5.7 Ainda sobre o dataframe diamonds do exercicio anterior, crie um prompt de uma função para retornar os diamentes que têm as três dimensões maiores do que um dado valor.\n",
        "\n",
        "#### Entrada:\n",
        "```https://raw.githubusercontent.com/mwaskom/seaborn-data/master/diamonds.csv```, ```x```, ```y```, ```z``` e ```7```\n",
        "\n",
        "#### Resultado esperado:\n",
        "\n",
        "Um dicionário com os seguintes dados\n",
        "\n",
        "|   carat | cut     | color   | clarity   |   depth |   table |   price |    x |    y |    z |\n",
        "|--------:|:--------|:--------|:----------|--------:|--------:|--------:|-----:|-----:|-----:|\n",
        "|       2 | Premium | H       | SI2       |    58.9 |      57 |   12210 | 8.09 | 58.9 | 8.06 |\n"
      ],
      "metadata": {
        "id": "xMpQHOu20f3I"
      }
    },
    {
      "cell_type": "code",
      "source": [
        "prompt57=\"\"\"import pandas as pd\n",
        "\n",
        "def filter_diamonds_by_dimensions(url, x_col, y_col, z_col, threshold):\n",
        "\n",
        "    # Carregar o dataset\n",
        "    df = pd.read_csv(url)\n",
        "\n",
        "    # Filtrar os diamantes cujas dimensões x, y e z são maiores que o limite\n",
        "    filtered_df = df[(df[x_col] > threshold) & (df[y_col] > threshold) & (df[z_col] > threshold)]\n",
        "\n",
        "    # Retornar o resultado como um dicionário\n",
        "    return filtered_df.to_dict(orient='records')\"\"\""
      ],
      "metadata": {
        "id": "7qBHo8k1x2z8"
      },
      "execution_count": 22,
      "outputs": []
    },
    {
      "cell_type": "code",
      "source": [
        "validate(prompt57, \"A5-E7\")"
      ],
      "metadata": {
        "id": "hAX9rH9j3c0F",
        "outputId": "1aadfd5a-bd16-45e9-dbc7-44f0e13a07f8",
        "colab": {
          "base_uri": "https://localhost:8080/"
        }
      },
      "execution_count": 23,
      "outputs": [
        {
          "output_type": "stream",
          "name": "stdout",
          "text": [
            "Codigo gerado: \n",
            "def filter_diamonds_by_dimensions(url, x_col, y_col, z_col, threshold):\n",
            "    df = pd.read_csv(url)\n",
            "    filtered_df = df[(df[x_col] > threshold) & (df[y_col] > threshold) & (df[z_col] > threshold)]\n",
            "    return filtered_df.to_dict(orient='records')\n",
            "\n",
            "✅ Passed the Test Case!\n",
            "  Expected: [{'carat': 2.0, 'clarity': 'SI2', 'color': 'H', 'cut': 'Premium', 'depth': 58.9, 'price': 12210, 'table': 57.0, 'x': 8.09, 'y': 58.9, 'z': 8.06}]\n",
            "  Delivered: [{'carat': 2.0, 'clarity': 'SI2', 'color': 'H', 'cut': 'Premium', 'depth': 58.9, 'price': 12210, 'table': 57.0, 'x': 8.09, 'y': 58.9, 'z': 8.06}]\n"
          ]
        }
      ]
    },
    {
      "cell_type": "markdown",
      "source": [
        "### 5.8 Faça um prompt de uma função que utilize uma função lambda (anônima) para resolver o problema abaixo\n",
        "#### **Dica:** ordenação\n",
        "\n",
        "#### Entrada:\n",
        "```\n",
        "[{'nome': ['Pedro'], 'classe': ['V'], 'disciplina': ['portugues', 'matematica', 'ciencia']},\n",
        "{'nome': ['Jose'], 'classe': ['V'], 'disciplina': ['portugues', 'matematica', 'ciencia']},\n",
        "{'nome': ['Maria'], 'classe': ['V'], 'disciplina': ['portugues', 'matematica', 'ciencia']}]\n",
        "```\n",
        "e\n",
        "```'nome'```\n",
        "\n",
        "#### Resultado esperado:\n",
        "```\n",
        "[{'nome': ['Jose'], 'classe': ['V'], 'disciplina': ['portugues', 'matematica', 'ciencia']},\n",
        "{'nome': ['Maria'], 'classe': ['V'], 'disciplina': ['portugues', 'matematica', 'ciencia']},\n",
        "{'nome': ['Pedro'], 'classe': ['V'], 'disciplina': ['portugues', 'matematica', 'ciencia']}]\n",
        "```\n"
      ],
      "metadata": {
        "id": "_MKCmg-z3baG"
      }
    },
    {
      "cell_type": "code",
      "source": [
        "prompt58 = \"\"\"def sort_records(data, key):\n",
        "\n",
        "    # Ordenar a lista de dicionários usando sorted e uma função lambda\n",
        "    return sorted(data, key=lambda record: record[key][0])\"\"\""
      ],
      "metadata": {
        "id": "fijvzBFA5s7p"
      },
      "execution_count": 24,
      "outputs": []
    },
    {
      "cell_type": "code",
      "source": [
        "validate(prompt58, \"A5-E8\")"
      ],
      "metadata": {
        "id": "NYe3pkMd6DCH",
        "outputId": "4d64955f-2c1b-40b5-8962-b08769c864bc",
        "colab": {
          "base_uri": "https://localhost:8080/"
        }
      },
      "execution_count": 25,
      "outputs": [
        {
          "output_type": "stream",
          "name": "stdout",
          "text": [
            "Codigo gerado: \n",
            "def sort_records(data, key):\n",
            "    return sorted(data, key=lambda record: record[key][0])\n",
            "\n",
            "✅ Passed the Test Case!\n",
            "  Expected: [{'classe': ['V'], 'disciplina': ['portugues', 'matematica', 'ciencia'], 'nome': ['Jose']}, {'classe': ['V'], 'disciplina': ['portugues', 'matematica', 'ciencia'], 'nome': ['Maria']}, {'classe': ['V'], 'disciplina': ['portugues', 'matematica', 'ciencia'], 'nome': ['Pedro']}]\n",
            "  Delivered: [{'classe': ['V'], 'disciplina': ['portugues', 'matematica', 'ciencia'], 'nome': ['Jose']}, {'classe': ['V'], 'disciplina': ['portugues', 'matematica', 'ciencia'], 'nome': ['Maria']}, {'classe': ['V'], 'disciplina': ['portugues', 'matematica', 'ciencia'], 'nome': ['Pedro']}]\n"
          ]
        }
      ]
    },
    {
      "cell_type": "code",
      "source": [],
      "metadata": {
        "id": "elNVOOFj6Hyv"
      },
      "execution_count": null,
      "outputs": []
    },
    {
      "cell_type": "markdown",
      "source": [
        "### 5.9 Faça um prompt de uma função que utilize uma função lambda (anônima) para resolver o problema abaixo\n",
        "#### **Dica:** 2o maior valor\n",
        "#### Entrada:\n",
        "Um dicionário com os seguintes dados\n",
        "\n",
        "|   d1 |   d2 |   d3 |\n",
        "|-----:|-----:|-----:|\n",
        "|   20 |   33 |   19 |\n",
        "|   36 |   25 |   47 |\n",
        "|   25 |   48 |    9 |\n",
        "|    4 |   39 |   27 |\n",
        "\n",
        "\n",
        "\n",
        "#### Resultado esperado: ```[25, 39, 27]```\n"
      ],
      "metadata": {
        "id": "F12tjel66o0a"
      }
    },
    {
      "cell_type": "code",
      "source": [
        "prompt59 = \"\"\"import pandas as pd\n",
        "\n",
        "def segundo_maior_valor_por_coluna(dicionario):\n",
        "    # Converte o dicionário em um DataFrame\n",
        "    df = pd.DataFrame(dicionario)\n",
        "\n",
        "    # Encontra o segundo maior valor em cada coluna\n",
        "    resultado = df.apply(lambda col: col.sort_values(ascending=False).iloc[1])\n",
        "\n",
        "    # Converte o resultado para uma lista\n",
        "    return resultado.tolist()\n",
        "\n",
        "# Exemplo de uso\n",
        "dicionario = {\n",
        "    'd1': [20, 36, 25, 4],\n",
        "    'd2': [33, 25, 48, 39],\n",
        "    'd3': [19, 47, 9, 27]\n",
        "}\n",
        "\n",
        "print(segundo_maior_valor_por_coluna(dicionario))  # Saída esperada: [25, 39, 27]\"\"\""
      ],
      "metadata": {
        "id": "yd0A3cON6o0f"
      },
      "execution_count": 41,
      "outputs": []
    },
    {
      "cell_type": "code",
      "source": [
        "validate(prompt59, \"A5-E9\")"
      ],
      "metadata": {
        "id": "L_EU-KQx6o0i",
        "outputId": "00e7fa53-3627-4562-cdde-e0879a298e5b",
        "colab": {
          "base_uri": "https://localhost:8080/"
        }
      },
      "execution_count": 42,
      "outputs": [
        {
          "output_type": "stream",
          "name": "stdout",
          "text": [
            "Codigo gerado: \n",
            "def segundo_maior_valor_por_coluna(dicionario):\n",
            "    # Converte o dicionário em um DataFrame\n",
            "    df = pd.DataFrame(dicionario)\n",
            "    \n",
            "    # Encontra o segundo maior valor em cada coluna\n",
            "    resultado = df.apply(lambda col: col.nlargest(2).iloc[-1])\n",
            "    \n",
            "    # Converte o resultado para uma lista\n",
            "    return resultado.tolist()\n",
            "\n",
            "✅ Passed the Test Case!\n",
            "  Expected: [25, 39, 27]\n",
            "  Delivered: [25, 39, 27]\n"
          ]
        }
      ]
    },
    {
      "cell_type": "code",
      "source": [],
      "metadata": {
        "id": "7EYz6EDp8_hB"
      },
      "execution_count": null,
      "outputs": []
    },
    {
      "cell_type": "markdown",
      "source": [
        "### 5.10 Faça um prompt de uma função que utilize a biblioteca pandas e o tipo DataFrame para realizar a transformação descrita no exemplo.\n",
        "#### **Dica:** menor que 5\n",
        "#### Entrada:\n",
        "\n",
        "```\n",
        "[\n",
        "  {\"one\": 0, \"two\": 1, \"three\": 2, \"four\": 3}, {\"one\": 4, \"two\": 5,\n",
        "  \"three\": 6, \"four\": 7}, {\"one\": 8, \"two\": 9, \"three\": 10, \"four\": 11},\n",
        "  {\"one\": 12, \"two\": 13, \"three\": 14, \"four\": 15}\n",
        "]\n",
        "```\n",
        "\n",
        "\n",
        "#### Resultado esperado:\n",
        "\n",
        "Um dicionário com esses dados:\n",
        "```\n",
        "[\n",
        "  {\"one\": 0, \"two\": 0, \"three\": 0, \"four\": 0}, {\"one\": 0, \"two\": 5,\n",
        "  \"three\": 6, \"four\": 7}, {\"one\": 8, \"two\": 9, \"three\": 10, \"four\": 11},\n",
        "  {\"one\": 12, \"two\": 13, \"three\": 14, \"four\": 15}\n",
        "]\n",
        "```\n",
        "Apenas para facilitar a sua visualização, veja como ficam esses mesmos dados num dataframe:\n",
        "\n",
        "![image.png](data:image/png;base64,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)\n"
      ],
      "metadata": {
        "id": "VFg9Q3yuYW2T"
      }
    },
    {
      "cell_type": "code",
      "source": [
        "prompt510 = \"\"\"Crie uma função em Python que utilize a biblioteca pandas e o tipo DataFrame para realizar a seguinte transformação:\n",
        "\n",
        "A função deve receber uma lista de dicionários como entrada, onde cada dicionário representa uma linha de dados.\n",
        "\n",
        "Converta a lista de dicionários em um DataFrame.\n",
        "\n",
        "Substitua todos os valores menores que 5 por 0 no DataFrame.\n",
        "\n",
        "Converta o DataFrame modificado de volta para uma lista de dicionários.\n",
        "\n",
        "Retorne a lista de dicionários como resultado.\"\"\""
      ],
      "metadata": {
        "id": "qHznUP0oYW2Y"
      },
      "execution_count": 39,
      "outputs": []
    },
    {
      "cell_type": "code",
      "source": [
        "validate(prompt510, \"A5-E10\")"
      ],
      "metadata": {
        "id": "Km40vqYyYW2Z",
        "outputId": "6c818a0d-442d-435e-a4ac-409625d6c601",
        "colab": {
          "base_uri": "https://localhost:8080/"
        }
      },
      "execution_count": 40,
      "outputs": [
        {
          "output_type": "stream",
          "name": "stdout",
          "text": [
            "Codigo gerado: \n",
            "def transformar_dados(lista_dicionarios):\n",
            "    # Converte a lista de dicionários em um DataFrame\n",
            "    df = pd.DataFrame(lista_dicionarios)\n",
            "    \n",
            "    # Substitui todos os valores menores que 5 por 0\n",
            "    df[df < 5] = 0\n",
            "    \n",
            "    # Converte o DataFrame modificado de volta para uma lista de dicionários\n",
            "    lista_resultado = df.to_dict(orient='records')\n",
            "    \n",
            "    # Retorna a lista de dicionários como resultado\n",
            "    return lista_resultado\n",
            "\n",
            "✅ Passed the Test Case!\n",
            "  Expected: [{'four': 0, 'one': 0, 'three': 0, 'two': 0}, {'four': 7, 'one': 0, 'three': 6, 'two': 5}, {'four': 11, 'one': 8, 'three': 10, 'two': 9}, {'four': 15, 'one': 12, 'three': 14, 'two': 13}]\n",
            "  Delivered: [{'four': 0, 'one': 0, 'three': 0, 'two': 0}, {'four': 7, 'one': 0, 'three': 6, 'two': 5}, {'four': 11, 'one': 8, 'three': 10, 'two': 9}, {'four': 15, 'one': 12, 'three': 14, 'two': 13}]\n"
          ]
        }
      ]
    },
    {
      "cell_type": "code",
      "source": [],
      "metadata": {
        "id": "CUFFzo4hotcb"
      },
      "execution_count": null,
      "outputs": []
    },
    {
      "cell_type": "markdown",
      "source": [
        "### Exercício de Reflexão (Facultativo)\n",
        "#### Você aprendeu alguma coisa que pode ser reaproveitado em outros problemas?\n",
        "#### Como você pode melhorar seu processo de elaboração de requisitos / prompts?\n",
        "#### Você notou ambiguidade na sua especificação inicial?"
      ],
      "metadata": {
        "id": "9cTqrAw0IXaY"
      }
    },
    {
      "cell_type": "code",
      "source": [
        "resposta=\"\"\"AQUI\"\"\""
      ],
      "metadata": {
        "id": "Y9yjEmHV2nKi"
      },
      "execution_count": null,
      "outputs": []
    },
    {
      "cell_type": "code",
      "source": [
        "validate(resposta, \"A5-R1\")"
      ],
      "metadata": {
        "id": "yLXjtjQaK6V1"
      },
      "execution_count": null,
      "outputs": []
    }
  ],
  "metadata": {
    "kernelspec": {
      "display_name": "Python 3",
      "language": "python",
      "name": "python3"
    },
    "language_info": {
      "codemirror_mode": {
        "name": "ipython",
        "version": 3
      },
      "file_extension": ".py",
      "mimetype": "text/x-python",
      "name": "python",
      "nbconvert_exporter": "python",
      "pygments_lexer": "ipython3",
      "version": "3.8.3"
    },
    "name": "_merged",
    "varInspector": {
      "cols": {
        "lenName": 16,
        "lenType": 16,
        "lenVar": 40
      },
      "kernels_config": {
        "python": {
          "delete_cmd_postfix": "",
          "delete_cmd_prefix": "del ",
          "library": "var_list.py",
          "varRefreshCmd": "print(var_dic_list())"
        },
        "r": {
          "delete_cmd_postfix": ") ",
          "delete_cmd_prefix": "rm(",
          "library": "var_list.r",
          "varRefreshCmd": "cat(var_dic_list()) "
        }
      },
      "types_to_exclude": [
        "module",
        "function",
        "builtin_function_or_method",
        "instance",
        "_Feature"
      ],
      "window_display": false
    },
    "colab": {
      "provenance": [],
      "include_colab_link": true
    }
  },
  "nbformat": 4,
  "nbformat_minor": 0
}